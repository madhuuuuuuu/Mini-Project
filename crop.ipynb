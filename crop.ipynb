{
  "nbformat": 4,
  "nbformat_minor": 0,
  "metadata": {
    "colab": {
      "provenance": [],
      "collapsed_sections": [],
      "toc_visible": true,
      "authorship_tag": "ABX9TyPlrayAjuG/lG5iEj7gvN1n",
      "include_colab_link": true
    },
    "kernelspec": {
      "name": "python3",
      "display_name": "Python 3"
    },
    "language_info": {
      "name": "python"
    }
  },
  "cells": [
    {
      "cell_type": "markdown",
      "metadata": {
        "id": "view-in-github",
        "colab_type": "text"
      },
      "source": [
        "<a href=\"https://colab.research.google.com/github/madhuuuuuuu/Mini-Project/blob/main/crop.ipynb\" target=\"_parent\"><img src=\"https://colab.research.google.com/assets/colab-badge.svg\" alt=\"Open In Colab\"/></a>"
      ]
    },
    {
      "cell_type": "code",
      "execution_count": null,
      "metadata": {
        "colab": {
          "base_uri": "https://localhost:8080/",
          "height": 374
        },
        "id": "eXYAeJ-_dY-J",
        "outputId": "87db8c90-0065-4311-c0ff-652e73ceb1fa"
      },
      "outputs": [
        {
          "output_type": "error",
          "ename": "ImportError",
          "evalue": "ignored",
          "traceback": [
            "\u001b[0;31m---------------------------------------------------------------------------\u001b[0m",
            "\u001b[0;31mImportError\u001b[0m                               Traceback (most recent call last)",
            "\u001b[0;32m<ipython-input-4-d88049ec4b54>\u001b[0m in \u001b[0;36m<module>\u001b[0;34m\u001b[0m\n\u001b[1;32m      5\u001b[0m \u001b[0mget_ipython\u001b[0m\u001b[0;34m(\u001b[0m\u001b[0;34m)\u001b[0m\u001b[0;34m.\u001b[0m\u001b[0mrun_line_magic\u001b[0m\u001b[0;34m(\u001b[0m\u001b[0;34m'matplotlib'\u001b[0m\u001b[0;34m,\u001b[0m \u001b[0;34m'inline'\u001b[0m\u001b[0;34m)\u001b[0m\u001b[0;34m\u001b[0m\u001b[0;34m\u001b[0m\u001b[0m\n\u001b[1;32m      6\u001b[0m \u001b[0;32mimport\u001b[0m \u001b[0mseaborn\u001b[0m \u001b[0;32mas\u001b[0m \u001b[0msns\u001b[0m\u001b[0;34m\u001b[0m\u001b[0;34m\u001b[0m\u001b[0m\n\u001b[0;32m----> 7\u001b[0;31m \u001b[0;32mfrom\u001b[0m \u001b[0mIPython\u001b[0m \u001b[0;32mimport\u001b[0m \u001b[0mgrt_ipython\u001b[0m\u001b[0;34m\u001b[0m\u001b[0;34m\u001b[0m\u001b[0m\n\u001b[0m\u001b[1;32m      8\u001b[0m \u001b[0;32mimport\u001b[0m \u001b[0mwarnings\u001b[0m\u001b[0;34m\u001b[0m\u001b[0;34m\u001b[0m\u001b[0m\n\u001b[1;32m      9\u001b[0m \u001b[0mwarning\u001b[0m\u001b[0;34m.\u001b[0m\u001b[0mfilterwarnings\u001b[0m\u001b[0;34m(\u001b[0m\u001b[0;34m\"ignore\"\u001b[0m\u001b[0;34m)\u001b[0m\u001b[0;34m\u001b[0m\u001b[0;34m\u001b[0m\u001b[0m\n",
            "\u001b[0;31mImportError\u001b[0m: cannot import name 'grt_ipython' from 'IPython' (/usr/local/lib/python3.7/dist-packages/IPython/__init__.py)",
            "",
            "\u001b[0;31m---------------------------------------------------------------------------\u001b[0;32m\nNOTE: If your import is failing due to a missing package, you can\nmanually install dependencies using either !pip or !apt.\n\nTo view examples of installing some common dependencies, click the\n\"Open Examples\" button below.\n\u001b[0;31m---------------------------------------------------------------------------\u001b[0m\n"
          ],
          "errorDetails": {
            "actions": [
              {
                "action": "open_url",
                "actionText": "Open Examples",
                "url": "/notebooks/snippets/importing_libraries.ipynb"
              }
            ]
          }
        }
      ],
      "source": [
        "import IPython\n",
        "import pandas as pd\n",
        "import numpy as np\n",
        "import matplotlib.pyplot as plt\n",
        "%matplotlib inline\n",
        "import seaborn as sns\n",
        "from IPython import grt_ipython\n",
        "import warnings\n",
        "warning.filterwarnings(\"ignore\")"
      ]
    },
    {
      "cell_type": "code",
      "source": [
        "data = pd.read_csv(\"Crop.csv\")"
      ],
      "metadata": {
        "id": "95BSllMGesek"
      },
      "execution_count": null,
      "outputs": []
    },
    {
      "cell_type": "code",
      "source": [
        "data.head(5)"
      ],
      "metadata": {
        "colab": {
          "base_uri": "https://localhost:8080/",
          "height": 206
        },
        "id": "GMo-JoqUfS3R",
        "outputId": "5e7b7274-78e8-4bbd-e6ae-3d8a30cf1c58"
      },
      "execution_count": null,
      "outputs": [
        {
          "output_type": "execute_result",
          "data": {
            "text/plain": [
              "    N   P   K  temperature   humidity        ph    rainfall label\n",
              "0  90  42  43    20.879744  82.002744  6.502985  202.935536  rice\n",
              "1  85  58  41    21.770462  80.319644  7.038096  226.655537  rice\n",
              "2  60  55  44    23.004459  82.320763  7.840207  263.964248  rice\n",
              "3  74  35  40    26.491096  80.158363  6.980401  242.864034  rice\n",
              "4  78  42  42    20.130175  81.604873  7.628473  262.717340  rice"
            ],
            "text/html": [
              "\n",
              "  <div id=\"df-2da2abf3-36a6-40f4-a9e6-9eb1b8774fa2\">\n",
              "    <div class=\"colab-df-container\">\n",
              "      <div>\n",
              "<style scoped>\n",
              "    .dataframe tbody tr th:only-of-type {\n",
              "        vertical-align: middle;\n",
              "    }\n",
              "\n",
              "    .dataframe tbody tr th {\n",
              "        vertical-align: top;\n",
              "    }\n",
              "\n",
              "    .dataframe thead th {\n",
              "        text-align: right;\n",
              "    }\n",
              "</style>\n",
              "<table border=\"1\" class=\"dataframe\">\n",
              "  <thead>\n",
              "    <tr style=\"text-align: right;\">\n",
              "      <th></th>\n",
              "      <th>N</th>\n",
              "      <th>P</th>\n",
              "      <th>K</th>\n",
              "      <th>temperature</th>\n",
              "      <th>humidity</th>\n",
              "      <th>ph</th>\n",
              "      <th>rainfall</th>\n",
              "      <th>label</th>\n",
              "    </tr>\n",
              "  </thead>\n",
              "  <tbody>\n",
              "    <tr>\n",
              "      <th>0</th>\n",
              "      <td>90</td>\n",
              "      <td>42</td>\n",
              "      <td>43</td>\n",
              "      <td>20.879744</td>\n",
              "      <td>82.002744</td>\n",
              "      <td>6.502985</td>\n",
              "      <td>202.935536</td>\n",
              "      <td>rice</td>\n",
              "    </tr>\n",
              "    <tr>\n",
              "      <th>1</th>\n",
              "      <td>85</td>\n",
              "      <td>58</td>\n",
              "      <td>41</td>\n",
              "      <td>21.770462</td>\n",
              "      <td>80.319644</td>\n",
              "      <td>7.038096</td>\n",
              "      <td>226.655537</td>\n",
              "      <td>rice</td>\n",
              "    </tr>\n",
              "    <tr>\n",
              "      <th>2</th>\n",
              "      <td>60</td>\n",
              "      <td>55</td>\n",
              "      <td>44</td>\n",
              "      <td>23.004459</td>\n",
              "      <td>82.320763</td>\n",
              "      <td>7.840207</td>\n",
              "      <td>263.964248</td>\n",
              "      <td>rice</td>\n",
              "    </tr>\n",
              "    <tr>\n",
              "      <th>3</th>\n",
              "      <td>74</td>\n",
              "      <td>35</td>\n",
              "      <td>40</td>\n",
              "      <td>26.491096</td>\n",
              "      <td>80.158363</td>\n",
              "      <td>6.980401</td>\n",
              "      <td>242.864034</td>\n",
              "      <td>rice</td>\n",
              "    </tr>\n",
              "    <tr>\n",
              "      <th>4</th>\n",
              "      <td>78</td>\n",
              "      <td>42</td>\n",
              "      <td>42</td>\n",
              "      <td>20.130175</td>\n",
              "      <td>81.604873</td>\n",
              "      <td>7.628473</td>\n",
              "      <td>262.717340</td>\n",
              "      <td>rice</td>\n",
              "    </tr>\n",
              "  </tbody>\n",
              "</table>\n",
              "</div>\n",
              "      <button class=\"colab-df-convert\" onclick=\"convertToInteractive('df-2da2abf3-36a6-40f4-a9e6-9eb1b8774fa2')\"\n",
              "              title=\"Convert this dataframe to an interactive table.\"\n",
              "              style=\"display:none;\">\n",
              "        \n",
              "  <svg xmlns=\"http://www.w3.org/2000/svg\" height=\"24px\"viewBox=\"0 0 24 24\"\n",
              "       width=\"24px\">\n",
              "    <path d=\"M0 0h24v24H0V0z\" fill=\"none\"/>\n",
              "    <path d=\"M18.56 5.44l.94 2.06.94-2.06 2.06-.94-2.06-.94-.94-2.06-.94 2.06-2.06.94zm-11 1L8.5 8.5l.94-2.06 2.06-.94-2.06-.94L8.5 2.5l-.94 2.06-2.06.94zm10 10l.94 2.06.94-2.06 2.06-.94-2.06-.94-.94-2.06-.94 2.06-2.06.94z\"/><path d=\"M17.41 7.96l-1.37-1.37c-.4-.4-.92-.59-1.43-.59-.52 0-1.04.2-1.43.59L10.3 9.45l-7.72 7.72c-.78.78-.78 2.05 0 2.83L4 21.41c.39.39.9.59 1.41.59.51 0 1.02-.2 1.41-.59l7.78-7.78 2.81-2.81c.8-.78.8-2.07 0-2.86zM5.41 20L4 18.59l7.72-7.72 1.47 1.35L5.41 20z\"/>\n",
              "  </svg>\n",
              "      </button>\n",
              "      \n",
              "  <style>\n",
              "    .colab-df-container {\n",
              "      display:flex;\n",
              "      flex-wrap:wrap;\n",
              "      gap: 12px;\n",
              "    }\n",
              "\n",
              "    .colab-df-convert {\n",
              "      background-color: #E8F0FE;\n",
              "      border: none;\n",
              "      border-radius: 50%;\n",
              "      cursor: pointer;\n",
              "      display: none;\n",
              "      fill: #1967D2;\n",
              "      height: 32px;\n",
              "      padding: 0 0 0 0;\n",
              "      width: 32px;\n",
              "    }\n",
              "\n",
              "    .colab-df-convert:hover {\n",
              "      background-color: #E2EBFA;\n",
              "      box-shadow: 0px 1px 2px rgba(60, 64, 67, 0.3), 0px 1px 3px 1px rgba(60, 64, 67, 0.15);\n",
              "      fill: #174EA6;\n",
              "    }\n",
              "\n",
              "    [theme=dark] .colab-df-convert {\n",
              "      background-color: #3B4455;\n",
              "      fill: #D2E3FC;\n",
              "    }\n",
              "\n",
              "    [theme=dark] .colab-df-convert:hover {\n",
              "      background-color: #434B5C;\n",
              "      box-shadow: 0px 1px 3px 1px rgba(0, 0, 0, 0.15);\n",
              "      filter: drop-shadow(0px 1px 2px rgba(0, 0, 0, 0.3));\n",
              "      fill: #FFFFFF;\n",
              "    }\n",
              "  </style>\n",
              "\n",
              "      <script>\n",
              "        const buttonEl =\n",
              "          document.querySelector('#df-2da2abf3-36a6-40f4-a9e6-9eb1b8774fa2 button.colab-df-convert');\n",
              "        buttonEl.style.display =\n",
              "          google.colab.kernel.accessAllowed ? 'block' : 'none';\n",
              "\n",
              "        async function convertToInteractive(key) {\n",
              "          const element = document.querySelector('#df-2da2abf3-36a6-40f4-a9e6-9eb1b8774fa2');\n",
              "          const dataTable =\n",
              "            await google.colab.kernel.invokeFunction('convertToInteractive',\n",
              "                                                     [key], {});\n",
              "          if (!dataTable) return;\n",
              "\n",
              "          const docLinkHtml = 'Like what you see? Visit the ' +\n",
              "            '<a target=\"_blank\" href=https://colab.research.google.com/notebooks/data_table.ipynb>data table notebook</a>'\n",
              "            + ' to learn more about interactive tables.';\n",
              "          element.innerHTML = '';\n",
              "          dataTable['output_type'] = 'display_data';\n",
              "          await google.colab.output.renderOutput(dataTable, element);\n",
              "          const docLink = document.createElement('div');\n",
              "          docLink.innerHTML = docLinkHtml;\n",
              "          element.appendChild(docLink);\n",
              "        }\n",
              "      </script>\n",
              "    </div>\n",
              "  </div>\n",
              "  "
            ]
          },
          "metadata": {},
          "execution_count": 7
        }
      ]
    },
    {
      "cell_type": "code",
      "source": [
        "data.tail(5)"
      ],
      "metadata": {
        "colab": {
          "base_uri": "https://localhost:8080/",
          "height": 206
        },
        "id": "cXYjRtx2fdhm",
        "outputId": "925defc6-f999-46df-bcb7-a7f601b897c3"
      },
      "execution_count": null,
      "outputs": [
        {
          "output_type": "execute_result",
          "data": {
            "text/plain": [
              "        N   P   K  temperature   humidity        ph    rainfall   label\n",
              "2195  107  34  32    26.774637  66.413269  6.780064  177.774507  coffee\n",
              "2196   99  15  27    27.417112  56.636362  6.086922  127.924610  coffee\n",
              "2197  118  33  30    24.131797  67.225123  6.362608  173.322839  coffee\n",
              "2198  117  32  34    26.272418  52.127394  6.758793  127.175293  coffee\n",
              "2199  104  18  30    23.603016  60.396475  6.779833  140.937041  coffee"
            ],
            "text/html": [
              "\n",
              "  <div id=\"df-50dc0de9-4fc1-4df6-a67d-28b5dd186762\">\n",
              "    <div class=\"colab-df-container\">\n",
              "      <div>\n",
              "<style scoped>\n",
              "    .dataframe tbody tr th:only-of-type {\n",
              "        vertical-align: middle;\n",
              "    }\n",
              "\n",
              "    .dataframe tbody tr th {\n",
              "        vertical-align: top;\n",
              "    }\n",
              "\n",
              "    .dataframe thead th {\n",
              "        text-align: right;\n",
              "    }\n",
              "</style>\n",
              "<table border=\"1\" class=\"dataframe\">\n",
              "  <thead>\n",
              "    <tr style=\"text-align: right;\">\n",
              "      <th></th>\n",
              "      <th>N</th>\n",
              "      <th>P</th>\n",
              "      <th>K</th>\n",
              "      <th>temperature</th>\n",
              "      <th>humidity</th>\n",
              "      <th>ph</th>\n",
              "      <th>rainfall</th>\n",
              "      <th>label</th>\n",
              "    </tr>\n",
              "  </thead>\n",
              "  <tbody>\n",
              "    <tr>\n",
              "      <th>2195</th>\n",
              "      <td>107</td>\n",
              "      <td>34</td>\n",
              "      <td>32</td>\n",
              "      <td>26.774637</td>\n",
              "      <td>66.413269</td>\n",
              "      <td>6.780064</td>\n",
              "      <td>177.774507</td>\n",
              "      <td>coffee</td>\n",
              "    </tr>\n",
              "    <tr>\n",
              "      <th>2196</th>\n",
              "      <td>99</td>\n",
              "      <td>15</td>\n",
              "      <td>27</td>\n",
              "      <td>27.417112</td>\n",
              "      <td>56.636362</td>\n",
              "      <td>6.086922</td>\n",
              "      <td>127.924610</td>\n",
              "      <td>coffee</td>\n",
              "    </tr>\n",
              "    <tr>\n",
              "      <th>2197</th>\n",
              "      <td>118</td>\n",
              "      <td>33</td>\n",
              "      <td>30</td>\n",
              "      <td>24.131797</td>\n",
              "      <td>67.225123</td>\n",
              "      <td>6.362608</td>\n",
              "      <td>173.322839</td>\n",
              "      <td>coffee</td>\n",
              "    </tr>\n",
              "    <tr>\n",
              "      <th>2198</th>\n",
              "      <td>117</td>\n",
              "      <td>32</td>\n",
              "      <td>34</td>\n",
              "      <td>26.272418</td>\n",
              "      <td>52.127394</td>\n",
              "      <td>6.758793</td>\n",
              "      <td>127.175293</td>\n",
              "      <td>coffee</td>\n",
              "    </tr>\n",
              "    <tr>\n",
              "      <th>2199</th>\n",
              "      <td>104</td>\n",
              "      <td>18</td>\n",
              "      <td>30</td>\n",
              "      <td>23.603016</td>\n",
              "      <td>60.396475</td>\n",
              "      <td>6.779833</td>\n",
              "      <td>140.937041</td>\n",
              "      <td>coffee</td>\n",
              "    </tr>\n",
              "  </tbody>\n",
              "</table>\n",
              "</div>\n",
              "      <button class=\"colab-df-convert\" onclick=\"convertToInteractive('df-50dc0de9-4fc1-4df6-a67d-28b5dd186762')\"\n",
              "              title=\"Convert this dataframe to an interactive table.\"\n",
              "              style=\"display:none;\">\n",
              "        \n",
              "  <svg xmlns=\"http://www.w3.org/2000/svg\" height=\"24px\"viewBox=\"0 0 24 24\"\n",
              "       width=\"24px\">\n",
              "    <path d=\"M0 0h24v24H0V0z\" fill=\"none\"/>\n",
              "    <path d=\"M18.56 5.44l.94 2.06.94-2.06 2.06-.94-2.06-.94-.94-2.06-.94 2.06-2.06.94zm-11 1L8.5 8.5l.94-2.06 2.06-.94-2.06-.94L8.5 2.5l-.94 2.06-2.06.94zm10 10l.94 2.06.94-2.06 2.06-.94-2.06-.94-.94-2.06-.94 2.06-2.06.94z\"/><path d=\"M17.41 7.96l-1.37-1.37c-.4-.4-.92-.59-1.43-.59-.52 0-1.04.2-1.43.59L10.3 9.45l-7.72 7.72c-.78.78-.78 2.05 0 2.83L4 21.41c.39.39.9.59 1.41.59.51 0 1.02-.2 1.41-.59l7.78-7.78 2.81-2.81c.8-.78.8-2.07 0-2.86zM5.41 20L4 18.59l7.72-7.72 1.47 1.35L5.41 20z\"/>\n",
              "  </svg>\n",
              "      </button>\n",
              "      \n",
              "  <style>\n",
              "    .colab-df-container {\n",
              "      display:flex;\n",
              "      flex-wrap:wrap;\n",
              "      gap: 12px;\n",
              "    }\n",
              "\n",
              "    .colab-df-convert {\n",
              "      background-color: #E8F0FE;\n",
              "      border: none;\n",
              "      border-radius: 50%;\n",
              "      cursor: pointer;\n",
              "      display: none;\n",
              "      fill: #1967D2;\n",
              "      height: 32px;\n",
              "      padding: 0 0 0 0;\n",
              "      width: 32px;\n",
              "    }\n",
              "\n",
              "    .colab-df-convert:hover {\n",
              "      background-color: #E2EBFA;\n",
              "      box-shadow: 0px 1px 2px rgba(60, 64, 67, 0.3), 0px 1px 3px 1px rgba(60, 64, 67, 0.15);\n",
              "      fill: #174EA6;\n",
              "    }\n",
              "\n",
              "    [theme=dark] .colab-df-convert {\n",
              "      background-color: #3B4455;\n",
              "      fill: #D2E3FC;\n",
              "    }\n",
              "\n",
              "    [theme=dark] .colab-df-convert:hover {\n",
              "      background-color: #434B5C;\n",
              "      box-shadow: 0px 1px 3px 1px rgba(0, 0, 0, 0.15);\n",
              "      filter: drop-shadow(0px 1px 2px rgba(0, 0, 0, 0.3));\n",
              "      fill: #FFFFFF;\n",
              "    }\n",
              "  </style>\n",
              "\n",
              "      <script>\n",
              "        const buttonEl =\n",
              "          document.querySelector('#df-50dc0de9-4fc1-4df6-a67d-28b5dd186762 button.colab-df-convert');\n",
              "        buttonEl.style.display =\n",
              "          google.colab.kernel.accessAllowed ? 'block' : 'none';\n",
              "\n",
              "        async function convertToInteractive(key) {\n",
              "          const element = document.querySelector('#df-50dc0de9-4fc1-4df6-a67d-28b5dd186762');\n",
              "          const dataTable =\n",
              "            await google.colab.kernel.invokeFunction('convertToInteractive',\n",
              "                                                     [key], {});\n",
              "          if (!dataTable) return;\n",
              "\n",
              "          const docLinkHtml = 'Like what you see? Visit the ' +\n",
              "            '<a target=\"_blank\" href=https://colab.research.google.com/notebooks/data_table.ipynb>data table notebook</a>'\n",
              "            + ' to learn more about interactive tables.';\n",
              "          element.innerHTML = '';\n",
              "          dataTable['output_type'] = 'display_data';\n",
              "          await google.colab.output.renderOutput(dataTable, element);\n",
              "          const docLink = document.createElement('div');\n",
              "          docLink.innerHTML = docLinkHtml;\n",
              "          element.appendChild(docLink);\n",
              "        }\n",
              "      </script>\n",
              "    </div>\n",
              "  </div>\n",
              "  "
            ]
          },
          "metadata": {},
          "execution_count": 8
        }
      ]
    },
    {
      "cell_type": "code",
      "source": [
        "data.shape"
      ],
      "metadata": {
        "colab": {
          "base_uri": "https://localhost:8080/"
        },
        "id": "JsKzPsM7fjtz",
        "outputId": "b2da437f-d8ca-4b42-85f1-e5f7c1328eb5"
      },
      "execution_count": null,
      "outputs": [
        {
          "output_type": "execute_result",
          "data": {
            "text/plain": [
              "(2200, 8)"
            ]
          },
          "metadata": {},
          "execution_count": 9
        }
      ]
    },
    {
      "cell_type": "code",
      "source": [
        "data.columns"
      ],
      "metadata": {
        "colab": {
          "base_uri": "https://localhost:8080/"
        },
        "id": "Jpqyz1pefqgS",
        "outputId": "7553da77-65db-4fb1-f6f8-7d7e995af3cc"
      },
      "execution_count": null,
      "outputs": [
        {
          "output_type": "execute_result",
          "data": {
            "text/plain": [
              "Index(['N', 'P', 'K', 'temperature', 'humidity', 'ph', 'rainfall', 'label'], dtype='object')"
            ]
          },
          "metadata": {},
          "execution_count": 10
        }
      ]
    },
    {
      "cell_type": "code",
      "source": [
        "data.duplicated().sum()"
      ],
      "metadata": {
        "colab": {
          "base_uri": "https://localhost:8080/"
        },
        "id": "3BHWywT9fw5P",
        "outputId": "5e52183c-f2b2-46ca-abb4-4fdbea9c463b"
      },
      "execution_count": null,
      "outputs": [
        {
          "output_type": "execute_result",
          "data": {
            "text/plain": [
              "0"
            ]
          },
          "metadata": {},
          "execution_count": 11
        }
      ]
    },
    {
      "cell_type": "code",
      "source": [
        "data.isnull().sum()"
      ],
      "metadata": {
        "colab": {
          "base_uri": "https://localhost:8080/"
        },
        "id": "cNeqp6xif4GE",
        "outputId": "f28b7b93-a253-471d-fc4a-6874ddbab3b9"
      },
      "execution_count": null,
      "outputs": [
        {
          "output_type": "execute_result",
          "data": {
            "text/plain": [
              "N              0\n",
              "P              0\n",
              "K              0\n",
              "temperature    0\n",
              "humidity       0\n",
              "ph             0\n",
              "rainfall       0\n",
              "label          0\n",
              "dtype: int64"
            ]
          },
          "metadata": {},
          "execution_count": 12
        }
      ]
    },
    {
      "cell_type": "code",
      "source": [
        "data.info()"
      ],
      "metadata": {
        "colab": {
          "base_uri": "https://localhost:8080/"
        },
        "id": "0TH-OxGcf9gR",
        "outputId": "e2aad0e2-17bf-4c2f-94b8-5432ae294f6a"
      },
      "execution_count": null,
      "outputs": [
        {
          "output_type": "stream",
          "name": "stdout",
          "text": [
            "<class 'pandas.core.frame.DataFrame'>\n",
            "RangeIndex: 2200 entries, 0 to 2199\n",
            "Data columns (total 8 columns):\n",
            " #   Column       Non-Null Count  Dtype  \n",
            "---  ------       --------------  -----  \n",
            " 0   N            2200 non-null   int64  \n",
            " 1   P            2200 non-null   int64  \n",
            " 2   K            2200 non-null   int64  \n",
            " 3   temperature  2200 non-null   float64\n",
            " 4   humidity     2200 non-null   float64\n",
            " 5   ph           2200 non-null   float64\n",
            " 6   rainfall     2200 non-null   float64\n",
            " 7   label        2200 non-null   object \n",
            "dtypes: float64(4), int64(3), object(1)\n",
            "memory usage: 137.6+ KB\n"
          ]
        }
      ]
    },
    {
      "cell_type": "code",
      "source": [
        "data.describe()"
      ],
      "metadata": {
        "colab": {
          "base_uri": "https://localhost:8080/",
          "height": 300
        },
        "id": "bW21GlEEgEtw",
        "outputId": "da3971db-76e4-48f8-d71f-f1a60b725a62"
      },
      "execution_count": null,
      "outputs": [
        {
          "output_type": "execute_result",
          "data": {
            "text/plain": [
              "                 N            P            K  temperature     humidity  \\\n",
              "count  2200.000000  2200.000000  2200.000000  2200.000000  2200.000000   \n",
              "mean     50.551818    53.362727    48.149091    25.616244    71.481779   \n",
              "std      36.917334    32.985883    50.647931     5.063749    22.263812   \n",
              "min       0.000000     5.000000     5.000000     8.825675    14.258040   \n",
              "25%      21.000000    28.000000    20.000000    22.769375    60.261953   \n",
              "50%      37.000000    51.000000    32.000000    25.598693    80.473146   \n",
              "75%      84.250000    68.000000    49.000000    28.561654    89.948771   \n",
              "max     140.000000   145.000000   205.000000    43.675493    99.981876   \n",
              "\n",
              "                ph     rainfall  \n",
              "count  2200.000000  2200.000000  \n",
              "mean      6.469480   103.463655  \n",
              "std       0.773938    54.958389  \n",
              "min       3.504752    20.211267  \n",
              "25%       5.971693    64.551686  \n",
              "50%       6.425045    94.867624  \n",
              "75%       6.923643   124.267508  \n",
              "max       9.935091   298.560117  "
            ],
            "text/html": [
              "\n",
              "  <div id=\"df-d46f5bd6-027b-447d-a56e-e40e9b06d258\">\n",
              "    <div class=\"colab-df-container\">\n",
              "      <div>\n",
              "<style scoped>\n",
              "    .dataframe tbody tr th:only-of-type {\n",
              "        vertical-align: middle;\n",
              "    }\n",
              "\n",
              "    .dataframe tbody tr th {\n",
              "        vertical-align: top;\n",
              "    }\n",
              "\n",
              "    .dataframe thead th {\n",
              "        text-align: right;\n",
              "    }\n",
              "</style>\n",
              "<table border=\"1\" class=\"dataframe\">\n",
              "  <thead>\n",
              "    <tr style=\"text-align: right;\">\n",
              "      <th></th>\n",
              "      <th>N</th>\n",
              "      <th>P</th>\n",
              "      <th>K</th>\n",
              "      <th>temperature</th>\n",
              "      <th>humidity</th>\n",
              "      <th>ph</th>\n",
              "      <th>rainfall</th>\n",
              "    </tr>\n",
              "  </thead>\n",
              "  <tbody>\n",
              "    <tr>\n",
              "      <th>count</th>\n",
              "      <td>2200.000000</td>\n",
              "      <td>2200.000000</td>\n",
              "      <td>2200.000000</td>\n",
              "      <td>2200.000000</td>\n",
              "      <td>2200.000000</td>\n",
              "      <td>2200.000000</td>\n",
              "      <td>2200.000000</td>\n",
              "    </tr>\n",
              "    <tr>\n",
              "      <th>mean</th>\n",
              "      <td>50.551818</td>\n",
              "      <td>53.362727</td>\n",
              "      <td>48.149091</td>\n",
              "      <td>25.616244</td>\n",
              "      <td>71.481779</td>\n",
              "      <td>6.469480</td>\n",
              "      <td>103.463655</td>\n",
              "    </tr>\n",
              "    <tr>\n",
              "      <th>std</th>\n",
              "      <td>36.917334</td>\n",
              "      <td>32.985883</td>\n",
              "      <td>50.647931</td>\n",
              "      <td>5.063749</td>\n",
              "      <td>22.263812</td>\n",
              "      <td>0.773938</td>\n",
              "      <td>54.958389</td>\n",
              "    </tr>\n",
              "    <tr>\n",
              "      <th>min</th>\n",
              "      <td>0.000000</td>\n",
              "      <td>5.000000</td>\n",
              "      <td>5.000000</td>\n",
              "      <td>8.825675</td>\n",
              "      <td>14.258040</td>\n",
              "      <td>3.504752</td>\n",
              "      <td>20.211267</td>\n",
              "    </tr>\n",
              "    <tr>\n",
              "      <th>25%</th>\n",
              "      <td>21.000000</td>\n",
              "      <td>28.000000</td>\n",
              "      <td>20.000000</td>\n",
              "      <td>22.769375</td>\n",
              "      <td>60.261953</td>\n",
              "      <td>5.971693</td>\n",
              "      <td>64.551686</td>\n",
              "    </tr>\n",
              "    <tr>\n",
              "      <th>50%</th>\n",
              "      <td>37.000000</td>\n",
              "      <td>51.000000</td>\n",
              "      <td>32.000000</td>\n",
              "      <td>25.598693</td>\n",
              "      <td>80.473146</td>\n",
              "      <td>6.425045</td>\n",
              "      <td>94.867624</td>\n",
              "    </tr>\n",
              "    <tr>\n",
              "      <th>75%</th>\n",
              "      <td>84.250000</td>\n",
              "      <td>68.000000</td>\n",
              "      <td>49.000000</td>\n",
              "      <td>28.561654</td>\n",
              "      <td>89.948771</td>\n",
              "      <td>6.923643</td>\n",
              "      <td>124.267508</td>\n",
              "    </tr>\n",
              "    <tr>\n",
              "      <th>max</th>\n",
              "      <td>140.000000</td>\n",
              "      <td>145.000000</td>\n",
              "      <td>205.000000</td>\n",
              "      <td>43.675493</td>\n",
              "      <td>99.981876</td>\n",
              "      <td>9.935091</td>\n",
              "      <td>298.560117</td>\n",
              "    </tr>\n",
              "  </tbody>\n",
              "</table>\n",
              "</div>\n",
              "      <button class=\"colab-df-convert\" onclick=\"convertToInteractive('df-d46f5bd6-027b-447d-a56e-e40e9b06d258')\"\n",
              "              title=\"Convert this dataframe to an interactive table.\"\n",
              "              style=\"display:none;\">\n",
              "        \n",
              "  <svg xmlns=\"http://www.w3.org/2000/svg\" height=\"24px\"viewBox=\"0 0 24 24\"\n",
              "       width=\"24px\">\n",
              "    <path d=\"M0 0h24v24H0V0z\" fill=\"none\"/>\n",
              "    <path d=\"M18.56 5.44l.94 2.06.94-2.06 2.06-.94-2.06-.94-.94-2.06-.94 2.06-2.06.94zm-11 1L8.5 8.5l.94-2.06 2.06-.94-2.06-.94L8.5 2.5l-.94 2.06-2.06.94zm10 10l.94 2.06.94-2.06 2.06-.94-2.06-.94-.94-2.06-.94 2.06-2.06.94z\"/><path d=\"M17.41 7.96l-1.37-1.37c-.4-.4-.92-.59-1.43-.59-.52 0-1.04.2-1.43.59L10.3 9.45l-7.72 7.72c-.78.78-.78 2.05 0 2.83L4 21.41c.39.39.9.59 1.41.59.51 0 1.02-.2 1.41-.59l7.78-7.78 2.81-2.81c.8-.78.8-2.07 0-2.86zM5.41 20L4 18.59l7.72-7.72 1.47 1.35L5.41 20z\"/>\n",
              "  </svg>\n",
              "      </button>\n",
              "      \n",
              "  <style>\n",
              "    .colab-df-container {\n",
              "      display:flex;\n",
              "      flex-wrap:wrap;\n",
              "      gap: 12px;\n",
              "    }\n",
              "\n",
              "    .colab-df-convert {\n",
              "      background-color: #E8F0FE;\n",
              "      border: none;\n",
              "      border-radius: 50%;\n",
              "      cursor: pointer;\n",
              "      display: none;\n",
              "      fill: #1967D2;\n",
              "      height: 32px;\n",
              "      padding: 0 0 0 0;\n",
              "      width: 32px;\n",
              "    }\n",
              "\n",
              "    .colab-df-convert:hover {\n",
              "      background-color: #E2EBFA;\n",
              "      box-shadow: 0px 1px 2px rgba(60, 64, 67, 0.3), 0px 1px 3px 1px rgba(60, 64, 67, 0.15);\n",
              "      fill: #174EA6;\n",
              "    }\n",
              "\n",
              "    [theme=dark] .colab-df-convert {\n",
              "      background-color: #3B4455;\n",
              "      fill: #D2E3FC;\n",
              "    }\n",
              "\n",
              "    [theme=dark] .colab-df-convert:hover {\n",
              "      background-color: #434B5C;\n",
              "      box-shadow: 0px 1px 3px 1px rgba(0, 0, 0, 0.15);\n",
              "      filter: drop-shadow(0px 1px 2px rgba(0, 0, 0, 0.3));\n",
              "      fill: #FFFFFF;\n",
              "    }\n",
              "  </style>\n",
              "\n",
              "      <script>\n",
              "        const buttonEl =\n",
              "          document.querySelector('#df-d46f5bd6-027b-447d-a56e-e40e9b06d258 button.colab-df-convert');\n",
              "        buttonEl.style.display =\n",
              "          google.colab.kernel.accessAllowed ? 'block' : 'none';\n",
              "\n",
              "        async function convertToInteractive(key) {\n",
              "          const element = document.querySelector('#df-d46f5bd6-027b-447d-a56e-e40e9b06d258');\n",
              "          const dataTable =\n",
              "            await google.colab.kernel.invokeFunction('convertToInteractive',\n",
              "                                                     [key], {});\n",
              "          if (!dataTable) return;\n",
              "\n",
              "          const docLinkHtml = 'Like what you see? Visit the ' +\n",
              "            '<a target=\"_blank\" href=https://colab.research.google.com/notebooks/data_table.ipynb>data table notebook</a>'\n",
              "            + ' to learn more about interactive tables.';\n",
              "          element.innerHTML = '';\n",
              "          dataTable['output_type'] = 'display_data';\n",
              "          await google.colab.output.renderOutput(dataTable, element);\n",
              "          const docLink = document.createElement('div');\n",
              "          docLink.innerHTML = docLinkHtml;\n",
              "          element.appendChild(docLink);\n",
              "        }\n",
              "      </script>\n",
              "    </div>\n",
              "  </div>\n",
              "  "
            ]
          },
          "metadata": {},
          "execution_count": 14
        }
      ]
    },
    {
      "cell_type": "code",
      "source": [
        "data.nunique()"
      ],
      "metadata": {
        "colab": {
          "base_uri": "https://localhost:8080/"
        },
        "id": "v2b24V6qgJOD",
        "outputId": "8fa3734c-0604-4052-8cd4-16ed0e95be24"
      },
      "execution_count": null,
      "outputs": [
        {
          "output_type": "execute_result",
          "data": {
            "text/plain": [
              "N               137\n",
              "P               117\n",
              "K                73\n",
              "temperature    2200\n",
              "humidity       2200\n",
              "ph             2200\n",
              "rainfall       2200\n",
              "label            22\n",
              "dtype: int64"
            ]
          },
          "metadata": {},
          "execution_count": 15
        }
      ]
    },
    {
      "cell_type": "code",
      "source": [
        "data['label'].unique()"
      ],
      "metadata": {
        "colab": {
          "base_uri": "https://localhost:8080/"
        },
        "id": "EAfVItCHgP7E",
        "outputId": "c88fc1eb-7e25-4f79-acd9-28fe5b9735d9"
      },
      "execution_count": null,
      "outputs": [
        {
          "output_type": "execute_result",
          "data": {
            "text/plain": [
              "array(['rice', 'maize', 'chickpea', 'kidneybeans', 'pigeonpeas',\n",
              "       'mothbeans', 'mungbean', 'blackgram', 'lentil', 'pomegranate',\n",
              "       'banana', 'mango', 'grapes', 'watermelon', 'muskmelon', 'apple',\n",
              "       'orange', 'papaya', 'coconut', 'cotton', 'jute', 'coffee'],\n",
              "      dtype=object)"
            ]
          },
          "metadata": {},
          "execution_count": 16
        }
      ]
    },
    {
      "cell_type": "code",
      "source": [
        "data['label'].value_counts()"
      ],
      "metadata": {
        "colab": {
          "base_uri": "https://localhost:8080/"
        },
        "id": "gHX6gzoigdda",
        "outputId": "3bf93bf9-3155-416b-daf4-47c80a8b0236"
      },
      "execution_count": null,
      "outputs": [
        {
          "output_type": "execute_result",
          "data": {
            "text/plain": [
              "rice           100\n",
              "maize          100\n",
              "jute           100\n",
              "cotton         100\n",
              "coconut        100\n",
              "papaya         100\n",
              "orange         100\n",
              "apple          100\n",
              "muskmelon      100\n",
              "watermelon     100\n",
              "grapes         100\n",
              "mango          100\n",
              "banana         100\n",
              "pomegranate    100\n",
              "lentil         100\n",
              "blackgram      100\n",
              "mungbean       100\n",
              "mothbeans      100\n",
              "pigeonpeas     100\n",
              "kidneybeans    100\n",
              "chickpea       100\n",
              "coffee         100\n",
              "Name: label, dtype: int64"
            ]
          },
          "metadata": {},
          "execution_count": 18
        }
      ]
    },
    {
      "cell_type": "code",
      "source": [
        "crop_summary=pd.pivot_table(data,index=['label'],aggfunc='mean')"
      ],
      "metadata": {
        "id": "T4GEzEvUgqsR"
      },
      "execution_count": null,
      "outputs": []
    },
    {
      "cell_type": "code",
      "source": [
        "crop_summary"
      ],
      "metadata": {
        "colab": {
          "base_uri": "https://localhost:8080/",
          "height": 771
        },
        "id": "sBUoMRxCg34s",
        "outputId": "934f15fd-035a-466c-ba22-e49c739a61a9"
      },
      "execution_count": null,
      "outputs": [
        {
          "output_type": "execute_result",
          "data": {
            "text/plain": [
              "                  K       N       P   humidity        ph    rainfall  \\\n",
              "label                                                                  \n",
              "apple        199.89   20.80  134.22  92.333383  5.929663  112.654779   \n",
              "banana        50.05  100.23   82.01  80.358123  5.983893  104.626980   \n",
              "blackgram     19.24   40.02   67.47  65.118426  7.133952   67.884151   \n",
              "chickpea      79.92   40.09   67.79  16.860439  7.336957   80.058977   \n",
              "coconut       30.59   21.98   16.93  94.844272  5.976562  175.686646   \n",
              "coffee        29.94  101.20   28.74  58.869846  6.790308  158.066295   \n",
              "cotton        19.56  117.77   46.24  79.843474  6.912675   80.398043   \n",
              "grapes       200.11   23.18  132.53  81.875228  6.025937   69.611829   \n",
              "jute          39.99   78.40   46.86  79.639864  6.732778  174.792798   \n",
              "kidneybeans   20.05   20.75   67.54  21.605357  5.749411  105.919778   \n",
              "lentil        19.41   18.77   68.36  64.804785  6.927932   45.680454   \n",
              "maize         19.79   77.76   48.44  65.092249  6.245190   84.766988   \n",
              "mango         29.92   20.07   27.18  50.156573  5.766373   94.704515   \n",
              "mothbeans     20.23   21.44   48.01  53.160418  6.831174   51.198487   \n",
              "mungbean      19.87   20.99   47.28  85.499975  6.723957   48.403601   \n",
              "muskmelon     50.08  100.32   17.72  92.342802  6.358805   24.689952   \n",
              "orange        10.01   19.58   16.55  92.170209  7.016957  110.474969   \n",
              "papaya        50.04   49.88   59.05  92.403388  6.741442  142.627839   \n",
              "pigeonpeas    20.29   20.73   67.73  48.061633  5.794175  149.457564   \n",
              "pomegranate   40.21   18.87   18.75  90.125504  6.429172  107.528442   \n",
              "rice          39.87   79.89   47.58  82.272822  6.425471  236.181114   \n",
              "watermelon    50.22   99.42   17.00  85.160375  6.495778   50.786219   \n",
              "\n",
              "             temperature  \n",
              "label                     \n",
              "apple          22.630942  \n",
              "banana         27.376798  \n",
              "blackgram      29.973340  \n",
              "chickpea       18.872847  \n",
              "coconut        27.409892  \n",
              "coffee         25.540477  \n",
              "cotton         23.988958  \n",
              "grapes         23.849575  \n",
              "jute           24.958376  \n",
              "kidneybeans    20.115085  \n",
              "lentil         24.509052  \n",
              "maize          22.389204  \n",
              "mango          31.208770  \n",
              "mothbeans      28.194920  \n",
              "mungbean       28.525775  \n",
              "muskmelon      28.663066  \n",
              "orange         22.765725  \n",
              "papaya         33.723859  \n",
              "pigeonpeas     27.741762  \n",
              "pomegranate    21.837842  \n",
              "rice           23.689332  \n",
              "watermelon     25.591767  "
            ],
            "text/html": [
              "\n",
              "  <div id=\"df-934a0db8-dc2c-4cff-bc8d-d3735fe8f30a\">\n",
              "    <div class=\"colab-df-container\">\n",
              "      <div>\n",
              "<style scoped>\n",
              "    .dataframe tbody tr th:only-of-type {\n",
              "        vertical-align: middle;\n",
              "    }\n",
              "\n",
              "    .dataframe tbody tr th {\n",
              "        vertical-align: top;\n",
              "    }\n",
              "\n",
              "    .dataframe thead th {\n",
              "        text-align: right;\n",
              "    }\n",
              "</style>\n",
              "<table border=\"1\" class=\"dataframe\">\n",
              "  <thead>\n",
              "    <tr style=\"text-align: right;\">\n",
              "      <th></th>\n",
              "      <th>K</th>\n",
              "      <th>N</th>\n",
              "      <th>P</th>\n",
              "      <th>humidity</th>\n",
              "      <th>ph</th>\n",
              "      <th>rainfall</th>\n",
              "      <th>temperature</th>\n",
              "    </tr>\n",
              "    <tr>\n",
              "      <th>label</th>\n",
              "      <th></th>\n",
              "      <th></th>\n",
              "      <th></th>\n",
              "      <th></th>\n",
              "      <th></th>\n",
              "      <th></th>\n",
              "      <th></th>\n",
              "    </tr>\n",
              "  </thead>\n",
              "  <tbody>\n",
              "    <tr>\n",
              "      <th>apple</th>\n",
              "      <td>199.89</td>\n",
              "      <td>20.80</td>\n",
              "      <td>134.22</td>\n",
              "      <td>92.333383</td>\n",
              "      <td>5.929663</td>\n",
              "      <td>112.654779</td>\n",
              "      <td>22.630942</td>\n",
              "    </tr>\n",
              "    <tr>\n",
              "      <th>banana</th>\n",
              "      <td>50.05</td>\n",
              "      <td>100.23</td>\n",
              "      <td>82.01</td>\n",
              "      <td>80.358123</td>\n",
              "      <td>5.983893</td>\n",
              "      <td>104.626980</td>\n",
              "      <td>27.376798</td>\n",
              "    </tr>\n",
              "    <tr>\n",
              "      <th>blackgram</th>\n",
              "      <td>19.24</td>\n",
              "      <td>40.02</td>\n",
              "      <td>67.47</td>\n",
              "      <td>65.118426</td>\n",
              "      <td>7.133952</td>\n",
              "      <td>67.884151</td>\n",
              "      <td>29.973340</td>\n",
              "    </tr>\n",
              "    <tr>\n",
              "      <th>chickpea</th>\n",
              "      <td>79.92</td>\n",
              "      <td>40.09</td>\n",
              "      <td>67.79</td>\n",
              "      <td>16.860439</td>\n",
              "      <td>7.336957</td>\n",
              "      <td>80.058977</td>\n",
              "      <td>18.872847</td>\n",
              "    </tr>\n",
              "    <tr>\n",
              "      <th>coconut</th>\n",
              "      <td>30.59</td>\n",
              "      <td>21.98</td>\n",
              "      <td>16.93</td>\n",
              "      <td>94.844272</td>\n",
              "      <td>5.976562</td>\n",
              "      <td>175.686646</td>\n",
              "      <td>27.409892</td>\n",
              "    </tr>\n",
              "    <tr>\n",
              "      <th>coffee</th>\n",
              "      <td>29.94</td>\n",
              "      <td>101.20</td>\n",
              "      <td>28.74</td>\n",
              "      <td>58.869846</td>\n",
              "      <td>6.790308</td>\n",
              "      <td>158.066295</td>\n",
              "      <td>25.540477</td>\n",
              "    </tr>\n",
              "    <tr>\n",
              "      <th>cotton</th>\n",
              "      <td>19.56</td>\n",
              "      <td>117.77</td>\n",
              "      <td>46.24</td>\n",
              "      <td>79.843474</td>\n",
              "      <td>6.912675</td>\n",
              "      <td>80.398043</td>\n",
              "      <td>23.988958</td>\n",
              "    </tr>\n",
              "    <tr>\n",
              "      <th>grapes</th>\n",
              "      <td>200.11</td>\n",
              "      <td>23.18</td>\n",
              "      <td>132.53</td>\n",
              "      <td>81.875228</td>\n",
              "      <td>6.025937</td>\n",
              "      <td>69.611829</td>\n",
              "      <td>23.849575</td>\n",
              "    </tr>\n",
              "    <tr>\n",
              "      <th>jute</th>\n",
              "      <td>39.99</td>\n",
              "      <td>78.40</td>\n",
              "      <td>46.86</td>\n",
              "      <td>79.639864</td>\n",
              "      <td>6.732778</td>\n",
              "      <td>174.792798</td>\n",
              "      <td>24.958376</td>\n",
              "    </tr>\n",
              "    <tr>\n",
              "      <th>kidneybeans</th>\n",
              "      <td>20.05</td>\n",
              "      <td>20.75</td>\n",
              "      <td>67.54</td>\n",
              "      <td>21.605357</td>\n",
              "      <td>5.749411</td>\n",
              "      <td>105.919778</td>\n",
              "      <td>20.115085</td>\n",
              "    </tr>\n",
              "    <tr>\n",
              "      <th>lentil</th>\n",
              "      <td>19.41</td>\n",
              "      <td>18.77</td>\n",
              "      <td>68.36</td>\n",
              "      <td>64.804785</td>\n",
              "      <td>6.927932</td>\n",
              "      <td>45.680454</td>\n",
              "      <td>24.509052</td>\n",
              "    </tr>\n",
              "    <tr>\n",
              "      <th>maize</th>\n",
              "      <td>19.79</td>\n",
              "      <td>77.76</td>\n",
              "      <td>48.44</td>\n",
              "      <td>65.092249</td>\n",
              "      <td>6.245190</td>\n",
              "      <td>84.766988</td>\n",
              "      <td>22.389204</td>\n",
              "    </tr>\n",
              "    <tr>\n",
              "      <th>mango</th>\n",
              "      <td>29.92</td>\n",
              "      <td>20.07</td>\n",
              "      <td>27.18</td>\n",
              "      <td>50.156573</td>\n",
              "      <td>5.766373</td>\n",
              "      <td>94.704515</td>\n",
              "      <td>31.208770</td>\n",
              "    </tr>\n",
              "    <tr>\n",
              "      <th>mothbeans</th>\n",
              "      <td>20.23</td>\n",
              "      <td>21.44</td>\n",
              "      <td>48.01</td>\n",
              "      <td>53.160418</td>\n",
              "      <td>6.831174</td>\n",
              "      <td>51.198487</td>\n",
              "      <td>28.194920</td>\n",
              "    </tr>\n",
              "    <tr>\n",
              "      <th>mungbean</th>\n",
              "      <td>19.87</td>\n",
              "      <td>20.99</td>\n",
              "      <td>47.28</td>\n",
              "      <td>85.499975</td>\n",
              "      <td>6.723957</td>\n",
              "      <td>48.403601</td>\n",
              "      <td>28.525775</td>\n",
              "    </tr>\n",
              "    <tr>\n",
              "      <th>muskmelon</th>\n",
              "      <td>50.08</td>\n",
              "      <td>100.32</td>\n",
              "      <td>17.72</td>\n",
              "      <td>92.342802</td>\n",
              "      <td>6.358805</td>\n",
              "      <td>24.689952</td>\n",
              "      <td>28.663066</td>\n",
              "    </tr>\n",
              "    <tr>\n",
              "      <th>orange</th>\n",
              "      <td>10.01</td>\n",
              "      <td>19.58</td>\n",
              "      <td>16.55</td>\n",
              "      <td>92.170209</td>\n",
              "      <td>7.016957</td>\n",
              "      <td>110.474969</td>\n",
              "      <td>22.765725</td>\n",
              "    </tr>\n",
              "    <tr>\n",
              "      <th>papaya</th>\n",
              "      <td>50.04</td>\n",
              "      <td>49.88</td>\n",
              "      <td>59.05</td>\n",
              "      <td>92.403388</td>\n",
              "      <td>6.741442</td>\n",
              "      <td>142.627839</td>\n",
              "      <td>33.723859</td>\n",
              "    </tr>\n",
              "    <tr>\n",
              "      <th>pigeonpeas</th>\n",
              "      <td>20.29</td>\n",
              "      <td>20.73</td>\n",
              "      <td>67.73</td>\n",
              "      <td>48.061633</td>\n",
              "      <td>5.794175</td>\n",
              "      <td>149.457564</td>\n",
              "      <td>27.741762</td>\n",
              "    </tr>\n",
              "    <tr>\n",
              "      <th>pomegranate</th>\n",
              "      <td>40.21</td>\n",
              "      <td>18.87</td>\n",
              "      <td>18.75</td>\n",
              "      <td>90.125504</td>\n",
              "      <td>6.429172</td>\n",
              "      <td>107.528442</td>\n",
              "      <td>21.837842</td>\n",
              "    </tr>\n",
              "    <tr>\n",
              "      <th>rice</th>\n",
              "      <td>39.87</td>\n",
              "      <td>79.89</td>\n",
              "      <td>47.58</td>\n",
              "      <td>82.272822</td>\n",
              "      <td>6.425471</td>\n",
              "      <td>236.181114</td>\n",
              "      <td>23.689332</td>\n",
              "    </tr>\n",
              "    <tr>\n",
              "      <th>watermelon</th>\n",
              "      <td>50.22</td>\n",
              "      <td>99.42</td>\n",
              "      <td>17.00</td>\n",
              "      <td>85.160375</td>\n",
              "      <td>6.495778</td>\n",
              "      <td>50.786219</td>\n",
              "      <td>25.591767</td>\n",
              "    </tr>\n",
              "  </tbody>\n",
              "</table>\n",
              "</div>\n",
              "      <button class=\"colab-df-convert\" onclick=\"convertToInteractive('df-934a0db8-dc2c-4cff-bc8d-d3735fe8f30a')\"\n",
              "              title=\"Convert this dataframe to an interactive table.\"\n",
              "              style=\"display:none;\">\n",
              "        \n",
              "  <svg xmlns=\"http://www.w3.org/2000/svg\" height=\"24px\"viewBox=\"0 0 24 24\"\n",
              "       width=\"24px\">\n",
              "    <path d=\"M0 0h24v24H0V0z\" fill=\"none\"/>\n",
              "    <path d=\"M18.56 5.44l.94 2.06.94-2.06 2.06-.94-2.06-.94-.94-2.06-.94 2.06-2.06.94zm-11 1L8.5 8.5l.94-2.06 2.06-.94-2.06-.94L8.5 2.5l-.94 2.06-2.06.94zm10 10l.94 2.06.94-2.06 2.06-.94-2.06-.94-.94-2.06-.94 2.06-2.06.94z\"/><path d=\"M17.41 7.96l-1.37-1.37c-.4-.4-.92-.59-1.43-.59-.52 0-1.04.2-1.43.59L10.3 9.45l-7.72 7.72c-.78.78-.78 2.05 0 2.83L4 21.41c.39.39.9.59 1.41.59.51 0 1.02-.2 1.41-.59l7.78-7.78 2.81-2.81c.8-.78.8-2.07 0-2.86zM5.41 20L4 18.59l7.72-7.72 1.47 1.35L5.41 20z\"/>\n",
              "  </svg>\n",
              "      </button>\n",
              "      \n",
              "  <style>\n",
              "    .colab-df-container {\n",
              "      display:flex;\n",
              "      flex-wrap:wrap;\n",
              "      gap: 12px;\n",
              "    }\n",
              "\n",
              "    .colab-df-convert {\n",
              "      background-color: #E8F0FE;\n",
              "      border: none;\n",
              "      border-radius: 50%;\n",
              "      cursor: pointer;\n",
              "      display: none;\n",
              "      fill: #1967D2;\n",
              "      height: 32px;\n",
              "      padding: 0 0 0 0;\n",
              "      width: 32px;\n",
              "    }\n",
              "\n",
              "    .colab-df-convert:hover {\n",
              "      background-color: #E2EBFA;\n",
              "      box-shadow: 0px 1px 2px rgba(60, 64, 67, 0.3), 0px 1px 3px 1px rgba(60, 64, 67, 0.15);\n",
              "      fill: #174EA6;\n",
              "    }\n",
              "\n",
              "    [theme=dark] .colab-df-convert {\n",
              "      background-color: #3B4455;\n",
              "      fill: #D2E3FC;\n",
              "    }\n",
              "\n",
              "    [theme=dark] .colab-df-convert:hover {\n",
              "      background-color: #434B5C;\n",
              "      box-shadow: 0px 1px 3px 1px rgba(0, 0, 0, 0.15);\n",
              "      filter: drop-shadow(0px 1px 2px rgba(0, 0, 0, 0.3));\n",
              "      fill: #FFFFFF;\n",
              "    }\n",
              "  </style>\n",
              "\n",
              "      <script>\n",
              "        const buttonEl =\n",
              "          document.querySelector('#df-934a0db8-dc2c-4cff-bc8d-d3735fe8f30a button.colab-df-convert');\n",
              "        buttonEl.style.display =\n",
              "          google.colab.kernel.accessAllowed ? 'block' : 'none';\n",
              "\n",
              "        async function convertToInteractive(key) {\n",
              "          const element = document.querySelector('#df-934a0db8-dc2c-4cff-bc8d-d3735fe8f30a');\n",
              "          const dataTable =\n",
              "            await google.colab.kernel.invokeFunction('convertToInteractive',\n",
              "                                                     [key], {});\n",
              "          if (!dataTable) return;\n",
              "\n",
              "          const docLinkHtml = 'Like what you see? Visit the ' +\n",
              "            '<a target=\"_blank\" href=https://colab.research.google.com/notebooks/data_table.ipynb>data table notebook</a>'\n",
              "            + ' to learn more about interactive tables.';\n",
              "          element.innerHTML = '';\n",
              "          dataTable['output_type'] = 'display_data';\n",
              "          await google.colab.output.renderOutput(dataTable, element);\n",
              "          const docLink = document.createElement('div');\n",
              "          docLink.innerHTML = docLinkHtml;\n",
              "          element.appendChild(docLink);\n",
              "        }\n",
              "      </script>\n",
              "    </div>\n",
              "  </div>\n",
              "  "
            ]
          },
          "metadata": {},
          "execution_count": 21
        }
      ]
    },
    {
      "cell_type": "code",
      "source": [
        "data.columns"
      ],
      "metadata": {
        "colab": {
          "base_uri": "https://localhost:8080/"
        },
        "id": "I4RyRl7Mg-i9",
        "outputId": "781b462c-6dcb-407e-ece3-bce70a8bd35e"
      },
      "execution_count": null,
      "outputs": [
        {
          "output_type": "execute_result",
          "data": {
            "text/plain": [
              "Index(['N', 'P', 'K', 'temperature', 'humidity', 'ph', 'rainfall', 'label'], dtype='object')"
            ]
          },
          "metadata": {},
          "execution_count": 22
        }
      ]
    },
    {
      "cell_type": "code",
      "source": [
        "import plotly.express as px"
      ],
      "metadata": {
        "id": "qXZcyVzzhA-4"
      },
      "execution_count": null,
      "outputs": []
    },
    {
      "cell_type": "code",
      "source": [
        "fig = px.box(data, y=\"N\",points=\"all\")\n",
        "fig.show()"
      ],
      "metadata": {
        "colab": {
          "base_uri": "https://localhost:8080/",
          "height": 542
        },
        "id": "7dDT-LzwhMhd",
        "outputId": "d9a62db6-2536-412d-8fe3-c504e5d73be6"
      },
      "execution_count": null,
      "outputs": [
        {
          "output_type": "display_data",
          "data": {
            "text/html": [
              "<html>\n",
              "<head><meta charset=\"utf-8\" /></head>\n",
              "<body>\n",
              "    <div>            <script src=\"https://cdnjs.cloudflare.com/ajax/libs/mathjax/2.7.5/MathJax.js?config=TeX-AMS-MML_SVG\"></script><script type=\"text/javascript\">if (window.MathJax) {MathJax.Hub.Config({SVG: {font: \"STIX-Web\"}});}</script>                <script type=\"text/javascript\">window.PlotlyConfig = {MathJaxConfig: 'local'};</script>\n",
              "        <script src=\"https://cdn.plot.ly/plotly-2.8.3.min.js\"></script>                <div id=\"2272c35c-0265-4546-82dc-950995e6906a\" class=\"plotly-graph-div\" style=\"height:525px; width:100%;\"></div>            <script type=\"text/javascript\">                                    window.PLOTLYENV=window.PLOTLYENV || {};                                    if (document.getElementById(\"2272c35c-0265-4546-82dc-950995e6906a\")) {                    Plotly.newPlot(                        \"2272c35c-0265-4546-82dc-950995e6906a\",                        [{\"alignmentgroup\":\"True\",\"boxpoints\":\"all\",\"hovertemplate\":\"N=%{y}<extra></extra>\",\"legendgroup\":\"\",\"marker\":{\"color\":\"#636efa\"},\"name\":\"\",\"notched\":false,\"offsetgroup\":\"\",\"orientation\":\"v\",\"showlegend\":false,\"x0\":\" \",\"xaxis\":\"x\",\"y\":[90,85,60,74,78,69,69,94,89,68,91,90,78,93,94,60,85,91,77,88,89,76,67,83,98,66,97,97,60,84,73,92,85,98,88,95,99,95,60,63,62,64,83,82,85,91,76,74,79,88,60,76,93,65,95,75,74,91,71,99,72,83,93,70,76,99,99,86,69,91,61,67,79,78,75,97,67,73,77,81,68,72,61,67,67,66,82,84,81,91,93,90,81,78,60,88,93,60,78,65,71,61,80,73,61,68,93,89,76,67,70,90,62,92,66,63,70,61,66,74,77,99,74,83,100,79,94,75,78,87,87,63,84,64,60,98,75,86,98,76,99,60,74,89,69,96,61,74,74,63,99,77,87,60,94,95,84,77,66,63,79,72,67,86,76,75,81,73,71,96,99,62,86,94,76,77,74,81,63,99,90,68,60,71,61,88,65,78,78,92,79,91,76,87,71,90,67,60,83,83,40,23,39,22,36,32,58,59,42,28,58,43,58,23,27,28,50,39,25,31,26,25,31,60,59,22,36,59,54,43,28,42,32,22,31,28,57,49,46,54,38,59,36,57,35,35,52,27,57,52,43,44,24,29,20,56,37,49,59,20,24,51,57,22,52,29,44,41,52,34,42,34,27,30,57,27,32,31,33,47,54,47,35,53,45,37,30,37,53,22,60,42,39,35,30,57,48,36,40,49,13,25,31,40,2,26,17,26,17,27,28,25,28,25,12,6,22,27,10,23,19,19,22,37,11,18,21,24,34,16,17,37,40,9,1,33,23,6,25,7,8,27,28,32,27,17,0,13,34,9,11,3,35,3,23,22,31,34,12,27,7,24,11,37,25,34,20,37,18,4,37,5,11,22,12,5,27,31,36,5,32,11,0,14,29,32,17,13,14,9,20,40,27,14,7,27,30,37,27,22,3,40,33,27,10,30,40,38,35,38,33,16,31,16,27,40,18,3,26,16,24,9,16,28,16,24,38,9,34,1,6,26,27,27,36,17,26,17,14,39,6,8,2,1,16,23,32,28,5,36,1,24,17,5,5,37,13,6,16,25,34,20,35,14,36,7,29,30,20,19,3,5,5,37,9,20,31,0,21,13,27,29,5,39,22,18,39,13,27,26,23,4,20,7,17,35,11,20,10,33,3,22,36,4,29,32,14,5,25,11,40,38,27,24,23,29,31,0,7,17,11,22,9,28,26,36,8,24,22,36,22,17,8,7,36,11,6,17,4,9,25,36,21,37,32,29,25,10,23,9,3,22,12,39,32,30,19,4,21,35,22,35,17,28,22,11,38,23,25,40,23,2,3,26,39,27,24,7,15,26,20,34,19,29,20,11,15,35,9,40,35,14,40,18,35,4,22,33,2,16,19,8,36,10,22,9,34,31,0,21,28,17,24,28,21,34,19,31,19,24,13,31,28,31,33,34,13,33,32,23,35,6,29,4,10,14,8,20,36,14,11,10,7,2,20,2,27,35,4,1,36,11,34,21,17,25,2,9,37,36,40,30,1,9,14,35,31,4,30,9,20,37,34,14,23,5,22,40,27,31,38,6,6,24,25,32,8,19,39,33,26,21,22,29,4,10,4,20,23,25,56,25,42,42,44,50,35,30,27,50,39,57,52,55,51,36,59,50,30,20,58,25,52,40,20,48,49,48,32,21,20,25,41,53,39,25,21,57,56,49,24,49,28,55,50,34,20,55,23,53,26,33,37,33,22,20,43,44,34,21,25,41,28,35,52,58,34,52,23,42,37,44,21,56,29,43,55,44,29,47,40,58,41,58,27,27,52,44,21,60,33,59,29,59,29,58,55,42,44,38,32,13,38,11,37,29,2,6,13,8,6,2,3,27,39,40,37,31,22,3,4,13,12,4,9,18,32,6,15,0,30,3,2,10,14,39,19,18,31,28,5,16,34,14,22,24,2,26,27,24,13,6,12,32,6,10,38,17,26,23,32,19,22,28,1,12,36,28,12,22,26,16,14,33,21,0,10,30,0,35,7,9,14,14,36,28,28,40,10,12,37,0,7,10,39,26,9,4,34,33,2,6,8,37,0,31,21,6,25,15,14,16,36,4,29,16,18,11,5,18,9,40,22,9,12,0,2,28,8,29,17,34,21,25,8,26,4,36,5,19,39,5,4,38,37,9,29,5,22,4,21,29,23,13,5,27,7,12,4,3,1,23,24,13,40,21,3,40,14,38,34,32,18,8,15,0,22,14,31,39,10,8,32,18,20,39,20,11,40,3,9,30,40,40,32,33,4,13,39,8,91,105,108,86,80,93,90,108,108,105,118,101,95,106,86,83,85,109,100,117,114,110,94,80,114,88,112,117,111,89,93,92,105,102,94,116,117,119,99,91,80,101,108,100,109,82,106,90,83,119,107,116,101,93,95,107,83,102,86,117,111,95,91,93,92,104,103,92,93,120,108,105,98,111,97,95,89,89,118,101,99,82,90,95,104,102,100,94,99,112,117,96,113,105,85,108,92,110,82,117,2,39,21,25,0,20,19,18,11,30,18,23,37,11,12,3,37,26,14,40,4,36,30,28,38,12,38,8,15,34,11,33,12,12,5,1,16,35,4,9,2,26,34,5,31,34,36,7,38,5,37,21,37,23,36,24,26,22,11,29,22,23,1,2,39,15,3,8,33,14,18,9,20,9,26,31,14,40,28,0,1,2,12,7,0,26,27,22,22,28,7,29,8,39,40,19,21,22,31,18,24,13,22,36,24,2,35,11,6,17,25,27,9,16,32,22,31,3,28,4,39,38,36,25,15,24,13,5,30,23,26,7,32,9,20,32,3,38,14,20,40,36,11,0,19,31,4,39,8,39,32,12,8,8,21,40,39,19,21,17,33,22,32,37,15,39,40,40,29,32,6,8,34,35,16,8,25,16,39,38,33,35,1,39,28,6,6,29,37,38,38,14,6,32,11,23,40,6,37,35,119,119,105,114,93,80,85,85,82,118,83,86,101,119,104,95,102,109,81,103,105,97,120,95,83,83,91,116,112,88,118,92,106,99,98,108,119,117,109,80,100,91,86,107,103,101,85,84,102,98,97,90,95,82,82,110,118,120,91,81,101,101,111,107,115,84,120,91,89,113,97,117,90,104,81,88,92,81,111,108,113,83,101,114,99,92,92,91,110,112,89,100,83,95,119,97,110,96,83,120,115,114,101,118,95,81,117,114,113,108,81,115,83,84,109,95,119,110,82,87,85,100,107,91,102,117,85,104,102,116,100,110,104,107,98,88,87,120,95,108,82,120,110,95,106,99,106,83,117,98,113,101,98,93,95,109,118,100,89,95,95,87,93,84,111,111,111,89,110,95,115,120,102,94,84,107,80,86,113,115,82,98,117,83,120,111,85,90,99,102,80,87,114,99,89,96,82,106,90,106,24,7,14,8,20,32,27,0,22,1,30,29,13,9,0,30,36,37,33,7,35,29,2,34,29,32,13,25,9,6,37,2,11,10,24,23,18,13,26,28,26,21,21,5,2,15,31,25,16,19,10,20,28,28,2,2,27,30,32,29,26,40,6,35,17,33,16,27,29,3,15,5,10,7,2,29,30,29,14,18,33,40,9,38,28,35,12,1,0,31,35,29,33,14,35,40,25,31,36,10,22,37,27,7,20,26,5,0,39,13,21,33,6,19,24,9,31,22,13,16,4,0,8,4,33,30,21,11,9,5,29,33,8,15,16,0,5,6,10,1,1,0,24,36,40,40,32,9,13,15,29,1,18,14,33,4,17,12,34,39,31,12,12,26,19,39,16,36,37,39,31,18,20,5,20,25,14,37,26,13,32,19,28,24,7,18,7,20,18,34,20,37,12,34,6,27,13,6,40,31,61,58,45,39,31,70,68,34,38,69,58,59,44,56,69,56,49,38,54,57,39,58,61,34,31,47,32,36,61,70,44,34,50,39,34,44,31,65,44,50,43,60,70,59,60,42,35,34,36,39,37,33,34,49,40,68,50,65,40,42,49,59,63,70,63,40,63,45,66,54,69,67,45,56,70,44,50,52,35,68,32,32,48,39,49,48,69,53,38,57,51,56,54,58,68,42,43,35,56,39,18,37,13,2,10,7,39,34,31,25,16,26,27,37,19,0,31,9,22,31,34,24,1,31,10,36,38,11,16,33,16,32,38,8,23,29,24,32,30,14,27,40,17,30,28,39,32,7,29,34,14,18,7,24,39,29,10,0,32,37,20,31,17,1,6,15,27,3,8,20,26,1,27,23,0,38,25,40,0,26,35,19,31,17,2,30,8,18,8,40,27,21,3,22,27,22,28,23,37,19,133,136,104,133,126,126,113,121,121,129,107,122,140,102,111,131,135,100,123,117,121,101,107,100,125,105,102,131,139,108,118,107,125,113,131,115,113,111,111,122,108,132,103,133,127,110,131,108,122,111,140,100,123,107,118,103,133,129,116,114,131,107,123,112,119,130,127,134,109,100,132,102,111,117,136,134,112,105,140,126,106,121,108,116,100,129,118,117,126,120,102,131,114,101,106,113,102,110,107,120,89,60,63,86,96,100,63,70,67,74,89,74,89,60,67,70,74,90,82,73,85,81,84,80,76,76,81,76,69,82,69,81,67,72,65,78,77,89,62,90,66,80,89,77,94,75,60,62,84,100,75,78,82,100,88,67,72,89,89,61,79,84,98,75,89,91,77,66,62,82,61,99,70,90,73,67,84,72,71,64,65,60,86,90,91,87,72,71,82,71,80,77,95,63,93,87,88,90,90,84,91,107,83,108,116,116,109,89,118,111,84,85,99,81,95,81,80,104,109,100,100,83,120,104,108,91,86,98,111,84,98,118,103,82,86,88,84,120,106,113,117,80,88,113,87,113,98,97,85,82,103,112,99,120,114,100,108,115,87,82,94,87,118,87,92,97,99,89,112,111,114,117,111,119,116,95,86,117,105,109,80,101,103,93,104,116,107,101,107,99,103,118,106,116,97,107,99,118,117,104],\"y0\":\" \",\"yaxis\":\"y\",\"type\":\"box\"}],                        {\"template\":{\"data\":{\"bar\":[{\"error_x\":{\"color\":\"#2a3f5f\"},\"error_y\":{\"color\":\"#2a3f5f\"},\"marker\":{\"line\":{\"color\":\"#E5ECF6\",\"width\":0.5},\"pattern\":{\"fillmode\":\"overlay\",\"size\":10,\"solidity\":0.2}},\"type\":\"bar\"}],\"barpolar\":[{\"marker\":{\"line\":{\"color\":\"#E5ECF6\",\"width\":0.5},\"pattern\":{\"fillmode\":\"overlay\",\"size\":10,\"solidity\":0.2}},\"type\":\"barpolar\"}],\"carpet\":[{\"aaxis\":{\"endlinecolor\":\"#2a3f5f\",\"gridcolor\":\"white\",\"linecolor\":\"white\",\"minorgridcolor\":\"white\",\"startlinecolor\":\"#2a3f5f\"},\"baxis\":{\"endlinecolor\":\"#2a3f5f\",\"gridcolor\":\"white\",\"linecolor\":\"white\",\"minorgridcolor\":\"white\",\"startlinecolor\":\"#2a3f5f\"},\"type\":\"carpet\"}],\"choropleth\":[{\"colorbar\":{\"outlinewidth\":0,\"ticks\":\"\"},\"type\":\"choropleth\"}],\"contour\":[{\"colorbar\":{\"outlinewidth\":0,\"ticks\":\"\"},\"colorscale\":[[0.0,\"#0d0887\"],[0.1111111111111111,\"#46039f\"],[0.2222222222222222,\"#7201a8\"],[0.3333333333333333,\"#9c179e\"],[0.4444444444444444,\"#bd3786\"],[0.5555555555555556,\"#d8576b\"],[0.6666666666666666,\"#ed7953\"],[0.7777777777777778,\"#fb9f3a\"],[0.8888888888888888,\"#fdca26\"],[1.0,\"#f0f921\"]],\"type\":\"contour\"}],\"contourcarpet\":[{\"colorbar\":{\"outlinewidth\":0,\"ticks\":\"\"},\"type\":\"contourcarpet\"}],\"heatmap\":[{\"colorbar\":{\"outlinewidth\":0,\"ticks\":\"\"},\"colorscale\":[[0.0,\"#0d0887\"],[0.1111111111111111,\"#46039f\"],[0.2222222222222222,\"#7201a8\"],[0.3333333333333333,\"#9c179e\"],[0.4444444444444444,\"#bd3786\"],[0.5555555555555556,\"#d8576b\"],[0.6666666666666666,\"#ed7953\"],[0.7777777777777778,\"#fb9f3a\"],[0.8888888888888888,\"#fdca26\"],[1.0,\"#f0f921\"]],\"type\":\"heatmap\"}],\"heatmapgl\":[{\"colorbar\":{\"outlinewidth\":0,\"ticks\":\"\"},\"colorscale\":[[0.0,\"#0d0887\"],[0.1111111111111111,\"#46039f\"],[0.2222222222222222,\"#7201a8\"],[0.3333333333333333,\"#9c179e\"],[0.4444444444444444,\"#bd3786\"],[0.5555555555555556,\"#d8576b\"],[0.6666666666666666,\"#ed7953\"],[0.7777777777777778,\"#fb9f3a\"],[0.8888888888888888,\"#fdca26\"],[1.0,\"#f0f921\"]],\"type\":\"heatmapgl\"}],\"histogram\":[{\"marker\":{\"pattern\":{\"fillmode\":\"overlay\",\"size\":10,\"solidity\":0.2}},\"type\":\"histogram\"}],\"histogram2d\":[{\"colorbar\":{\"outlinewidth\":0,\"ticks\":\"\"},\"colorscale\":[[0.0,\"#0d0887\"],[0.1111111111111111,\"#46039f\"],[0.2222222222222222,\"#7201a8\"],[0.3333333333333333,\"#9c179e\"],[0.4444444444444444,\"#bd3786\"],[0.5555555555555556,\"#d8576b\"],[0.6666666666666666,\"#ed7953\"],[0.7777777777777778,\"#fb9f3a\"],[0.8888888888888888,\"#fdca26\"],[1.0,\"#f0f921\"]],\"type\":\"histogram2d\"}],\"histogram2dcontour\":[{\"colorbar\":{\"outlinewidth\":0,\"ticks\":\"\"},\"colorscale\":[[0.0,\"#0d0887\"],[0.1111111111111111,\"#46039f\"],[0.2222222222222222,\"#7201a8\"],[0.3333333333333333,\"#9c179e\"],[0.4444444444444444,\"#bd3786\"],[0.5555555555555556,\"#d8576b\"],[0.6666666666666666,\"#ed7953\"],[0.7777777777777778,\"#fb9f3a\"],[0.8888888888888888,\"#fdca26\"],[1.0,\"#f0f921\"]],\"type\":\"histogram2dcontour\"}],\"mesh3d\":[{\"colorbar\":{\"outlinewidth\":0,\"ticks\":\"\"},\"type\":\"mesh3d\"}],\"parcoords\":[{\"line\":{\"colorbar\":{\"outlinewidth\":0,\"ticks\":\"\"}},\"type\":\"parcoords\"}],\"pie\":[{\"automargin\":true,\"type\":\"pie\"}],\"scatter\":[{\"marker\":{\"colorbar\":{\"outlinewidth\":0,\"ticks\":\"\"}},\"type\":\"scatter\"}],\"scatter3d\":[{\"line\":{\"colorbar\":{\"outlinewidth\":0,\"ticks\":\"\"}},\"marker\":{\"colorbar\":{\"outlinewidth\":0,\"ticks\":\"\"}},\"type\":\"scatter3d\"}],\"scattercarpet\":[{\"marker\":{\"colorbar\":{\"outlinewidth\":0,\"ticks\":\"\"}},\"type\":\"scattercarpet\"}],\"scattergeo\":[{\"marker\":{\"colorbar\":{\"outlinewidth\":0,\"ticks\":\"\"}},\"type\":\"scattergeo\"}],\"scattergl\":[{\"marker\":{\"colorbar\":{\"outlinewidth\":0,\"ticks\":\"\"}},\"type\":\"scattergl\"}],\"scattermapbox\":[{\"marker\":{\"colorbar\":{\"outlinewidth\":0,\"ticks\":\"\"}},\"type\":\"scattermapbox\"}],\"scatterpolar\":[{\"marker\":{\"colorbar\":{\"outlinewidth\":0,\"ticks\":\"\"}},\"type\":\"scatterpolar\"}],\"scatterpolargl\":[{\"marker\":{\"colorbar\":{\"outlinewidth\":0,\"ticks\":\"\"}},\"type\":\"scatterpolargl\"}],\"scatterternary\":[{\"marker\":{\"colorbar\":{\"outlinewidth\":0,\"ticks\":\"\"}},\"type\":\"scatterternary\"}],\"surface\":[{\"colorbar\":{\"outlinewidth\":0,\"ticks\":\"\"},\"colorscale\":[[0.0,\"#0d0887\"],[0.1111111111111111,\"#46039f\"],[0.2222222222222222,\"#7201a8\"],[0.3333333333333333,\"#9c179e\"],[0.4444444444444444,\"#bd3786\"],[0.5555555555555556,\"#d8576b\"],[0.6666666666666666,\"#ed7953\"],[0.7777777777777778,\"#fb9f3a\"],[0.8888888888888888,\"#fdca26\"],[1.0,\"#f0f921\"]],\"type\":\"surface\"}],\"table\":[{\"cells\":{\"fill\":{\"color\":\"#EBF0F8\"},\"line\":{\"color\":\"white\"}},\"header\":{\"fill\":{\"color\":\"#C8D4E3\"},\"line\":{\"color\":\"white\"}},\"type\":\"table\"}]},\"layout\":{\"annotationdefaults\":{\"arrowcolor\":\"#2a3f5f\",\"arrowhead\":0,\"arrowwidth\":1},\"autotypenumbers\":\"strict\",\"coloraxis\":{\"colorbar\":{\"outlinewidth\":0,\"ticks\":\"\"}},\"colorscale\":{\"diverging\":[[0,\"#8e0152\"],[0.1,\"#c51b7d\"],[0.2,\"#de77ae\"],[0.3,\"#f1b6da\"],[0.4,\"#fde0ef\"],[0.5,\"#f7f7f7\"],[0.6,\"#e6f5d0\"],[0.7,\"#b8e186\"],[0.8,\"#7fbc41\"],[0.9,\"#4d9221\"],[1,\"#276419\"]],\"sequential\":[[0.0,\"#0d0887\"],[0.1111111111111111,\"#46039f\"],[0.2222222222222222,\"#7201a8\"],[0.3333333333333333,\"#9c179e\"],[0.4444444444444444,\"#bd3786\"],[0.5555555555555556,\"#d8576b\"],[0.6666666666666666,\"#ed7953\"],[0.7777777777777778,\"#fb9f3a\"],[0.8888888888888888,\"#fdca26\"],[1.0,\"#f0f921\"]],\"sequentialminus\":[[0.0,\"#0d0887\"],[0.1111111111111111,\"#46039f\"],[0.2222222222222222,\"#7201a8\"],[0.3333333333333333,\"#9c179e\"],[0.4444444444444444,\"#bd3786\"],[0.5555555555555556,\"#d8576b\"],[0.6666666666666666,\"#ed7953\"],[0.7777777777777778,\"#fb9f3a\"],[0.8888888888888888,\"#fdca26\"],[1.0,\"#f0f921\"]]},\"colorway\":[\"#636efa\",\"#EF553B\",\"#00cc96\",\"#ab63fa\",\"#FFA15A\",\"#19d3f3\",\"#FF6692\",\"#B6E880\",\"#FF97FF\",\"#FECB52\"],\"font\":{\"color\":\"#2a3f5f\"},\"geo\":{\"bgcolor\":\"white\",\"lakecolor\":\"white\",\"landcolor\":\"#E5ECF6\",\"showlakes\":true,\"showland\":true,\"subunitcolor\":\"white\"},\"hoverlabel\":{\"align\":\"left\"},\"hovermode\":\"closest\",\"mapbox\":{\"style\":\"light\"},\"paper_bgcolor\":\"white\",\"plot_bgcolor\":\"#E5ECF6\",\"polar\":{\"angularaxis\":{\"gridcolor\":\"white\",\"linecolor\":\"white\",\"ticks\":\"\"},\"bgcolor\":\"#E5ECF6\",\"radialaxis\":{\"gridcolor\":\"white\",\"linecolor\":\"white\",\"ticks\":\"\"}},\"scene\":{\"xaxis\":{\"backgroundcolor\":\"#E5ECF6\",\"gridcolor\":\"white\",\"gridwidth\":2,\"linecolor\":\"white\",\"showbackground\":true,\"ticks\":\"\",\"zerolinecolor\":\"white\"},\"yaxis\":{\"backgroundcolor\":\"#E5ECF6\",\"gridcolor\":\"white\",\"gridwidth\":2,\"linecolor\":\"white\",\"showbackground\":true,\"ticks\":\"\",\"zerolinecolor\":\"white\"},\"zaxis\":{\"backgroundcolor\":\"#E5ECF6\",\"gridcolor\":\"white\",\"gridwidth\":2,\"linecolor\":\"white\",\"showbackground\":true,\"ticks\":\"\",\"zerolinecolor\":\"white\"}},\"shapedefaults\":{\"line\":{\"color\":\"#2a3f5f\"}},\"ternary\":{\"aaxis\":{\"gridcolor\":\"white\",\"linecolor\":\"white\",\"ticks\":\"\"},\"baxis\":{\"gridcolor\":\"white\",\"linecolor\":\"white\",\"ticks\":\"\"},\"bgcolor\":\"#E5ECF6\",\"caxis\":{\"gridcolor\":\"white\",\"linecolor\":\"white\",\"ticks\":\"\"}},\"title\":{\"x\":0.05},\"xaxis\":{\"automargin\":true,\"gridcolor\":\"white\",\"linecolor\":\"white\",\"ticks\":\"\",\"title\":{\"standoff\":15},\"zerolinecolor\":\"white\",\"zerolinewidth\":2},\"yaxis\":{\"automargin\":true,\"gridcolor\":\"white\",\"linecolor\":\"white\",\"ticks\":\"\",\"title\":{\"standoff\":15},\"zerolinecolor\":\"white\",\"zerolinewidth\":2}}},\"xaxis\":{\"anchor\":\"y\",\"domain\":[0.0,1.0]},\"yaxis\":{\"anchor\":\"x\",\"domain\":[0.0,1.0],\"title\":{\"text\":\"N\"}},\"legend\":{\"tracegroupgap\":0},\"margin\":{\"t\":60},\"boxmode\":\"group\"},                        {\"responsive\": true}                    ).then(function(){\n",
              "                            \n",
              "var gd = document.getElementById('2272c35c-0265-4546-82dc-950995e6906a');\n",
              "var x = new MutationObserver(function (mutations, observer) {{\n",
              "        var display = window.getComputedStyle(gd).display;\n",
              "        if (!display || display === 'none') {{\n",
              "            console.log([gd, 'removed!']);\n",
              "            Plotly.purge(gd);\n",
              "            observer.disconnect();\n",
              "        }}\n",
              "}});\n",
              "\n",
              "// Listen for the removal of the full notebook cells\n",
              "var notebookContainer = gd.closest('#notebook-container');\n",
              "if (notebookContainer) {{\n",
              "    x.observe(notebookContainer, {childList: true});\n",
              "}}\n",
              "\n",
              "// Listen for the clearing of the current output cell\n",
              "var outputEl = gd.closest('.output');\n",
              "if (outputEl) {{\n",
              "    x.observe(outputEl, {childList: true});\n",
              "}}\n",
              "\n",
              "                        })                };                            </script>        </div>\n",
              "</body>\n",
              "</html>"
            ]
          },
          "metadata": {}
        }
      ]
    },
    {
      "cell_type": "code",
      "source": [
        "fig = px.box(data, y=\"P\",points=\"all\")\n",
        "fig.show()"
      ],
      "metadata": {
        "colab": {
          "base_uri": "https://localhost:8080/",
          "height": 542
        },
        "id": "TgFgFA8QhiiP",
        "outputId": "66adbee3-f137-4308-d5de-c0b1ae939dda"
      },
      "execution_count": null,
      "outputs": [
        {
          "output_type": "display_data",
          "data": {
            "text/html": [
              "<html>\n",
              "<head><meta charset=\"utf-8\" /></head>\n",
              "<body>\n",
              "    <div>            <script src=\"https://cdnjs.cloudflare.com/ajax/libs/mathjax/2.7.5/MathJax.js?config=TeX-AMS-MML_SVG\"></script><script type=\"text/javascript\">if (window.MathJax) {MathJax.Hub.Config({SVG: {font: \"STIX-Web\"}});}</script>                <script type=\"text/javascript\">window.PlotlyConfig = {MathJaxConfig: 'local'};</script>\n",
              "        <script src=\"https://cdn.plot.ly/plotly-2.8.3.min.js\"></script>                <div id=\"31859338-9bd8-4f18-a0f5-c20f8b53134a\" class=\"plotly-graph-div\" style=\"height:525px; width:100%;\"></div>            <script type=\"text/javascript\">                                    window.PLOTLYENV=window.PLOTLYENV || {};                                    if (document.getElementById(\"31859338-9bd8-4f18-a0f5-c20f8b53134a\")) {                    Plotly.newPlot(                        \"31859338-9bd8-4f18-a0f5-c20f8b53134a\",                        [{\"alignmentgroup\":\"True\",\"boxpoints\":\"all\",\"hovertemplate\":\"P=%{y}<extra></extra>\",\"legendgroup\":\"\",\"marker\":{\"color\":\"#636efa\"},\"name\":\"\",\"notched\":false,\"offsetgroup\":\"\",\"orientation\":\"v\",\"showlegend\":false,\"x0\":\" \",\"xaxis\":\"x\",\"y\":[42,58,55,35,42,37,55,53,54,58,53,46,58,56,50,48,38,35,38,35,45,40,59,41,47,53,59,50,49,51,57,35,37,53,54,55,57,39,43,44,42,45,60,40,52,35,49,39,43,55,36,60,56,60,52,38,54,36,46,55,40,58,58,36,47,41,54,59,46,56,52,45,42,43,54,36,47,35,36,41,57,45,53,43,58,60,43,50,53,50,53,44,45,40,51,46,47,55,35,37,54,44,43,58,38,41,41,60,44,60,44,49,52,44,54,58,47,41,53,55,57,50,56,45,48,51,39,49,48,54,35,43,57,35,46,44,56,55,35,57,56,44,48,60,51,46,60,58,43,43,36,36,60,38,54,38,44,58,44,35,45,60,51,36,48,53,45,45,35,54,39,48,37,50,39,52,39,49,42,38,52,40,57,52,59,38,60,37,58,60,59,55,51,48,60,57,35,54,58,57,72,72,58,72,67,73,70,70,62,74,66,66,63,62,62,72,56,71,78,70,80,68,78,68,62,67,65,60,77,68,76,79,60,78,79,58,58,55,76,61,60,55,76,68,66,64,60,76,60,68,79,74,55,77,60,67,66,71,69,79,56,72,73,64,73,75,59,69,56,76,74,71,73,70,57,79,71,76,75,80,62,79,57,73,61,78,75,55,65,60,61,67,76,63,65,56,65,56,58,69,60,70,55,64,61,65,57,80,59,59,58,57,80,60,78,77,79,80,55,65,78,65,70,64,71,79,63,80,60,75,77,72,73,77,62,59,59,62,63,79,72,64,66,57,56,77,65,72,60,80,72,67,69,77,62,71,79,59,63,56,63,67,71,74,76,66,69,65,74,67,56,59,61,80,61,74,69,75,68,65,79,78,55,59,68,68,64,69,67,69,73,78,72,67,56,65,63,70,63,60,72,59,73,57,79,75,70,55,58,61,58,56,72,80,72,62,58,68,67,70,63,76,55,75,71,70,72,66,56,76,69,73,61,71,61,73,72,64,74,60,66,59,67,76,73,75,70,59,62,67,66,73,67,55,56,77,73,63,77,64,75,77,80,75,80,77,78,60,74,57,60,77,68,73,59,72,56,70,74,67,74,72,68,57,62,55,77,75,71,64,55,69,67,74,64,71,72,60,71,61,49,59,58,43,54,43,55,35,57,53,49,56,43,38,45,57,35,55,45,58,44,49,51,48,50,56,60,37,43,43,44,43,45,56,57,45,36,57,47,49,51,44,38,57,48,44,51,44,35,60,58,42,39,36,41,41,36,46,39,57,55,51,56,57,36,41,38,37,35,45,58,56,56,51,42,59,45,40,45,52,45,54,51,41,50,40,54,55,59,45,38,58,55,36,52,59,51,47,51,51,55,54,55,56,56,57,59,51,49,39,35,52,42,46,38,60,53,58,35,53,47,53,45,37,60,45,57,57,57,59,41,48,36,36,59,48,50,40,43,57,60,59,60,47,45,39,40,48,59,48,43,46,47,44,58,40,38,48,49,38,58,44,59,48,41,52,48,41,37,35,41,50,35,37,39,45,37,51,56,40,36,37,47,44,59,56,45,39,37,37,54,51,54,45,40,37,44,45,45,48,79,62,61,73,58,55,72,64,64,74,73,67,63,66,56,66,55,58,65,62,71,71,71,63,60,61,68,62,66,63,72,65,78,67,60,76,78,60,75,72,80,76,68,78,64,80,68,67,70,74,67,80,79,75,55,68,68,76,60,72,68,62,65,64,58,75,66,70,57,58,62,75,80,76,76,61,60,63,67,63,68,61,74,79,62,60,65,55,62,59,77,58,63,63,70,73,77,79,77,62,76,61,60,74,71,71,72,59,64,58,77,75,69,80,78,79,62,60,67,78,80,61,66,61,60,66,56,72,77,65,79,63,78,78,67,65,72,57,58,58,65,65,65,69,55,61,79,63,61,70,74,64,58,79,68,79,77,74,68,75,78,79,60,69,67,67,67,70,71,68,66,65,59,59,63,69,75,61,74,74,63,56,74,76,65,67,79,61,70,80,77,67,73,56,70,56,77,59,73,77,24,18,26,18,27,25,21,30,27,11,5,10,7,20,22,15,27,18,15,23,8,27,23,16,29,17,21,6,23,16,18,21,23,17,25,18,19,24,24,17,30,29,24,21,11,25,22,21,26,18,6,21,5,7,13,24,23,20,19,9,27,30,21,30,11,9,27,29,25,14,9,14,21,23,6,5,9,8,11,17,5,28,13,9,27,25,7,10,18,26,16,20,9,30,25,23,14,17,24,28,94,95,92,76,77,94,92,89,88,77,88,87,75,85,95,79,95,79,76,86,94,78,70,71,79,78,73,76,87,83,91,81,74,71,91,71,79,72,73,84,90,70,89,80,91,78,70,86,95,90,72,81,75,81,75,71,94,73,79,86,79,74,75,83,85,80,72,75,85,87,72,88,79,88,74,82,91,85,88,92,92,77,86,88,73,73,74,89,70,87,82,86,85,93,89,94,81,71,75,81,40,24,26,22,21,19,21,17,36,28,19,23,30,27,19,28,38,37,18,16,20,25,17,37,15,37,19,33,27,16,36,29,31,34,16,30,35,18,40,29,38,32,38,32,29,34,19,17,15,19,36,31,36,23,26,33,18,17,34,35,28,24,35,24,37,36,18,38,31,29,20,21,30,38,24,36,18,16,27,17,29,36,27,28,36,35,21,38,18,23,31,34,37,16,24,38,21,18,20,26,130,144,123,125,131,123,140,122,123,134,130,145,122,139,141,138,144,136,122,136,145,132,133,121,125,140,132,126,120,142,135,126,139,141,142,129,134,138,131,122,126,128,132,137,123,136,134,139,127,138,120,142,133,139,134,140,127,120,139,136,139,133,130,135,140,132,121,132,142,121,140,120,133,135,145,136,129,130,129,135,120,125,132,140,145,128,139,122,144,120,141,121,125,138,124,138,143,142,124,134,25,19,30,8,22,26,27,22,22,13,25,15,10,9,17,12,14,21,18,17,14,8,19,16,29,9,21,5,28,29,15,21,14,5,8,22,7,27,10,16,18,7,6,5,16,20,25,7,28,25,25,16,12,23,25,28,21,20,7,6,13,17,6,10,11,25,7,12,22,19,22,30,14,23,16,5,7,18,5,23,30,10,11,21,6,20,7,24,21,25,25,10,22,14,30,12,7,18,23,24,17,27,25,18,26,25,24,30,6,26,30,9,7,21,26,27,5,14,18,14,9,6,12,13,25,25,21,25,24,25,17,25,25,11,26,17,25,8,13,22,13,23,22,23,10,12,20,11,19,26,20,17,7,22,21,12,12,14,9,16,7,6,20,29,5,5,15,11,15,30,12,25,11,5,18,22,18,18,28,18,20,22,25,15,16,5,21,23,29,11,18,21,8,6,25,13,26,21,15,16,128,144,128,120,129,137,139,123,144,124,122,121,126,139,133,143,140,137,121,144,128,128,143,140,144,141,144,143,137,144,126,120,143,141,142,138,125,121,122,123,121,137,135,144,123,133,130,143,143,122,125,139,123,136,131,140,138,127,145,139,126,136,124,138,136,134,143,120,145,141,123,136,136,141,129,138,137,132,139,125,143,144,143,135,130,142,129,135,145,121,131,140,138,140,145,120,132,137,144,140,30,6,13,16,7,27,23,18,24,23,17,12,9,7,18,11,8,17,5,8,13,25,7,23,14,7,29,14,8,18,25,12,16,14,7,12,25,8,5,17,30,23,27,11,21,22,18,10,16,9,11,15,5,22,15,6,16,20,29,28,25,6,29,11,24,21,29,29,23,9,5,12,20,8,8,21,19,18,15,22,25,7,7,30,17,23,20,23,14,11,29,24,8,10,13,30,8,7,17,26,68,46,47,65,68,68,62,65,68,64,51,47,64,57,60,58,55,51,65,57,52,67,64,62,48,46,68,59,51,54,56,68,59,70,61,60,62,62,57,47,50,46,68,62,58,60,66,65,54,64,52,47,48,54,65,52,46,63,49,53,55,62,58,65,50,64,58,58,69,67,67,68,57,50,50,47,60,51,68,69,55,55,62,69,61,57,66,55,61,64,57,65,66,55,70,59,64,67,59,64,30,23,28,21,18,11,5,6,30,7,18,10,8,18,15,19,20,17,11,6,6,6,8,13,9,27,24,6,14,14,6,11,14,6,6,25,14,12,25,21,22,5,11,30,10,7,20,15,17,15,23,19,21,27,29,8,24,29,11,10,29,29,30,12,13,28,24,23,26,28,18,6,30,7,26,6,12,5,19,9,30,30,13,29,30,13,15,12,28,22,10,20,9,16,8,8,27,21,5,26,47,36,47,47,38,50,41,45,47,60,45,59,38,49,40,35,43,46,39,56,36,58,42,41,39,60,46,49,35,36,45,51,60,37,52,48,38,41,53,48,46,41,42,50,37,39,38,38,40,50,40,40,50,36,50,51,57,47,52,40,60,43,44,49,44,59,53,52,36,48,52,37,39,51,36,56,54,56,45,46,49,53,60,56,52,43,44,43,37,48,45,56,40,37,46,38,53,39,58,60,47,37,41,40,41,35,37,43,55,40,53,46,41,55,43,38,49,40,35,45,53,56,55,45,54,56,40,44,47,40,57,36,60,51,39,50,52,52,49,48,47,52,52,51,37,41,55,56,40,56,56,46,48,58,50,41,42,40,57,41,45,40,43,36,58,41,48,58,59,35,41,57,42,59,43,46,37,41,56,53,54,58,39,50,38,48,41,54,46,52,43,55,57,47,43,44,52,39,39,38,21,21,38,24,28,23,31,25,18,32,36,33,15,30,39,34,15,20,29,32,24,21,23,26,33,25,26,18,27,39,27,21,27,24,31,35,27,40,40,21,34,30,21,33,23,15,29,29,35,29,33,17,19,20,27,40,35,31,28,24,26,28,40,38,40,22,40,28,39,28,20,26,29,30,40,37,40,37,18,23,18,31,33,26,35,36,38,33,31,16,40,31,21,38,35,34,15,33,32,18],\"y0\":\" \",\"yaxis\":\"y\",\"type\":\"box\"}],                        {\"template\":{\"data\":{\"bar\":[{\"error_x\":{\"color\":\"#2a3f5f\"},\"error_y\":{\"color\":\"#2a3f5f\"},\"marker\":{\"line\":{\"color\":\"#E5ECF6\",\"width\":0.5},\"pattern\":{\"fillmode\":\"overlay\",\"size\":10,\"solidity\":0.2}},\"type\":\"bar\"}],\"barpolar\":[{\"marker\":{\"line\":{\"color\":\"#E5ECF6\",\"width\":0.5},\"pattern\":{\"fillmode\":\"overlay\",\"size\":10,\"solidity\":0.2}},\"type\":\"barpolar\"}],\"carpet\":[{\"aaxis\":{\"endlinecolor\":\"#2a3f5f\",\"gridcolor\":\"white\",\"linecolor\":\"white\",\"minorgridcolor\":\"white\",\"startlinecolor\":\"#2a3f5f\"},\"baxis\":{\"endlinecolor\":\"#2a3f5f\",\"gridcolor\":\"white\",\"linecolor\":\"white\",\"minorgridcolor\":\"white\",\"startlinecolor\":\"#2a3f5f\"},\"type\":\"carpet\"}],\"choropleth\":[{\"colorbar\":{\"outlinewidth\":0,\"ticks\":\"\"},\"type\":\"choropleth\"}],\"contour\":[{\"colorbar\":{\"outlinewidth\":0,\"ticks\":\"\"},\"colorscale\":[[0.0,\"#0d0887\"],[0.1111111111111111,\"#46039f\"],[0.2222222222222222,\"#7201a8\"],[0.3333333333333333,\"#9c179e\"],[0.4444444444444444,\"#bd3786\"],[0.5555555555555556,\"#d8576b\"],[0.6666666666666666,\"#ed7953\"],[0.7777777777777778,\"#fb9f3a\"],[0.8888888888888888,\"#fdca26\"],[1.0,\"#f0f921\"]],\"type\":\"contour\"}],\"contourcarpet\":[{\"colorbar\":{\"outlinewidth\":0,\"ticks\":\"\"},\"type\":\"contourcarpet\"}],\"heatmap\":[{\"colorbar\":{\"outlinewidth\":0,\"ticks\":\"\"},\"colorscale\":[[0.0,\"#0d0887\"],[0.1111111111111111,\"#46039f\"],[0.2222222222222222,\"#7201a8\"],[0.3333333333333333,\"#9c179e\"],[0.4444444444444444,\"#bd3786\"],[0.5555555555555556,\"#d8576b\"],[0.6666666666666666,\"#ed7953\"],[0.7777777777777778,\"#fb9f3a\"],[0.8888888888888888,\"#fdca26\"],[1.0,\"#f0f921\"]],\"type\":\"heatmap\"}],\"heatmapgl\":[{\"colorbar\":{\"outlinewidth\":0,\"ticks\":\"\"},\"colorscale\":[[0.0,\"#0d0887\"],[0.1111111111111111,\"#46039f\"],[0.2222222222222222,\"#7201a8\"],[0.3333333333333333,\"#9c179e\"],[0.4444444444444444,\"#bd3786\"],[0.5555555555555556,\"#d8576b\"],[0.6666666666666666,\"#ed7953\"],[0.7777777777777778,\"#fb9f3a\"],[0.8888888888888888,\"#fdca26\"],[1.0,\"#f0f921\"]],\"type\":\"heatmapgl\"}],\"histogram\":[{\"marker\":{\"pattern\":{\"fillmode\":\"overlay\",\"size\":10,\"solidity\":0.2}},\"type\":\"histogram\"}],\"histogram2d\":[{\"colorbar\":{\"outlinewidth\":0,\"ticks\":\"\"},\"colorscale\":[[0.0,\"#0d0887\"],[0.1111111111111111,\"#46039f\"],[0.2222222222222222,\"#7201a8\"],[0.3333333333333333,\"#9c179e\"],[0.4444444444444444,\"#bd3786\"],[0.5555555555555556,\"#d8576b\"],[0.6666666666666666,\"#ed7953\"],[0.7777777777777778,\"#fb9f3a\"],[0.8888888888888888,\"#fdca26\"],[1.0,\"#f0f921\"]],\"type\":\"histogram2d\"}],\"histogram2dcontour\":[{\"colorbar\":{\"outlinewidth\":0,\"ticks\":\"\"},\"colorscale\":[[0.0,\"#0d0887\"],[0.1111111111111111,\"#46039f\"],[0.2222222222222222,\"#7201a8\"],[0.3333333333333333,\"#9c179e\"],[0.4444444444444444,\"#bd3786\"],[0.5555555555555556,\"#d8576b\"],[0.6666666666666666,\"#ed7953\"],[0.7777777777777778,\"#fb9f3a\"],[0.8888888888888888,\"#fdca26\"],[1.0,\"#f0f921\"]],\"type\":\"histogram2dcontour\"}],\"mesh3d\":[{\"colorbar\":{\"outlinewidth\":0,\"ticks\":\"\"},\"type\":\"mesh3d\"}],\"parcoords\":[{\"line\":{\"colorbar\":{\"outlinewidth\":0,\"ticks\":\"\"}},\"type\":\"parcoords\"}],\"pie\":[{\"automargin\":true,\"type\":\"pie\"}],\"scatter\":[{\"marker\":{\"colorbar\":{\"outlinewidth\":0,\"ticks\":\"\"}},\"type\":\"scatter\"}],\"scatter3d\":[{\"line\":{\"colorbar\":{\"outlinewidth\":0,\"ticks\":\"\"}},\"marker\":{\"colorbar\":{\"outlinewidth\":0,\"ticks\":\"\"}},\"type\":\"scatter3d\"}],\"scattercarpet\":[{\"marker\":{\"colorbar\":{\"outlinewidth\":0,\"ticks\":\"\"}},\"type\":\"scattercarpet\"}],\"scattergeo\":[{\"marker\":{\"colorbar\":{\"outlinewidth\":0,\"ticks\":\"\"}},\"type\":\"scattergeo\"}],\"scattergl\":[{\"marker\":{\"colorbar\":{\"outlinewidth\":0,\"ticks\":\"\"}},\"type\":\"scattergl\"}],\"scattermapbox\":[{\"marker\":{\"colorbar\":{\"outlinewidth\":0,\"ticks\":\"\"}},\"type\":\"scattermapbox\"}],\"scatterpolar\":[{\"marker\":{\"colorbar\":{\"outlinewidth\":0,\"ticks\":\"\"}},\"type\":\"scatterpolar\"}],\"scatterpolargl\":[{\"marker\":{\"colorbar\":{\"outlinewidth\":0,\"ticks\":\"\"}},\"type\":\"scatterpolargl\"}],\"scatterternary\":[{\"marker\":{\"colorbar\":{\"outlinewidth\":0,\"ticks\":\"\"}},\"type\":\"scatterternary\"}],\"surface\":[{\"colorbar\":{\"outlinewidth\":0,\"ticks\":\"\"},\"colorscale\":[[0.0,\"#0d0887\"],[0.1111111111111111,\"#46039f\"],[0.2222222222222222,\"#7201a8\"],[0.3333333333333333,\"#9c179e\"],[0.4444444444444444,\"#bd3786\"],[0.5555555555555556,\"#d8576b\"],[0.6666666666666666,\"#ed7953\"],[0.7777777777777778,\"#fb9f3a\"],[0.8888888888888888,\"#fdca26\"],[1.0,\"#f0f921\"]],\"type\":\"surface\"}],\"table\":[{\"cells\":{\"fill\":{\"color\":\"#EBF0F8\"},\"line\":{\"color\":\"white\"}},\"header\":{\"fill\":{\"color\":\"#C8D4E3\"},\"line\":{\"color\":\"white\"}},\"type\":\"table\"}]},\"layout\":{\"annotationdefaults\":{\"arrowcolor\":\"#2a3f5f\",\"arrowhead\":0,\"arrowwidth\":1},\"autotypenumbers\":\"strict\",\"coloraxis\":{\"colorbar\":{\"outlinewidth\":0,\"ticks\":\"\"}},\"colorscale\":{\"diverging\":[[0,\"#8e0152\"],[0.1,\"#c51b7d\"],[0.2,\"#de77ae\"],[0.3,\"#f1b6da\"],[0.4,\"#fde0ef\"],[0.5,\"#f7f7f7\"],[0.6,\"#e6f5d0\"],[0.7,\"#b8e186\"],[0.8,\"#7fbc41\"],[0.9,\"#4d9221\"],[1,\"#276419\"]],\"sequential\":[[0.0,\"#0d0887\"],[0.1111111111111111,\"#46039f\"],[0.2222222222222222,\"#7201a8\"],[0.3333333333333333,\"#9c179e\"],[0.4444444444444444,\"#bd3786\"],[0.5555555555555556,\"#d8576b\"],[0.6666666666666666,\"#ed7953\"],[0.7777777777777778,\"#fb9f3a\"],[0.8888888888888888,\"#fdca26\"],[1.0,\"#f0f921\"]],\"sequentialminus\":[[0.0,\"#0d0887\"],[0.1111111111111111,\"#46039f\"],[0.2222222222222222,\"#7201a8\"],[0.3333333333333333,\"#9c179e\"],[0.4444444444444444,\"#bd3786\"],[0.5555555555555556,\"#d8576b\"],[0.6666666666666666,\"#ed7953\"],[0.7777777777777778,\"#fb9f3a\"],[0.8888888888888888,\"#fdca26\"],[1.0,\"#f0f921\"]]},\"colorway\":[\"#636efa\",\"#EF553B\",\"#00cc96\",\"#ab63fa\",\"#FFA15A\",\"#19d3f3\",\"#FF6692\",\"#B6E880\",\"#FF97FF\",\"#FECB52\"],\"font\":{\"color\":\"#2a3f5f\"},\"geo\":{\"bgcolor\":\"white\",\"lakecolor\":\"white\",\"landcolor\":\"#E5ECF6\",\"showlakes\":true,\"showland\":true,\"subunitcolor\":\"white\"},\"hoverlabel\":{\"align\":\"left\"},\"hovermode\":\"closest\",\"mapbox\":{\"style\":\"light\"},\"paper_bgcolor\":\"white\",\"plot_bgcolor\":\"#E5ECF6\",\"polar\":{\"angularaxis\":{\"gridcolor\":\"white\",\"linecolor\":\"white\",\"ticks\":\"\"},\"bgcolor\":\"#E5ECF6\",\"radialaxis\":{\"gridcolor\":\"white\",\"linecolor\":\"white\",\"ticks\":\"\"}},\"scene\":{\"xaxis\":{\"backgroundcolor\":\"#E5ECF6\",\"gridcolor\":\"white\",\"gridwidth\":2,\"linecolor\":\"white\",\"showbackground\":true,\"ticks\":\"\",\"zerolinecolor\":\"white\"},\"yaxis\":{\"backgroundcolor\":\"#E5ECF6\",\"gridcolor\":\"white\",\"gridwidth\":2,\"linecolor\":\"white\",\"showbackground\":true,\"ticks\":\"\",\"zerolinecolor\":\"white\"},\"zaxis\":{\"backgroundcolor\":\"#E5ECF6\",\"gridcolor\":\"white\",\"gridwidth\":2,\"linecolor\":\"white\",\"showbackground\":true,\"ticks\":\"\",\"zerolinecolor\":\"white\"}},\"shapedefaults\":{\"line\":{\"color\":\"#2a3f5f\"}},\"ternary\":{\"aaxis\":{\"gridcolor\":\"white\",\"linecolor\":\"white\",\"ticks\":\"\"},\"baxis\":{\"gridcolor\":\"white\",\"linecolor\":\"white\",\"ticks\":\"\"},\"bgcolor\":\"#E5ECF6\",\"caxis\":{\"gridcolor\":\"white\",\"linecolor\":\"white\",\"ticks\":\"\"}},\"title\":{\"x\":0.05},\"xaxis\":{\"automargin\":true,\"gridcolor\":\"white\",\"linecolor\":\"white\",\"ticks\":\"\",\"title\":{\"standoff\":15},\"zerolinecolor\":\"white\",\"zerolinewidth\":2},\"yaxis\":{\"automargin\":true,\"gridcolor\":\"white\",\"linecolor\":\"white\",\"ticks\":\"\",\"title\":{\"standoff\":15},\"zerolinecolor\":\"white\",\"zerolinewidth\":2}}},\"xaxis\":{\"anchor\":\"y\",\"domain\":[0.0,1.0]},\"yaxis\":{\"anchor\":\"x\",\"domain\":[0.0,1.0],\"title\":{\"text\":\"P\"}},\"legend\":{\"tracegroupgap\":0},\"margin\":{\"t\":60},\"boxmode\":\"group\"},                        {\"responsive\": true}                    ).then(function(){\n",
              "                            \n",
              "var gd = document.getElementById('31859338-9bd8-4f18-a0f5-c20f8b53134a');\n",
              "var x = new MutationObserver(function (mutations, observer) {{\n",
              "        var display = window.getComputedStyle(gd).display;\n",
              "        if (!display || display === 'none') {{\n",
              "            console.log([gd, 'removed!']);\n",
              "            Plotly.purge(gd);\n",
              "            observer.disconnect();\n",
              "        }}\n",
              "}});\n",
              "\n",
              "// Listen for the removal of the full notebook cells\n",
              "var notebookContainer = gd.closest('#notebook-container');\n",
              "if (notebookContainer) {{\n",
              "    x.observe(notebookContainer, {childList: true});\n",
              "}}\n",
              "\n",
              "// Listen for the clearing of the current output cell\n",
              "var outputEl = gd.closest('.output');\n",
              "if (outputEl) {{\n",
              "    x.observe(outputEl, {childList: true});\n",
              "}}\n",
              "\n",
              "                        })                };                            </script>        </div>\n",
              "</body>\n",
              "</html>"
            ]
          },
          "metadata": {}
        }
      ]
    },
    {
      "cell_type": "code",
      "source": [
        "fig = px.box(data, y=\"K\",points=\"all\")\n",
        "fig.show()"
      ],
      "metadata": {
        "colab": {
          "base_uri": "https://localhost:8080/",
          "height": 542
        },
        "id": "o0KviOrnh9Fj",
        "outputId": "5f771be6-4ddb-4d0a-a372-38fddb280506"
      },
      "execution_count": null,
      "outputs": [
        {
          "output_type": "display_data",
          "data": {
            "text/html": [
              "<html>\n",
              "<head><meta charset=\"utf-8\" /></head>\n",
              "<body>\n",
              "    <div>            <script src=\"https://cdnjs.cloudflare.com/ajax/libs/mathjax/2.7.5/MathJax.js?config=TeX-AMS-MML_SVG\"></script><script type=\"text/javascript\">if (window.MathJax) {MathJax.Hub.Config({SVG: {font: \"STIX-Web\"}});}</script>                <script type=\"text/javascript\">window.PlotlyConfig = {MathJaxConfig: 'local'};</script>\n",
              "        <script src=\"https://cdn.plot.ly/plotly-2.8.3.min.js\"></script>                <div id=\"8181fb0e-7213-4ba1-98de-9cb40b11e61d\" class=\"plotly-graph-div\" style=\"height:525px; width:100%;\"></div>            <script type=\"text/javascript\">                                    window.PLOTLYENV=window.PLOTLYENV || {};                                    if (document.getElementById(\"8181fb0e-7213-4ba1-98de-9cb40b11e61d\")) {                    Plotly.newPlot(                        \"8181fb0e-7213-4ba1-98de-9cb40b11e61d\",                        [{\"alignmentgroup\":\"True\",\"boxpoints\":\"all\",\"hovertemplate\":\"K=%{y}<extra></extra>\",\"legendgroup\":\"\",\"marker\":{\"color\":\"#636efa\"},\"name\":\"\",\"notched\":false,\"offsetgroup\":\"\",\"orientation\":\"v\",\"showlegend\":false,\"x0\":\" \",\"xaxis\":\"x\",\"y\":[43,41,44,40,42,42,38,40,38,38,40,42,44,36,37,39,41,39,36,40,36,43,41,43,37,41,43,41,44,35,41,40,39,38,44,42,35,36,44,41,36,43,36,40,45,38,42,38,39,45,43,39,42,43,36,39,38,45,40,35,38,45,38,42,42,36,37,35,41,37,41,38,37,42,36,45,44,38,37,38,43,35,43,39,39,38,38,44,42,40,38,38,35,38,36,42,37,45,44,40,16,17,16,21,20,16,17,19,17,25,19,21,16,16,21,22,17,17,19,19,21,15,22,21,16,16,18,15,22,20,25,19,25,23,22,21,18,21,18,18,17,23,17,17,23,22,15,18,23,17,20,23,23,17,17,22,21,19,20,16,20,25,24,24,18,18,23,21,24,22,18,20,16,19,24,17,23,20,21,21,25,19,24,18,17,15,22,22,15,23,17,15,18,25,22,24,22,19,23,19,77,84,85,85,77,81,84,84,75,81,79,79,81,85,77,84,76,84,76,77,83,77,76,83,83,78,80,84,85,81,82,85,83,76,75,81,77,78,77,77,76,79,75,81,81,78,79,83,84,78,79,85,78,75,78,78,85,76,80,77,85,75,85,82,79,75,78,82,85,80,83,79,79,79,75,82,85,82,84,77,80,78,83,77,78,79,81,82,76,85,78,77,76,76,82,78,78,83,75,82,25,16,22,16,20,22,21,18,17,22,24,19,17,22,23,25,17,15,23,20,16,25,19,22,17,20,17,22,22,21,23,18,20,17,23,22,19,22,20,23,17,15,23,18,22,24,15,21,23,19,20,24,23,25,19,17,25,18,17,20,24,22,24,15,24,17,15,16,15,25,25,15,21,20,19,21,22,18,20,16,15,22,22,15,23,19,17,19,22,20,22,20,23,15,18,18,16,25,19,24,24,23,23,24,18,25,20,19,20,21,24,17,17,20,17,19,16,16,24,20,19,25,19,21,24,21,21,21,17,19,19,21,18,23,21,18,22,16,19,15,15,18,18,17,19,25,20,22,23,25,23,20,18,18,24,17,20,23,22,20,24,23,25,24,21,18,25,21,16,23,19,19,20,21,24,15,23,21,15,18,20,24,20,19,16,23,21,20,24,22,16,19,19,17,18,17,22,22,18,24,18,23,25,18,16,22,15,20,24,24,17,25,23,22,21,20,23,25,22,25,17,22,19,15,19,20,18,21,24,24,24,22,15,23,16,19,22,20,20,16,24,21,20,20,18,20,18,24,18,23,21,22,21,22,16,15,22,15,20,25,24,17,17,17,16,19,18,24,20,20,19,23,17,25,20,20,19,17,23,23,16,24,25,21,22,23,15,22,25,18,19,17,18,23,15,22,16,17,17,21,20,20,20,16,17,24,23,25,18,20,22,17,23,16,21,25,22,15,24,17,20,16,23,21,15,21,25,17,22,25,18,24,25,22,22,21,21,15,22,15,23,15,25,15,22,15,24,15,25,24,21,24,19,18,20,21,18,20,25,15,15,16,23,22,17,19,17,20,25,20,20,23,21,15,22,21,20,17,20,22,21,17,18,17,19,21,18,17,15,19,17,15,20,16,21,22,19,17,23,21,15,21,22,25,18,16,21,20,21,17,24,25,19,22,18,15,19,23,25,18,15,24,16,18,25,21,22,15,17,22,19,21,21,17,21,17,19,17,15,15,19,18,19,21,25,19,23,16,15,15,16,22,19,21,20,17,20,22,16,17,19,15,23,15,16,25,19,16,19,25,17,22,20,16,15,20,15,15,21,16,17,15,18,17,24,17,20,25,24,22,21,17,17,18,15,16,22,23,21,25,15,22,20,17,16,18,18,21,20,17,20,22,23,24,15,17,22,24,22,18,16,24,20,21,21,22,18,15,20,24,22,16,23,18,25,23,15,21,15,25,19,19,19,19,16,17,15,17,15,16,25,23,23,22,18,20,22,17,24,17,22,19,18,16,21,23,20,21,19,16,22,16,22,19,17,21,17,18,17,22,24,17,15,20,16,21,16,22,19,19,20,22,25,18,15,22,17,19,15,15,38,37,36,39,38,38,38,40,41,38,36,41,37,41,40,42,41,42,38,44,40,45,44,39,40,42,44,40,44,36,43,42,42,40,36,42,42,41,40,39,38,44,43,35,36,41,43,38,38,37,41,45,44,43,37,41,35,39,43,45,36,44,42,37,44,40,44,42,40,37,36,37,35,38,41,36,44,43,45,45,42,38,42,40,41,36,45,45,43,39,36,38,41,35,35,45,41,45,39,37,46,50,53,54,49,53,55,53,55,52,52,54,50,53,49,55,47,45,45,48,53,50,48,47,51,45,48,47,48,47,47,52,45,48,51,47,49,55,53,52,47,48,53,52,53,46,55,52,50,48,45,55,50,50,45,55,47,54,45,53,53,50,55,46,51,54,51,45,49,52,46,54,50,55,45,48,55,55,51,45,47,46,55,52,46,52,52,48,46,48,45,51,45,46,51,47,52,54,55,53,27,31,27,25,32,35,34,31,33,30,27,27,34,30,31,33,32,30,30,35,25,33,31,28,30,30,31,29,28,25,31,34,26,28,31,29,31,26,26,34,33,32,31,33,26,35,32,26,27,25,26,32,27,30,26,35,30,26,32,28,26,32,34,34,25,27,31,32,34,32,26,32,27,25,34,29,35,35,34,30,29,31,26,35,26,31,30,31,31,28,27,26,33,27,25,26,30,33,30,31,195,204,205,196,196,198,197,195,203,204,197,205,201,203,204,195,202,205,197,204,201,197,198,201,199,205,203,197,200,197,203,203,198,202,196,201,199,204,198,204,201,204,197,195,200,197,200,201,196,203,204,203,195,199,202,195,202,195,201,195,203,201,196,205,195,196,199,202,203,199,205,196,202,199,199,201,195,201,203,203,205,204,200,203,202,200,199,196,197,197,198,203,204,197,204,200,201,202,195,204,51,55,50,50,52,55,45,53,45,54,53,47,47,50,46,51,52,55,50,51,50,52,49,55,52,45,50,54,54,51,45,48,45,47,51,46,55,48,53,46,52,53,53,52,49,48,47,51,54,52,50,45,46,49,51,46,51,45,52,55,54,55,53,49,46,52,47,46,52,46,50,50,52,47,45,47,45,50,55,51,50,53,51,55,45,55,48,55,54,51,54,53,54,50,49,47,45,50,55,47,55,48,52,52,45,49,53,51,52,52,48,52,45,55,45,55,55,51,48,48,53,53,46,47,50,53,52,55,54,50,48,54,51,54,52,52,46,46,46,47,52,55,47,45,49,52,51,53,55,49,48,47,45,48,47,48,47,49,47,46,45,45,50,49,47,52,54,47,48,52,52,50,45,55,46,54,52,45,48,53,54,47,54,49,51,50,47,54,55,47,51,52,52,46,50,55,47,52,52,54,196,197,205,201,201,204,205,205,196,199,197,196,204,199,200,199,198,199,203,195,205,198,196,198,204,203,197,198,200,198,196,203,197,201,202,195,204,196,202,202,201,196,198,205,205,199,198,200,204,202,196,202,198,200,199,197,201,204,203,205,195,202,200,200,196,205,197,200,205,197,204,195,204,195,201,197,200,204,197,203,204,196,197,203,196,203,205,203,205,201,203,195,198,197,195,197,198,196,196,197,12,13,6,9,9,10,15,14,14,6,15,8,12,10,6,8,7,5,8,9,6,14,10,5,8,15,12,5,15,14,14,15,6,8,8,7,6,11,5,6,10,15,9,13,8,6,13,10,8,11,5,9,11,9,7,7,14,10,8,10,12,8,13,11,15,9,13,13,12,15,14,8,10,5,12,11,14,12,6,5,9,9,9,11,10,8,12,11,11,10,10,13,10,14,9,5,12,7,15,9,50,45,55,53,45,45,50,47,54,47,47,53,54,48,54,49,53,52,47,51,53,45,52,55,45,52,52,46,51,46,49,51,47,52,49,55,52,51,53,48,48,53,55,52,51,47,47,48,46,52,47,46,48,50,49,49,52,50,47,48,51,49,47,52,52,47,50,49,47,52,52,49,47,52,53,45,47,53,45,52,52,51,47,53,45,54,49,55,52,55,55,45,52,47,54,55,47,49,55,53,29,28,33,35,35,32,31,27,29,35,26,33,32,30,34,33,26,32,29,26,30,32,26,33,28,26,33,25,30,35,29,31,30,33,33,35,33,30,31,35,29,29,32,35,30,29,35,32,29,34,25,29,35,34,29,28,27,32,31,32,27,35,27,30,29,32,29,30,26,26,27,35,31,34,31,25,26,32,31,32,34,30,33,26,30,25,33,35,30,29,33,31,35,27,30,33,32,26,34,29,24,20,18,23,23,19,20,22,16,22,25,18,15,21,25,18,16,18,24,15,24,18,24,22,21,23,19,22,15,19,23,22,17,20,16,16,25,18,19,16,17,22,17,25,18,25,19,24,17,15,17,20,16,21,19,20,19,20,19,23,17,18,21,25,15,19,24,18,18,17,19,25,22,15,24,18,15,15,15,25,24,19,17,17,19,16,23,25,21,16,16,20,17,18,20,20,21,18,15,15,38,39,45,39,40,36,43,40,44,40,44,45,38,40,38,35,38,39,44,37,38,36,38,42,45,39,45,45,40,45,35,38,38,40,45,43,41,42,37,45,36,39,45,44,41,35,36,35,42,40,44,42,36,41,40,40,43,43,43,44,43,43,35,44,35,37,36,35,41,35,35,38,43,35,42,44,42,36,37,38,39,37,43,44,36,38,36,35,41,43,43,43,41,35,38,43,39,37,43,43,26,26,35,31,34,25,27,34,32,34,28,25,27,31,29,30,28,26,28,26,28,28,28,30,31,26,27,27,31,35,27,34,31,33,35,35,29,33,30,33,25,25,27,34,28,29,30,27,32,35,25,28,33,34,28,35,25,30,30,26,27,35,35,29,30,26,32,33,29,26,26,30,31,28,33,35,33,32,35,25,31,26,33,27,28,25,29,33,31,30,30,34,35,34,26,32,27,30,34,30],\"y0\":\" \",\"yaxis\":\"y\",\"type\":\"box\"}],                        {\"template\":{\"data\":{\"bar\":[{\"error_x\":{\"color\":\"#2a3f5f\"},\"error_y\":{\"color\":\"#2a3f5f\"},\"marker\":{\"line\":{\"color\":\"#E5ECF6\",\"width\":0.5},\"pattern\":{\"fillmode\":\"overlay\",\"size\":10,\"solidity\":0.2}},\"type\":\"bar\"}],\"barpolar\":[{\"marker\":{\"line\":{\"color\":\"#E5ECF6\",\"width\":0.5},\"pattern\":{\"fillmode\":\"overlay\",\"size\":10,\"solidity\":0.2}},\"type\":\"barpolar\"}],\"carpet\":[{\"aaxis\":{\"endlinecolor\":\"#2a3f5f\",\"gridcolor\":\"white\",\"linecolor\":\"white\",\"minorgridcolor\":\"white\",\"startlinecolor\":\"#2a3f5f\"},\"baxis\":{\"endlinecolor\":\"#2a3f5f\",\"gridcolor\":\"white\",\"linecolor\":\"white\",\"minorgridcolor\":\"white\",\"startlinecolor\":\"#2a3f5f\"},\"type\":\"carpet\"}],\"choropleth\":[{\"colorbar\":{\"outlinewidth\":0,\"ticks\":\"\"},\"type\":\"choropleth\"}],\"contour\":[{\"colorbar\":{\"outlinewidth\":0,\"ticks\":\"\"},\"colorscale\":[[0.0,\"#0d0887\"],[0.1111111111111111,\"#46039f\"],[0.2222222222222222,\"#7201a8\"],[0.3333333333333333,\"#9c179e\"],[0.4444444444444444,\"#bd3786\"],[0.5555555555555556,\"#d8576b\"],[0.6666666666666666,\"#ed7953\"],[0.7777777777777778,\"#fb9f3a\"],[0.8888888888888888,\"#fdca26\"],[1.0,\"#f0f921\"]],\"type\":\"contour\"}],\"contourcarpet\":[{\"colorbar\":{\"outlinewidth\":0,\"ticks\":\"\"},\"type\":\"contourcarpet\"}],\"heatmap\":[{\"colorbar\":{\"outlinewidth\":0,\"ticks\":\"\"},\"colorscale\":[[0.0,\"#0d0887\"],[0.1111111111111111,\"#46039f\"],[0.2222222222222222,\"#7201a8\"],[0.3333333333333333,\"#9c179e\"],[0.4444444444444444,\"#bd3786\"],[0.5555555555555556,\"#d8576b\"],[0.6666666666666666,\"#ed7953\"],[0.7777777777777778,\"#fb9f3a\"],[0.8888888888888888,\"#fdca26\"],[1.0,\"#f0f921\"]],\"type\":\"heatmap\"}],\"heatmapgl\":[{\"colorbar\":{\"outlinewidth\":0,\"ticks\":\"\"},\"colorscale\":[[0.0,\"#0d0887\"],[0.1111111111111111,\"#46039f\"],[0.2222222222222222,\"#7201a8\"],[0.3333333333333333,\"#9c179e\"],[0.4444444444444444,\"#bd3786\"],[0.5555555555555556,\"#d8576b\"],[0.6666666666666666,\"#ed7953\"],[0.7777777777777778,\"#fb9f3a\"],[0.8888888888888888,\"#fdca26\"],[1.0,\"#f0f921\"]],\"type\":\"heatmapgl\"}],\"histogram\":[{\"marker\":{\"pattern\":{\"fillmode\":\"overlay\",\"size\":10,\"solidity\":0.2}},\"type\":\"histogram\"}],\"histogram2d\":[{\"colorbar\":{\"outlinewidth\":0,\"ticks\":\"\"},\"colorscale\":[[0.0,\"#0d0887\"],[0.1111111111111111,\"#46039f\"],[0.2222222222222222,\"#7201a8\"],[0.3333333333333333,\"#9c179e\"],[0.4444444444444444,\"#bd3786\"],[0.5555555555555556,\"#d8576b\"],[0.6666666666666666,\"#ed7953\"],[0.7777777777777778,\"#fb9f3a\"],[0.8888888888888888,\"#fdca26\"],[1.0,\"#f0f921\"]],\"type\":\"histogram2d\"}],\"histogram2dcontour\":[{\"colorbar\":{\"outlinewidth\":0,\"ticks\":\"\"},\"colorscale\":[[0.0,\"#0d0887\"],[0.1111111111111111,\"#46039f\"],[0.2222222222222222,\"#7201a8\"],[0.3333333333333333,\"#9c179e\"],[0.4444444444444444,\"#bd3786\"],[0.5555555555555556,\"#d8576b\"],[0.6666666666666666,\"#ed7953\"],[0.7777777777777778,\"#fb9f3a\"],[0.8888888888888888,\"#fdca26\"],[1.0,\"#f0f921\"]],\"type\":\"histogram2dcontour\"}],\"mesh3d\":[{\"colorbar\":{\"outlinewidth\":0,\"ticks\":\"\"},\"type\":\"mesh3d\"}],\"parcoords\":[{\"line\":{\"colorbar\":{\"outlinewidth\":0,\"ticks\":\"\"}},\"type\":\"parcoords\"}],\"pie\":[{\"automargin\":true,\"type\":\"pie\"}],\"scatter\":[{\"marker\":{\"colorbar\":{\"outlinewidth\":0,\"ticks\":\"\"}},\"type\":\"scatter\"}],\"scatter3d\":[{\"line\":{\"colorbar\":{\"outlinewidth\":0,\"ticks\":\"\"}},\"marker\":{\"colorbar\":{\"outlinewidth\":0,\"ticks\":\"\"}},\"type\":\"scatter3d\"}],\"scattercarpet\":[{\"marker\":{\"colorbar\":{\"outlinewidth\":0,\"ticks\":\"\"}},\"type\":\"scattercarpet\"}],\"scattergeo\":[{\"marker\":{\"colorbar\":{\"outlinewidth\":0,\"ticks\":\"\"}},\"type\":\"scattergeo\"}],\"scattergl\":[{\"marker\":{\"colorbar\":{\"outlinewidth\":0,\"ticks\":\"\"}},\"type\":\"scattergl\"}],\"scattermapbox\":[{\"marker\":{\"colorbar\":{\"outlinewidth\":0,\"ticks\":\"\"}},\"type\":\"scattermapbox\"}],\"scatterpolar\":[{\"marker\":{\"colorbar\":{\"outlinewidth\":0,\"ticks\":\"\"}},\"type\":\"scatterpolar\"}],\"scatterpolargl\":[{\"marker\":{\"colorbar\":{\"outlinewidth\":0,\"ticks\":\"\"}},\"type\":\"scatterpolargl\"}],\"scatterternary\":[{\"marker\":{\"colorbar\":{\"outlinewidth\":0,\"ticks\":\"\"}},\"type\":\"scatterternary\"}],\"surface\":[{\"colorbar\":{\"outlinewidth\":0,\"ticks\":\"\"},\"colorscale\":[[0.0,\"#0d0887\"],[0.1111111111111111,\"#46039f\"],[0.2222222222222222,\"#7201a8\"],[0.3333333333333333,\"#9c179e\"],[0.4444444444444444,\"#bd3786\"],[0.5555555555555556,\"#d8576b\"],[0.6666666666666666,\"#ed7953\"],[0.7777777777777778,\"#fb9f3a\"],[0.8888888888888888,\"#fdca26\"],[1.0,\"#f0f921\"]],\"type\":\"surface\"}],\"table\":[{\"cells\":{\"fill\":{\"color\":\"#EBF0F8\"},\"line\":{\"color\":\"white\"}},\"header\":{\"fill\":{\"color\":\"#C8D4E3\"},\"line\":{\"color\":\"white\"}},\"type\":\"table\"}]},\"layout\":{\"annotationdefaults\":{\"arrowcolor\":\"#2a3f5f\",\"arrowhead\":0,\"arrowwidth\":1},\"autotypenumbers\":\"strict\",\"coloraxis\":{\"colorbar\":{\"outlinewidth\":0,\"ticks\":\"\"}},\"colorscale\":{\"diverging\":[[0,\"#8e0152\"],[0.1,\"#c51b7d\"],[0.2,\"#de77ae\"],[0.3,\"#f1b6da\"],[0.4,\"#fde0ef\"],[0.5,\"#f7f7f7\"],[0.6,\"#e6f5d0\"],[0.7,\"#b8e186\"],[0.8,\"#7fbc41\"],[0.9,\"#4d9221\"],[1,\"#276419\"]],\"sequential\":[[0.0,\"#0d0887\"],[0.1111111111111111,\"#46039f\"],[0.2222222222222222,\"#7201a8\"],[0.3333333333333333,\"#9c179e\"],[0.4444444444444444,\"#bd3786\"],[0.5555555555555556,\"#d8576b\"],[0.6666666666666666,\"#ed7953\"],[0.7777777777777778,\"#fb9f3a\"],[0.8888888888888888,\"#fdca26\"],[1.0,\"#f0f921\"]],\"sequentialminus\":[[0.0,\"#0d0887\"],[0.1111111111111111,\"#46039f\"],[0.2222222222222222,\"#7201a8\"],[0.3333333333333333,\"#9c179e\"],[0.4444444444444444,\"#bd3786\"],[0.5555555555555556,\"#d8576b\"],[0.6666666666666666,\"#ed7953\"],[0.7777777777777778,\"#fb9f3a\"],[0.8888888888888888,\"#fdca26\"],[1.0,\"#f0f921\"]]},\"colorway\":[\"#636efa\",\"#EF553B\",\"#00cc96\",\"#ab63fa\",\"#FFA15A\",\"#19d3f3\",\"#FF6692\",\"#B6E880\",\"#FF97FF\",\"#FECB52\"],\"font\":{\"color\":\"#2a3f5f\"},\"geo\":{\"bgcolor\":\"white\",\"lakecolor\":\"white\",\"landcolor\":\"#E5ECF6\",\"showlakes\":true,\"showland\":true,\"subunitcolor\":\"white\"},\"hoverlabel\":{\"align\":\"left\"},\"hovermode\":\"closest\",\"mapbox\":{\"style\":\"light\"},\"paper_bgcolor\":\"white\",\"plot_bgcolor\":\"#E5ECF6\",\"polar\":{\"angularaxis\":{\"gridcolor\":\"white\",\"linecolor\":\"white\",\"ticks\":\"\"},\"bgcolor\":\"#E5ECF6\",\"radialaxis\":{\"gridcolor\":\"white\",\"linecolor\":\"white\",\"ticks\":\"\"}},\"scene\":{\"xaxis\":{\"backgroundcolor\":\"#E5ECF6\",\"gridcolor\":\"white\",\"gridwidth\":2,\"linecolor\":\"white\",\"showbackground\":true,\"ticks\":\"\",\"zerolinecolor\":\"white\"},\"yaxis\":{\"backgroundcolor\":\"#E5ECF6\",\"gridcolor\":\"white\",\"gridwidth\":2,\"linecolor\":\"white\",\"showbackground\":true,\"ticks\":\"\",\"zerolinecolor\":\"white\"},\"zaxis\":{\"backgroundcolor\":\"#E5ECF6\",\"gridcolor\":\"white\",\"gridwidth\":2,\"linecolor\":\"white\",\"showbackground\":true,\"ticks\":\"\",\"zerolinecolor\":\"white\"}},\"shapedefaults\":{\"line\":{\"color\":\"#2a3f5f\"}},\"ternary\":{\"aaxis\":{\"gridcolor\":\"white\",\"linecolor\":\"white\",\"ticks\":\"\"},\"baxis\":{\"gridcolor\":\"white\",\"linecolor\":\"white\",\"ticks\":\"\"},\"bgcolor\":\"#E5ECF6\",\"caxis\":{\"gridcolor\":\"white\",\"linecolor\":\"white\",\"ticks\":\"\"}},\"title\":{\"x\":0.05},\"xaxis\":{\"automargin\":true,\"gridcolor\":\"white\",\"linecolor\":\"white\",\"ticks\":\"\",\"title\":{\"standoff\":15},\"zerolinecolor\":\"white\",\"zerolinewidth\":2},\"yaxis\":{\"automargin\":true,\"gridcolor\":\"white\",\"linecolor\":\"white\",\"ticks\":\"\",\"title\":{\"standoff\":15},\"zerolinecolor\":\"white\",\"zerolinewidth\":2}}},\"xaxis\":{\"anchor\":\"y\",\"domain\":[0.0,1.0]},\"yaxis\":{\"anchor\":\"x\",\"domain\":[0.0,1.0],\"title\":{\"text\":\"K\"}},\"legend\":{\"tracegroupgap\":0},\"margin\":{\"t\":60},\"boxmode\":\"group\"},                        {\"responsive\": true}                    ).then(function(){\n",
              "                            \n",
              "var gd = document.getElementById('8181fb0e-7213-4ba1-98de-9cb40b11e61d');\n",
              "var x = new MutationObserver(function (mutations, observer) {{\n",
              "        var display = window.getComputedStyle(gd).display;\n",
              "        if (!display || display === 'none') {{\n",
              "            console.log([gd, 'removed!']);\n",
              "            Plotly.purge(gd);\n",
              "            observer.disconnect();\n",
              "        }}\n",
              "}});\n",
              "\n",
              "// Listen for the removal of the full notebook cells\n",
              "var notebookContainer = gd.closest('#notebook-container');\n",
              "if (notebookContainer) {{\n",
              "    x.observe(notebookContainer, {childList: true});\n",
              "}}\n",
              "\n",
              "// Listen for the clearing of the current output cell\n",
              "var outputEl = gd.closest('.output');\n",
              "if (outputEl) {{\n",
              "    x.observe(outputEl, {childList: true});\n",
              "}}\n",
              "\n",
              "                        })                };                            </script>        </div>\n",
              "</body>\n",
              "</html>"
            ]
          },
          "metadata": {}
        }
      ]
    },
    {
      "cell_type": "code",
      "source": [
        "fig = px.box(data, y=\"temperature\",points=\"all\")\n",
        "fig.show()"
      ],
      "metadata": {
        "colab": {
          "base_uri": "https://localhost:8080/",
          "height": 542
        },
        "id": "xJH0T9X2iDVr",
        "outputId": "9b47b4e3-e255-4936-93eb-dfd3823cad40"
      },
      "execution_count": null,
      "outputs": [
        {
          "output_type": "display_data",
          "data": {
            "text/html": [
              "<html>\n",
              "<head><meta charset=\"utf-8\" /></head>\n",
              "<body>\n",
              "    <div>            <script src=\"https://cdnjs.cloudflare.com/ajax/libs/mathjax/2.7.5/MathJax.js?config=TeX-AMS-MML_SVG\"></script><script type=\"text/javascript\">if (window.MathJax) {MathJax.Hub.Config({SVG: {font: \"STIX-Web\"}});}</script>                <script type=\"text/javascript\">window.PlotlyConfig = {MathJaxConfig: 'local'};</script>\n",
              "        <script src=\"https://cdn.plot.ly/plotly-2.8.3.min.js\"></script>                <div id=\"392aef25-5d7c-4b96-9bac-7d91806b3f62\" class=\"plotly-graph-div\" style=\"height:525px; width:100%;\"></div>            <script type=\"text/javascript\">                                    window.PLOTLYENV=window.PLOTLYENV || {};                                    if (document.getElementById(\"392aef25-5d7c-4b96-9bac-7d91806b3f62\")) {                    Plotly.newPlot(                        \"392aef25-5d7c-4b96-9bac-7d91806b3f62\",                        [{\"alignmentgroup\":\"True\",\"boxpoints\":\"all\",\"hovertemplate\":\"temperature=%{y}<extra></extra>\",\"legendgroup\":\"\",\"marker\":{\"color\":\"#636efa\"},\"name\":\"\",\"notched\":false,\"offsetgroup\":\"\",\"orientation\":\"v\",\"showlegend\":false,\"x0\":\" \",\"xaxis\":\"x\",\"y\":[20.87974371,21.77046169,23.00445915,26.49109635,20.13017482,23.05804872,22.70883798,20.27774362,24.51588066,23.22397386,26.52723513,23.97898217,26.80079604,24.01497622,25.66585205,24.28209415,21.58711777,23.79391957,21.8652524,23.57943626,21.32504158,25.15745531,21.94766735,21.0525355,23.48381344,25.0756354,26.35927159,24.52922681,20.77576147,22.30157427,21.44653958,22.17931888,24.52783742,20.26707606,25.7354293,26.79533926,26.75754171,23.86330467,21.01944696,24.17298839,22.78133816,25.62980105,25.59704938,23.83067496,26.31355498,24.8972823,24.958779,23.24113501,21.66628296,24.63544858,23.43121862,20.0454142,23.85724032,21.97199397,26.22916897,23.44676801,25.65553461,24.44345477,20.2801937,21.7238313,20.41447029,25.75528612,20.61521424,21.84106875,20.08369642,24.45802087,21.14347496,25.78720567,23.64124821,23.43191632,24.97669518,22.72791041,24.87300744,21.32376327,26.29465461,22.2286982,26.73072391,24.88921174,26.88444878,22.67846116,26.08867875,25.42977518,26.40323239,26.04371967,25.2827223,22.08576562,23.28617173,25.48591986,23.67575393,20.82477109,26.92995077,23.83509503,26.52872817,26.46428311,22.69657794,22.68319059,21.53346343,21.40865769,26.54348085,23.35905428,22.61359953,26.10018422,23.55882094,19.97215954,18.47891261,21.77689322,25.6217169,25.19192419,20.41683147,24.92162194,23.31689124,24.84016732,22.27526694,18.87751445,25.19008683,18.25405352,24.6129118,25.1420613,23.09348056,18.05033737,24.9321581,18.14710054,18.28362235,18.83344471,25.71895816,25.33797709,23.89114571,21.53574127,23.08974909,25.61707368,21.44526922,18.51816776,22.53510514,23.02038334,24.89364635,25.77175115,19.39851734,21.54156232,23.79746068,18.9802729,24.10859207,24.7947077,21.63162756,25.37548751,22.21738222,20.58314011,24.87502824,20.03728219,25.95263264,19.28889933,20.57981887,24.71417533,20.27317074,18.41932981,23.39128187,19.84939404,21.869274,22.8056033,19.0781471,22.02720976,23.80546189,18.52510753,23.50297882,26.54986394,19.29563411,20.68899915,19.32666088,24.60532218,22.27373646,25.70196694,19.20129357,21.70181447,20.51716779,23.30355338,24.2547451,24.86374934,22.6265115,18.04185513,23.26237612,22.88330922,25.97482359,26.14384005,18.66116213,25.10787449,23.33844615,25.08239719,25.36768364,25.34217103,25.00933355,18.66746724,20.37999665,18.09300227,26.16985907,18.65396672,26.07470121,18.92851916,23.30546753,18.74826712,19.74213321,25.73044432,17.02498456,19.02061277,17.88776475,18.86805647,18.36952567,20.45078582,20.6543203,17.3348681,18.17912258,18.01272266,20.99373558,19.46233971,19.81344531,18.97424756,18.19737048,18.72963144,20.99502153,20.28155898,17.48042641,20.88818675,17.08498521,20.09340593,17.57212145,19.12065218,18.57665902,17.16606398,18.2872007,19.03025305,17.1418614,17.47809436,20.56601874,17.22385224,19.69141713,17.84851658,18.8202251,17.47500984,18.72649425,18.65580107,18.2356751,18.81198127,18.65054116,20.36720401,18.38120357,17.17012591,19.37101121,17.92845928,19.45339934,19.12829388,19.1034283,17.48504075,19.40751744,20.18649426,17.30287885,17.50361137,18.17234999,17.57445618,20.93175255,19.71098332,19.07937684,18.54988627,18.19903647,18.88852533,18.49311205,19.48974337,17.25769499,19.62416326,20.67526473,20.02381489,20.1187446,20.65691793,19.2582557,17.927806,19.16288268,20.26942271,17.09104223,17.06579293,20.62767492,20.8248451,19.46210401,17.18248372,17.48911699,17.48395377,19.48316794,19.71359733,19.48649305,19.95264829,19.41789736,19.45591848,20.19137759,18.8392908,20.71219282,18.99424448,19.96837462,17.81564548,20.71424384,17.34150229,17.43732714,18.89780215,18.59190771,18.31561493,17.13692774,19.63474332,22.91350245,16.43340342,22.13974653,17.84806561,19.88394011,19.32509638,18.4167001,21.81167649,19.72702528,17.15432954,19.62207826,21.63149148,16.06522754,20.61162204,21.42451099,19.07096165,21.18853178,23.0429097,20.65375833,18.09551014,18.23775702,17.48189735,19.9191786,20.27514686,15.77370214,16.71170642,17.66148158,18.50692825,24.51324787,18.87614998,21.59343016,20.12373284,15.43546065,22.64236876,21.98560799,20.53052663,15.78601387,19.6365349,20.57341244,20.16080524,21.53989176,15.53834801,19.91853092,20.76952209,23.46168338,24.32116642,20.12574053,21.80619564,19.52226241,17.00067625,16.78791503,24.84906168,16.51783455,18.15300153,23.18864385,23.38002569,18.358923,19.25975367,22.95458237,20.120043,21.14011423,24.92360104,15.33042636,18.81097271,23.44260668,22.8352024,24.9035819,23.78709569,22.05592283,18.87492997,18.62328774,23.00884744,19.33162606,16.24469193,17.91652287,15.46789263,17.06104474,21.32776028,23.90910104,23.89756791,22.98666928,21.35135729,24.1638445,24.62835037,21.02213209,17.30844532,23.82576704,19.30607278,16.03768615,19.18572809,19.92889503,19.56376468,18.31357543,20.10993761,23.60506572,19.73136909,20.93409877,18.78226261,36.51268371,36.89163721,29.23540524,27.33534897,21.0643684,30.33276599,31.80130272,33.18184225,29.38538562,30.27374995,35.45790488,33.80020039,28.69180475,31.24021696,28.98039357,27.32198928,21.47607807,18.31910448,36.97794384,24.80467592,19.3479443,28.88302142,19.54314136,24.7741949,18.33124824,19.14729038,28.23416057,30.11812084,33.4126864,24.18553163,26.88630675,31.33170829,33.30711818,23.45379018,34.53823889,19.50112224,28.76794904,30.97758716,18.39759147,35.09357419,34.93174223,29.50523036,34.51934775,28.43430726,18.41645629,31.07508973,20.89342749,30.90607799,27.9348279,35.95176642,19.54317155,19.63736208,31.2192752,33.50876355,24.80710166,36.20970524,30.50420876,26.01630259,31.48469278,33.15122581,23.50222822,34.87248659,28.09269012,24.54757829,33.64769646,20.5591255,19.95991719,28.87667593,36.04353699,23.6734328,25.74679443,31.08564994,18.72987676,29.50304807,20.43517772,36.00415838,31.46846241,36.30049702,29.49096726,30.5753044,24.69487673,23.17409556,19.04380471,29.32379604,34.6455408,21.9989826,22.99774444,30.55992394,31.46417866,25.95058595,21.01142393,19.25100056,19.24462755,22.47253208,36.75087487,29.89286629,29.37735586,29.65052947,19.54284889,20.04611791,27.91095209,27.32220619,28.66024187,29.02955344,27.78031515,31.99928579,27.33580911,28.92952635,27.65472156,28.52396666,31.02215872,25.74095321,31.70447482,24.47876451,31.46511256,25.60973447,30.30260453,28.17489437,25.50634557,31.12896766,26.34043268,28.23494706,27.04453473,25.16125354,27.3179125,25.4123765,31.21629982,30.573999,25.42517036,27.09400578,24.30935081,30.06142622,28.09568993,26.33908791,28.61409059,28.70012137,24.21610338,28.50677929,25.97948991,30.88482722,25.5042419,25.12528913,27.10508014,31.1006247,26.45707778,30.04132304,27.77799528,30.99256944,26.4908332,31.96987867,25.36140526,25.54249137,28.99319096,29.34317422,28.63618921,24.83206631,25.44689075,31.01274943,27.06179658,27.0956288,28.56800579,28.79929247,27.94293692,30.47757686,30.58139475,26.85911286,26.31051759,28.77833449,28.90245417,29.37687468,24.17093241,26.65333029,28.19912143,28.76488954,29.3499706,28.00937423,26.85851927,31.2123945,24.20422636,29.98835437,29.93964907,31.2119298,26.80474415,31.49398069,30.99694676,29.61253065,29.97604322,30.88883074,30.39321309,30.43683729,25.32688786,30.53684308,30.38257873,24.01825377,28.69841277,29.33743412,27.96583691,24.86803974,25.87682261,31.01963639,27.43329405,28.3340432,27.01470397,28.17432665,29.87888063,29.89232778,28.56212158,27.53592929,29.68361658,28.14448546,29.53037621,27.88352946,28.22471276,29.008124,29.75538903,29.78416743,27.8640132,27.11026483,27.11030369,28.95451232,29.21780035,28.7420098,29.65021184,27.23924995,28.95172351,28.18837136,28.30041493,27.89636126,28.6899851,27.8262623,28.70562673,28.6362812,28.28511547,27.60887393,28.60901145,29.24598976,28.62911222,29.57329479,27.82684262,29.8757015,27.33684386,29.83040388,28.2753171,29.86860065,29.5888162,28.07219563,27.84026517,27.10818093,27.68515114,29.34594634,28.36319404,27.65280218,27.31372793,27.06909959,28.06642822,27.73329078,27.53632932,29.66461594,29.9145443,28.36363858,29.46416042,29.73013036,27.46852989,27.77076285,29.12939524,27.10606808,28.88078945,28.14720892,29.89129144,27.41503453,29.27308605,29.65296893,28.44524991,27.96235681,29.25649321,28.36291385,27.62749466,28.66086349,29.2114218,29.40889385,28.02952623,28.08657178,29.16174608,29.8596912,29.06631494,27.38538997,27.93034941,29.2808618,28.9973145,27.92678579,28.5474135,29.36488409,28.56149805,28.43683487,28.79728147,28.7275267,27.95639663,28.17458662,28.77653519,28.438097,29.48439992,26.73433965,26.27274407,34.03679184,28.03644051,28.81460716,34.03619494,33.8642935,32.84213012,27.10053268,25.65842532,32.34744009,29.58949031,30.91219459,28.12787838,30.08545364,31.74379487,27.81326852,32.88733849,29.36358721,27.82592799,28.49538735,27.74274761,30.41588462,27.3254209,30.28496619,28.56840626,25.36586097,34.9466155,25.09737391,32.47648301,33.86351172,25.19857725,31.77681682,34.89814946,31.74105409,27.16159076,26.23773129,30.20157245,31.55846339,29.67892453,27.05365239,34.63880966,33.39438752,28.84079155,31.49338309,25.54960633,34.37329112,34.6008247,29.43463808,29.10713092,28.57006111,27.54384835,33.04687968,33.95309131,30.11873003,29.57812712,27.26458947,31.35730791,31.52104732,29.39982732,29.38400259,28.38686534,28.47442276,30.64095781,25.25596239,32.97030511,33.66855394,32.83963757,27.45853567,25.68576704,30.0328403,28.20667264,28.27265858,28.5417236,26.87187036,32.79766751,26.42333018,29.79181107,27.44003279,34.1262979,30.94908189,28.75751783,27.24766491,28.63005477,26.41768321,32.81705216,29.6321052,33.49077065,31.86847286,30.32992227,28.546224,30.02629908,31.65531175,30.33499674,33.36984395,31.4345059,27.71678273,32.63918668,32.7477393,28.05153602,19.44084326,29.84823072,21.36383757,26.28663931,22.17499963,26.57597546,26.58972517,19.1345771,28.75273118,25.78746268,23.89271875,28.67408774,28.42062847,21.35499456,21.12695586,24.02037872,25.40474421,29.03017561,20.21368219,29.19585548,18.29783597,27.41434987,24.84063998,29.94413861,25.87990287,20.0467711,22.99451999,25.13163619,28.49584395,18.28766124,24.38041875,21.31852148,18.54141834,25.28710601,25.43459777,28.83600962,27.37659643,28.31886863,27.4818649,18.28072173,27.61204997,23.43974653,20.95628486,23.7937153,22.6371424,21.53577883,29.87854588,25.2653291,25.17885316,24.12192608,23.33565221,21.74600081,27.60195453,24.388717,24.98287462,28.234829,26.03026959,28.04849594,24.87425505,23.97081395,20.06003985,19.59221047,29.77013109,27.52135365,25.62896213,20.39078312,25.39038396,24.91079638,27.70496805,18.06486101,18.13027797,23.82723528,23.19305333,25.08966129,25.86928193,18.43966037,27.14911056,23.33375853,26.7230014,19.55750776,26.13708256,27.99990346,29.05941162,25.71269843,21.79792649,24.70626432,20.94981756,24.84918386,21.91041045,25.93381964,29.82112112,27.52185591,27.99627907,20.76774783,23.05276444,21.65845777,26.25070298,20.97195263,23.89736406,24.55981624,19.65690085,18.78359608,24.1469628,22.44581266,24.96273236,22.5526059,22.77035608,19.20090378,23.12808226,24.92639065,24.77464458,19.8671184,24.26601316,23.62600218,19.67832052,22.36509395,21.57936934,18.26233221,23.71028128,22.48720144,21.6602498,20.13037175,18.41164435,19.68291173,23.20242586,18.92157197,22.10621387,18.47412402,19.81069447,24.4880844,18.75927679,19.54128063,18.91251245,19.91330523,19.72620525,23.83185873,24.94467632,24.692258,24.72485577,20.12644921,21.02432943,22.40423537,20.33691147,24.24779615,24.81530144,19.66329768,22.43377991,22.92052307,22.91843172,24.88244467,23.40981539,21.20725375,18.20230419,22.34375696,24.32770134,19.75088482,19.86173586,18.07132963,23.89162561,23.98598756,20.93892916,20.82210727,20.86474944,24.45840036,24.51147697,24.56811204,24.63228709,20.07386547,21.80523051,22.8122645,22.73031253,23.2801227,19.30106297,19.0087067,24.35193812,24.72235539,21.92513945,24.83954414,18.09691127,20.24104904,23.22594,23.50128217,19.44623085,20.51343484,18.90223032,18.90592319,22.63045168,19.38603815,24.38318965,23.77989026,22.59890174,24.37766782,20.89273273,18.09903225,20.00218987,19.85139326,21.25433607,23.65374106,23.88404783,29.36792366,27.33368994,27.40053601,29.3159075,26.05433004,25.86632408,27.00932084,29.55054817,26.28845991,29.16226551,28.65003945,29.07311132,28.08166093,27.1994597,28.05484146,25.14748006,25.94019018,27.66752761,25.56703012,28.6956201,26.33544853,25.93730186,25.13686519,27.50527651,26.21009246,29.10403455,29.2440638,25.56202173,26.3985515,28.09577643,27.84767901,27.39341554,25.14517635,28.65456263,29.16093424,27.57278064,25.40909896,25.99069521,26.29039046,29.14827211,26.59743595,25.36059237,29.12036889,27.53911354,29.66727337,25.05802193,25.86824781,25.85036988,26.51682337,28.66725136,28.14938935,26.42313317,26.59386409,27.71822477,28.98333432,29.42017919,27.39872329,26.4020227,27.81251452,25.19640218,28.31193338,25.90113128,27.48612983,29.38254012,29.22118628,27.09062164,26.12643374,29.01207743,27.96799119,28.0764455,25.16278237,25.78749808,25.34119774,29.44795403,26.47522633,27.39489579,25.08347445,26.6719835,25.44926208,28.22776705,28.1279509,28.9470467,27.96236771,28.00316034,29.1400919,27.9122104,25.43480512,28.55980972,26.59580783,27.19711623,25.29391516,29.90888522,27.94972463,25.01018457,29.21144871,27.35911627,28.0106804,28.67208915,27.34585147,29.50704598,29.73770045,33.55695561,27.00315545,33.56150184,35.89855625,34.17719782,30.01592643,31.74592134,35.99009679,31.86641378,27.75518664,34.72413192,27.53907547,27.69637763,27.25373364,30.33723921,31.85744939,35.39986338,29.80747243,34.16438906,28.93270187,27.98392787,31.20478173,32.13409675,28.91862016,31.09779147,34.73823882,29.98080499,33.80398664,30.07202564,27.92063282,31.40948821,35.7877738,33.36140093,35.96054636,28.33333307,32.27652024,31.99490489,27.58258929,29.38471637,32.38697531,30.91471455,35.37775595,32.32362177,28.22373428,27.27433181,27.10710832,34.89226666,33.7462686,27.3511056,32.89300162,35.38598705,27.5529736,32.82141065,30.17294105,29.26382931,32.06097197,28.69818144,29.14305008,28.3471611,27.67256197,28.1218093,30.79375683,28.89409382,33.33024826,27.78912455,31.65333432,29.75150773,31.32995611,35.63627319,31.66524687,32.26935342,27.81005614,34.58561471,31.27180992,33.93679864,31.09154239,31.89356292,32.45465292,35.47478322,27.32961444,30.90225239,29.09382275,30.02086169,34.13072188,33.44619894,35.3915464,31.53356352,30.7645515,30.01821337,31.32863689,33.88004781,28.07802689,35.53845018,28.70595247,31.48451729,27.69819273,30.41235793,32.17752026,32.6112614,29.99677232,30.7280404,32.44577836,37.46566825,22.03296178,39.64851881,16.77557314,12.14190714,12.7567962,39.04071989,39.70772192,9.467960445,29.58748357,17.82803682,8.825674745,27.83487131,11.02105378,17.5862944,19.89363946,29.93707596,36.73126647,20.42094753,25.51939719,30.50734778,18.4269936,12.087022,23.60115364,12.80000387,38.06099482,39.06555518,33.78372897,16.76201707,35.89307536,21.01245395,10.89875873,16.36251869,20.28370163,25.11108456,33.4641162,11.7976469,11.36300891,25.23542319,15.99050693,22.4359017,34.76086052,31.11047251,28.57828803,41.18664903,27.02766138,21.19339319,10.38004759,31.3115978,20.46657776,29.36947679,10.72302459,14.97846952,15.3246651,18.73932187,19.3642553,41.20733624,33.34214482,23.81995682,40.66012294,11.82768186,13.28504331,35.83089092,26.18159716,24.57558351,29.67229086,39.37102553,17.66558428,24.06679352,15.31413469,21.77466746,26.91624843,41.65602996,17.98667801,29.12033769,34.38922481,41.36106301,35.12158265,19.6491772,16.27852801,21.11903604,19.2077707,25.96308415,25.67385024,41.94865736,11.18994268,17.5438296,13.05809741,9.724457611,27.92004934,9.535585543,13.42988625,9.851242629,24.97256132,27.23708304,18.70679077,9.949929082,26.47330219,25.18780042,25.29954705,24.74631269,26.58740671,24.53442564,26.0713757,25.96534238,26.22338015,24.41311871,26.49195283,24.04355803,25.5421695,26.74550678,25.7131428,25.76484262,26.79489868,24.9004602,26.80750629,25.11189154,26.2148837,24.9103226,25.79448878,25.26931156,25.76402693,25.85483596,24.33528185,25.37601283,24.86094646,24.71885473,24.21495706,25.81692236,24.47018505,24.13078816,26.1793464,26.17668721,26.03867719,26.53259325,26.81938687,25.50405534,26.20234499,25.13735887,25.92030221,26.6634609,24.06731461,24.6774157,26.11440416,26.81530456,25.15623099,25.2801372,26.22005978,24.92093261,26.21667586,26.81383586,24.31334971,24.29105004,24.42998931,25.66576039,25.07803672,24.88910524,25.42900869,24.37118217,26.4930645,25.83202912,24.41592661,24.37190239,24.24782473,24.64458469,24.89681131,25.41864024,26.26028739,24.90123934,24.84740848,26.98212846,26.90435747,25.86475496,26.70607759,26.44019475,26.283443,26.84366082,26.03967219,24.92994759,25.50736962,25.4438391,26.12588914,25.10474753,26.27520631,26.27061608,26.73690828,25.04746944,24.69368934,24.54356968,25.89762315,26.6333118,25.35794749,25.28784623,26.63838589,25.3310446,26.89750174,26.98603693,27.57826922,27.82054812,29.09910406,28.04943594,29.91690582,29.86895762,29.17220859,29.24908541,27.76317235,28.82629037,28.52379742,29.06785065,29.08417927,28.47090661,28.27973674,28.47212559,29.68846716,27.02415146,29.09588297,29.69238699,28.20619412,29.05248036,29.57240298,29.10968327,28.20480805,29.11858526,29.62800691,29.81196601,27.72338349,29.26092798,29.72791119,28.91105641,28.96361426,28.59052369,27.33897716,29.90415889,27.42711692,29.55657523,29.84070774,28.53545677,27.11535046,27.84492803,29.03157242,27.82424457,27.72653142,28.69708334,29.73019662,29.54097171,28.80311922,27.29035669,27.46583649,29.49401389,27.79161808,29.12533739,27.93114233,29.45771748,27.96872279,29.48882958,29.47156259,27.0767265,27.30008597,29.82729394,29.93061247,29.94349168,28.03306461,29.8843055,27.7058373,29.78714005,28.57819995,29.48069921,27.51492243,28.05457761,29.03167341,28.5854649,27.08808014,27.99611732,27.87317436,28.96586565,28.87726019,29.17052093,29.34033587,29.07265321,28.68275966,28.92705913,27.99901833,27.59350075,29.87331077,28.55852465,29.19378695,27.98780984,28.05380704,27.3506296,29.34081108,28.61475136,27.04863538,29.5275305,28.50416396,28.89578588,27.04927452,28.96017885,22.75088787,23.8494014,22.60800988,21.18667419,23.41044706,22.86006627,22.48403042,22.02775403,21.91191314,23.71059131,21.37784654,22.84852833,23.1094265,23.25230817,23.67287749,23.76881552,23.34386401,22.63946441,22.45696744,22.96388477,21.07273439,22.44075021,22.71271308,21.70416965,22.43324518,21.25941052,22.9215706,22.81212536,21.12152071,21.11478672,23.59997268,23.12652652,22.98458907,22.12659387,22.53779727,22.49095104,22.35548159,22.20700989,22.44516988,22.76643029,22.19109412,23.6119202,23.86087054,21.42177231,22.36629253,23.99686172,21.80129837,23.80436344,23.71475278,23.34467359,22.31253665,23.50201428,23.46260321,23.06204373,22.47420512,22.69780133,23.66682067,22.50050273,23.83053666,23.64142354,21.41363812,22.85267372,22.98208095,21.19909519,23.87192332,21.0365275,22.61711614,21.45278675,22.81227579,21.98141856,22.52709326,22.35628673,21.19852186,23.8812458,22.78234161,22.19055385,22.91430043,23.08950736,21.72484506,22.44307715,21.1316077,22.71750705,23.75033085,23.76121837,22.13450646,21.17089176,22.36238282,22.77856513,21.22503442,23.15791104,22.42776057,23.64082979,22.29423493,23.35225078,22.03911546,23.80593812,22.31944084,22.14464104,23.65167552,22.16939473,15.78144173,26.03097313,13.36050601,18.87957654,29.47741671,28.06903173,25.66901098,29.77149434,30.55472573,23.96147583,23.98289638,25.26052689,31.08368929,14.78003032,26.56608303,24.85903405,34.51465139,24.12188673,23.85340379,24.60297538,15.63211033,19.33516809,28.2620488,22.67594476,21.03200078,33.23453301,22.30318989,11.50322938,14.34320488,33.1056981,30.49183837,30.25578031,12.22816189,10.01081312,22.79196751,20.18432263,30.72119881,24.35590861,21.21306973,10.78689755,11.89925671,22.56664172,18.86883219,17.34083741,34.90665289,24.53610067,13.8377282,22.3551049,34.74004942,11.54785707,23.13338811,29.98364695,20.87947369,17.24944623,15.83388699,23.01014302,16.39624284,24.45132792,31.87859192,31.34920143,18.05142392,30.84835031,22.45616931,13.70319166,20.48954522,13.20844373,32.31944397,20.68185224,31.52675982,25.35467646,17.66545409,12.59093977,11.86631922,11.03367937,25.2990432,32.23797837,17.68408797,10.2708877,17.22034507,19.667056,10.35609594,27.255435,34.5917846,32.39523995,10.16431299,21.49118657,16.53460397,31.8520694,28.04799508,31.75048899,29.07412717,19.14381903,16.14820285,34.05296914,34.51423957,32.71748548,25.16296632,27.68167318,21.35093384,11.69894639,35.21462816,42.39413392,38.4191628,35.33294932,42.92325255,33.83508569,33.20258348,23.48546973,29.33710543,40.21199348,42.13473976,32.86316618,29.80744318,31.56213762,36.32268069,37.13165026,38.4418717,32.66160599,27.92765919,39.01793345,32.51247398,38.72382798,43.30204933,27.58548913,40.78881819,23.19451074,32.68067385,34.28879307,39.30050027,39.73149053,39.23342464,27.34734861,40.76998685,26.26559543,28.12971499,34.2804607,33.7960155,31.53243779,42.30495821,24.63676897,28.28222883,24.48620746,42.84609252,43.67549305,42.07213781,33.46873719,31.7018373,41.41968393,42.54744013,28.91842453,43.08022702,29.20300896,41.04224355,25.62446619,35.32876402,24.42561272,31.18298415,31.88342554,42.93368602,23.11407669,24.87212063,43.36051537,26.83054058,30.42012134,28.64555584,32.50037548,43.03714283,30.10773379,23.69212243,35.67667332,27.71948962,35.26824831,23.16855863,33.08706051,37.4620912,38.73218907,32.57720726,38.38231475,42.93605359,25.65492304,37.58899717,29.60718808,25.34756111,25.9300384,32.76795887,29.02328049,40.00439101,33.32315744,31.22790131,26.68386496,24.70528368,38.2016825,36.56769731,26.05375792,31.29986342,40.10207731,38.58954491,41.31330062,37.03551903,23.0124018,26.7627493,25.61294367,28.130115,25.02887163,27.79797651,29.25902906,27.10134661,25.84726298,26.58580443,28.38503882,28.43647052,28.27298134,27.00648436,27.63551259,26.29644905,27.1326009,25.56567803,25.94951662,28.03380598,29.12859129,27.0828252,28.11321494,27.5136304,27.63834933,29.01256899,26.58413917,28.28905147,28.69164799,29.70931288,27.14865285,29.28725038,25.06871967,26.92449525,28.27804288,29.18032562,28.3575072,29.38072512,25.39241091,26.31270635,29.52501367,28.83214859,28.48444906,28.74013335,25.00872392,29.8690834,27.54273211,26.52166434,25.03512351,29.20394909,27.05826457,26.18552389,27.59376845,25.76011662,28.87862994,26.50908611,26.87037587,27.57283516,28.05912437,29.51611558,28.96318258,25.09897688,27.1872282,29.03065024,27.754298,27.31155708,28.84270971,26.61423461,29.70143197,25.54759871,26.37978453,27.45907759,27.02269204,28.98545306,26.1055118,25.0707247,25.54963273,28.56973521,26.07010807,25.51791333,25.9490364,28.2974764,29.56549169,29.69952329,26.14162144,26.00175125,27.15116142,28.97318719,26.13958446,25.51618488,27.55821802,27.81132822,25.60033702,26.91641934,29.1797902,26.44600063,28.43572863,28.94099669,26.45488737,25.79490531,26.93141945,24.40228894,23.09595631,23.9656349,24.88738107,25.36243778,24.69457084,25.0017188,22.45942937,23.60564038,24.58453146,23.0865933,23.5000992,24.1472953,24.69315538,24.484692,24.49112609,23.47986888,24.18586246,25.00755095,25.99237426,23.66457347,25.66891439,22.04612876,22.4204752,25.03149561,23.53371386,22.77076388,25.49848236,25.248679,22.78249615,23.37044424,24.86560781,24.14386157,25.03300222,23.65724079,25.54359718,22.00085141,23.64328417,23.96436009,24.65425757,24.3017998,24.29144926,24.29470232,25.72180042,24.87663664,22.60612115,23.86814008,23.41022496,24.96440768,25.16820129,22.72767171,22.45145981,23.04920461,25.29250148,22.95604064,22.80213132,23.54234715,24.41212325,22.94276687,25.53676123,25.32023717,22.426733,25.78544484,25.68959532,22.14593688,25.07278712,22.21506982,23.9643129,25.40059227,23.7805123,24.16402322,25.31468463,22.60361557,22.9535715,22.74446976,23.80834611,25.46228792,25.96779712,25.5308271,24.43847399,23.03887865,23.51308653,22.75805656,24.71252544,23.45969093,25.5503704,22.08458267,24.68854799,25.84997269,22.46054478,23.65629976,22.00817088,24.32630461,22.92360984,23.43821725,22.10718988,23.03814028,24.54795322,23.73868041,22.31871914,25.52468965,26.59104992,25.29781791,25.72100868,23.58419277,25.31042337,23.41798979,24.35564134,26.284017,25.13842773,24.88692811,25.75734909,23.12844351,24.9949957,25.21622704,24.39736241,23.31410442,25.72668885,26.96656378,23.70467146,24.90075709,23.39605743,26.8748389,23.1426498,24.29496635,24.39459498,25.7629429,25.4879684,25.37122686,26.21312799,24.30748599,23.76554749,24.79853023,23.20683504,23.66805429,25.12417673,23.89069041,23.09433785,24.21744605,24.06475727,24.85441411,26.41915161,24.89326318,23.25583402,24.7634518,24.97042599,26.12797248,25.97825807,26.2830571,26.38905406,25.2746335,23.09499564,25.79351957,23.17403323,25.63215038,25.848795,26.56767277,26.24532085,26.91515043,24.36972377,25.71901283,25.01157559,25.40785911,23.28081,23.98651719,24.48556447,25.86705009,23.5643831,24.2248758,25.49386782,24.97178693,24.80624984,23.16814977,24.25133493,26.58361011,26.82489244,25.49674786,24.09874353,23.18866654,26.24347471,23.75091572,26.13871511,26.14576648,26.91643698,26.5232969,23.81579631,26.50838667,26.63952463,23.3250131,26.47549543,23.78756036,25.49941707,23.24925555,26.98582182,23.61475336,23.87484465,23.92887902,24.81441246,24.44743944,26.57421679,26.33377983,26.45288458,25.70822684,24.12832546,23.44372334,23.4123707,23.05951896,23.07895447,27.6496114,25.46743689,26.7350622,26.20811417,27.0424167,24.65090184,27.35152643,25.17787724,23.11438731,27.22783677,23.26316991,25.234661,25.59535262,25.5674832,25.67324193,24.40726724,23.69287069,24.53460016,27.13140403,27.56088634,23.59302313,23.17714381,24.71384065,24.38534644,27.15998538,26.53543168,27.01207284,27.55906475,23.32293161,24.23850608,23.42611644,26.02241444,24.83846178,26.24092174,24.43011925,26.00373964,26.22367404,27.09617155,25.64004392,27.74576987,26.24928198,26.67377159,27.10210397,27.62975458,27.5364547,23.56960509,24.99451759,27.56441788,23.98143338,24.22984659,25.60153969,24.31274458,26.36629861,26.5602777,26.35034208,25.20406808,23.35723208,23.60567546,24.18471151,26.44414097,26.12492233,27.77363343,25.55656667,27.92374437,26.05968403,26.35770906,24.91370487,27.31317116,26.1387869,23.1069385,23.52648086,25.11711046,24.02952505,26.70897548,26.71717393,24.59245684,27.51006055,27.57847581,26.65069302,26.97251562,23.17124551,23.52652084,27.30901814,27.54823036,25.627355,23.29250318,24.91461008,26.77463708,27.41711238,24.13179691,26.2724184,23.60301571],\"y0\":\" \",\"yaxis\":\"y\",\"type\":\"box\"}],                        {\"template\":{\"data\":{\"bar\":[{\"error_x\":{\"color\":\"#2a3f5f\"},\"error_y\":{\"color\":\"#2a3f5f\"},\"marker\":{\"line\":{\"color\":\"#E5ECF6\",\"width\":0.5},\"pattern\":{\"fillmode\":\"overlay\",\"size\":10,\"solidity\":0.2}},\"type\":\"bar\"}],\"barpolar\":[{\"marker\":{\"line\":{\"color\":\"#E5ECF6\",\"width\":0.5},\"pattern\":{\"fillmode\":\"overlay\",\"size\":10,\"solidity\":0.2}},\"type\":\"barpolar\"}],\"carpet\":[{\"aaxis\":{\"endlinecolor\":\"#2a3f5f\",\"gridcolor\":\"white\",\"linecolor\":\"white\",\"minorgridcolor\":\"white\",\"startlinecolor\":\"#2a3f5f\"},\"baxis\":{\"endlinecolor\":\"#2a3f5f\",\"gridcolor\":\"white\",\"linecolor\":\"white\",\"minorgridcolor\":\"white\",\"startlinecolor\":\"#2a3f5f\"},\"type\":\"carpet\"}],\"choropleth\":[{\"colorbar\":{\"outlinewidth\":0,\"ticks\":\"\"},\"type\":\"choropleth\"}],\"contour\":[{\"colorbar\":{\"outlinewidth\":0,\"ticks\":\"\"},\"colorscale\":[[0.0,\"#0d0887\"],[0.1111111111111111,\"#46039f\"],[0.2222222222222222,\"#7201a8\"],[0.3333333333333333,\"#9c179e\"],[0.4444444444444444,\"#bd3786\"],[0.5555555555555556,\"#d8576b\"],[0.6666666666666666,\"#ed7953\"],[0.7777777777777778,\"#fb9f3a\"],[0.8888888888888888,\"#fdca26\"],[1.0,\"#f0f921\"]],\"type\":\"contour\"}],\"contourcarpet\":[{\"colorbar\":{\"outlinewidth\":0,\"ticks\":\"\"},\"type\":\"contourcarpet\"}],\"heatmap\":[{\"colorbar\":{\"outlinewidth\":0,\"ticks\":\"\"},\"colorscale\":[[0.0,\"#0d0887\"],[0.1111111111111111,\"#46039f\"],[0.2222222222222222,\"#7201a8\"],[0.3333333333333333,\"#9c179e\"],[0.4444444444444444,\"#bd3786\"],[0.5555555555555556,\"#d8576b\"],[0.6666666666666666,\"#ed7953\"],[0.7777777777777778,\"#fb9f3a\"],[0.8888888888888888,\"#fdca26\"],[1.0,\"#f0f921\"]],\"type\":\"heatmap\"}],\"heatmapgl\":[{\"colorbar\":{\"outlinewidth\":0,\"ticks\":\"\"},\"colorscale\":[[0.0,\"#0d0887\"],[0.1111111111111111,\"#46039f\"],[0.2222222222222222,\"#7201a8\"],[0.3333333333333333,\"#9c179e\"],[0.4444444444444444,\"#bd3786\"],[0.5555555555555556,\"#d8576b\"],[0.6666666666666666,\"#ed7953\"],[0.7777777777777778,\"#fb9f3a\"],[0.8888888888888888,\"#fdca26\"],[1.0,\"#f0f921\"]],\"type\":\"heatmapgl\"}],\"histogram\":[{\"marker\":{\"pattern\":{\"fillmode\":\"overlay\",\"size\":10,\"solidity\":0.2}},\"type\":\"histogram\"}],\"histogram2d\":[{\"colorbar\":{\"outlinewidth\":0,\"ticks\":\"\"},\"colorscale\":[[0.0,\"#0d0887\"],[0.1111111111111111,\"#46039f\"],[0.2222222222222222,\"#7201a8\"],[0.3333333333333333,\"#9c179e\"],[0.4444444444444444,\"#bd3786\"],[0.5555555555555556,\"#d8576b\"],[0.6666666666666666,\"#ed7953\"],[0.7777777777777778,\"#fb9f3a\"],[0.8888888888888888,\"#fdca26\"],[1.0,\"#f0f921\"]],\"type\":\"histogram2d\"}],\"histogram2dcontour\":[{\"colorbar\":{\"outlinewidth\":0,\"ticks\":\"\"},\"colorscale\":[[0.0,\"#0d0887\"],[0.1111111111111111,\"#46039f\"],[0.2222222222222222,\"#7201a8\"],[0.3333333333333333,\"#9c179e\"],[0.4444444444444444,\"#bd3786\"],[0.5555555555555556,\"#d8576b\"],[0.6666666666666666,\"#ed7953\"],[0.7777777777777778,\"#fb9f3a\"],[0.8888888888888888,\"#fdca26\"],[1.0,\"#f0f921\"]],\"type\":\"histogram2dcontour\"}],\"mesh3d\":[{\"colorbar\":{\"outlinewidth\":0,\"ticks\":\"\"},\"type\":\"mesh3d\"}],\"parcoords\":[{\"line\":{\"colorbar\":{\"outlinewidth\":0,\"ticks\":\"\"}},\"type\":\"parcoords\"}],\"pie\":[{\"automargin\":true,\"type\":\"pie\"}],\"scatter\":[{\"marker\":{\"colorbar\":{\"outlinewidth\":0,\"ticks\":\"\"}},\"type\":\"scatter\"}],\"scatter3d\":[{\"line\":{\"colorbar\":{\"outlinewidth\":0,\"ticks\":\"\"}},\"marker\":{\"colorbar\":{\"outlinewidth\":0,\"ticks\":\"\"}},\"type\":\"scatter3d\"}],\"scattercarpet\":[{\"marker\":{\"colorbar\":{\"outlinewidth\":0,\"ticks\":\"\"}},\"type\":\"scattercarpet\"}],\"scattergeo\":[{\"marker\":{\"colorbar\":{\"outlinewidth\":0,\"ticks\":\"\"}},\"type\":\"scattergeo\"}],\"scattergl\":[{\"marker\":{\"colorbar\":{\"outlinewidth\":0,\"ticks\":\"\"}},\"type\":\"scattergl\"}],\"scattermapbox\":[{\"marker\":{\"colorbar\":{\"outlinewidth\":0,\"ticks\":\"\"}},\"type\":\"scattermapbox\"}],\"scatterpolar\":[{\"marker\":{\"colorbar\":{\"outlinewidth\":0,\"ticks\":\"\"}},\"type\":\"scatterpolar\"}],\"scatterpolargl\":[{\"marker\":{\"colorbar\":{\"outlinewidth\":0,\"ticks\":\"\"}},\"type\":\"scatterpolargl\"}],\"scatterternary\":[{\"marker\":{\"colorbar\":{\"outlinewidth\":0,\"ticks\":\"\"}},\"type\":\"scatterternary\"}],\"surface\":[{\"colorbar\":{\"outlinewidth\":0,\"ticks\":\"\"},\"colorscale\":[[0.0,\"#0d0887\"],[0.1111111111111111,\"#46039f\"],[0.2222222222222222,\"#7201a8\"],[0.3333333333333333,\"#9c179e\"],[0.4444444444444444,\"#bd3786\"],[0.5555555555555556,\"#d8576b\"],[0.6666666666666666,\"#ed7953\"],[0.7777777777777778,\"#fb9f3a\"],[0.8888888888888888,\"#fdca26\"],[1.0,\"#f0f921\"]],\"type\":\"surface\"}],\"table\":[{\"cells\":{\"fill\":{\"color\":\"#EBF0F8\"},\"line\":{\"color\":\"white\"}},\"header\":{\"fill\":{\"color\":\"#C8D4E3\"},\"line\":{\"color\":\"white\"}},\"type\":\"table\"}]},\"layout\":{\"annotationdefaults\":{\"arrowcolor\":\"#2a3f5f\",\"arrowhead\":0,\"arrowwidth\":1},\"autotypenumbers\":\"strict\",\"coloraxis\":{\"colorbar\":{\"outlinewidth\":0,\"ticks\":\"\"}},\"colorscale\":{\"diverging\":[[0,\"#8e0152\"],[0.1,\"#c51b7d\"],[0.2,\"#de77ae\"],[0.3,\"#f1b6da\"],[0.4,\"#fde0ef\"],[0.5,\"#f7f7f7\"],[0.6,\"#e6f5d0\"],[0.7,\"#b8e186\"],[0.8,\"#7fbc41\"],[0.9,\"#4d9221\"],[1,\"#276419\"]],\"sequential\":[[0.0,\"#0d0887\"],[0.1111111111111111,\"#46039f\"],[0.2222222222222222,\"#7201a8\"],[0.3333333333333333,\"#9c179e\"],[0.4444444444444444,\"#bd3786\"],[0.5555555555555556,\"#d8576b\"],[0.6666666666666666,\"#ed7953\"],[0.7777777777777778,\"#fb9f3a\"],[0.8888888888888888,\"#fdca26\"],[1.0,\"#f0f921\"]],\"sequentialminus\":[[0.0,\"#0d0887\"],[0.1111111111111111,\"#46039f\"],[0.2222222222222222,\"#7201a8\"],[0.3333333333333333,\"#9c179e\"],[0.4444444444444444,\"#bd3786\"],[0.5555555555555556,\"#d8576b\"],[0.6666666666666666,\"#ed7953\"],[0.7777777777777778,\"#fb9f3a\"],[0.8888888888888888,\"#fdca26\"],[1.0,\"#f0f921\"]]},\"colorway\":[\"#636efa\",\"#EF553B\",\"#00cc96\",\"#ab63fa\",\"#FFA15A\",\"#19d3f3\",\"#FF6692\",\"#B6E880\",\"#FF97FF\",\"#FECB52\"],\"font\":{\"color\":\"#2a3f5f\"},\"geo\":{\"bgcolor\":\"white\",\"lakecolor\":\"white\",\"landcolor\":\"#E5ECF6\",\"showlakes\":true,\"showland\":true,\"subunitcolor\":\"white\"},\"hoverlabel\":{\"align\":\"left\"},\"hovermode\":\"closest\",\"mapbox\":{\"style\":\"light\"},\"paper_bgcolor\":\"white\",\"plot_bgcolor\":\"#E5ECF6\",\"polar\":{\"angularaxis\":{\"gridcolor\":\"white\",\"linecolor\":\"white\",\"ticks\":\"\"},\"bgcolor\":\"#E5ECF6\",\"radialaxis\":{\"gridcolor\":\"white\",\"linecolor\":\"white\",\"ticks\":\"\"}},\"scene\":{\"xaxis\":{\"backgroundcolor\":\"#E5ECF6\",\"gridcolor\":\"white\",\"gridwidth\":2,\"linecolor\":\"white\",\"showbackground\":true,\"ticks\":\"\",\"zerolinecolor\":\"white\"},\"yaxis\":{\"backgroundcolor\":\"#E5ECF6\",\"gridcolor\":\"white\",\"gridwidth\":2,\"linecolor\":\"white\",\"showbackground\":true,\"ticks\":\"\",\"zerolinecolor\":\"white\"},\"zaxis\":{\"backgroundcolor\":\"#E5ECF6\",\"gridcolor\":\"white\",\"gridwidth\":2,\"linecolor\":\"white\",\"showbackground\":true,\"ticks\":\"\",\"zerolinecolor\":\"white\"}},\"shapedefaults\":{\"line\":{\"color\":\"#2a3f5f\"}},\"ternary\":{\"aaxis\":{\"gridcolor\":\"white\",\"linecolor\":\"white\",\"ticks\":\"\"},\"baxis\":{\"gridcolor\":\"white\",\"linecolor\":\"white\",\"ticks\":\"\"},\"bgcolor\":\"#E5ECF6\",\"caxis\":{\"gridcolor\":\"white\",\"linecolor\":\"white\",\"ticks\":\"\"}},\"title\":{\"x\":0.05},\"xaxis\":{\"automargin\":true,\"gridcolor\":\"white\",\"linecolor\":\"white\",\"ticks\":\"\",\"title\":{\"standoff\":15},\"zerolinecolor\":\"white\",\"zerolinewidth\":2},\"yaxis\":{\"automargin\":true,\"gridcolor\":\"white\",\"linecolor\":\"white\",\"ticks\":\"\",\"title\":{\"standoff\":15},\"zerolinecolor\":\"white\",\"zerolinewidth\":2}}},\"xaxis\":{\"anchor\":\"y\",\"domain\":[0.0,1.0]},\"yaxis\":{\"anchor\":\"x\",\"domain\":[0.0,1.0],\"title\":{\"text\":\"temperature\"}},\"legend\":{\"tracegroupgap\":0},\"margin\":{\"t\":60},\"boxmode\":\"group\"},                        {\"responsive\": true}                    ).then(function(){\n",
              "                            \n",
              "var gd = document.getElementById('392aef25-5d7c-4b96-9bac-7d91806b3f62');\n",
              "var x = new MutationObserver(function (mutations, observer) {{\n",
              "        var display = window.getComputedStyle(gd).display;\n",
              "        if (!display || display === 'none') {{\n",
              "            console.log([gd, 'removed!']);\n",
              "            Plotly.purge(gd);\n",
              "            observer.disconnect();\n",
              "        }}\n",
              "}});\n",
              "\n",
              "// Listen for the removal of the full notebook cells\n",
              "var notebookContainer = gd.closest('#notebook-container');\n",
              "if (notebookContainer) {{\n",
              "    x.observe(notebookContainer, {childList: true});\n",
              "}}\n",
              "\n",
              "// Listen for the clearing of the current output cell\n",
              "var outputEl = gd.closest('.output');\n",
              "if (outputEl) {{\n",
              "    x.observe(outputEl, {childList: true});\n",
              "}}\n",
              "\n",
              "                        })                };                            </script>        </div>\n",
              "</body>\n",
              "</html>"
            ]
          },
          "metadata": {}
        }
      ]
    },
    {
      "cell_type": "code",
      "source": [
        "fig = px.box(data, y=\"humidity\",points=\"all\")\n",
        "fig.show()"
      ],
      "metadata": {
        "colab": {
          "base_uri": "https://localhost:8080/",
          "height": 542
        },
        "id": "hHjDlZNHiLEj",
        "outputId": "ef4de966-5a8b-4dfe-8735-323db80b56f9"
      },
      "execution_count": null,
      "outputs": [
        {
          "output_type": "display_data",
          "data": {
            "text/html": [
              "<html>\n",
              "<head><meta charset=\"utf-8\" /></head>\n",
              "<body>\n",
              "    <div>            <script src=\"https://cdnjs.cloudflare.com/ajax/libs/mathjax/2.7.5/MathJax.js?config=TeX-AMS-MML_SVG\"></script><script type=\"text/javascript\">if (window.MathJax) {MathJax.Hub.Config({SVG: {font: \"STIX-Web\"}});}</script>                <script type=\"text/javascript\">window.PlotlyConfig = {MathJaxConfig: 'local'};</script>\n",
              "        <script src=\"https://cdn.plot.ly/plotly-2.8.3.min.js\"></script>                <div id=\"408122f6-81c0-49e7-bc4b-57fcd1daad3a\" class=\"plotly-graph-div\" style=\"height:525px; width:100%;\"></div>            <script type=\"text/javascript\">                                    window.PLOTLYENV=window.PLOTLYENV || {};                                    if (document.getElementById(\"408122f6-81c0-49e7-bc4b-57fcd1daad3a\")) {                    Plotly.newPlot(                        \"408122f6-81c0-49e7-bc4b-57fcd1daad3a\",                        [{\"alignmentgroup\":\"True\",\"boxpoints\":\"all\",\"hovertemplate\":\"humidity=%{y}<extra></extra>\",\"legendgroup\":\"\",\"marker\":{\"color\":\"#636efa\"},\"name\":\"\",\"notched\":false,\"offsetgroup\":\"\",\"orientation\":\"v\",\"showlegend\":false,\"x0\":\" \",\"xaxis\":\"x\",\"y\":[82.00274423,80.31964408,82.3207629,80.15836264,81.60487287,83.37011772,82.63941394,82.89408619,83.5352163,83.03322691,81.41753846,81.45061596,80.88684822,82.05687182,80.66385045,80.30025587,82.7883708,80.41817957,80.1923008,83.58760316,80.47476396,83.11713476,80.97384195,82.67839517,81.33265073,80.52389148,84.04403589,80.54498576,84.49774397,80.64416466,84.94375962,80.33127223,82.73685569,81.63895217,83.88266234,82.1480873,81.17734011,83.15250801,82.95221726,83.7287574,82.06719137,83.52842314,80.14509262,84.81360127,82.36698992,80.52586088,84.47963372,84.59201843,80.70960551,80.41363018,83.06310136,80.3477562,82.22572988,81.89918197,83.83625819,84.79352417,83.47021081,82.45432595,82.1235421,80.2389895,82.20802629,83.51827127,83.77345559,80.72886384,83.29114712,82.74835604,80.33502926,82.11124033,80.28597873,80.56887849,83.891805,82.1706881,82.84022551,83.00320459,84.56919326,81.85872947,81.78596776,81.97927117,81.46033732,83.72874389,80.37979919,82.94682591,81.05635517,84.96907151,80.54372813,83.47038318,81.43321641,81.40633547,81.03569343,84.1341879,81.91411159,83.88387074,80.12267476,83.85642678,82.81088865,83.46358271,82.14004101,83.3293191,84.67353597,83.59512273,63.69070564,71.57476937,71.59351368,57.68272924,62.69503871,57.80840636,66.50415474,66.6902901,62.5542482,66.78627406,73.4541537,68.3584573,58.84015925,65.76816093,60.2001687,55.28220433,70.4162444,65.26185135,60.1159381,62.89366992,73.80435276,71.09445342,66.65952796,58.75082029,67.22190688,68.49835977,57.48775781,71.50905983,63.10459626,63.4711755,63.1621551,55.53128131,67.99257471,61.89472002,65.61418761,74.089114,62.35750641,59.64024162,74.82913698,74.52600826,73.13112261,70.04556743,60.27766379,57.21025565,72.85462807,69.00128641,68.74248334,56.35606753,61.89082199,65.47050802,65.34583901,56.73426469,63.91281869,64.23580251,61.74427165,61.24500053,61.91044947,56.50768935,69.02298571,65.35549924,59.24537979,69.0276233,61.32026065,72.89187265,69.63481219,59.4375337,68.034493,73.58868502,59.52193158,61.33450447,68.30578978,60.47470519,59.21235483,73.62548442,55.64709899,65.7420046,65.77472881,60.61494304,72.33125523,71.59722446,69.36385721,66.20569924,61.55327249,55.97732754,59.24580604,65.92195844,72.52054555,63.31801994,67.816568,71.516474,63.73849998,72.61024172,71.96246617,61.37879671,59.37147589,72.80086137,63.24648023,62.49878458,59.66263104,70.74739256,16.98861173,17.13159126,15.40589717,15.65809214,19.56381041,15.40312102,16.60820843,18.74926979,18.90426935,18.30968112,19.33470387,15.22538951,14.69765308,19.5161216,14.71070537,19.18197264,19.8601304,16.39535215,15.7559405,14.32313811,16.14565756,15.11279612,14.99927489,18.43475844,19.22008229,14.42457525,16.67921616,18.66725565,17.0662427,17.93253975,14.25803981,15.82069268,19.44225438,19.09172907,16.1074793,16.54314829,17.58406365,16.17772668,19.68538502,15.21618225,17.80852431,16.89574311,16.63805158,17.30457712,15.77458129,14.27327988,18.23490739,14.92241479,17.26184541,16.96070581,18.98030507,19.63719995,15.15405941,15.48083156,14.70085967,16.71826572,18.91295403,17.63879418,17.86754927,16.02542689,17.41333199,14.99451145,14.72115044,17.17260319,18.74943955,18.71483156,19.85388984,16.63294455,14.44228303,15.84572566,14.2804191,15.85622899,15.83500655,19.96978871,18.25142068,17.54024066,14.44008871,17.85057083,18.72831993,16.42891834,16.39055394,14.76014523,17.44534641,18.09665739,16.06240074,14.82633099,16.80472243,18.02235902,16.41998269,14.74071856,19.83643308,15.9362937,15.57324389,17.60756635,15.27824066,18.75626255,14.33847406,19.76182946,14.77959596,15.36143547,20.59541693,18.90705639,21.33953114,24.24045875,23.02251117,18.77621951,20.31564139,23.3334788,23.42829938,23.20591245,18.28173015,19.87070659,18.67170854,21.17919701,18.72479695,24.36314135,20.39659714,21.21092266,19.63438599,22.42610972,23.10538637,18.29318436,21.07643273,18.8251973,21.47324158,23.2353604,19.2303162,19.17651433,18.15302753,23.61670065,20.81527638,24.54038287,20.31871249,24.45202552,18.37477907,21.59396123,24.87304788,18.09224048,21.14544088,19.68751084,19.7520218,24.84207559,24.25386207,23.75560241,20.70099804,18.93146941,23.22197648,21.0278674,24.96969858,18.57086554,24.92607153,19.90790546,24.96881755,22.89464642,20.4555596,19.38602098,22.3104551,21.98879437,19.37703396,20.51346956,24.03553105,22.89845607,22.7182355,18.22590825,24.91506728,21.27833035,22.77255917,18.97267518,22.27512704,24.35679348,19.60379304,20.18238348,23.02410338,18.86880997,24.13995025,21.35793891,24.90814655,21.43780702,23.77201471,18.48522915,20.74619325,22.74378977,20.57940608,22.91244883,19.27907819,18.18325169,24.93896255,20.01730914,24.75485098,23.96362799,22.33195853,20.83398341,21.79992115,24.67385131,24.32991649,23.22323766,21.90539577,24.89487354,21.1893007,20.24768314,57.92887167,62.73178224,59.38967583,43.35795962,55.46985938,42.35249879,45.03186173,38.23184742,63.47742011,67.38680755,68.75810535,40.03262418,49.47225353,56.67369054,57.23265151,34.13737127,38.80023714,34.69776639,37.73992903,40.1242747,55.96805489,50.12323801,47.19188279,50.54621094,38.40975482,45.3733757,49.4421345,34.13307843,35.42910045,46.68746847,41.69617915,57.97429171,67.07780816,46.48714759,39.04468913,34.51086611,37.57792132,32.24914235,36.82639309,30.98685456,30.40046769,35.72032498,47.52980027,52.10010827,34.80541039,47.19847683,46.24856523,52.79913039,66.45457122,36.52780776,56.92831399,32.31528909,56.46868874,45.70976142,45.01110015,31.94550613,35.48885969,49.94704718,35.6395615,32.45974539,51.29019509,38.83786012,44.93322042,57.3414485,48.41490082,60.54880693,59.33157782,62.4901206,43.61444121,47.2879691,40.7192594,66.68832981,61.33186249,63.46513414,39.37252634,56.01334416,35.39454002,56.03021253,67.10604388,34.75591197,59.96669215,36.67847052,33.10695144,45.93248374,54.32342534,56.31006755,60.24218572,35.29006485,48.17631461,40.58227261,69.69141302,47.70351758,50.54495302,62.56532471,58.25799145,66.35375127,44.82294584,42.89833235,66.34777265,48.93905624,64.70930606,51.27868781,59.3189118,61.09387478,54.65030015,54.1077461,55.27755933,53.57014709,58.59986279,55.77264351,45.89239456,45.38497051,56.85420099,58.51663927,51.79939437,50.7330069,47.18283631,43.6672299,44.8302551,43.58788762,55.59160391,61.5620517,49.32609633,55.25435777,51.66921088,49.66474269,46.01868196,58.22686794,53.2208266,43.65305437,56.32938343,45.90067655,60.9835384,40.00933429,57.14218792,44.359648,59.79236306,45.20094476,64.95585424,41.36561835,61.66852372,51.33189406,63.56791363,44.82069159,56.40226277,63.56222995,54.82130787,43.02151392,47.36534833,57.17377029,46.82652785,56.96640758,62.85948245,60.50320928,61.39451307,44.17085032,58.55363573,62.40392519,52.3003173,42.26206161,57.30636014,49.84213387,45.41393636,61.58245338,50.77148138,41.81420849,61.18749126,44.2252605,43.35365671,57.69622912,58.25204566,59.79023382,53.50567601,52.62741529,61.25353851,52.60950014,48.8246387,40.92604945,61.43378674,49.60384796,54.61813464,41.55934359,48.23991436,62.84916863,46.42693735,63.04749127,57.03184356,52.62696801,60.16299493,55.20522037,63.18180319,59.96664731,40.5926071,53.76623369,61.14754363,49.00323081,61.34900107,48.27531965,45.96341933,49.9767522,87.80507732,80.77275974,84.34262707,81.04554836,87.32761241,89.71503316,83.24855855,85.5701901,87.93598094,82.1193047,86.73346018,86.45147631,82.35916228,84.96089355,86.45193297,85.16906976,80.4513142,84.96771717,83.64274107,89.07866095,87.93724219,85.81675947,80.29868321,86.404241,81.67085323,82.60629652,86.20681554,88.71782287,87.50436797,88.73100226,81.59200689,84.61431076,88.4393979,86.13316408,86.99495766,84.80084105,89.1148059,88.07505524,87.16679147,83.14796296,88.50229102,89.30428305,82.76020821,85.99127934,89.9939693,82.9116472,89.99615558,87.4512669,81.94268594,85.60472562,84.8593608,89.80650642,85.44815232,86.89934108,85.91625451,81.13903037,89.92908171,84.28187572,85.85384444,87.59810657,87.60890009,82.89166381,87.17649,87.09979549,88.48312598,89.89593328,86.94206817,83.8001509,80.14487166,80.98004661,89.4875022,88.48587386,82.67639542,83.97586797,81.97952224,88.00989267,86.49366929,86.12194568,87.11497805,86.16063492,84.8845732,80.35005927,80.28038146,80.03499648,83.6869203,88.66663953,85.42058715,81.8009244,83.78911515,86.5543196,88.9570454,89.1886954,83.63802195,87.91332682,80.45744422,89.12760359,83.52706038,83.69659318,86.69133979,83.48991368,63.19915325,68.13999721,62.28814857,67.21113844,65.06601664,65.33538112,64.28791388,61.57072498,68.68401492,63.36085585,61.18235808,66.61452812,68.32176769,68.79427388,64.2097765,69.34811988,62.51007687,62.50460464,64.59457409,64.98742947,67.5861883,60.44848407,68.53997144,67.66323804,69.09047809,61.69295127,61.53278622,66.6379724,65.26774011,67.72837887,64.34848735,68.59232289,60.37332688,69.01852894,63.59948557,68.63525428,66.76017239,67.88521396,60.06534859,67.83563765,69.0854554,67.7017527,61.38597868,62.93692886,63.37230676,63.0563645,63.95425534,69.69366426,63.11296779,64.94329356,67.90577375,65.71765781,69.3478631,68.93875631,69.96100028,60.11680815,66.17587668,68.01232937,64.24992106,66.55723677,64.25510719,64.14928485,61.88871127,63.53604453,61.14508627,61.36669662,60.18122078,66.60416867,67.99803573,62.90020977,69.84354028,64.14800537,68.27085245,61.18956161,64.2020154,61.61367264,68.77994074,64.51136845,63.38789228,67.10464369,65.14877461,64.23364112,61.02701476,66.10123083,66.770943,63.64698302,66.15665137,65.91359954,62.73317204,66.74217464,65.62971858,66.31394098,67.88811637,60.13263713,63.54718862,65.67718163,62.99303471,63.29103387,61.3009051,67.77954584,63.49802189,63.27771461,60.63872613,69.92375891,68.51966729,62.13873825,60.97876599,66.14007674,62.57526895,69.15640149,60.2816298,61.78779413,63.18832976,61.77336343,62.60136323,63.18738532,61.62313345,65.8567539,64.49166566,68.65257685,68.01965728,69.6897615,63.41785982,60.09116626,67.31323084,67.55109024,65.84395319,66.70897237,66.92642362,62.44616219,69.48515056,61.18458224,66.43934593,62.70637578,60.85993533,69.12613376,69.76112921,63.93927841,60.19461399,62.04814951,68.10365387,69.29786244,63.22011726,63.68128841,68.03209183,65.44544859,65.47227704,65.73085206,67.10004577,68.93307305,61.09533545,67.40460704,63.39503184,63.46170674,62.50453062,66.895409,69.3159965,69.55863145,64.07691942,64.00213929,62.35557553,67.76252583,61.28633405,66.29327012,60.53657684,63.14909763,60.47528931,60.4989659,60.71367427,63.20915034,65.1034354,62.45851612,67.89815262,62.74710773,68.17543102,61.88321072,68.05394959,67.02664337,64.50515776,62.96841833,64.45268309,66.7729209,65.57653373,62.10652364,64.1123333,63.73086065,60.26854183,65.8108757,68.98088448,65.21662467,68.70533022,69.4073209,63.13215259,68.6428593,63.90164154,60.424786,63.58337146,67.62779652,63.83179889,66.32102048,91.63536236,89.93701023,87.4024767,94.5110662,89.90147027,92.40501423,89.3259486,91.45498527,94.27659596,92.68328358,85.19098079,85.63608688,86.35590206,93.7974061,89.73266695,89.08935702,92.30882391,94.88267728,88.16779129,89.61794165,89.9224883,94.79397419,89.31505137,91.11927248,89.75272999,91.19442671,87.31290342,91.34039616,89.68919664,88.92944254,90.83687246,89.93457597,90.29751796,87.74938524,94.95031368,89.64934166,87.84034604,94.25702672,93.87030088,85.56083187,87.59629625,93.0569505,88.1508343,89.38003827,85.56033312,91.90842992,87.95158129,90.3396556,85.12912161,85.40695044,89.39686219,93.13277,94.26304717,91.12282162,89.7870345,90.88292835,88.71691157,86.19740917,93.14554876,89.61850203,93.34236582,85.42912869,87.22815682,91.61793636,86.10874614,90.64498715,92.03009222,89.01574455,90.97819712,94.63612858,86.34233767,88.48567856,94.94330457,87.1775172,88.83768149,90.88612388,88.87651295,94.46485312,86.88738076,90.42177379,91.08706822,94.42971362,92.97527546,89.02127045,92.51675903,94.99897537,89.24126808,88.45577158,86.79058496,91.19431555,92.93386903,93.16343942,85.4017118,91.07776977,85.70786282,85.83618191,89.80732335,92.65058936,93.32657504,86.20613842,76.24900101,83.67675197,82.96221306,80.11585705,79.39654531,84.42379269,80.18546798,78.06762846,83.390039,76.16151562,82.68752542,76.50045221,75.26429821,78.8086068,78.04602887,83.34688193,78.3422098,79.68542782,75.94067692,82.54195839,76.8532006,78.89864446,84.88394407,80.79783998,82.34429458,79.19588629,77.32017166,77.38229006,81.36028902,77.79586769,83.31110751,81.4654833,81.38204104,79.28693687,76.67484233,82.0638878,82.36208097,83.33983116,81.06003778,78.71024836,79.35898915,75.03193255,80.18080728,77.25629897,83.51014178,84.97323747,78.52399914,81.95580471,77.79913575,79.59242542,81.54448882,83.6995044,81.40740301,76.57853189,82.95958244,83.96754496,81.10523402,84.41007614,82.69285419,83.55829874,75.77363772,80.47152737,76.11239849,83.50423735,81.08183635,81.33506906,81.81365007,77.95192527,79.28625709,76.05522115,84.97849241,84.51194224,84.47321314,78.34971537,78.51833782,83.31172003,80.261731,76.48541655,79.49221962,80.6430384,77.48247073,82.1888998,84.15403614,78.90085998,80.1190228,83.36307683,81.53977797,84.51602322,82.99556744,77.3970629,79.29122198,76.98740841,76.63713353,78.76260938,84.70189923,84.54625006,76.52808057,82.20793613,78.4873835,78.20585613,47.54885174,53.72979826,47.67525434,45.53556603,54.25964196,50.62161586,53.19212381,45.16127859,52.22780489,52.19331595,52.34605806,51.4271781,53.63549533,48.5622488,52.66319725,48.88704844,45.53106268,49.45962621,52.13797867,54.16482251,47.94053996,53.33018851,54.49960506,50.52559148,48.13974548,47.41196659,49.08864345,49.48613279,46.12866113,50.96040505,51.77965917,49.21729127,51.94190321,45.02236377,48.69677802,51.39586505,50.19368841,50.84881347,48.56916221,45.88744691,53.2328243,49.92963856,45.58110023,52.5896771,47.40519056,47.16808054,50.70880979,48.75613373,48.50387598,54.43945147,52.61323969,51.42664176,47.90859131,47.45553843,51.0845903,54.82257868,51.08494181,47.71875722,49.40983294,53.53903102,45.41692012,46.16888595,46.69536813,54.80750249,45.61143594,53.96886679,48.20662669,46.73723302,50.22287593,48.97047762,51.98594645,53.56092806,51.59445462,50.34035336,52.23810152,52.72170281,47.02058367,49.02450149,50.69693751,47.97230503,49.30347234,49.95955487,45.5661059,46.78393776,51.25786185,53.05980465,52.48823147,53.06009323,47.93791463,50.0983181,47.59319575,54.39416048,54.9640534,52.94641947,50.44030129,48.77926304,51.41593238,52.48100602,54.01352682,47.74916499,81.54156612,82.42614055,83.88504863,80.65968681,83.74372787,82.21079946,82.75241875,83.56812483,81.62497448,80.18393287,82.68593454,82.29335466,80.91934392,80.96093443,82.89753705,83.51444973,80.55557235,80.84806564,82.73366439,81.77713468,80.58931938,81.54185044,83.98351748,82.71775569,80.55625868,83.59398734,82.48336987,81.20876367,82.24729637,82.03812973,81.16314317,82.00335557,82.66850729,81.17931863,80.01639435,83.00471609,81.32235739,83.25447587,83.86742974,80.86325389,80.03100049,80.68700527,81.23966573,80.18612085,81.03544763,83.34010951,80.95628959,81.01783402,83.17093908,82.33098331,83.44518113,82.56407013,80.97598029,81.53996362,80.02130636,80.49979873,81.67215994,81.12109244,83.36094029,81.61051026,82.51034633,80.12211649,81.24995984,80.2827185,83.54193816,83.32560104,81.03886263,80.70695797,83.71498986,81.25353895,82.92903419,82.66396666,80.09711412,80.54942557,80.76838926,82.22118237,81.17712085,82.79092939,83.18392806,82.79782954,82.26890793,80.15215777,82.94270065,80.63399198,82.9042841,82.57813624,81.6212135,81.15595212,80.8084305,82.94703302,80.28297993,83.74765639,82.93262435,80.73112694,80.06633966,80.22631717,82.72828653,82.94573346,83.4795292,82.55138983,80.92254421,83.44621709,81.77527562,88.30866319,81.32563243,88.989272,88.7285657,89.77076659,85.34866045,89.81574032,80.04678201,84.18406764,83.31883376,83.9195902,80.22972777,84.1726996,89.64815231,89.73524177,88.22874955,80.02621335,87.6883982,86.97190046,84.26830701,87.55055105,87.5931128,89.13163965,81.44030363,80.99313508,85.05318563,88.94568335,84.20576992,82.043255,84.16390229,84.84494575,86.52258079,86.7295205,84.6378378,82.39053979,87.8274604,81.40297428,80.38266489,89.28272716,83.47202566,89.98405233,81.64075303,82.75411437,87.64081095,87.65694462,80.27525115,83.15393658,80.90127035,80.61750795,81.01009354,87.21986949,87.47409052,88.04541346,86.33904774,88.6984228,83.46230461,85.87059083,82.91481799,87.1269128,88.59143088,89.00481725,89.39655519,81.2514818,83.03687902,85.49938185,86.10782926,81.12122989,86.14585891,87.20772913,89.20454622,86.70068316,86.25426228,86.67468041,81.14149505,80.91934337,84.42478917,83.85039964,83.9862443,85.00802358,84.24340241,87.9392312,86.5507939,87.5267616,86.63249555,83.09194521,87.82430156,85.5667282,85.56967628,84.60808277,81.96664832,84.31756844,80.45846265,89.63667876,84.69546874,84.30533791,83.89241484,89.4138489,94.11878202,93.03555162,94.22237826,90.83130708,94.55695552,93.25103208,92.21405224,90.06998135,90.35567642,94.26765349,92.09688432,90.97685539,90.73891887,94.79453182,90.38971208,91.21322065,94.30111601,91.66737633,94.16748386,92.58862544,92.86798698,93.92217834,93.61870344,92.43510994,92.91440379,92.12543021,90.10051615,90.36881284,90.93897939,92.92367701,94.29753295,90.78413842,93.88482153,91.33617236,90.69759008,90.75284363,90.02696201,90.70937262,93.76312893,91.72742702,94.86907886,91.60666594,91.82172592,90.56698742,92.00687531,94.30759855,90.97015715,92.91778307,91.78336933,90.53330091,94.87679041,94.72981338,92.51054946,91.52291141,93.56161439,92.12534736,92.17444796,91.07574233,90.77069618,90.14362622,90.80015308,90.79007335,93.22980899,93.90741192,91.47355778,94.0371147,92.91185695,94.65343534,92.86597437,90.33698678,94.96218673,94.81637388,93.12603235,91.89216849,93.42402083,90.84660317,91.14849627,90.71832938,92.48839665,94.19790371,90.01506395,91.91533173,92.50969311,91.39356832,91.64193051,91.79742953,90.60932469,90.45773041,91.46241065,92.78226196,91.81758779,94.2911951,94.5513539,94.22253035,91.34685096,94.57459443,93.46806467,94.78993038,91.3821731,91.69532178,90.69489172,94.34814995,94.58900601,91.13435689,91.69913296,93.12859895,93.40819246,92.96129462,91.68748063,93.27392415,92.72043743,94.32130209,92.79630809,94.54128292,90.4935574,90.59810302,91.47684705,90.18451645,94.76285385,93.58065995,93.56585985,92.70785115,90.45261746,93.44006288,92.48667725,92.84416234,94.89613443,91.51861705,90.6878768,90.31528693,90.97597665,94.71203306,93.3204487,90.97818277,91.48135786,91.70292746,94.47811755,93.50574163,94.73763514,92.12438519,90.02575116,91.70293849,94.92048112,92.62665309,90.78572467,91.61001707,92.73446667,92.80441624,91.53331177,90.37981478,90.03577124,92.21083961,91.45665004,92.39544055,91.22759742,92.82223419,93.90191078,92.45878335,90.84422164,93.74461474,92.99124545,94.5764581,93.84505029,90.80819418,90.49939035,94.33919546,93.51978375,90.74531921,92.12992101,91.12719303,92.54780429,91.92360477,92.15595143,93.45067555,94.36803516,92.43764169,90.70475565,90.22507299,92.83975602,91.59234006,91.95769858,92.25479855,92.88160462,93.661643,94.67695747,90.23730166,91.15761594,92.70124029,90.09877774,90.34396882,93.91722423,90.95257927,90.69033986,90.90054697,94.58075845,92.48879468,90.85174383,93.82567435,94.50528753,90.27185592,92.51077745,91.50819306,91.35608208,92.04304496,91.57802915,92.91487288,92.04670813,92.00719952,90.90343769,90.26408017,91.5473145,90.31153735,90.14362642,91.22062116,94.45239715,94.39000473,93.63812684,90.72351622,90.10522549,91.28408653,94.25966183,91.97978938,91.98317355,93.36348717,92.9641969,91.06053924,92.15987039,94.8933184,94.35734702,93.48447453,90.4582865,92.03272799,90.26457428,90.22399223,90.60901895,90.65458473,94.01331956,92.39651663,91.35349216,91.38411917,91.34663797,93.37488907,93.24688124,93.04897191,92.87820148,91.90997228,91.74780462,93.52211892,93.12316972,94.14861001,91.94670335,94.55239717,90.93756231,91.13772765,91.68293851,91.11764246,92.18151927,93.10527686,91.15248149,91.48247612,90.03969587,92.86773675,91.52781832,90.95589386,93.72485075,94.02769434,93.67804556,90.91510525,90.50621806,91.81183218,91.69865887,91.81668769,93.68394562,92.22706805,94.96419851,90.15406807,94.35815354,90.19147747,94.78797376,90.50096668,93.75652041,91.71369387,92.13229786,94.51768464,91.22320999,93.43949693,94.76759975,90.12220323,90.00621688,94.59551226,93.27189064,90.71037456,91.4448027,92.05811721,90.56151463,90.54608254,92.54736032,94.47316879,90.9492967,93.25638873,91.49725058,90.79028064,91.14220381,92.11508608,90.07600528,92.85470152,92.76437927,93.71043692,90.81781439,94.50766912,91.70445386,91.4618874,91.38048469,93.0484859,93.06134398,94.60761797,93.63739039,90.78931681,91.55594211,91.48815629,94.65904123,91.72514851,92.83405443,90.72526502,92.90951393,91.40301608,92.61715632,93.61082872,94.16193416,91.12220596,91.25589286,94.17756725,92.09278584,90.79668055,93.3210737,90.55561637,93.00754254,90.87394933,90.51431779,90.61964344,91.37059792,92.98254537,94.63548176,93.10887229,92.92203105,92.12746225,91.66232213,90.03863107,94.94482086,94.63676767,93.90305729,93.96834049,91.37258067,93.18240298,91.06138506,92.27749066,90.21646909,91.3256535,91.1756748,94.31994776,93.90560147,93.35191636,90.75379971,93.12659793,93.22642604,93.47888842,94.6428898,90.34546355,93.61055571,93.30641944,94.43877142,92.38282957,90.78821158,92.25197542,90.44967809,94.73613484,92.74889453,93.10378595,90.09448142,92.74501561,91.99740365,93.15642801,93.02871078,93.02357765,94.57377401,90.20396783,90.17015833,91.25271223,94.94021378,92.9585411,90.14732171,93.97379963,93.79503425,93.69111672,92.76039164,94.35110201,91.58076549,91.1508798,91.79430166,91.07355541,92.86056895,94.3138837,95.64807631,91.53720922,99.64573002,95.11294697,93.69979946,90.92669463,90.98617591,99.18843684,91.81320717,96.93649473,96.46168931,99.34854917,99.65809151,95.23797989,97.61361544,93.40548703,95.01630593,91.30924833,97.00155491,90.01734526,94.18955816,95.48763389,94.01014388,95.78923137,97.00396405,96.65248672,96.30484325,96.66355213,91.95614918,93.31410447,91.20106019,93.64761266,92.73041222,91.64509299,93.27565685,98.08951196,98.62048026,91.91185319,92.17170353,97.76865458,93.39676499,95.59224018,91.14723422,94.59086121,98.38227669,95.89739958,95.66997327,91.10510371,96.96637916,92.48519606,94.65830608,95.11320315,94.48414544,91.72546257,94.90485697,98.3670985,92.56492864,95.16333673,92.36099489,92.19906776,90.79093862,95.94643831,99.96906006,99.64328526,96.97300803,95.65754365,91.64194826,91.49882979,92.90736493,95.71935435,90.73966792,91.52421214,95.02156793,96.92786777,95.67906668,96.7036223,94.38420565,94.73860514,95.41122824,91.40896307,95.21224392,93.28415295,94.79998418,91.48889469,98.09861043,96.38580769,94.33465411,99.98187601,97.48410555,99.7240104,99.84671638,90.27214288,98.29937782,95.8840407,93.00109012,93.45042636,93.84150618,98.80313612,79.19732001,84.86275707,76.97696717,75.62137159,83.63276077,81.7358876,80.53965818,81.30681027,79.29573149,79.12404171,83.55546146,83.63488952,75.88298598,84.84422454,84.44932014,82.24415809,81.73049149,76.04203958,78.17952126,77.0543546,81.69105088,81.38103349,84.62978302,84.55794703,82.21276599,77.21705554,82.5993307,79.9751579,83.4630147,77.51235009,77.43198948,78.22080815,84.51591287,79.04368718,84.47601498,84.09229796,79.47270984,78.1258666,78.02763149,75.6350708,84.87668973,81.02453404,84.61527627,81.19666206,76.30050373,77.34264002,75.68339729,76.43836957,81.31677618,80.30351815,77.07598065,76.25674874,75.53835214,75.66653335,82.33733678,84.14668447,75.98203329,80.80343786,75.37170612,81.13668716,81.79475917,81.53480799,75.00539324,77.90621048,82.8597549,82.50257909,76.17851932,76.59175937,76.53237965,83.03878838,76.7433897,77.91757121,80.3509046,78.71555832,80.41198458,83.91902605,81.56641891,81.97904282,80.04662756,81.69801729,76.47039772,76.72621429,76.75768356,77.7293114,82.44777468,77.85055621,82.82904143,78.51206972,84.16855231,75.40989245,77.52425987,81.83896111,80.13456404,82.68738535,78.63388824,78.58320116,76.11021529,75.39752705,75.77503808,83.86129998,72.24850829,82.94164078,86.8870535,88.16513579,72.00460848,72.01364411,85.08640476,88.80391021,75.14640198,83.12053888,71.91711523,88.36668522,74.68322732,88.95692783,70.88259632,79.26861738,71.4509053,81.86171563,78.21047693,74.63745355,73.84186449,72.60512854,79.78725152,74.99739774,77.62976013,89.89106506,80.76238215,84.48235878,76.2403666,81.70476368,78.54340987,87.98329901,78.53037059,74.09956958,70.89000744,85.72530641,83.46409075,81.45139295,82.85284045,71.31342851,74.4407048,76.85691248,77.01222585,82.7015932,87.06071115,78.62697699,80.49172597,81.65769588,73.35763537,83.31240346,73.7459581,78.45959697,81.76904006,87.88255345,79.95150917,87.81661683,80.90424543,72.97198375,73.19897535,82.11319791,79.15532398,88.3313023,76.44048625,74.27607475,82.09053379,83.20630007,84.09985284,79.46283115,74.89465426,86.97061481,79.47557931,82.09281674,76.66724969,89.86454053,78.00774772,78.20392774,81.13449097,80.57226761,86.20899734,78.51063754,71.14782585,79.1188943,71.23690851,73.48655995,77.17331847,80.94023552,86.84264005,70.95705996,79.79609448,73.96164569,74.36794079,75.99987588,73.65346838,89.05587886,86.14290267,86.79261344,88.07112278,81.68688879,82.286484,73.81994896,57.36469955,55.32222678,52.88667115,56.18107663,60.39523266,52.26994674,50.40609436,63.65861483,51.11044023,69.35161206,55.55164819,52.50987966,57.27927475,51.93952357,55.99375012,62.26244581,68.00096043,52.95261751,60.5160021,57.53161469,57.72920846,60.49244602,51.29043632,62.65692638,66.76090123,66.99765375,52.89368299,68.49299897,55.27564977,52.13864034,51.29142534,64.72543073,51.59100753,67.09608099,60.76645256,58.45742907,53.00366334,54.30329632,64.10651528,55.83288958,56.7685316,65.64381357,66.02411187,62.1445102,62.26594559,63.55324262,61.03273481,54.36976075,54.28617819,52.24226285,55.7497332,61.26002598,55.51673151,50.56339727,57.93250202,54.41094079,61.10935084,67.37768353,68.66257977,53.57285558,52.25738495,57.1621814,58.50650238,57.88370456,55.18792166,59.68849145,69.94807345,53.83876189,63.37479229,64.47858698,62.67087838,67.96910852,52.31098539,64.57578034,54.15319242,68.4233391,52.26311691,67.06230539,68.44030686,68.48030408,58.84880599,69.71184111,50.50148528,56.46829641,50.66687215,58.52534263,57.56695719,62.0183627,52.97841162,65.44340921,55.196224,62.88179198,57.04151119,50.04557009,53.74144743,66.4132686,56.63636248,67.22512329,52.12739421,60.39647474],\"y0\":\" \",\"yaxis\":\"y\",\"type\":\"box\"}],                        {\"template\":{\"data\":{\"bar\":[{\"error_x\":{\"color\":\"#2a3f5f\"},\"error_y\":{\"color\":\"#2a3f5f\"},\"marker\":{\"line\":{\"color\":\"#E5ECF6\",\"width\":0.5},\"pattern\":{\"fillmode\":\"overlay\",\"size\":10,\"solidity\":0.2}},\"type\":\"bar\"}],\"barpolar\":[{\"marker\":{\"line\":{\"color\":\"#E5ECF6\",\"width\":0.5},\"pattern\":{\"fillmode\":\"overlay\",\"size\":10,\"solidity\":0.2}},\"type\":\"barpolar\"}],\"carpet\":[{\"aaxis\":{\"endlinecolor\":\"#2a3f5f\",\"gridcolor\":\"white\",\"linecolor\":\"white\",\"minorgridcolor\":\"white\",\"startlinecolor\":\"#2a3f5f\"},\"baxis\":{\"endlinecolor\":\"#2a3f5f\",\"gridcolor\":\"white\",\"linecolor\":\"white\",\"minorgridcolor\":\"white\",\"startlinecolor\":\"#2a3f5f\"},\"type\":\"carpet\"}],\"choropleth\":[{\"colorbar\":{\"outlinewidth\":0,\"ticks\":\"\"},\"type\":\"choropleth\"}],\"contour\":[{\"colorbar\":{\"outlinewidth\":0,\"ticks\":\"\"},\"colorscale\":[[0.0,\"#0d0887\"],[0.1111111111111111,\"#46039f\"],[0.2222222222222222,\"#7201a8\"],[0.3333333333333333,\"#9c179e\"],[0.4444444444444444,\"#bd3786\"],[0.5555555555555556,\"#d8576b\"],[0.6666666666666666,\"#ed7953\"],[0.7777777777777778,\"#fb9f3a\"],[0.8888888888888888,\"#fdca26\"],[1.0,\"#f0f921\"]],\"type\":\"contour\"}],\"contourcarpet\":[{\"colorbar\":{\"outlinewidth\":0,\"ticks\":\"\"},\"type\":\"contourcarpet\"}],\"heatmap\":[{\"colorbar\":{\"outlinewidth\":0,\"ticks\":\"\"},\"colorscale\":[[0.0,\"#0d0887\"],[0.1111111111111111,\"#46039f\"],[0.2222222222222222,\"#7201a8\"],[0.3333333333333333,\"#9c179e\"],[0.4444444444444444,\"#bd3786\"],[0.5555555555555556,\"#d8576b\"],[0.6666666666666666,\"#ed7953\"],[0.7777777777777778,\"#fb9f3a\"],[0.8888888888888888,\"#fdca26\"],[1.0,\"#f0f921\"]],\"type\":\"heatmap\"}],\"heatmapgl\":[{\"colorbar\":{\"outlinewidth\":0,\"ticks\":\"\"},\"colorscale\":[[0.0,\"#0d0887\"],[0.1111111111111111,\"#46039f\"],[0.2222222222222222,\"#7201a8\"],[0.3333333333333333,\"#9c179e\"],[0.4444444444444444,\"#bd3786\"],[0.5555555555555556,\"#d8576b\"],[0.6666666666666666,\"#ed7953\"],[0.7777777777777778,\"#fb9f3a\"],[0.8888888888888888,\"#fdca26\"],[1.0,\"#f0f921\"]],\"type\":\"heatmapgl\"}],\"histogram\":[{\"marker\":{\"pattern\":{\"fillmode\":\"overlay\",\"size\":10,\"solidity\":0.2}},\"type\":\"histogram\"}],\"histogram2d\":[{\"colorbar\":{\"outlinewidth\":0,\"ticks\":\"\"},\"colorscale\":[[0.0,\"#0d0887\"],[0.1111111111111111,\"#46039f\"],[0.2222222222222222,\"#7201a8\"],[0.3333333333333333,\"#9c179e\"],[0.4444444444444444,\"#bd3786\"],[0.5555555555555556,\"#d8576b\"],[0.6666666666666666,\"#ed7953\"],[0.7777777777777778,\"#fb9f3a\"],[0.8888888888888888,\"#fdca26\"],[1.0,\"#f0f921\"]],\"type\":\"histogram2d\"}],\"histogram2dcontour\":[{\"colorbar\":{\"outlinewidth\":0,\"ticks\":\"\"},\"colorscale\":[[0.0,\"#0d0887\"],[0.1111111111111111,\"#46039f\"],[0.2222222222222222,\"#7201a8\"],[0.3333333333333333,\"#9c179e\"],[0.4444444444444444,\"#bd3786\"],[0.5555555555555556,\"#d8576b\"],[0.6666666666666666,\"#ed7953\"],[0.7777777777777778,\"#fb9f3a\"],[0.8888888888888888,\"#fdca26\"],[1.0,\"#f0f921\"]],\"type\":\"histogram2dcontour\"}],\"mesh3d\":[{\"colorbar\":{\"outlinewidth\":0,\"ticks\":\"\"},\"type\":\"mesh3d\"}],\"parcoords\":[{\"line\":{\"colorbar\":{\"outlinewidth\":0,\"ticks\":\"\"}},\"type\":\"parcoords\"}],\"pie\":[{\"automargin\":true,\"type\":\"pie\"}],\"scatter\":[{\"marker\":{\"colorbar\":{\"outlinewidth\":0,\"ticks\":\"\"}},\"type\":\"scatter\"}],\"scatter3d\":[{\"line\":{\"colorbar\":{\"outlinewidth\":0,\"ticks\":\"\"}},\"marker\":{\"colorbar\":{\"outlinewidth\":0,\"ticks\":\"\"}},\"type\":\"scatter3d\"}],\"scattercarpet\":[{\"marker\":{\"colorbar\":{\"outlinewidth\":0,\"ticks\":\"\"}},\"type\":\"scattercarpet\"}],\"scattergeo\":[{\"marker\":{\"colorbar\":{\"outlinewidth\":0,\"ticks\":\"\"}},\"type\":\"scattergeo\"}],\"scattergl\":[{\"marker\":{\"colorbar\":{\"outlinewidth\":0,\"ticks\":\"\"}},\"type\":\"scattergl\"}],\"scattermapbox\":[{\"marker\":{\"colorbar\":{\"outlinewidth\":0,\"ticks\":\"\"}},\"type\":\"scattermapbox\"}],\"scatterpolar\":[{\"marker\":{\"colorbar\":{\"outlinewidth\":0,\"ticks\":\"\"}},\"type\":\"scatterpolar\"}],\"scatterpolargl\":[{\"marker\":{\"colorbar\":{\"outlinewidth\":0,\"ticks\":\"\"}},\"type\":\"scatterpolargl\"}],\"scatterternary\":[{\"marker\":{\"colorbar\":{\"outlinewidth\":0,\"ticks\":\"\"}},\"type\":\"scatterternary\"}],\"surface\":[{\"colorbar\":{\"outlinewidth\":0,\"ticks\":\"\"},\"colorscale\":[[0.0,\"#0d0887\"],[0.1111111111111111,\"#46039f\"],[0.2222222222222222,\"#7201a8\"],[0.3333333333333333,\"#9c179e\"],[0.4444444444444444,\"#bd3786\"],[0.5555555555555556,\"#d8576b\"],[0.6666666666666666,\"#ed7953\"],[0.7777777777777778,\"#fb9f3a\"],[0.8888888888888888,\"#fdca26\"],[1.0,\"#f0f921\"]],\"type\":\"surface\"}],\"table\":[{\"cells\":{\"fill\":{\"color\":\"#EBF0F8\"},\"line\":{\"color\":\"white\"}},\"header\":{\"fill\":{\"color\":\"#C8D4E3\"},\"line\":{\"color\":\"white\"}},\"type\":\"table\"}]},\"layout\":{\"annotationdefaults\":{\"arrowcolor\":\"#2a3f5f\",\"arrowhead\":0,\"arrowwidth\":1},\"autotypenumbers\":\"strict\",\"coloraxis\":{\"colorbar\":{\"outlinewidth\":0,\"ticks\":\"\"}},\"colorscale\":{\"diverging\":[[0,\"#8e0152\"],[0.1,\"#c51b7d\"],[0.2,\"#de77ae\"],[0.3,\"#f1b6da\"],[0.4,\"#fde0ef\"],[0.5,\"#f7f7f7\"],[0.6,\"#e6f5d0\"],[0.7,\"#b8e186\"],[0.8,\"#7fbc41\"],[0.9,\"#4d9221\"],[1,\"#276419\"]],\"sequential\":[[0.0,\"#0d0887\"],[0.1111111111111111,\"#46039f\"],[0.2222222222222222,\"#7201a8\"],[0.3333333333333333,\"#9c179e\"],[0.4444444444444444,\"#bd3786\"],[0.5555555555555556,\"#d8576b\"],[0.6666666666666666,\"#ed7953\"],[0.7777777777777778,\"#fb9f3a\"],[0.8888888888888888,\"#fdca26\"],[1.0,\"#f0f921\"]],\"sequentialminus\":[[0.0,\"#0d0887\"],[0.1111111111111111,\"#46039f\"],[0.2222222222222222,\"#7201a8\"],[0.3333333333333333,\"#9c179e\"],[0.4444444444444444,\"#bd3786\"],[0.5555555555555556,\"#d8576b\"],[0.6666666666666666,\"#ed7953\"],[0.7777777777777778,\"#fb9f3a\"],[0.8888888888888888,\"#fdca26\"],[1.0,\"#f0f921\"]]},\"colorway\":[\"#636efa\",\"#EF553B\",\"#00cc96\",\"#ab63fa\",\"#FFA15A\",\"#19d3f3\",\"#FF6692\",\"#B6E880\",\"#FF97FF\",\"#FECB52\"],\"font\":{\"color\":\"#2a3f5f\"},\"geo\":{\"bgcolor\":\"white\",\"lakecolor\":\"white\",\"landcolor\":\"#E5ECF6\",\"showlakes\":true,\"showland\":true,\"subunitcolor\":\"white\"},\"hoverlabel\":{\"align\":\"left\"},\"hovermode\":\"closest\",\"mapbox\":{\"style\":\"light\"},\"paper_bgcolor\":\"white\",\"plot_bgcolor\":\"#E5ECF6\",\"polar\":{\"angularaxis\":{\"gridcolor\":\"white\",\"linecolor\":\"white\",\"ticks\":\"\"},\"bgcolor\":\"#E5ECF6\",\"radialaxis\":{\"gridcolor\":\"white\",\"linecolor\":\"white\",\"ticks\":\"\"}},\"scene\":{\"xaxis\":{\"backgroundcolor\":\"#E5ECF6\",\"gridcolor\":\"white\",\"gridwidth\":2,\"linecolor\":\"white\",\"showbackground\":true,\"ticks\":\"\",\"zerolinecolor\":\"white\"},\"yaxis\":{\"backgroundcolor\":\"#E5ECF6\",\"gridcolor\":\"white\",\"gridwidth\":2,\"linecolor\":\"white\",\"showbackground\":true,\"ticks\":\"\",\"zerolinecolor\":\"white\"},\"zaxis\":{\"backgroundcolor\":\"#E5ECF6\",\"gridcolor\":\"white\",\"gridwidth\":2,\"linecolor\":\"white\",\"showbackground\":true,\"ticks\":\"\",\"zerolinecolor\":\"white\"}},\"shapedefaults\":{\"line\":{\"color\":\"#2a3f5f\"}},\"ternary\":{\"aaxis\":{\"gridcolor\":\"white\",\"linecolor\":\"white\",\"ticks\":\"\"},\"baxis\":{\"gridcolor\":\"white\",\"linecolor\":\"white\",\"ticks\":\"\"},\"bgcolor\":\"#E5ECF6\",\"caxis\":{\"gridcolor\":\"white\",\"linecolor\":\"white\",\"ticks\":\"\"}},\"title\":{\"x\":0.05},\"xaxis\":{\"automargin\":true,\"gridcolor\":\"white\",\"linecolor\":\"white\",\"ticks\":\"\",\"title\":{\"standoff\":15},\"zerolinecolor\":\"white\",\"zerolinewidth\":2},\"yaxis\":{\"automargin\":true,\"gridcolor\":\"white\",\"linecolor\":\"white\",\"ticks\":\"\",\"title\":{\"standoff\":15},\"zerolinecolor\":\"white\",\"zerolinewidth\":2}}},\"xaxis\":{\"anchor\":\"y\",\"domain\":[0.0,1.0]},\"yaxis\":{\"anchor\":\"x\",\"domain\":[0.0,1.0],\"title\":{\"text\":\"humidity\"}},\"legend\":{\"tracegroupgap\":0},\"margin\":{\"t\":60},\"boxmode\":\"group\"},                        {\"responsive\": true}                    ).then(function(){\n",
              "                            \n",
              "var gd = document.getElementById('408122f6-81c0-49e7-bc4b-57fcd1daad3a');\n",
              "var x = new MutationObserver(function (mutations, observer) {{\n",
              "        var display = window.getComputedStyle(gd).display;\n",
              "        if (!display || display === 'none') {{\n",
              "            console.log([gd, 'removed!']);\n",
              "            Plotly.purge(gd);\n",
              "            observer.disconnect();\n",
              "        }}\n",
              "}});\n",
              "\n",
              "// Listen for the removal of the full notebook cells\n",
              "var notebookContainer = gd.closest('#notebook-container');\n",
              "if (notebookContainer) {{\n",
              "    x.observe(notebookContainer, {childList: true});\n",
              "}}\n",
              "\n",
              "// Listen for the clearing of the current output cell\n",
              "var outputEl = gd.closest('.output');\n",
              "if (outputEl) {{\n",
              "    x.observe(outputEl, {childList: true});\n",
              "}}\n",
              "\n",
              "                        })                };                            </script>        </div>\n",
              "</body>\n",
              "</html>"
            ]
          },
          "metadata": {}
        }
      ]
    },
    {
      "cell_type": "code",
      "source": [
        "fig = px.box(data, y=\"ph\",points=\"all\")\n",
        "fig.show()"
      ],
      "metadata": {
        "colab": {
          "base_uri": "https://localhost:8080/",
          "height": 542
        },
        "id": "0mqTDt-iiSta",
        "outputId": "9b5abb13-7e4a-4a41-82ad-d19d59e35e93"
      },
      "execution_count": null,
      "outputs": [
        {
          "output_type": "display_data",
          "data": {
            "text/html": [
              "<html>\n",
              "<head><meta charset=\"utf-8\" /></head>\n",
              "<body>\n",
              "    <div>            <script src=\"https://cdnjs.cloudflare.com/ajax/libs/mathjax/2.7.5/MathJax.js?config=TeX-AMS-MML_SVG\"></script><script type=\"text/javascript\">if (window.MathJax) {MathJax.Hub.Config({SVG: {font: \"STIX-Web\"}});}</script>                <script type=\"text/javascript\">window.PlotlyConfig = {MathJaxConfig: 'local'};</script>\n",
              "        <script src=\"https://cdn.plot.ly/plotly-2.8.3.min.js\"></script>                <div id=\"59cc0dee-6c1a-4079-bed1-70b8b9eb641b\" class=\"plotly-graph-div\" style=\"height:525px; width:100%;\"></div>            <script type=\"text/javascript\">                                    window.PLOTLYENV=window.PLOTLYENV || {};                                    if (document.getElementById(\"59cc0dee-6c1a-4079-bed1-70b8b9eb641b\")) {                    Plotly.newPlot(                        \"59cc0dee-6c1a-4079-bed1-70b8b9eb641b\",                        [{\"alignmentgroup\":\"True\",\"boxpoints\":\"all\",\"hovertemplate\":\"ph=%{y}<extra></extra>\",\"legendgroup\":\"\",\"marker\":{\"color\":\"#636efa\"},\"name\":\"\",\"notched\":false,\"offsetgroup\":\"\",\"orientation\":\"v\",\"showlegend\":false,\"x0\":\" \",\"xaxis\":\"x\",\"y\":[6.502985292,7.038096361,7.840207144,6.980400905,7.628472891,7.073453503,5.70080568,5.718627178,6.685346424,6.336253525,5.386167788,7.50283396,5.108681786,6.98435366,6.94801983,7.042299069,6.249050656,6.970859754,5.953933276,5.85393208,6.442475375,5.070175667,6.012632591,6.254028451,7.375482851,7.778915154,6.286500176,7.070959995,6.244841491,6.043304899,5.824709117,6.357389366,6.364134968,5.01450727,6.149410611,5.950660556,5.960370061,5.561398642,7.416245107,5.583370042,6.430010215,5.534878156,6.903985986,6.271478838,7.224285503,6.13428721,5.206373153,7.782051313,7.062779015,7.730367824,5.286203711,6.766240045,7.382762603,5.658169482,5.543360238,6.215109715,7.120272972,5.950647577,7.236705436,6.501697816,7.592490617,5.875345751,6.932400225,6.946209881,5.739175027,6.738652179,5.594819626,6.946636369,5.012139669,6.363472208,6.880431223,7.300410836,6.587918708,7.283736617,7.023936392,6.939083505,7.868474653,5.005306977,6.136131869,7.524080076,5.706943251,5.758506323,6.349606327,5.999969026,5.453592032,6.372576327,5.105588355,5.935344406,5.17782304,6.462391607,7.069172227,7.473134377,6.158376967,7.549873681,6.028321558,6.604993475,6.500343222,5.935745417,7.072655622,5.333322606,5.749914421,6.931756558,6.657964753,6.596060648,5.970458434,6.158830619,6.047906679,5.913664501,5.855442401,5.750254943,5.852607099,6.472523287,6.967057762,6.082973754,5.919045532,6.204747653,6.600827017,6.021902237,6.033550195,6.28886807,6.550563823,5.573286437,6.829199275,5.716222912,5.54990242,6.586244581,5.893093135,5.918263801,5.588650585,6.576418207,6.178056304,6.641906353,6.489040367,5.680361038,6.625404348,6.524478032,5.696205468,6.803931519,6.252797548,6.092725883,6.234330356,5.722579819,6.430616465,5.983952675,6.80163854,6.499936446,6.265564338,6.727303282,6.325235159,6.807487794,6.671085817,6.648725327,6.439071996,6.474476516,5.871647806,5.730617109,5.850439831,5.791649933,6.740000688,6.272417541,5.715208817,5.773454729,5.584171461,5.787268394,5.77597783,6.864793607,6.192360003,6.636803223,5.826426917,6.960358276,6.11275104,6.708446922,5.561510732,5.873242491,6.995843776,5.714799723,6.78073637,5.513697923,5.798423908,6.352471866,6.822586546,6.655426355,6.121294041,5.790770203,6.47444292,6.455116637,6.606984086,6.330554389,6.528631266,5.721667141,6.644205485,6.376651091,6.247040422,6.656730008,6.2048017,6.158860284,6.385684214,6.417820493,6.381201909,6.877869005,7.485996067,6.920251378,5.996932037,6.391173589,7.152811172,5.988992796,6.231049028,7.550808267,7.010570541,8.753795334,8.718192847,7.976607593,6.515499549,8.490127142,6.576415562,6.481783043,7.966605025,8.140825437,7.228963452,6.492546046,7.528599957,7.701446446,8.519975748,6.620900869,8.104396058,6.204090835,6.051091339,7.690962338,7.829211144,6.761599706,6.654425315,6.129533877,8.829273328,8.621662982,8.204862075,6.18042747,7.978996755,7.863113671,6.967843048,6.206582193,8.868741443,8.766128654,8.736337905,8.081095263,6.138243973,7.496645259,8.380185271,6.289614016,6.586777189,6.89655198,7.806747656,7.150681303,6.64919573,7.778591618,6.358740355,8.255450758,6.456148474,6.613072145,8.165359297,7.64867466,6.545888558,7.104224797,7.358099622,6.4740245,7.840339389,7.064790365,7.599033472,6.715587232,6.81712422,7.985417393,7.545258424,7.728998197,7.354973451,7.313122235,7.785039076,6.307004923,6.403982316,7.599279991,7.217018459,7.561108006,7.489545074,6.609696734,7.476800943,7.325451279,6.489389282,7.786366322,6.408437886,8.423873703,8.719960893,7.811997977,6.317153205,7.114405288,8.135900726,7.714153038,7.103798069,8.861479668,7.861128148,7.4526709,7.168096055,7.26311855,5.68597166,5.759237003,5.873171894,5.926676985,5.95561668,5.949949081,5.789214289,5.581021521,5.689858133,5.794158504,5.748190463,5.566522896,5.809419584,5.887263027,5.99812453,5.792744849,5.912289889,5.788386951,5.728233081,5.833940084,5.967533236,5.625096446,5.515615023,5.954665349,5.74644777,5.877347515,5.979973965,5.635993966,5.635231778,5.679224346,5.670062975,5.724242065,5.811314232,5.783425416,5.607808432,5.946999529,5.852046999,5.824090984,5.502999119,5.821649914,5.711439256,5.514927264,5.99616119,5.695422863,5.833010958,5.568456899,5.645435626,5.821194486,5.659254981,5.945465949,5.951177452,5.520880014,5.578410206,5.608165195,5.609435128,5.509295379,5.902033406,5.744117663,5.717143397,5.542690119,5.858617867,5.618844277,5.606620346,5.582178402,5.56503533,5.889614577,5.934136378,5.683548308,5.70836603,5.948164454,5.774755144,5.97229163,5.532100554,5.669560726,5.655726817,5.591704014,5.932323085,5.824208309,5.86442953,5.866744372,5.706198621,5.940546818,5.916779289,5.779090476,5.82738029,5.514234138,5.662699104,5.86390397,5.624690248,5.591560999,5.976312538,5.669236258,5.961934481,5.690065688,5.698371311,5.59503163,5.525904526,5.819403771,5.562201934,5.630664753,6.03160778,5.269084669,5.985792703,6.09186275,5.624731338,6.446091759,5.623490043,5.864623352,5.761702519,4.696518678,5.269504214,7.445444883,5.833031708,7.339320929,6.347929353,4.697750704,4.962661422,4.964887857,5.642813116,5.6093956,4.681576043,5.70951224,6.413543781,6.007508163,4.946369874,5.517208078,5.902103172,5.719889876,4.548202098,6.669529416,4.750929218,4.946263888,5.266227032,7.10959773,5.617008201,5.632353113,4.674941549,7.161797643,6.624966131,5.004074624,6.345806011,6.216814453,5.921666758,6.012719118,4.684079249,7.077170002,6.208843215,7.05181629,4.722222454,6.418062652,4.803564468,4.608695247,5.611510977,7.322097972,5.023115055,5.617122801,5.391560418,5.906596905,6.574209678,4.807776749,4.760038039,5.180271502,4.895927306,6.436160044,7.066087261,6.655918078,5.982854523,5.457871273,4.759490199,7.342409555,4.820788186,6.242052013,5.001038726,5.560224583,4.747352458,7.313517308,5.661826398,4.672437054,6.471862118,5.384762927,5.859813416,6.962386495,6.12166671,6.421748487,4.828936119,6.98571967,4.603563116,6.979540061,7.064973419,5.16516459,5.111488821,5.374358869,5.671419084,5.667419697,6.07938452,6.931924963,6.842744374,6.876572503,6.151029296,4.567446499,3.692863601,4.371745575,8.399135958,8.840656256,8.153022903,5.270749441,8.050304395,9.679240873,6.974978386,7.39389918,6.68727523,7.88118645,5.875333778,8.202706015,8.985348193,5.87707519,7.707595055,4.524171562,9.926212291,6.455592696,8.016210782,3.71105919,5.49091063,9.254089438,6.005242945,7.437078236,3.808429173,5.818219385,4.52363558,3.510404312,6.030447288,5.498340808,4.61136408,5.545219232,8.292875734,3.828031463,8.869532817,3.793575185,4.193189124,7.661537348,9.392694614,4.516154055,5.794289715,7.354286985,5.993513566,8.620107545,9.45949344,8.0344125,5.414492777,6.276004336,9.160691747,7.887658711,8.183844843,9.072011412,7.702287236,5.88509677,6.16496284,3.504752314,7.388007483,8.340398059,8.66077954,3.558822825,5.9565851,9.416003106,8.18422855,5.131779302,6.294130313,7.991902443,8.923095695,6.878498176,5.243634849,7.550090941,8.709291688,7.792508068,8.055908858,4.397698806,5.952384957,8.532078733,7.224193642,4.931890506,4.626212446,5.026003659,3.5253661,8.86979671,9.406887533,5.80428611,8.35495812,8.634929739,7.699200949,5.261285926,9.112771682,4.605700542,7.115994051,7.214078621,9.93509073,8.914074888,8.639586199,8.621514073,5.838508699,3.532008668,7.18530147,7.034214276,6.635968698,6.828187499,6.89077995,7.165121109,6.935804256,7.196774236,6.990095452,7.064782138,7.156563094,6.364967184,6.428054409,6.664187809,6.637677489,6.79385576,6.852884643,7.121571293,6.883308033,6.421271178,6.54450214,6.452006451,6.489259136,6.713410626,6.510840928,6.287380117,6.86308576,6.78415271,6.769415888,6.320768488,6.705008504,6.790736339,7.130278657,7.012740397,7.155685016,6.991242362,6.218923893,7.199495368,6.389882166,6.623438282,7.033012777,6.32400451,6.397636709,6.401455706,6.904587016,6.478557136,7.063022095,6.981758362,6.227134139,6.232836962,7.140437859,6.459252023,6.568795404,7.12851089,6.42937879,6.248900919,6.619891498,6.377568542,6.415459592,6.320662012,6.978400282,6.442335593,7.184398832,6.402926221,7.085982325,6.698574085,6.594739424,6.647965508,7.120032489,6.91380932,7.073048264,6.5304707,6.684381357,6.581351374,6.86483915,6.487124217,6.605733068,6.860602782,6.41874299,6.365513634,6.556372966,6.760694228,6.715276663,6.666380512,6.626629798,6.702772465,7.011030515,6.890156495,6.821747052,7.183189922,6.27258822,6.679127482,6.689825155,6.583381939,6.725551062,7.069747814,6.921993878,6.770955317,6.983130466,6.267684328,7.454532137,7.040056094,7.418650668,6.501869314,6.814410928,7.581442888,7.741418772,6.573531614,7.543804223,6.5408208,7.22405917,7.551364319,6.928898659,7.747775263,6.706505915,6.668238556,7.332375138,7.596802025,7.70650895,7.366542647,6.919243702,7.187721818,7.075886472,6.74441168,6.726469088,6.628264883,7.127064207,7.538631462,7.162357641,6.859409487,7.397190844,6.880245789,6.581313137,7.296972161,6.97297656,7.241148507,6.92009048,7.504608385,7.152272256,7.137004749,6.808041722,7.393631868,7.69950698,6.602888249,6.734447425,6.521217963,7.707332484,6.596719015,7.403623355,7.517097,7.17620823,6.593961761,7.143942758,6.690655045,7.423530351,6.578714843,7.497469256,7.775306272,7.322555223,7.580527339,7.108450121,7.358974541,7.405176138,6.500144962,7.167435834,7.261791753,7.586642101,7.534811833,7.251000789,6.513620918,7.121254928,7.574561547,7.350869792,7.513151076,7.025607706,6.804253866,7.163043872,7.338929556,6.621323612,6.661870999,7.733149554,7.402891666,6.599147298,7.04174124,7.353876754,7.026795359,6.814301033,7.42160832,6.847382891,7.191522601,7.01285529,7.368318809,7.26154329,6.52669158,6.872594461,6.874142175,7.76061831,6.781841984,7.326980454,7.453975408,7.604110177,7.728832424,7.491217102,6.633864582,7.324863481,6.410441476,7.836719564,6.139215944,6.590571088,7.286049978,6.058306161,6.658605362,7.299360767,7.815210661,5.925391795,6.403683619,7.397546271,7.722335992,7.475926645,6.887130053,7.441976825,7.629910253,7.336117221,6.75020529,7.52178027,6.347379185,7.135251532,7.670178119,7.399749291,7.841496029,6.254216611,6.868881708,7.320514721,6.296976913,7.241151936,7.685959305,6.890760124,6.155915975,6.167855382,6.861640036,6.978361689,7.043160241,5.94239222,7.239455147,6.516317561,6.233269045,7.505283615,6.950300686,6.958054839,6.54803469,6.461618577,7.065264073,6.765091462,5.91645379,6.711341147,6.379881442,6.313284268,7.393210848,7.504930973,7.198076286,7.007037515,6.677262562,6.74398035,6.547361618,6.551577598,6.585020303,6.924042372,7.437373666,7.142611056,7.74672376,6.300479414,6.078724107,6.76660668,7.641024177,6.559681838,7.072923306,7.732194788,6.157782589,7.240988401,6.898905799,6.818681086,6.261937875,6.493036868,7.042474679,7.692013657,6.250994223,6.052184881,7.002216044,7.272427638,5.962001484,7.080506001,6.593798387,7.28805662,7.32710972,6.366355781,7.011121216,6.280725549,7.621494566,7.630424083,7.802212437,5.922935513,5.937649578,6.804781106,6.424670614,6.738016221,6.497366677,6.327673765,6.36137446,6.923509371,6.630646083,5.832525853,6.738993954,5.782435567,6.537042717,6.145104401,6.890784045,7.175344328,5.938528744,5.709380472,6.184400085,6.553509673,5.885638185,6.143874691,6.101198974,6.594037135,6.859840821,6.56893406,6.769855664,7.130837931,5.740338002,5.843005428,6.648687274,6.902751061,6.608023872,6.828522375,6.910374919,6.306605528,7.009180374,6.297907579,6.728599215,6.965156738,5.578095745,7.199504273,5.841367187,6.710143266,5.972714857,5.561851831,6.107054808,6.988035315,7.13147457,7.086947687,6.749260456,7.16300467,7.013481515,5.648243649,6.610251186,7.054313823,6.026999326,5.779427402,6.535244251,5.684995235,6.12476108,6.999014379,6.277148771,6.322396027,5.956401828,6.591302797,7.104094929,6.407872061,6.658402594,6.276038961,6.825256236,6.368560522,7.005410734,6.897368477,6.152906502,5.744361602,7.051654924,6.034612928,6.924490731,6.887005997,6.8444019,5.786058032,5.627186257,5.700088663,5.567805185,6.077886012,6.397995609,5.767372539,7.079973241,5.893332378,7.058222596,5.78270695,6.269663963,5.892913826,7.116538883,6.430163481,7.159520979,6.431265737,6.082571701,6.149934034,5.849076099,6.276800323,5.926824754,5.519088423,6.079178788,6.13465588,5.808497604,5.891458107,5.816622479,5.843163161,6.376756633,5.623615687,5.91505509,6.458714879,5.565028635,6.211833161,6.490074429,5.590236025,6.225225239,6.190757459,5.915568968,6.195152442,6.156373499,6.313197204,6.324270089,5.707488987,6.119216009,5.571401169,5.63127166,6.101241579,6.438137279,6.098369122,5.695267822,5.618094446,6.435785799,6.176644228,6.220643671,5.871702211,6.390741836,6.21084479,6.012696655,5.908770059,6.049801781,6.010095853,5.738678895,5.74055541,5.793260262,5.50947065,5.986442306,5.790768046,5.915546415,6.242528278,6.036079266,5.829898502,6.088064451,6.469370954,5.720726906,5.80766417,5.703381728,6.165001278,6.002481605,6.212369363,5.765308943,5.740764682,5.879119455,6.099478745,5.674403359,5.694243847,5.905494703,6.110844721,6.020445317,6.435917308,5.505393833,5.677719902,5.719014989,6.275572298,6.275384607,6.201911642,5.758054257,6.323933647,5.901100841,5.644486582,6.235461772,6.28236237,6.356090905,5.837258235,5.653437902,5.727469947,6.200111068,5.614471478,6.257369799,6.037430836,5.760457558,6.158164422,6.387431383,5.891413895,5.725418961,6.281069505,5.507641778,5.954626604,4.757114897,5.699586972,5.977413803,6.430139436,6.113935087,5.074272692,5.667507706,5.978634285,5.064613314,4.772385986,5.161148592,6.797779227,6.39474303,5.566704378,5.755049971,5.417340525,6.166173834,5.191265116,4.954739564,5.664587011,5.548584852,6.804437106,6.097869767,5.075504537,4.546466109,5.855119268,6.442393461,4.507523551,6.10729559,6.47544932,6.832979509,5.395275719,6.13526938,4.555688532,6.434197756,5.316875978,5.279388967,6.720041791,5.72742254,4.691396195,6.810186079,6.454045329,5.842763773,5.024124684,6.422710539,4.94295037,6.414526606,6.777788126,6.441328044,4.650536197,5.254532213,5.910634533,4.755273631,6.814630246,5.342866119,6.336234624,4.754435025,6.831706773,6.967417766,4.947683034,5.630619901,6.27339822,6.472774648,6.953246506,5.643710216,6.392313973,4.981816523,5.421265283,6.942520105,5.435840509,5.870116071,4.74910393,5.497946899,6.811291098,6.460542749,4.791146778,6.4841522,6.526654345,6.279133738,6.052026047,5.73171945,5.32307197,4.66910839,5.101206389,5.339556562,5.061081874,5.821106036,5.956027059,5.676032581,6.524114355,6.273953676,6.128167757,4.934964765,5.445008416,4.525722333,5.403908328,6.621623545,6.207495815,5.418475257,6.112305667,6.092241627,5.896343436,6.15526103,5.732453638,6.253034534,6.106190557,5.647202395,6.130310493,6.499604931,5.554831977,5.800242694,5.570290539,6.27564088,5.536645599,6.208196881,5.870600622,6.334771461,5.856575335,5.898944282,5.775600435,5.931101816,6.2286454,5.594240603,5.569230319,5.93202852,6.423216506,6.417500829,6.234904253,6.000573725,5.685102769,5.662140095,6.358186848,6.119495295,6.207600783,6.48754639,5.81717753,6.325480034,5.562790949,6.487369687,6.116982944,5.695792761,5.734317007,6.329499832,6.167013532,5.653776058,5.840256272,5.539980812,5.833302165,6.399433771,6.138958698,5.972850838,6.456079585,6.336426667,6.425419926,6.294395676,6.477768039,5.931538447,5.980598579,6.389783283,5.693287415,6.00299607,6.372959542,5.510924849,5.69945282,5.778594403,6.315586313,5.971813006,5.891195653,6.129812716,6.313085601,6.053662544,5.804799142,6.400719746,5.953966361,5.609255992,5.777271492,5.682395429,5.863996687,6.444373116,5.550832178,6.107741788,5.620745638,6.349875906,6.484323189,5.838748311,6.29099842,5.638328481,6.415555956,6.323722572,5.757009965,6.158689406,5.733539807,5.908724337,6.361141107,5.96537863,6.476757723,6.224542938,6.209928251,5.841138354,6.283818329,6.818261383,6.37620108,6.581587932,6.932739726,6.140099215,6.467095849,6.849471704,6.512196212,6.039584629,6.057697106,6.423898762,6.936997681,6.251286661,6.190015912,6.681606702,6.51075991,6.770278088,6.429788073,6.209888345,6.419052193,6.237861736,6.762471629,6.612847999,6.704688865,6.049609892,6.762030215,6.65398725,6.738030547,6.095689937,6.538006356,6.377427122,6.417011754,6.649086972,6.25933595,6.121168559,6.031424482,6.835268184,6.551750306,6.940236218,6.87606733,6.457216535,6.921847888,6.881425746,6.915717008,6.206247494,6.29542477,6.399669044,6.862157042,6.224066378,6.093814669,6.291540278,6.32281728,6.873283991,6.074209622,6.49889585,6.678805092,6.114128685,6.405054243,6.110142735,6.828982708,6.451499764,6.313512999,6.755192025,6.623167177,6.12532356,6.653867608,6.343942518,6.217300786,6.286387658,6.7698938,6.744966312,6.391858432,6.770434148,6.727468157,6.662244646,6.944640222,6.507110986,6.520663422,6.106500787,6.277484043,6.195142279,6.792035575,6.472756256,6.000975617,6.587791262,6.956508826,6.259086583,6.747537642,6.932537231,6.353107393,6.211748957,6.277245254,6.560443519,6.903020221,6.765094964,6.189213927,6.904241707,6.463271076,6.260838965,6.776533055,6.528404378,6.750145572,6.562832807,6.117530021,6.076459669,6.293486295,6.069171847,6.740983646,6.201797639,6.041027474,6.019372459,6.704104127,6.494251024,6.224535449,6.160414414,6.168757984,6.085444691,6.159050816,6.606033244,6.447662945,6.105909623,6.559763394,6.14410903,6.099662369,6.413927319,6.075144116,6.123802502,6.698468621,6.088885814,6.367800632,6.425930938,6.469983276,6.094016338,6.150090899,6.646962425,6.379690748,6.732834334,6.126019932,6.161123579,6.442810053,6.732049075,6.243673725,6.266208727,6.350623739,6.002927293,6.342573112,6.163921248,6.121745389,6.130160473,6.440584681,6.185053234,6.157724816,6.776987974,6.431970877,6.708743843,6.010739645,6.365956658,6.668382766,6.74669542,6.031665834,6.40077205,6.448792689,6.251420275,6.274452811,6.135996372,6.194090172,6.327822962,6.212567211,6.640470863,6.685553129,6.327210469,6.35544263,6.085682344,6.781050373,6.630301421,6.484799661,6.566759102,6.170520518,6.012480351,6.541150335,6.341400922,6.150686364,6.438008153,6.547041903,6.399891457,6.186770318,6.159020864,6.660954816,6.504906979,6.706053225,6.067665498,6.419083092,6.39637861,6.375923383,6.700337732,6.565312653,6.286515359,6.448061578,6.585872508,5.521466996,6.133220586,6.226289556,6.321152192,5.587905967,5.824151693,5.772179946,5.790993052,6.499226821,5.658473817,5.573241391,6.079497202,6.383180271,5.867420996,5.708418722,5.7983508,6.28188384,5.697945522,5.605934087,5.85648105,6.041053829,5.685062404,5.669489065,5.751707342,5.800448951,5.821347769,6.28022267,6.027314401,5.636687393,5.559363609,5.596449493,5.893492999,5.875718516,6.386021424,5.710819862,5.795985716,6.046673619,6.443382913,5.617227184,6.442289294,6.162034371,5.812781806,5.765015126,6.184922574,5.739652177,5.824778636,5.554823557,6.024248787,5.631333387,5.811975094,5.730557448,5.66999105,5.682751473,6.245858905,6.017370134,5.53456749,5.952367662,6.126436584,6.406818518,6.155939453,5.878568981,5.935336308,5.971332179,5.67130617,5.882155988,6.08551916,5.90402645,6.110218826,6.212302608,6.142803397,6.365972688,6.264202804,6.276198595,5.514253142,5.682343744,5.830892252,5.603413172,6.0967531,6.056529526,6.160267496,5.814434775,5.987262638,5.570020684,5.965551311,6.062356467,5.895319002,6.119432215,5.624203283,5.52078314,5.731535258,5.893490899,5.560521058,6.222390798,6.071255131,6.231950009,5.889480679,5.732757516,6.400321212,6.496934492,6.229498836,6.354006744,7.511755068,7.335158382,7.813916603,7.129136941,6.079998496,7.408939392,7.207991261,7.189259647,7.365338111,7.455991072,6.822282114,7.028746406,6.118430299,6.285312759,6.559236744,7.163245982,6.945562889,7.474710503,7.601189843,7.561143224,6.361671475,6.929216014,7.477935216,7.684420446,7.825531916,6.438668989,6.946354724,7.994465371,7.434118807,7.781988584,6.052318465,7.106650373,6.22094286,6.420457311,6.969249676,6.011302181,6.600948788,7.817846496,6.8198271,7.291405641,7.598729065,6.157135092,7.1917274,7.418761774,6.488221135,6.044167236,6.010391864,6.949838549,7.907956251,7.639788459,7.53350946,6.251586885,6.543191814,7.651225301,6.708889665,6.625538653,6.528354932,6.450640306,7.181907673,7.016482298,6.388617138,7.57125447,7.609348255,7.137136973,6.354022554,6.196907944,7.829507245,6.395258356,7.992041984,6.583411671,6.206053072,6.976997772,6.562594972,7.260416405,6.460044778,6.699164936,7.401121811,6.912033409,7.764040111,7.796034006,6.969883483,6.730757538,6.601395755,6.465913274,6.41354791,6.475275337,6.407715561,6.550814117,7.36220835,7.36549204,7.8546243,7.995848977,6.725600855,7.786725333,7.656978112,7.105904818,7.199106204,7.871063004,7.566165721,6.793245417,6.576261427,6.751452932,6.560743093,6.938313356,6.991626158,6.977700268,6.833768535,6.739170045,6.993473247,6.757470637,6.850663232,6.74274935,6.506120752,6.98992719,6.69215564,6.544029776,6.927803911,6.721835879,6.99223441,6.704204398,6.702424548,6.641098708,6.585346229,6.563134737,6.502289473,6.800321319,6.721130543,6.574677594,6.919342407,6.519779583,6.687088098,6.747975732,6.65149129,6.502675132,6.825371185,6.99104104,6.511624841,6.93172108,6.712772333,6.63016515,6.761953186,6.691202286,6.608667684,6.840802254,6.834808348,6.953439161,6.665024508,6.662875839,6.678695788,6.54277684,6.839443833,6.805277038,6.762522087,6.678449318,6.577192175,6.734005648,6.524459342,6.501521192,6.758479569,6.676578778,6.941496806,6.864143752,6.583528529,6.751747609,6.893509446,6.720744449,6.827812549,6.912299695,6.586107335,6.827305908,6.821774589,6.656458831,6.770384816,6.933809743,6.579441304,6.92791761,6.985804083,6.612429546,6.813383387,6.9677596,6.57398033,6.803094965,6.964955435,6.764213299,6.617703178,6.52711001,6.709668804,6.620729882,6.583760499,6.676407337,6.751298936,6.867554147,6.742490027,6.986228647,6.979102243,6.825664782,6.617066674,6.551892638,6.598860305,6.420018717,5.740054567,5.686972967,6.293662363,6.381975465,5.542169139,5.551963184,5.860740481,5.558807063,5.55771171,5.568365926,6.07071786,5.627860549,6.38488418,5.685889066,6.234458417,6.443168642,5.842317989,5.955742971,5.741367375,5.948342571,6.387067562,5.562911913,5.85971872,6.282955073,6.25449571,5.973853124,6.081568052,6.37466756,6.027707171,5.868285082,6.205931638,5.570745386,6.095261013,6.025789594,5.542873799,6.366219551,5.579845008,5.804965067,6.121005506,6.000248647,5.820978791,5.620733794,6.001936419,6.305740522,6.362544111,5.588655387,6.182232762,5.959493188,5.677282678,5.612122797,6.206077742,5.764812076,6.203376525,6.143662699,6.100429497,5.708409601,5.868255858,6.461225827,6.165084855,6.047044342,6.137102505,5.894027065,5.56222383,5.832608028,6.218571874,6.142010637,6.078807239,5.702484758,5.547594847,5.836075368,6.231662767,5.718120393,5.852038202,5.547933273,6.156259104,6.436314406,5.981169595,6.271952833,6.470465614,6.141502001,5.826381164,6.342463714,6.071897347,6.331051715,6.413184638,5.50158009,6.338720873,6.015672239,5.735364307,6.465906333,5.855457599,6.318552973,6.006784979,6.008386283,5.665785202,5.764615485,5.901495544,5.779032666,5.67154928,7.231324765,6.925412377,7.633437412,6.827354668,6.176716425,6.628722836,7.256877571,6.443785385,7.723240151,5.947448589,7.227745516,6.219469084,6.021439523,6.253343655,6.187455799,7.057693366,6.720449769,6.431689506,7.453106264,7.368258226,7.352401887,6.652143699,6.144631795,7.318802162,7.954629324,6.207652157,6.631005298,7.306918817,5.898293044,7.238566893,7.977651226,5.983075895,6.785723961,7.393441155,6.486068274,7.175934962,7.388265888,6.10539819,6.419536555,6.307585854,6.93221485,7.810865753,6.527541661,7.569454601,7.041065585,7.208795456,6.814341946,7.442217061,6.854558957,7.884550475,6.006085786,7.432043735,6.498052108,6.205263534,6.360812227,7.046607434,7.947011366,6.281913858,6.114525877,6.753978061,7.425041316,6.745104394,7.641116569,6.470135478,7.091992365,6.520403794,6.127939628,7.994679507,7.524707577,7.827877818,6.436691764,5.907930899,6.135025006,6.044556594,7.59781958,6.691268104,6.175492306,7.272316209,5.801047545,6.757457943,6.983395573,7.976889498,6.558902588,7.979090365,7.903528673,6.73210948,6.691690476,7.839849298,6.61448588,7.456971816,7.2942193,7.762647875,6.363406102,7.63737841,6.200671976,6.364729934,6.913678684,7.766259769,7.55606399,7.288377241,6.002524871,6.033485257,7.121933579,6.207459637,6.090060478,6.346715209,6.661957897,6.176860192,7.251847296,6.386259978,7.319735475,6.025028997,6.344751947,7.02777956,7.299304715,7.014063944,7.488014404,6.626503893,6.239011,6.742688094,6.588017308,7.097586415,6.956682743,7.380396262,6.176618831,6.551130445,6.427726565,6.740947635,6.130136384,6.667633355,6.186814392,6.334837865,7.16214284,7.422318499,6.768001309,6.348441469,6.097294061,6.14132902,7.479248124,6.509174789,6.57256106,7.165696848,7.207457208,7.124333547,6.463538707,6.856833064,7.132389299,6.235357638,6.704273839,7.433313409,6.109478059,7.095413294,6.352076783,6.658769991,7.051822472,7.333143205,6.352771037,7.124050134,6.998787171,6.537914958,7.171054239,7.228268228,7.319952206,6.613341343,6.096838784,6.132570523,7.36008498,7.321619041,7.175170657,7.299076163,6.842966479,6.356295568,6.508342839,7.098227926,6.310699968,7.093328631,6.691074249,6.187746776,6.491506245,6.855362875,7.124571593,6.067302109,6.432051512,6.253408852,7.287318723,7.161865733,6.065898283,7.311077075,6.581693772,6.732826127,6.014572075,6.663559451,6.434610995,7.432768147,6.987332927,6.718725189,6.880204617,6.86106911,6.7693455,7.26158085,7.261313694,7.235070264,7.18915558,6.431899748,6.42321105,6.869720196,6.973839707,7.184801627,6.351823783,6.392048018,6.119892347,6.910823945,6.501157208,7.027585559,7.13411409,6.647765997,6.703270635,7.493191968,6.724688503,6.043485685,7.101661011,7.466900683,6.877799264,6.410992833,7.393825704,7.482414225,6.081172981,6.516312148,6.043330951,6.959404135,7.238109556,7.234258375,6.691541233,6.809593554,6.485761419,6.784460602,7.167092586,6.73410539,6.779984384,7.277422738,7.21270048,7.487266991,7.231166546,6.559817161,6.979590627,6.779230041,6.217974349,7.205078785,6.854011265,6.246872394,6.911066044,6.777417989,6.273741983,6.906124587,7.162802357,6.955787351,6.971963169,6.840927967,6.536676653,6.089443603,7.456460375,6.759211911,7.460174812,6.652642579,6.026287448,6.074190142,7.045543056,6.993236001,6.726528895,6.937352845,7.27905689,7.079850922,6.136286518,6.505203696,7.042089492,6.348337519,7.432322234,6.787658922,6.743417121,7.00733163,7.303033217,6.861235184,7.131435858,7.288211994,6.983732393,6.172090205,6.35118177,6.908671379,6.766184468,6.392791654,6.348316257,6.123796057,7.428523634,6.020947179,6.334610249,6.78006386,6.086922359,6.362607851,6.758792552,6.779832611],\"y0\":\" \",\"yaxis\":\"y\",\"type\":\"box\"}],                        {\"template\":{\"data\":{\"bar\":[{\"error_x\":{\"color\":\"#2a3f5f\"},\"error_y\":{\"color\":\"#2a3f5f\"},\"marker\":{\"line\":{\"color\":\"#E5ECF6\",\"width\":0.5},\"pattern\":{\"fillmode\":\"overlay\",\"size\":10,\"solidity\":0.2}},\"type\":\"bar\"}],\"barpolar\":[{\"marker\":{\"line\":{\"color\":\"#E5ECF6\",\"width\":0.5},\"pattern\":{\"fillmode\":\"overlay\",\"size\":10,\"solidity\":0.2}},\"type\":\"barpolar\"}],\"carpet\":[{\"aaxis\":{\"endlinecolor\":\"#2a3f5f\",\"gridcolor\":\"white\",\"linecolor\":\"white\",\"minorgridcolor\":\"white\",\"startlinecolor\":\"#2a3f5f\"},\"baxis\":{\"endlinecolor\":\"#2a3f5f\",\"gridcolor\":\"white\",\"linecolor\":\"white\",\"minorgridcolor\":\"white\",\"startlinecolor\":\"#2a3f5f\"},\"type\":\"carpet\"}],\"choropleth\":[{\"colorbar\":{\"outlinewidth\":0,\"ticks\":\"\"},\"type\":\"choropleth\"}],\"contour\":[{\"colorbar\":{\"outlinewidth\":0,\"ticks\":\"\"},\"colorscale\":[[0.0,\"#0d0887\"],[0.1111111111111111,\"#46039f\"],[0.2222222222222222,\"#7201a8\"],[0.3333333333333333,\"#9c179e\"],[0.4444444444444444,\"#bd3786\"],[0.5555555555555556,\"#d8576b\"],[0.6666666666666666,\"#ed7953\"],[0.7777777777777778,\"#fb9f3a\"],[0.8888888888888888,\"#fdca26\"],[1.0,\"#f0f921\"]],\"type\":\"contour\"}],\"contourcarpet\":[{\"colorbar\":{\"outlinewidth\":0,\"ticks\":\"\"},\"type\":\"contourcarpet\"}],\"heatmap\":[{\"colorbar\":{\"outlinewidth\":0,\"ticks\":\"\"},\"colorscale\":[[0.0,\"#0d0887\"],[0.1111111111111111,\"#46039f\"],[0.2222222222222222,\"#7201a8\"],[0.3333333333333333,\"#9c179e\"],[0.4444444444444444,\"#bd3786\"],[0.5555555555555556,\"#d8576b\"],[0.6666666666666666,\"#ed7953\"],[0.7777777777777778,\"#fb9f3a\"],[0.8888888888888888,\"#fdca26\"],[1.0,\"#f0f921\"]],\"type\":\"heatmap\"}],\"heatmapgl\":[{\"colorbar\":{\"outlinewidth\":0,\"ticks\":\"\"},\"colorscale\":[[0.0,\"#0d0887\"],[0.1111111111111111,\"#46039f\"],[0.2222222222222222,\"#7201a8\"],[0.3333333333333333,\"#9c179e\"],[0.4444444444444444,\"#bd3786\"],[0.5555555555555556,\"#d8576b\"],[0.6666666666666666,\"#ed7953\"],[0.7777777777777778,\"#fb9f3a\"],[0.8888888888888888,\"#fdca26\"],[1.0,\"#f0f921\"]],\"type\":\"heatmapgl\"}],\"histogram\":[{\"marker\":{\"pattern\":{\"fillmode\":\"overlay\",\"size\":10,\"solidity\":0.2}},\"type\":\"histogram\"}],\"histogram2d\":[{\"colorbar\":{\"outlinewidth\":0,\"ticks\":\"\"},\"colorscale\":[[0.0,\"#0d0887\"],[0.1111111111111111,\"#46039f\"],[0.2222222222222222,\"#7201a8\"],[0.3333333333333333,\"#9c179e\"],[0.4444444444444444,\"#bd3786\"],[0.5555555555555556,\"#d8576b\"],[0.6666666666666666,\"#ed7953\"],[0.7777777777777778,\"#fb9f3a\"],[0.8888888888888888,\"#fdca26\"],[1.0,\"#f0f921\"]],\"type\":\"histogram2d\"}],\"histogram2dcontour\":[{\"colorbar\":{\"outlinewidth\":0,\"ticks\":\"\"},\"colorscale\":[[0.0,\"#0d0887\"],[0.1111111111111111,\"#46039f\"],[0.2222222222222222,\"#7201a8\"],[0.3333333333333333,\"#9c179e\"],[0.4444444444444444,\"#bd3786\"],[0.5555555555555556,\"#d8576b\"],[0.6666666666666666,\"#ed7953\"],[0.7777777777777778,\"#fb9f3a\"],[0.8888888888888888,\"#fdca26\"],[1.0,\"#f0f921\"]],\"type\":\"histogram2dcontour\"}],\"mesh3d\":[{\"colorbar\":{\"outlinewidth\":0,\"ticks\":\"\"},\"type\":\"mesh3d\"}],\"parcoords\":[{\"line\":{\"colorbar\":{\"outlinewidth\":0,\"ticks\":\"\"}},\"type\":\"parcoords\"}],\"pie\":[{\"automargin\":true,\"type\":\"pie\"}],\"scatter\":[{\"marker\":{\"colorbar\":{\"outlinewidth\":0,\"ticks\":\"\"}},\"type\":\"scatter\"}],\"scatter3d\":[{\"line\":{\"colorbar\":{\"outlinewidth\":0,\"ticks\":\"\"}},\"marker\":{\"colorbar\":{\"outlinewidth\":0,\"ticks\":\"\"}},\"type\":\"scatter3d\"}],\"scattercarpet\":[{\"marker\":{\"colorbar\":{\"outlinewidth\":0,\"ticks\":\"\"}},\"type\":\"scattercarpet\"}],\"scattergeo\":[{\"marker\":{\"colorbar\":{\"outlinewidth\":0,\"ticks\":\"\"}},\"type\":\"scattergeo\"}],\"scattergl\":[{\"marker\":{\"colorbar\":{\"outlinewidth\":0,\"ticks\":\"\"}},\"type\":\"scattergl\"}],\"scattermapbox\":[{\"marker\":{\"colorbar\":{\"outlinewidth\":0,\"ticks\":\"\"}},\"type\":\"scattermapbox\"}],\"scatterpolar\":[{\"marker\":{\"colorbar\":{\"outlinewidth\":0,\"ticks\":\"\"}},\"type\":\"scatterpolar\"}],\"scatterpolargl\":[{\"marker\":{\"colorbar\":{\"outlinewidth\":0,\"ticks\":\"\"}},\"type\":\"scatterpolargl\"}],\"scatterternary\":[{\"marker\":{\"colorbar\":{\"outlinewidth\":0,\"ticks\":\"\"}},\"type\":\"scatterternary\"}],\"surface\":[{\"colorbar\":{\"outlinewidth\":0,\"ticks\":\"\"},\"colorscale\":[[0.0,\"#0d0887\"],[0.1111111111111111,\"#46039f\"],[0.2222222222222222,\"#7201a8\"],[0.3333333333333333,\"#9c179e\"],[0.4444444444444444,\"#bd3786\"],[0.5555555555555556,\"#d8576b\"],[0.6666666666666666,\"#ed7953\"],[0.7777777777777778,\"#fb9f3a\"],[0.8888888888888888,\"#fdca26\"],[1.0,\"#f0f921\"]],\"type\":\"surface\"}],\"table\":[{\"cells\":{\"fill\":{\"color\":\"#EBF0F8\"},\"line\":{\"color\":\"white\"}},\"header\":{\"fill\":{\"color\":\"#C8D4E3\"},\"line\":{\"color\":\"white\"}},\"type\":\"table\"}]},\"layout\":{\"annotationdefaults\":{\"arrowcolor\":\"#2a3f5f\",\"arrowhead\":0,\"arrowwidth\":1},\"autotypenumbers\":\"strict\",\"coloraxis\":{\"colorbar\":{\"outlinewidth\":0,\"ticks\":\"\"}},\"colorscale\":{\"diverging\":[[0,\"#8e0152\"],[0.1,\"#c51b7d\"],[0.2,\"#de77ae\"],[0.3,\"#f1b6da\"],[0.4,\"#fde0ef\"],[0.5,\"#f7f7f7\"],[0.6,\"#e6f5d0\"],[0.7,\"#b8e186\"],[0.8,\"#7fbc41\"],[0.9,\"#4d9221\"],[1,\"#276419\"]],\"sequential\":[[0.0,\"#0d0887\"],[0.1111111111111111,\"#46039f\"],[0.2222222222222222,\"#7201a8\"],[0.3333333333333333,\"#9c179e\"],[0.4444444444444444,\"#bd3786\"],[0.5555555555555556,\"#d8576b\"],[0.6666666666666666,\"#ed7953\"],[0.7777777777777778,\"#fb9f3a\"],[0.8888888888888888,\"#fdca26\"],[1.0,\"#f0f921\"]],\"sequentialminus\":[[0.0,\"#0d0887\"],[0.1111111111111111,\"#46039f\"],[0.2222222222222222,\"#7201a8\"],[0.3333333333333333,\"#9c179e\"],[0.4444444444444444,\"#bd3786\"],[0.5555555555555556,\"#d8576b\"],[0.6666666666666666,\"#ed7953\"],[0.7777777777777778,\"#fb9f3a\"],[0.8888888888888888,\"#fdca26\"],[1.0,\"#f0f921\"]]},\"colorway\":[\"#636efa\",\"#EF553B\",\"#00cc96\",\"#ab63fa\",\"#FFA15A\",\"#19d3f3\",\"#FF6692\",\"#B6E880\",\"#FF97FF\",\"#FECB52\"],\"font\":{\"color\":\"#2a3f5f\"},\"geo\":{\"bgcolor\":\"white\",\"lakecolor\":\"white\",\"landcolor\":\"#E5ECF6\",\"showlakes\":true,\"showland\":true,\"subunitcolor\":\"white\"},\"hoverlabel\":{\"align\":\"left\"},\"hovermode\":\"closest\",\"mapbox\":{\"style\":\"light\"},\"paper_bgcolor\":\"white\",\"plot_bgcolor\":\"#E5ECF6\",\"polar\":{\"angularaxis\":{\"gridcolor\":\"white\",\"linecolor\":\"white\",\"ticks\":\"\"},\"bgcolor\":\"#E5ECF6\",\"radialaxis\":{\"gridcolor\":\"white\",\"linecolor\":\"white\",\"ticks\":\"\"}},\"scene\":{\"xaxis\":{\"backgroundcolor\":\"#E5ECF6\",\"gridcolor\":\"white\",\"gridwidth\":2,\"linecolor\":\"white\",\"showbackground\":true,\"ticks\":\"\",\"zerolinecolor\":\"white\"},\"yaxis\":{\"backgroundcolor\":\"#E5ECF6\",\"gridcolor\":\"white\",\"gridwidth\":2,\"linecolor\":\"white\",\"showbackground\":true,\"ticks\":\"\",\"zerolinecolor\":\"white\"},\"zaxis\":{\"backgroundcolor\":\"#E5ECF6\",\"gridcolor\":\"white\",\"gridwidth\":2,\"linecolor\":\"white\",\"showbackground\":true,\"ticks\":\"\",\"zerolinecolor\":\"white\"}},\"shapedefaults\":{\"line\":{\"color\":\"#2a3f5f\"}},\"ternary\":{\"aaxis\":{\"gridcolor\":\"white\",\"linecolor\":\"white\",\"ticks\":\"\"},\"baxis\":{\"gridcolor\":\"white\",\"linecolor\":\"white\",\"ticks\":\"\"},\"bgcolor\":\"#E5ECF6\",\"caxis\":{\"gridcolor\":\"white\",\"linecolor\":\"white\",\"ticks\":\"\"}},\"title\":{\"x\":0.05},\"xaxis\":{\"automargin\":true,\"gridcolor\":\"white\",\"linecolor\":\"white\",\"ticks\":\"\",\"title\":{\"standoff\":15},\"zerolinecolor\":\"white\",\"zerolinewidth\":2},\"yaxis\":{\"automargin\":true,\"gridcolor\":\"white\",\"linecolor\":\"white\",\"ticks\":\"\",\"title\":{\"standoff\":15},\"zerolinecolor\":\"white\",\"zerolinewidth\":2}}},\"xaxis\":{\"anchor\":\"y\",\"domain\":[0.0,1.0]},\"yaxis\":{\"anchor\":\"x\",\"domain\":[0.0,1.0],\"title\":{\"text\":\"ph\"}},\"legend\":{\"tracegroupgap\":0},\"margin\":{\"t\":60},\"boxmode\":\"group\"},                        {\"responsive\": true}                    ).then(function(){\n",
              "                            \n",
              "var gd = document.getElementById('59cc0dee-6c1a-4079-bed1-70b8b9eb641b');\n",
              "var x = new MutationObserver(function (mutations, observer) {{\n",
              "        var display = window.getComputedStyle(gd).display;\n",
              "        if (!display || display === 'none') {{\n",
              "            console.log([gd, 'removed!']);\n",
              "            Plotly.purge(gd);\n",
              "            observer.disconnect();\n",
              "        }}\n",
              "}});\n",
              "\n",
              "// Listen for the removal of the full notebook cells\n",
              "var notebookContainer = gd.closest('#notebook-container');\n",
              "if (notebookContainer) {{\n",
              "    x.observe(notebookContainer, {childList: true});\n",
              "}}\n",
              "\n",
              "// Listen for the clearing of the current output cell\n",
              "var outputEl = gd.closest('.output');\n",
              "if (outputEl) {{\n",
              "    x.observe(outputEl, {childList: true});\n",
              "}}\n",
              "\n",
              "                        })                };                            </script>        </div>\n",
              "</body>\n",
              "</html>"
            ]
          },
          "metadata": {}
        }
      ]
    },
    {
      "cell_type": "code",
      "source": [
        "fig = px.box(data, y=\"rainfall\",points=\"all\")\n",
        "fig.show()"
      ],
      "metadata": {
        "colab": {
          "base_uri": "https://localhost:8080/",
          "height": 542
        },
        "id": "nvUrQ0sxiZ_r",
        "outputId": "b2f26b29-089d-4c97-925e-ccc2f68f3e84"
      },
      "execution_count": null,
      "outputs": [
        {
          "output_type": "display_data",
          "data": {
            "text/html": [
              "<html>\n",
              "<head><meta charset=\"utf-8\" /></head>\n",
              "<body>\n",
              "    <div>            <script src=\"https://cdnjs.cloudflare.com/ajax/libs/mathjax/2.7.5/MathJax.js?config=TeX-AMS-MML_SVG\"></script><script type=\"text/javascript\">if (window.MathJax) {MathJax.Hub.Config({SVG: {font: \"STIX-Web\"}});}</script>                <script type=\"text/javascript\">window.PlotlyConfig = {MathJaxConfig: 'local'};</script>\n",
              "        <script src=\"https://cdn.plot.ly/plotly-2.8.3.min.js\"></script>                <div id=\"4552a59c-3203-43c0-9671-93e3cf39006c\" class=\"plotly-graph-div\" style=\"height:525px; width:100%;\"></div>            <script type=\"text/javascript\">                                    window.PLOTLYENV=window.PLOTLYENV || {};                                    if (document.getElementById(\"4552a59c-3203-43c0-9671-93e3cf39006c\")) {                    Plotly.newPlot(                        \"4552a59c-3203-43c0-9671-93e3cf39006c\",                        [{\"alignmentgroup\":\"True\",\"boxpoints\":\"all\",\"hovertemplate\":\"rainfall=%{y}<extra></extra>\",\"legendgroup\":\"\",\"marker\":{\"color\":\"#636efa\"},\"name\":\"\",\"notched\":false,\"offsetgroup\":\"\",\"orientation\":\"v\",\"showlegend\":false,\"x0\":\" \",\"xaxis\":\"x\",\"y\":[202.9355362,226.6555374,263.9642476,242.8640342,262.7173405,251.0549998,271.3248604,241.9741949,230.4462359,221.2091958,264.6148697,250.0832336,284.4364567,185.2773389,209.5869708,231.0863347,276.6552459,206.2611855,224.5550169,291.2986618,185.4974732,231.3843163,213.3560921,233.1075816,224.0581164,257.0038865,271.3586137,260.2634026,240.0810647,197.9791215,272.2017204,200.0882787,224.6757231,270.4417274,233.1321372,193.3473987,272.2999056,285.2493645,298.4018471,257.0343554,248.7183228,209.9001977,200.834898,298.5601175,265.5355937,183.6793207,196.9560008,233.0453455,210.8142087,253.7202781,219.9048349,208.5810155,195.0948311,227.3637009,286.5083725,283.9338466,217.3788583,267.9761948,191.9535738,277.9626192,245.1511304,245.6626799,279.5451717,202.3838319,263.6372176,182.5616319,198.6730942,243.5120414,263.1103304,269.5039162,204.8001847,260.8875056,295.6094492,192.3197536,257.4914906,278.0791793,280.4044392,185.9461429,194.5766559,200.9133156,182.9043504,195.3574542,223.3671883,186.7536773,220.1156708,231.7364957,242.3170629,182.6549356,233.7034975,230.2242223,290.6793783,241.2013513,218.9163567,248.2256491,256.9964761,194.2651719,295.9248796,287.5766935,183.6222657,188.413665,87.75953857,102.2662445,66.71995467,60.65171481,65.43835393,102.0861694,105.4654703,78.06639649,65.27798457,109.2162279,94.29712821,74.05474936,63.87020584,94.76189431,72.12375573,63.72358154,104.1626147,76.68456006,65.49730729,84.23613484,79.74078719,88.07753741,80.97573281,79.7532896,74.51490791,96.46380213,102.8301942,102.4852929,70.43473609,108.8303762,65.88951188,90.988051,64.40866039,63.03843397,87.9298085,107.4931917,60.95197486,109.7515385,91.76337172,94.26249353,71.07562236,76.72860067,69.21803098,101.7004306,106.6213157,66.29390357,91.26056654,109.024141,99.57981207,71.3195307,78.34604471,88.45361858,62.50351892,76.41312437,107.3198135,100.7689246,107.2681929,101.5952794,80.72515943,83.73280082,89.9622014,88.10234397,64.77791424,73.33636055,83.21030571,103.651438,84.22969177,96.59195302,67.96704792,83.20711308,87.85092352,95.71388473,67.61013737,97.59081274,64.23845455,75.82270467,88.17251033,104.2321615,67.10225139,67.72777298,103.2234212,107.2361366,75.03247667,78.16077693,105.0083144,62.49190812,107.9124111,74.52082026,62.91359494,69.93293255,108.5054416,78.96159541,79.84925393,93.62039175,85.75692395,82.34162918,108.7603001,70.23401597,65.50861389,98.73771338,88.55123143,79.92698081,68.54932919,88.51048983,79.26357665,92.68373702,74.6631118,82.61734721,81.84997529,81.98568791,93.55280105,74.58565097,78.96514709,80.7108745,70.18185181,71.58010169,73.50734019,82.52339655,66.96980581,90.46228334,71.31007253,85.74904898,89.31050665,85.52950164,72.94940441,72.32667516,74.87445574,94.70992037,83.74606679,78.92060234,83.75937135,76.57580954,91.76071648,76.32470713,89.73119396,93.35034262,81.20176515,81.70769297,83.74879344,77.5429424,77.92798682,82.2545577,70.52056697,72.78624223,85.24819851,85.37378769,75.6317566,89.61857826,75.49101167,86.05078037,80.25064637,78.26039559,75.57790384,72.9446671,90.7760707,77.81891424,78.06910795,85.57925437,69.40619137,76.32565249,80.6405403,80.1113384,91.94595352,87.51312796,94.00287214,88.4585692,84.78344008,68.97806542,88.68168643,65.23811143,65.78042032,74.63872762,82.69766829,69.64449182,87.27444866,70.87150577,92.06630306,79.20509212,68.81405149,72.85017344,79.45758333,65.11365631,80.4986291,73.64476535,81.5284269,88.6810311,68.4951189,78.44910564,77.33795356,94.78189594,94.03659867,78.69707199,69.15759062,90.82097601,76.77888672,67.9545435,73.0926704,69.09512477,89.60982451,81.78710463,128.256862,106.3598183,109.225556,140.3717815,76.64128258,143.0984171,60.91974792,104.7783947,132.9801054,130.0608093,143.7630894,87.99669731,144.1567454,134.3649948,88.06638775,69.63833855,116.5206923,86.21917578,137.1948633,108.3684316,67.71768947,144.7902323,69.44951585,121.9401369,82.68554379,139.7521543,108.3441414,96.77285817,100.6711761,87.0513289,64.19497947,105.4120514,61.13872036,106.158201,139.0302034,122.3886015,129.5650601,120.4509288,95.17028129,96.65888933,87.87869161,138.2362122,120.6913038,107.3850593,108.6434544,109.0193712,95.84253438,60.27552528,100.0497183,125.0972687,113.334026,103.2926407,75.45328039,62.21292186,98.77794225,107.6907964,63.38208822,87.66898664,138.414764,94.9533526,107.7315386,104.6252153,141.6056722,62.7089169,135.3315583,125.084915,107.4137246,63.59276673,146.4727237,119.6404412,126.7265372,134.1811718,135.3378033,100.118612,68.51253427,66.97053257,69.14681022,88.88796102,81.83420522,109.1013261,81.60211243,112.6616435,143.8584938,146.4548645,116.7324324,149.7441028,124.6118471,115.199245,84.64143632,129.3449326,130.3900798,80.15293435,64.02640797,139.2921004,76.14153904,73.36386477,100.5978728,84.06354115,133.1914419,104.2570723,122.6539694,163.7266551,103.3301803,142.3303677,184.6226709,149.299952,147.0361442,198.8298806,90.05422663,127.7767134,108.6333046,176.6165894,96.36222901,122.0146733,120.7435664,96.51524028,180.382234,107.4721605,161.4812963,121.5639121,194.5921148,179.2155874,192.4372194,114.2821387,139.6483317,132.7748215,186.5008581,157.0858232,139.6702541,177.3377996,94.46748008,161.7820226,108.5090168,150.8712202,168.5948318,197.3752649,91.72084869,180.716828,93.12330644,116.9106908,159.2649827,187.8961851,129.0064612,147.0414824,163.2747473,91.31256412,195.5697875,170.9919828,145.3728801,136.0456753,173.1686574,176.4134092,129.2028653,126.6738117,188.4928637,191.0658531,162.5927723,160.3337447,100.546816,105.0380275,192.3023991,148.2502786,197.1144011,118.3606557,100.4673278,191.0895109,195.787103,182.2688175,159.8938645,141.1250722,100.7791633,175.9303271,139.8710041,189.5208915,137.2279662,134.8596466,174.5723999,101.6073988,153.2504506,177.5764304,91.95792434,162.5931264,155.3705624,165.4113371,180.9009998,136.8274312,159.689339,178.8998611,165.405354,109.1821183,185.2039114,149.063196,180.6465282,96.74706956,124.6028153,198.1403003,172.40168,186.9226052,173.1106982,122.4564203,32.67891866,36.5037914,36.92629678,72.98016599,32.05025323,71.6266696,73.44775287,66.35634104,36.94255012,61.32935611,53.56783314,67.43488235,44.94317432,34.96933295,74.44330654,53.39249517,68.04039813,45.78172762,74.32635105,32.76742894,35.1051197,72.66666443,48.25207759,40.89732789,32.55919573,31.87416982,53.1205277,62.74803826,46.19374559,41.53749535,58.99536268,41.0550915,33.84110759,55.50429227,57.02891698,44.11622138,42.24783476,66.1761456,72.19245835,55.053805,65.07981523,38.48678973,62.20279647,70.79934452,64.16167699,31.83192392,50.28438729,58.27600682,36.99362831,64.25520357,55.60523179,48.46797044,70.4713043,34.03335472,68.54877876,52.0810886,57.04826619,63.77192383,60.74583498,71.1271039,64.53027638,40.85534718,69.66289997,61.86633917,64.58559639,44.13827124,35.73403813,33.95825723,71.90018566,38.34303462,59.18953429,36.91852635,52.13580529,55.21606732,40.82840673,36.01203025,34.7426459,53.78769958,46.0203959,52.92929636,45.43669946,68.80141783,43.87801983,64.56807592,38.31597852,50.1978269,44.86052932,55.51932414,35.37493212,30.92014047,32.71129281,33.48919022,47.95406479,35.03404425,65.67591794,42.44054315,70.10472076,63.9187654,38.53254678,32.81296548,54.73367631,38.7976407,55.296354,36.35720652,44.75215854,42.99498978,56.48265193,53.01899249,41.82490236,46.75690086,59.87232071,44.64407105,44.01206619,45.91011391,37.54602719,40.77872823,42.83053902,51.52617423,49.11964582,57.65901369,43.1386631,48.54598575,56.76278363,37.31236904,56.51103293,37.01110438,50.47333854,57.79863368,44.56598352,56.68833819,59.87065439,48.48319335,48.56690235,43.80041104,36.94616965,53.43228915,50.49913241,45.04467075,58.37249772,40.12044158,51.09802625,58.86687093,56.04995423,58.41394143,54.96121262,49.61865305,52.84626009,55.03723979,54.62243308,59.03629954,52.93031105,56.52558045,53.15223123,50.46746116,39.23831035,44.17580911,45.48591922,56.09542002,41.39081525,57.99524359,43.15411472,50.91511275,43.78420984,49.50812624,36.45012824,37.45680611,53.79732545,37.44800463,54.7960127,40.53173216,50.9246554,56.01913159,58.18713162,48.9366954,42.02483277,43.05130077,39.26137642,50.01534317,51.53848218,53.35486977,36.12042927,38.14476781,40.16545979,50.66487502,43.95183726,58.29933073,43.25095608,44.47427436,59.84499208,43.4826194,49.4897245,48.30159325,41.013132,43.12063289,44.30070517,58.52974279,43.25726752,37.2464655,56.12443206,52.55469976,71.89090748,67.15096376,70.23207557,73.23573601,72.49507741,62.26242533,66.85510868,68.02199825,73.67166182,73.84949872,69.28607828,64.55882254,67.53021213,66.63830637,70.86340755,67.1367443,68.97097538,69.75555541,71.50569456,61.91208707,74.01229707,74.91559514,71.78615328,63.02473185,61.19250859,65.62859526,63.49726331,65.81655892,70.1415139,74.61649888,65.820457,69.24464096,70.88787207,61.46892873,64.72797143,62.3061735,69.85112265,73.58663968,66.37171179,74.86960831,65.66436565,60.4693835,72.43169115,63.57445989,70.25496749,71.48327008,63.1830529,70.27184748,60.41790253,72.17818157,67.83345933,70.0866434,69.40878198,62.30278274,61.16350463,71.72980375,69.43895491,68.91754359,63.85668948,61.71111448,67.47677295,65.24194361,74.24459122,69.5274407,71.36947525,68.64685069,73.44678678,67.32520551,73.40452716,69.46020927,74.62068748,71.21006868,64.32887142,63.29900785,69.68862306,63.51822045,64.11411069,63.46546487,63.02169909,72.50669768,70.40795007,62.78730907,73.37686831,62.31842057,62.2737345,64.42177127,68.83924882,71.16331975,65.45328463,74.22238583,71.64631281,62.83469851,66.47264636,66.69096751,74.16699119,64.89517488,64.77651469,68.56507978,61.83876146,63.37784443,43.35795377,46.83130119,46.80452595,46.6352865,46.13833007,53.46622584,50.89110726,50.90994463,36.46946971,35.15426171,49.14337177,52.55730112,42.96018627,49.02366803,41.78219834,38.71834464,49.78102578,51.92057267,54.9393771,50.89732989,44.93261911,49.39111479,44.43177543,48.77790371,40.37113729,47.89645224,46.05333124,54.49044154,49.04015558,53.14531023,48.60449438,53.13946695,45.42616802,44.07819743,49.37369982,41.02682925,44.08562546,49.47371773,45.36521251,37.81123974,48.80253285,42.72374404,45.40277297,52.39881209,49.73922097,38.30411077,35.75107592,44.95654782,48.33941188,35.03484812,44.23629285,36.18678721,50.43306085,54.37814199,47.26052494,38.21370568,35.36831423,37.11395801,37.15824966,48.28137482,53.40906048,42.89509057,41.7704893,35.69674138,48.06491307,45.49683991,53.31508572,39.18374505,42.19740397,37.46160727,51.54922825,50.6128521,46.90725077,49.55213308,41.45486619,36.68284038,39.00992137,52.50812701,47.01510708,42.87274897,53.04669416,46.48280681,49.94043064,36.5011366,50.17067771,46.62370222,53.12442925,44.23913012,41.61080544,36.10211371,51.02372773,51.56461082,45.20841071,46.10585191,47.9271552,52.60285259,38.07659414,40.8106299,53.10207889,40.74536757,111.9684622,108.0458926,102.5184759,110.2316633,109.3905998,109.4169192,104.8955643,106.9659201,108.0423555,109.3930157,104.7693804,105.7595811,108.3168858,104.5375109,107.6836871,108.5468633,104.8216333,102.8593382,108.0756727,105.6499907,111.6631582,112.4349689,107.3416913,105.1834976,111.2818551,109.0946323,102.8013275,106.8704803,108.4758509,102.860084,103.1969341,111.0196744,104.3739878,111.2800516,104.0277061,108.2287276,111.2232716,103.8799347,104.6735454,111.2787584,108.065579,104.7847006,109.8695196,110.9653137,106.9216033,109.2853418,106.0380805,112.459697,110.2437841,106.2817706,107.1951707,105.2240743,107.5660804,109.6623974,103.3183074,110.4606459,102.5538035,111.0217929,106.3602023,104.617522,104.991282,103.0295938,109.4429934,106.8685636,111.3779693,105.6209954,110.9633894,110.6956184,103.7084055,102.6488846,110.4432293,104.6843243,111.1382096,105.4766591,108.6793978,105.529185,112.1926517,111.7162016,107.6435771,104.88189,109.2537734,105.6917856,106.61905,106.1606833,110.5764023,107.6103211,112.4750941,109.0357597,109.9130984,103.6012114,106.977723,110.0932899,106.128338,104.4407083,107.0050976,112.337046,102.8186358,106.2784673,109.8076178,108.3121789,92.82840911,101.0494791,104.9378,90.10978128,113.2297373,114.5357503,97.32531705,99.34482238,113.8729798,100.0075679,98.75084366,100.1692639,118.2761894,99.72430835,108.3957179,98.66679427,119.84797,108.66464,102.7867717,116.1616839,118.6858263,98.21747528,91.46442491,105.0776992,112.0700033,92.07835761,90.66727868,93.10247183,98.16752001,109.5408614,117.2878912,94.31102057,119.218154,102.4633775,109.575944,91.34276507,112.9794804,112.0777152,118.6730366,117.536781,107.3944717,116.5531455,112.3982055,110.3262123,110.2511102,110.4408803,116.3019555,119.0856171,108.8547508,118.2583441,91.40508414,95.12322062,109.9825551,102.2099836,109.022564,117.229079,112.1355384,111.0162259,99.20961514,115.8586081,119.695765,110.10323,109.2768851,109.2486647,108.8616474,110.1331182,104.4812858,90.43495443,119.4765557,118.9923573,90.94554618,114.2005455,91.06493353,96.45042585,113.1161095,92.78133617,94.32961456,91.73358569,100.6619171,98.00403016,103.5045395,95.83016448,97.55986676,94.68180316,90.45142867,90.24211529,96.47800391,111.0843029,100.5123341,99.46950465,105.4220251,91.99964712,109.0921631,108.3690513,108.5501443,90.81250457,103.7040783,94.37987496,92.15524332,98.12565829,90.09586854,98.67527561,95.85118326,95.70525913,92.19721736,98.00687989,97.72843182,93.75441586,95.3713484,98.46768642,94.11213345,97.31258083,99.35408185,89.85646496,91.87312479,94.42850522,91.55845821,97.41054011,95.74606104,98.33351125,99.9834242,99.61465679,94.62954663,98.63333684,97.01331604,90.28624348,90.65022183,91.82271568,90.82549241,92.09609766,100.2585673,92.99739415,100.2160615,98.81596545,98.00644238,91.67241761,95.99487068,97.38741498,95.8445641,100.8124659,90.21633216,90.14047759,97.41586402,93.36718816,97.76832322,95.257992,92.37238878,91.63074547,92.26439205,96.27792547,94.49161372,90.29643888,90.40332704,90.89173106,95.23444287,100.7586226,96.59816497,99.642454,97.55155537,90.40260445,92.84991507,93.30247448,92.21318555,94.76322976,98.28583013,91.01152997,91.09745581,91.405983,89.78216168,97.51952041,89.98024312,95.94035356,95.89898581,100.3060719,89.74409017,97.4611918,91.46664318,89.59371481,95.04871605,97.79072474,93.53197359,91.77522598,96.23520043,96.63721027,96.38808001,98.05089394,91.22881052,98.57025046,90.38503469,96.08745082,94.67344737,89.29147581,97.45373619,91.54560427,95.8946444,93.17221967,100.7720705,93.92375879,91.88766069,91.10190759,67.12534492,68.38135469,68.73932528,66.83872293,65.34440794,70.39906054,66.76285469,69.63122027,66.77844567,73.88467027,74.91506217,66.02765219,68.06417307,65.84748763,67.235765,73.02882766,68.23963161,71.4065452,69.66256816,65.52279323,72.24230804,66.93065667,69.17281221,70.08200379,69.75734306,68.66813363,73.23901752,67.10439401,65.70148216,69.30772897,74.53557341,73.28712806,66.53946559,66.38448261,68.69420397,71.55665483,71.06611222,73.01026829,67.92204319,65.06962486,71.18289431,67.03840888,74.40198861,65.3973168,65.70430027,71.43001582,73.34232097,68.68895899,70.95666003,74.62834921,67.3917379,65.01095312,71.29813872,66.13442813,65.2982112,71.63437433,71.60102999,73.55807954,67.15094741,65.90227462,70.68098614,67.2739864,74.03030056,74.10225057,65.80006004,73.67984885,66.05911698,69.706113,66.48490371,74.08101744,69.8671263,69.81855775,74.82144653,69.39630398,69.30927185,74.19664838,72.37127689,68.8503047,71.03001556,69.92107482,69.71518491,73.69529586,66.57462809,69.27779761,66.83113717,70.31782647,74.10919422,73.06862952,66.34234944,73.77063744,70.75633584,74.46411148,69.92092839,69.44115171,71.40043037,68.42802444,66.70016285,70.42508897,66.5964488,66.00817551,53.65742581,46.87420883,57.04147057,57.95826144,41.87540028,49.11618732,57.79652846,59.46338556,54.60159289,44.07843475,57.72799157,53.78929956,57.57343233,40.794305,43.08961827,44.22066914,57.74091817,57.44942094,58.79889057,44.20656987,59.65590798,49.48575692,56.45229202,40.12650421,46.05122728,46.85176955,48.32113628,57.23028471,55.29563514,48.45978627,48.01138482,54.82963379,57.26773002,51.19470197,49.43050977,53.33484977,44.3993381,54.30660782,46.06193778,48.47833278,56.47941847,43.52897517,42.10681516,57.40847165,51.75212401,57.05709413,58.48160844,55.74073582,55.49541453,49.29456609,49.08553937,50.55710813,54.65423596,51.70497792,48.11248366,51.26046418,48.58241822,54.22722466,56.39962921,51.70699144,56.34144589,44.63907691,46.06382209,45.24690619,40.32161859,44.20899581,54.7657624,48.31219031,53.14626213,49.52320689,58.97878791,46.59207341,59.67927244,42.91292205,59.75980023,41.16554802,51.51033554,47.81847573,50.78669728,40.228644,43.87712348,48.75859458,44.2068997,57.51549686,40.71210074,59.26519444,54.38748495,46.76837499,47.46447019,56.72496677,48.99390828,42.00660251,54.49960057,56.31866159,47.72078245,58.28697664,48.32428609,41.53218699,43.97193745,58.54876687,28.08253201,26.32405487,22.52497327,20.76223014,28.16057247,26.26243014,21.30290472,25.93496537,25.21609113,26.23838511,29.86681385,29.1194739,25.33014238,21.08484101,21.58992507,20.88620369,26.83924845,21.26034986,26.70581328,29.1102594,28.78654515,23.66620626,27.56918621,27.95602304,20.36001144,24.52020164,23.69586761,22.68766503,22.81863447,28.70627683,26.52364146,23.44398467,23.56130173,29.44008034,28.69113835,25.37828397,21.7508774,28.36535596,23.28207838,25.1290048,26.51924782,26.47844429,24.93861254,21.19014526,20.21126747,22.21807088,20.49035619,21.9653077,25.16359891,23.49535234,27.27899847,26.30820876,26.85422624,21.90440445,20.66127836,20.76212031,28.94766949,26.01909355,28.75226067,24.4514648,25.09484511,22.84203589,24.34814338,20.39020503,21.17924769,21.0000988,22.06207161,27.8659442,27.5987178,26.0365768,21.01796432,21.84869328,24.15591199,26.88372572,25.32159689,21.61893763,24.05207925,22.25838137,24.44267592,22.06994464,21.44532907,28.83568362,29.11187663,23.20076686,23.28618248,24.84266123,24.69720481,27.26588346,26.48240255,27.14509034,20.76582087,27.21244021,28.22908103,28.98574189,25.08146686,21.13545688,24.20007242,23.0362503,23.65747461,24.7458198,110.4317855,114.0512495,116.0396587,122.233323,116.0777931,117.7296726,105.5473627,121.1349176,117.0761277,112.6676589,106.1417017,123.5977843,108.183792,105.3558408,104.2298028,102.2648546,104.4267991,108.3405879,114.8407725,104.6472986,107.8737015,121.4977331,109.8852597,115.1781396,119.1025189,109.0658471,105.6941544,107.855225,102.8017203,104.5086618,107.1728191,108.6211833,122.1952483,104.5412275,101.8474768,124.3915101,116.7366261,120.1593771,107.1843273,120.4359949,112.3126628,123.5900822,105.0241329,102.8045658,124.9831618,117.6102915,120.0586671,100.6192543,121.8961665,112.8954016,113.0688155,107.9868949,111.7763395,114.7399101,124.2179699,105.0508234,105.4004751,100.9343903,109.5966791,116.6912176,118.3979065,117.5314026,109.5852253,103.6838922,103.0548094,114.7412734,116.9256766,116.7036582,109.3383552,115.4789148,115.3830068,107.7697413,105.8554351,104.9116663,122.1449949,121.6622761,118.6044645,108.2166601,121.6961761,102.5565807,122.5391946,107.0289866,117.6602827,100.825956,112.9203223,123.6495149,118.6832725,113.7759219,113.9760462,110.712841,102.7230739,116.7431319,122.7418744,113.0381382,110.9804014,119.6335548,100.1173443,120.6310784,115.3611268,124.4683112,119.035002,101.2847738,111.2266885,114.6659511,111.1727497,114.1339416,112.5424199,114.4161786,106.0711985,102.6958703,118.4901697,117.3695296,109.6894658,100.1961762,116.3796525,111.7803734,103.5684926,102.835632,103.923226,111.2948115,101.4705704,116.450422,105.2132259,110.3332655,110.6823944,115.7659902,117.3688104,115.5683776,110.2223123,119.1709113,113.3302105,116.7173125,108.4161706,119.3941064,116.5084074,116.8130969,106.8118019,119.6946577,112.9834361,117.5293447,103.5771468,109.8585753,119.3936976,112.7194284,102.1906333,115.9787989,107.9873218,101.5164589,100.1967854,108.8289171,104.4224145,115.3560318,102.4550786,112.5090516,109.7571416,112.6738296,102.944161,109.4711098,105.3437825,109.1549823,111.7793889,107.4142681,118.0069295,106.2944879,111.8391951,106.2696156,117.6236473,109.7513927,113.1169398,116.7555937,110.6857506,119.3916718,106.060149,112.7715925,117.9733424,104.7052254,108.0638166,106.6955204,108.0054343,100.1737964,101.1456947,101.139435,115.5650287,113.25373,106.362551,101.4819888,110.0447896,109.9455062,117.1311498,115.1989301,100.7896871,108.0230792,107.4287664,116.8020848,118.3271968,113.328978,114.3117197,113.9995146,107.0862095,103.2005992,243.0745066,88.46607497,119.2653877,235.6133585,196.2408242,203.4044028,197.5282582,191.7760562,202.0572747,186.6762324,197.402901,47.271547,232.7046126,63.62250788,141.1736926,172.4788062,77.71566883,78.85085502,149.9107557,105.8841531,51.07048113,62.62377075,110.562229,238.5008779,132.7923586,206.3999208,248.8592986,127.2509777,120.9512466,122.7628653,64.4478499,40.35153141,209.8678411,59.49373381,117.8201907,98.54047745,182.026807,207.0735119,74.876786,218.2299187,179.2720807,183.49095,78.8099639,103.8235658,165.7412972,136.8277041,48.83810592,199.3096432,214.4103848,63.68794608,211.8529059,209.4083305,181.527598,97.26336657,163.9069365,63.35298768,54.01872359,79.27201575,246.3613268,231.5153161,135.1694525,114.778071,144.6656444,75.95295,115.8163936,71.73759526,41.5856585,75.24521981,87.53393983,141.3381168,82.83061083,149.8488208,161.6892093,88.1300769,172.3458448,218.142147,93.7942847,210.2735346,234.8466111,52.95477913,159.6577388,62.68710535,174.4012337,241.8202079,240.4795923,126.8069869,92.11877372,234.496633,46.44279118,62.50689682,108.4103158,218.0908814,104.4218596,240.6863901,54.77830202,149.1199989,102.2708231,239.7427554,188.5181422,208.3357976,224.5903664,224.3206759,151.0761899,179.8248944,181.6942283,184.7624496,150.9502632,147.8888994,178.8116076,189.6711349,145.5414413,198.8234862,144.3331315,157.9171537,215.9195049,204.7206567,199.7936345,172.0540491,218.0055713,157.2388553,171.7575545,172.4813641,156.6732553,205.5463111,150.0500312,171.6262299,142.9403233,178.9635457,209.8453993,149.2433497,132.1491176,134.8419069,194.9022136,171.9457959,204.9603677,160.7306991,218.5241851,218.080385,208.1181381,194.3100272,145.4172387,160.389421,156.7650823,165.8092179,192.7678575,150.2012138,144.6261698,174.796583,211.2506267,224.7006953,135.4186222,162.8432736,131.2451414,145.0583117,199.8778403,214.4128874,145.9298935,171.6516396,131.2116167,222.803013,157.7592626,141.3220576,205.5720367,131.0900076,201.8258633,224.4016682,191.006688,215.1968037,212.867626,167.0470997,142.1430003,147.1682459,148.8398374,134.1279669,192.9036306,191.2996157,134.8370348,143.533473,178.7297725,144.1571109,182.4482352,224.8315729,148.3003692,195.4115025,209.540094,164.9182225,213.9011021,131.3387935,135.1272491,174.6256481,154.0621221,165.8248732,225.6323656,188.9252083,221.2258168,203.9283708,191.7723087,149.2220255,152.4238712,166.5712879,90.8022356,71.29581071,90.75616738,89.76050416,88.43618918,78.58494391,96.32600992,64.23026638,72.49800885,71.94608134,71.84080724,79.81328183,69.91563467,89.799462,90.94342484,64.02949379,86.76287924,69.08056728,86.06411872,89.1188212,99.36898373,78.59595817,86.00758678,93.46595573,95.0191318,87.54004943,81.49543437,67.05961949,86.55517751,64.61444234,71.67870701,79.56866268,80.36146974,97.10087029,88.54479121,88.94245493,90.42224164,80.96157332,84.63148859,61.82980133,65.0247867,90.41694635,81.05902285,99.93100821,91.9223468,75.13617229,90.4547185,78.82199603,80.03995829,84.62419032,77.55176318,86.84998693,70.65644296,62.64174227,66.48339303,91.6389565,84.12536744,98.60457373,67.08022574,95.4262599,83.46532547,65.54475812,91.39578861,66.19426787,60.65381719,93.51042684,70.40557612,76.13090645,62.5138867,66.26555904,61.94626051,72.82902109,88.57395505,99.75336197,90.07326633,70.97358303,76.88582484,74.14169043,99.39557151,60.79645852,90.64770699,80.11272117,97.76600619,85.24963302,93.50153555,78.58488484,67.06459777,69.31153566,77.03421249,71.85436078,74.8984994,92.23645249,69.45072055,92.91915074,81.15072105,74.94136567,91.49697481,63.88079866,76.63669195,65.35747011,151.8869972,161.2469997,196.6249511,175.6086697,190.4242157,190.5577618,185.7446728,169.1168028,182.2685447,169.3388465,150.2498675,189.4263485,199.8362913,151.4935635,195.8645552,164.2697011,164.4970373,191.9649389,169.8391177,181.2783964,153.8990984,174.7876411,173.1017097,151.9035477,184.9800516,197.1220049,174.5071843,168.7848886,183.8270791,180.1237765,186.2337571,150.3166152,162.2847429,199.4766779,184.4633281,159.5718087,167.7230632,196.6587013,166.1365886,153.6390212,175.572958,197.2101782,196.469984,166.2160846,179.1630865,166.6415254,150.6326874,163.3488091,186.6898282,176.1516409,168.0432282,155.3851533,193.2418382,160.6217342,182.2582277,152.6194403,181.2915605,189.9711184,177.2233048,159.9210934,187.1735424,169.4168014,188.6372826,153.7447398,167.0576456,192.2316221,154.8390847,185.25947,192.4931257,176.5268267,195.7571622,156.3616174,157.1215052,175.1742112,154.8238864,153.9199807,169.9288234,176.8604109,176.103677,183.4065252,160.0889553,171.4892533,193.1007598,171.4716375,157.8548562,190.312216,152.9801697,199.3355744,187.3096148,180.2513601,172.6442654,193.7141828,184.7674863,193.8778713,150.2355238,177.5147313,154.6608736,190.7886386,190.9684885,159.3223075,191.6549412,144.6861336,136.7325092,147.2757818,122.2103248,139.3670753,164.4971875,129.8765443,122.8392822,171.3764462,140.6305213,189.0944824,165.6872119,135.1386537,148.9812525,135.0119649,161.8944624,175.7260273,194.1755471,124.2261737,195.7733251,190.2257843,196.2736367,148.6977358,144.6576424,180.5059257,192.4280381,167.4358075,191.3980675,117.3113562,197.6439711,119.6324109,126.1752206,120.6494434,191.4508931,117.9389993,168.2644287,115.1564012,122.6847408,176.9020924,124.4135035,148.3771202,181.6368274,153.477776,193.7461968,190.2440566,199.4735636,139.8619431,133.1120232,156.1543898,139.5013171,196.6492664,130.6377143,130.3797119,192.8736822,177.816092,161.5279095,122.4073418,168.8383605,184.4103931,177.3176161,152.0616227,121.5586297,156.1457255,171.6976946,185.1568059,163.2708732,175.3723314,147.8035305,192.7121236,193.5866233,115.2325531,161.3432535,163.6269496,129.5481144,192.4288139,136.3027766,162.5769606,171.8839938,194.8773479,134.6803969,158.8608887,126.8073984,137.7044047,143.9955548,156.6810374,145.105065,142.8610793,153.1201644,186.1728203,141.4831644,181.4170812,188.5506536,183.468585,166.2549307,177.7745075,127.92461,173.3228386,127.1752928,140.9370415],\"y0\":\" \",\"yaxis\":\"y\",\"type\":\"box\"}],                        {\"template\":{\"data\":{\"bar\":[{\"error_x\":{\"color\":\"#2a3f5f\"},\"error_y\":{\"color\":\"#2a3f5f\"},\"marker\":{\"line\":{\"color\":\"#E5ECF6\",\"width\":0.5},\"pattern\":{\"fillmode\":\"overlay\",\"size\":10,\"solidity\":0.2}},\"type\":\"bar\"}],\"barpolar\":[{\"marker\":{\"line\":{\"color\":\"#E5ECF6\",\"width\":0.5},\"pattern\":{\"fillmode\":\"overlay\",\"size\":10,\"solidity\":0.2}},\"type\":\"barpolar\"}],\"carpet\":[{\"aaxis\":{\"endlinecolor\":\"#2a3f5f\",\"gridcolor\":\"white\",\"linecolor\":\"white\",\"minorgridcolor\":\"white\",\"startlinecolor\":\"#2a3f5f\"},\"baxis\":{\"endlinecolor\":\"#2a3f5f\",\"gridcolor\":\"white\",\"linecolor\":\"white\",\"minorgridcolor\":\"white\",\"startlinecolor\":\"#2a3f5f\"},\"type\":\"carpet\"}],\"choropleth\":[{\"colorbar\":{\"outlinewidth\":0,\"ticks\":\"\"},\"type\":\"choropleth\"}],\"contour\":[{\"colorbar\":{\"outlinewidth\":0,\"ticks\":\"\"},\"colorscale\":[[0.0,\"#0d0887\"],[0.1111111111111111,\"#46039f\"],[0.2222222222222222,\"#7201a8\"],[0.3333333333333333,\"#9c179e\"],[0.4444444444444444,\"#bd3786\"],[0.5555555555555556,\"#d8576b\"],[0.6666666666666666,\"#ed7953\"],[0.7777777777777778,\"#fb9f3a\"],[0.8888888888888888,\"#fdca26\"],[1.0,\"#f0f921\"]],\"type\":\"contour\"}],\"contourcarpet\":[{\"colorbar\":{\"outlinewidth\":0,\"ticks\":\"\"},\"type\":\"contourcarpet\"}],\"heatmap\":[{\"colorbar\":{\"outlinewidth\":0,\"ticks\":\"\"},\"colorscale\":[[0.0,\"#0d0887\"],[0.1111111111111111,\"#46039f\"],[0.2222222222222222,\"#7201a8\"],[0.3333333333333333,\"#9c179e\"],[0.4444444444444444,\"#bd3786\"],[0.5555555555555556,\"#d8576b\"],[0.6666666666666666,\"#ed7953\"],[0.7777777777777778,\"#fb9f3a\"],[0.8888888888888888,\"#fdca26\"],[1.0,\"#f0f921\"]],\"type\":\"heatmap\"}],\"heatmapgl\":[{\"colorbar\":{\"outlinewidth\":0,\"ticks\":\"\"},\"colorscale\":[[0.0,\"#0d0887\"],[0.1111111111111111,\"#46039f\"],[0.2222222222222222,\"#7201a8\"],[0.3333333333333333,\"#9c179e\"],[0.4444444444444444,\"#bd3786\"],[0.5555555555555556,\"#d8576b\"],[0.6666666666666666,\"#ed7953\"],[0.7777777777777778,\"#fb9f3a\"],[0.8888888888888888,\"#fdca26\"],[1.0,\"#f0f921\"]],\"type\":\"heatmapgl\"}],\"histogram\":[{\"marker\":{\"pattern\":{\"fillmode\":\"overlay\",\"size\":10,\"solidity\":0.2}},\"type\":\"histogram\"}],\"histogram2d\":[{\"colorbar\":{\"outlinewidth\":0,\"ticks\":\"\"},\"colorscale\":[[0.0,\"#0d0887\"],[0.1111111111111111,\"#46039f\"],[0.2222222222222222,\"#7201a8\"],[0.3333333333333333,\"#9c179e\"],[0.4444444444444444,\"#bd3786\"],[0.5555555555555556,\"#d8576b\"],[0.6666666666666666,\"#ed7953\"],[0.7777777777777778,\"#fb9f3a\"],[0.8888888888888888,\"#fdca26\"],[1.0,\"#f0f921\"]],\"type\":\"histogram2d\"}],\"histogram2dcontour\":[{\"colorbar\":{\"outlinewidth\":0,\"ticks\":\"\"},\"colorscale\":[[0.0,\"#0d0887\"],[0.1111111111111111,\"#46039f\"],[0.2222222222222222,\"#7201a8\"],[0.3333333333333333,\"#9c179e\"],[0.4444444444444444,\"#bd3786\"],[0.5555555555555556,\"#d8576b\"],[0.6666666666666666,\"#ed7953\"],[0.7777777777777778,\"#fb9f3a\"],[0.8888888888888888,\"#fdca26\"],[1.0,\"#f0f921\"]],\"type\":\"histogram2dcontour\"}],\"mesh3d\":[{\"colorbar\":{\"outlinewidth\":0,\"ticks\":\"\"},\"type\":\"mesh3d\"}],\"parcoords\":[{\"line\":{\"colorbar\":{\"outlinewidth\":0,\"ticks\":\"\"}},\"type\":\"parcoords\"}],\"pie\":[{\"automargin\":true,\"type\":\"pie\"}],\"scatter\":[{\"marker\":{\"colorbar\":{\"outlinewidth\":0,\"ticks\":\"\"}},\"type\":\"scatter\"}],\"scatter3d\":[{\"line\":{\"colorbar\":{\"outlinewidth\":0,\"ticks\":\"\"}},\"marker\":{\"colorbar\":{\"outlinewidth\":0,\"ticks\":\"\"}},\"type\":\"scatter3d\"}],\"scattercarpet\":[{\"marker\":{\"colorbar\":{\"outlinewidth\":0,\"ticks\":\"\"}},\"type\":\"scattercarpet\"}],\"scattergeo\":[{\"marker\":{\"colorbar\":{\"outlinewidth\":0,\"ticks\":\"\"}},\"type\":\"scattergeo\"}],\"scattergl\":[{\"marker\":{\"colorbar\":{\"outlinewidth\":0,\"ticks\":\"\"}},\"type\":\"scattergl\"}],\"scattermapbox\":[{\"marker\":{\"colorbar\":{\"outlinewidth\":0,\"ticks\":\"\"}},\"type\":\"scattermapbox\"}],\"scatterpolar\":[{\"marker\":{\"colorbar\":{\"outlinewidth\":0,\"ticks\":\"\"}},\"type\":\"scatterpolar\"}],\"scatterpolargl\":[{\"marker\":{\"colorbar\":{\"outlinewidth\":0,\"ticks\":\"\"}},\"type\":\"scatterpolargl\"}],\"scatterternary\":[{\"marker\":{\"colorbar\":{\"outlinewidth\":0,\"ticks\":\"\"}},\"type\":\"scatterternary\"}],\"surface\":[{\"colorbar\":{\"outlinewidth\":0,\"ticks\":\"\"},\"colorscale\":[[0.0,\"#0d0887\"],[0.1111111111111111,\"#46039f\"],[0.2222222222222222,\"#7201a8\"],[0.3333333333333333,\"#9c179e\"],[0.4444444444444444,\"#bd3786\"],[0.5555555555555556,\"#d8576b\"],[0.6666666666666666,\"#ed7953\"],[0.7777777777777778,\"#fb9f3a\"],[0.8888888888888888,\"#fdca26\"],[1.0,\"#f0f921\"]],\"type\":\"surface\"}],\"table\":[{\"cells\":{\"fill\":{\"color\":\"#EBF0F8\"},\"line\":{\"color\":\"white\"}},\"header\":{\"fill\":{\"color\":\"#C8D4E3\"},\"line\":{\"color\":\"white\"}},\"type\":\"table\"}]},\"layout\":{\"annotationdefaults\":{\"arrowcolor\":\"#2a3f5f\",\"arrowhead\":0,\"arrowwidth\":1},\"autotypenumbers\":\"strict\",\"coloraxis\":{\"colorbar\":{\"outlinewidth\":0,\"ticks\":\"\"}},\"colorscale\":{\"diverging\":[[0,\"#8e0152\"],[0.1,\"#c51b7d\"],[0.2,\"#de77ae\"],[0.3,\"#f1b6da\"],[0.4,\"#fde0ef\"],[0.5,\"#f7f7f7\"],[0.6,\"#e6f5d0\"],[0.7,\"#b8e186\"],[0.8,\"#7fbc41\"],[0.9,\"#4d9221\"],[1,\"#276419\"]],\"sequential\":[[0.0,\"#0d0887\"],[0.1111111111111111,\"#46039f\"],[0.2222222222222222,\"#7201a8\"],[0.3333333333333333,\"#9c179e\"],[0.4444444444444444,\"#bd3786\"],[0.5555555555555556,\"#d8576b\"],[0.6666666666666666,\"#ed7953\"],[0.7777777777777778,\"#fb9f3a\"],[0.8888888888888888,\"#fdca26\"],[1.0,\"#f0f921\"]],\"sequentialminus\":[[0.0,\"#0d0887\"],[0.1111111111111111,\"#46039f\"],[0.2222222222222222,\"#7201a8\"],[0.3333333333333333,\"#9c179e\"],[0.4444444444444444,\"#bd3786\"],[0.5555555555555556,\"#d8576b\"],[0.6666666666666666,\"#ed7953\"],[0.7777777777777778,\"#fb9f3a\"],[0.8888888888888888,\"#fdca26\"],[1.0,\"#f0f921\"]]},\"colorway\":[\"#636efa\",\"#EF553B\",\"#00cc96\",\"#ab63fa\",\"#FFA15A\",\"#19d3f3\",\"#FF6692\",\"#B6E880\",\"#FF97FF\",\"#FECB52\"],\"font\":{\"color\":\"#2a3f5f\"},\"geo\":{\"bgcolor\":\"white\",\"lakecolor\":\"white\",\"landcolor\":\"#E5ECF6\",\"showlakes\":true,\"showland\":true,\"subunitcolor\":\"white\"},\"hoverlabel\":{\"align\":\"left\"},\"hovermode\":\"closest\",\"mapbox\":{\"style\":\"light\"},\"paper_bgcolor\":\"white\",\"plot_bgcolor\":\"#E5ECF6\",\"polar\":{\"angularaxis\":{\"gridcolor\":\"white\",\"linecolor\":\"white\",\"ticks\":\"\"},\"bgcolor\":\"#E5ECF6\",\"radialaxis\":{\"gridcolor\":\"white\",\"linecolor\":\"white\",\"ticks\":\"\"}},\"scene\":{\"xaxis\":{\"backgroundcolor\":\"#E5ECF6\",\"gridcolor\":\"white\",\"gridwidth\":2,\"linecolor\":\"white\",\"showbackground\":true,\"ticks\":\"\",\"zerolinecolor\":\"white\"},\"yaxis\":{\"backgroundcolor\":\"#E5ECF6\",\"gridcolor\":\"white\",\"gridwidth\":2,\"linecolor\":\"white\",\"showbackground\":true,\"ticks\":\"\",\"zerolinecolor\":\"white\"},\"zaxis\":{\"backgroundcolor\":\"#E5ECF6\",\"gridcolor\":\"white\",\"gridwidth\":2,\"linecolor\":\"white\",\"showbackground\":true,\"ticks\":\"\",\"zerolinecolor\":\"white\"}},\"shapedefaults\":{\"line\":{\"color\":\"#2a3f5f\"}},\"ternary\":{\"aaxis\":{\"gridcolor\":\"white\",\"linecolor\":\"white\",\"ticks\":\"\"},\"baxis\":{\"gridcolor\":\"white\",\"linecolor\":\"white\",\"ticks\":\"\"},\"bgcolor\":\"#E5ECF6\",\"caxis\":{\"gridcolor\":\"white\",\"linecolor\":\"white\",\"ticks\":\"\"}},\"title\":{\"x\":0.05},\"xaxis\":{\"automargin\":true,\"gridcolor\":\"white\",\"linecolor\":\"white\",\"ticks\":\"\",\"title\":{\"standoff\":15},\"zerolinecolor\":\"white\",\"zerolinewidth\":2},\"yaxis\":{\"automargin\":true,\"gridcolor\":\"white\",\"linecolor\":\"white\",\"ticks\":\"\",\"title\":{\"standoff\":15},\"zerolinecolor\":\"white\",\"zerolinewidth\":2}}},\"xaxis\":{\"anchor\":\"y\",\"domain\":[0.0,1.0]},\"yaxis\":{\"anchor\":\"x\",\"domain\":[0.0,1.0],\"title\":{\"text\":\"rainfall\"}},\"legend\":{\"tracegroupgap\":0},\"margin\":{\"t\":60},\"boxmode\":\"group\"},                        {\"responsive\": true}                    ).then(function(){\n",
              "                            \n",
              "var gd = document.getElementById('4552a59c-3203-43c0-9671-93e3cf39006c');\n",
              "var x = new MutationObserver(function (mutations, observer) {{\n",
              "        var display = window.getComputedStyle(gd).display;\n",
              "        if (!display || display === 'none') {{\n",
              "            console.log([gd, 'removed!']);\n",
              "            Plotly.purge(gd);\n",
              "            observer.disconnect();\n",
              "        }}\n",
              "}});\n",
              "\n",
              "// Listen for the removal of the full notebook cells\n",
              "var notebookContainer = gd.closest('#notebook-container');\n",
              "if (notebookContainer) {{\n",
              "    x.observe(notebookContainer, {childList: true});\n",
              "}}\n",
              "\n",
              "// Listen for the clearing of the current output cell\n",
              "var outputEl = gd.closest('.output');\n",
              "if (outputEl) {{\n",
              "    x.observe(outputEl, {childList: true});\n",
              "}}\n",
              "\n",
              "                        })                };                            </script>        </div>\n",
              "</body>\n",
              "</html>"
            ]
          },
          "metadata": {}
        }
      ]
    },
    {
      "cell_type": "code",
      "source": [
        "df_boston = data\n",
        "df_boston.columns = df_boston.columns\n",
        "df_boston.head()\n",
        "\n",
        "Q1 = np.percentile(df_boston['rainfall'],25,interpolation = 'midpoint')\n",
        "Q3 = np.percentile(df_boston['rainfall'],75,interpolation = 'midpoint')\n",
        "IQR = Q3 - Q1\n",
        "print(\"Old Shape: \",df_boston.shape)\n",
        "upper = np.where(df_boston['rainfall'] >= (Q3+1.5*IQR))\n",
        "lower = np.where(df_boston['rainfall'] <= (Q1-1.5*IQR))\n",
        "\n",
        "df_boston.drop(upper[0], inplace = True)\n",
        "df_boston.drop(lower[0], inplace = True)\n",
        "\n",
        "print(\"New Shape: \",df_boston.shape)"
      ],
      "metadata": {
        "colab": {
          "base_uri": "https://localhost:8080/"
        },
        "id": "M9r_kPymiduI",
        "outputId": "f4a601d7-6d88-4a12-9dea-0f37628e1f31"
      },
      "execution_count": null,
      "outputs": [
        {
          "output_type": "stream",
          "name": "stdout",
          "text": [
            "Old Shape:  (2200, 8)\n",
            "New Shape:  (2101, 8)\n"
          ]
        }
      ]
    },
    {
      "cell_type": "code",
      "source": [
        "data = df_boston"
      ],
      "metadata": {
        "id": "pKPpIgPZkWBT"
      },
      "execution_count": null,
      "outputs": []
    },
    {
      "cell_type": "code",
      "source": [
        "plt.figure(figsize=(15,6))\n",
        "sns.barplot(y='N',x='label',data=data,palette='hls')\n",
        "plt.xticks(rotation=90)\n",
        "plt.show()"
      ],
      "metadata": {
        "colab": {
          "base_uri": "https://localhost:8080/",
          "height": 445
        },
        "id": "e1IlcIuZkeez",
        "outputId": "5c3e873f-e4e0-42cd-8d4c-a64e08beb642"
      },
      "execution_count": null,
      "outputs": [
        {
          "output_type": "display_data",
          "data": {
            "text/plain": [
              "<Figure size 1080x432 with 1 Axes>"
            ],
            "image/png": "[encoded data removed]"
          },
          "metadata": {
            "needs_background": "light"
          }
        }
      ]
    },
    {
      "cell_type": "code",
      "source": [
        "crop_summary_new=data.copy()"
      ],
      "metadata": {
        "id": "JU-Z2AK1lCE_"
      },
      "execution_count": null,
      "outputs": []
    },
    {
      "cell_type": "code",
      "source": [
        "import plotly.graph_objects as go\n",
        "import plotly.express as px\n",
        "from plotly.subplots import make_subplots"
      ],
      "metadata": {
        "id": "YFPFuelvlIM6"
      },
      "execution_count": null,
      "outputs": []
    },
    {
      "cell_type": "code",
      "source": [
        "fig1=px.bar(crop_summary_new,x='label',y='N')\n",
        "fig1.show()"
      ],
      "metadata": {
        "colab": {
          "base_uri": "https://localhost:8080/",
          "height": 542
        },
        "id": "mK96NwqtlYLC",
        "outputId": "484d6a10-b14b-4370-fe8a-9c2e95ff2c84"
      },
      "execution_count": null,
      "outputs": [
        {
          "output_type": "display_data",
          "data": {
            "text/html": [
              "<html>\n",
              "<head><meta charset=\"utf-8\" /></head>\n",
              "<body>\n",
              "    <div>            <script src=\"https://cdnjs.cloudflare.com/ajax/libs/mathjax/2.7.5/MathJax.js?config=TeX-AMS-MML_SVG\"></script><script type=\"text/javascript\">if (window.MathJax) {MathJax.Hub.Config({SVG: {font: \"STIX-Web\"}});}</script>                <script type=\"text/javascript\">window.PlotlyConfig = {MathJaxConfig: 'local'};</script>\n",
              "        <script src=\"https://cdn.plot.ly/plotly-2.8.3.min.js\"></script>                <div id=\"a9cb6206-2983-4911-b0ea-2525b9de5250\" class=\"plotly-graph-div\" style=\"height:525px; width:100%;\"></div>            <script type=\"text/javascript\">                                    window.PLOTLYENV=window.PLOTLYENV || {};                                    if (document.getElementById(\"a9cb6206-2983-4911-b0ea-2525b9de5250\")) {                    Plotly.newPlot(                        \"a9cb6206-2983-4911-b0ea-2525b9de5250\",                        [{\"alignmentgroup\":\"True\",\"hovertemplate\":\"label=%{x}<br>N=%{y}<extra></extra>\",\"legendgroup\":\"\",\"marker\":{\"color\":\"#636efa\",\"pattern\":{\"shape\":\"\"}},\"name\":\"\",\"offsetgroup\":\"\",\"orientation\":\"v\",\"showlegend\":false,\"textposition\":\"auto\",\"x\":[\"rice\",\"rice\",\"rice\",\"rice\",\"rice\",\"rice\",\"rice\",\"rice\",\"rice\",\"rice\",\"rice\",\"rice\",\"rice\",\"rice\",\"rice\",\"rice\",\"rice\",\"rice\",\"rice\",\"rice\",\"rice\",\"rice\",\"rice\",\"rice\",\"rice\",\"rice\",\"rice\",\"rice\",\"rice\",\"rice\",\"rice\",\"rice\",\"maize\",\"maize\",\"maize\",\"maize\",\"maize\",\"maize\",\"maize\",\"maize\",\"maize\",\"maize\",\"maize\",\"maize\",\"maize\",\"maize\",\"maize\",\"maize\",\"maize\",\"maize\",\"maize\",\"maize\",\"maize\",\"maize\",\"maize\",\"maize\",\"maize\",\"maize\",\"maize\",\"maize\",\"maize\",\"maize\",\"maize\",\"maize\",\"maize\",\"maize\",\"maize\",\"maize\",\"maize\",\"maize\",\"maize\",\"maize\",\"maize\",\"maize\",\"maize\",\"maize\",\"maize\",\"maize\",\"maize\",\"maize\",\"maize\",\"maize\",\"maize\",\"maize\",\"maize\",\"maize\",\"maize\",\"maize\",\"maize\",\"maize\",\"maize\",\"maize\",\"maize\",\"maize\",\"maize\",\"maize\",\"maize\",\"maize\",\"maize\",\"maize\",\"maize\",\"maize\",\"maize\",\"maize\",\"maize\",\"maize\",\"maize\",\"maize\",\"maize\",\"maize\",\"maize\",\"maize\",\"maize\",\"maize\",\"maize\",\"maize\",\"maize\",\"maize\",\"maize\",\"maize\",\"maize\",\"maize\",\"maize\",\"maize\",\"maize\",\"maize\",\"maize\",\"maize\",\"maize\",\"maize\",\"maize\",\"maize\",\"chickpea\",\"chickpea\",\"chickpea\",\"chickpea\",\"chickpea\",\"chickpea\",\"chickpea\",\"chickpea\",\"chickpea\",\"chickpea\",\"chickpea\",\"chickpea\",\"chickpea\",\"chickpea\",\"chickpea\",\"chickpea\",\"chickpea\",\"chickpea\",\"chickpea\",\"chickpea\",\"chickpea\",\"chickpea\",\"chickpea\",\"chickpea\",\"chickpea\",\"chickpea\",\"chickpea\",\"chickpea\",\"chickpea\",\"chickpea\",\"chickpea\",\"chickpea\",\"chickpea\",\"chickpea\",\"chickpea\",\"chickpea\",\"chickpea\",\"chickpea\",\"chickpea\",\"chickpea\",\"chickpea\",\"chickpea\",\"chickpea\",\"chickpea\",\"chickpea\",\"chickpea\",\"chickpea\",\"chickpea\",\"chickpea\",\"chickpea\",\"chickpea\",\"chickpea\",\"chickpea\",\"chickpea\",\"chickpea\",\"chickpea\",\"chickpea\",\"chickpea\",\"chickpea\",\"chickpea\",\"chickpea\",\"chickpea\",\"chickpea\",\"chickpea\",\"chickpea\",\"chickpea\",\"chickpea\",\"chickpea\",\"chickpea\",\"chickpea\",\"chickpea\",\"chickpea\",\"chickpea\",\"chickpea\",\"chickpea\",\"chickpea\",\"chickpea\",\"chickpea\",\"chickpea\",\"chickpea\",\"chickpea\",\"chickpea\",\"chickpea\",\"chickpea\",\"chickpea\",\"chickpea\",\"chickpea\",\"chickpea\",\"chickpea\",\"chickpea\",\"chickpea\",\"chickpea\",\"chickpea\",\"chickpea\",\"chickpea\",\"chickpea\",\"chickpea\",\"chickpea\",\"chickpea\",\"chickpea\",\"kidneybeans\",\"kidneybeans\",\"kidneybeans\",\"kidneybeans\",\"kidneybeans\",\"kidneybeans\",\"kidneybeans\",\"kidneybeans\",\"kidneybeans\",\"kidneybeans\",\"kidneybeans\",\"kidneybeans\",\"kidneybeans\",\"kidneybeans\",\"kidneybeans\",\"kidneybeans\",\"kidneybeans\",\"kidneybeans\",\"kidneybeans\",\"kidneybeans\",\"kidneybeans\",\"kidneybeans\",\"kidneybeans\",\"kidneybeans\",\"kidneybeans\",\"kidneybeans\",\"kidneybeans\",\"kidneybeans\",\"kidneybeans\",\"kidneybeans\",\"kidneybeans\",\"kidneybeans\",\"kidneybeans\",\"kidneybeans\",\"kidneybeans\",\"kidneybeans\",\"kidneybeans\",\"kidneybeans\",\"kidneybeans\",\"kidneybeans\",\"kidneybeans\",\"kidneybeans\",\"kidneybeans\",\"kidneybeans\",\"kidneybeans\",\"kidneybeans\",\"kidneybeans\",\"kidneybeans\",\"kidneybeans\",\"kidneybeans\",\"kidneybeans\",\"kidneybeans\",\"kidneybeans\",\"kidneybeans\",\"kidneybeans\",\"kidneybeans\",\"kidneybeans\",\"kidneybeans\",\"kidneybeans\",\"kidneybeans\",\"kidneybeans\",\"kidneybeans\",\"kidneybeans\",\"kidneybeans\",\"kidneybeans\",\"kidneybeans\",\"kidneybeans\",\"kidneybeans\",\"kidneybeans\",\"kidneybeans\",\"kidneybeans\",\"kidneybeans\",\"kidneybeans\",\"kidneybeans\",\"kidneybeans\",\"kidneybeans\",\"kidneybeans\",\"kidneybeans\",\"kidneybeans\",\"kidneybeans\",\"kidneybeans\",\"kidneybeans\",\"kidneybeans\",\"kidneybeans\",\"kidneybeans\",\"kidneybeans\",\"kidneybeans\",\"kidneybeans\",\"kidneybeans\",\"kidneybeans\",\"kidneybeans\",\"kidneybeans\",\"kidneybeans\",\"kidneybeans\",\"kidneybeans\",\"kidneybeans\",\"kidneybeans\",\"kidneybeans\",\"kidneybeans\",\"kidneybeans\",\"pigeonpeas\",\"pigeonpeas\",\"pigeonpeas\",\"pigeonpeas\",\"pigeonpeas\",\"pigeonpeas\",\"pigeonpeas\",\"pigeonpeas\",\"pigeonpeas\",\"pigeonpeas\",\"pigeonpeas\",\"pigeonpeas\",\"pigeonpeas\",\"pigeonpeas\",\"pigeonpeas\",\"pigeonpeas\",\"pigeonpeas\",\"pigeonpeas\",\"pigeonpeas\",\"pigeonpeas\",\"pigeonpeas\",\"pigeonpeas\",\"pigeonpeas\",\"pigeonpeas\",\"pigeonpeas\",\"pigeonpeas\",\"pigeonpeas\",\"pigeonpeas\",\"pigeonpeas\",\"pigeonpeas\",\"pigeonpeas\",\"pigeonpeas\",\"pigeonpeas\",\"pigeonpeas\",\"pigeonpeas\",\"pigeonpeas\",\"pigeonpeas\",\"pigeonpeas\",\"pigeonpeas\",\"pigeonpeas\",\"pigeonpeas\",\"pigeonpeas\",\"pigeonpeas\",\"pigeonpeas\",\"pigeonpeas\",\"pigeonpeas\",\"pigeonpeas\",\"pigeonpeas\",\"pigeonpeas\",\"pigeonpeas\",\"pigeonpeas\",\"pigeonpeas\",\"pigeonpeas\",\"pigeonpeas\",\"pigeonpeas\",\"pigeonpeas\",\"pigeonpeas\",\"pigeonpeas\",\"pigeonpeas\",\"pigeonpeas\",\"pigeonpeas\",\"pigeonpeas\",\"pigeonpeas\",\"pigeonpeas\",\"pigeonpeas\",\"pigeonpeas\",\"pigeonpeas\",\"pigeonpeas\",\"pigeonpeas\",\"pigeonpeas\",\"pigeonpeas\",\"pigeonpeas\",\"pigeonpeas\",\"pigeonpeas\",\"pigeonpeas\",\"pigeonpeas\",\"pigeonpeas\",\"pigeonpeas\",\"pigeonpeas\",\"pigeonpeas\",\"pigeonpeas\",\"pigeonpeas\",\"pigeonpeas\",\"pigeonpeas\",\"pigeonpeas\",\"pigeonpeas\",\"pigeonpeas\",\"pigeonpeas\",\"pigeonpeas\",\"pigeonpeas\",\"pigeonpeas\",\"pigeonpeas\",\"pigeonpeas\",\"pigeonpeas\",\"pigeonpeas\",\"pigeonpeas\",\"pigeonpeas\",\"pigeonpeas\",\"pigeonpeas\",\"pigeonpeas\",\"mothbeans\",\"mothbeans\",\"mothbeans\",\"mothbeans\",\"mothbeans\",\"mothbeans\",\"mothbeans\",\"mothbeans\",\"mothbeans\",\"mothbeans\",\"mothbeans\",\"mothbeans\",\"mothbeans\",\"mothbeans\",\"mothbeans\",\"mothbeans\",\"mothbeans\",\"mothbeans\",\"mothbeans\",\"mothbeans\",\"mothbeans\",\"mothbeans\",\"mothbeans\",\"mothbeans\",\"mothbeans\",\"mothbeans\",\"mothbeans\",\"mothbeans\",\"mothbeans\",\"mothbeans\",\"mothbeans\",\"mothbeans\",\"mothbeans\",\"mothbeans\",\"mothbeans\",\"mothbeans\",\"mothbeans\",\"mothbeans\",\"mothbeans\",\"mothbeans\",\"mothbeans\",\"mothbeans\",\"mothbeans\",\"mothbeans\",\"mothbeans\",\"mothbeans\",\"mothbeans\",\"mothbeans\",\"mothbeans\",\"mothbeans\",\"mothbeans\",\"mothbeans\",\"mothbeans\",\"mothbeans\",\"mothbeans\",\"mothbeans\",\"mothbeans\",\"mothbeans\",\"mothbeans\",\"mothbeans\",\"mothbeans\",\"mothbeans\",\"mothbeans\",\"mothbeans\",\"mothbeans\",\"mothbeans\",\"mothbeans\",\"mothbeans\",\"mothbeans\",\"mothbeans\",\"mothbeans\",\"mothbeans\",\"mothbeans\",\"mothbeans\",\"mothbeans\",\"mothbeans\",\"mothbeans\",\"mothbeans\",\"mothbeans\",\"mothbeans\",\"mothbeans\",\"mothbeans\",\"mothbeans\",\"mothbeans\",\"mothbeans\",\"mothbeans\",\"mothbeans\",\"mothbeans\",\"mothbeans\",\"mothbeans\",\"mothbeans\",\"mothbeans\",\"mothbeans\",\"mothbeans\",\"mothbeans\",\"mothbeans\",\"mothbeans\",\"mothbeans\",\"mothbeans\",\"mothbeans\",\"mungbean\",\"mungbean\",\"mungbean\",\"mungbean\",\"mungbean\",\"mungbean\",\"mungbean\",\"mungbean\",\"mungbean\",\"mungbean\",\"mungbean\",\"mungbean\",\"mungbean\",\"mungbean\",\"mungbean\",\"mungbean\",\"mungbean\",\"mungbean\",\"mungbean\",\"mungbean\",\"mungbean\",\"mungbean\",\"mungbean\",\"mungbean\",\"mungbean\",\"mungbean\",\"mungbean\",\"mungbean\",\"mungbean\",\"mungbean\",\"mungbean\",\"mungbean\",\"mungbean\",\"mungbean\",\"mungbean\",\"mungbean\",\"mungbean\",\"mungbean\",\"mungbean\",\"mungbean\",\"mungbean\",\"mungbean\",\"mungbean\",\"mungbean\",\"mungbean\",\"mungbean\",\"mungbean\",\"mungbean\",\"mungbean\",\"mungbean\",\"mungbean\",\"mungbean\",\"mungbean\",\"mungbean\",\"mungbean\",\"mungbean\",\"mungbean\",\"mungbean\",\"mungbean\",\"mungbean\",\"mungbean\",\"mungbean\",\"mungbean\",\"mungbean\",\"mungbean\",\"mungbean\",\"mungbean\",\"mungbean\",\"mungbean\",\"mungbean\",\"mungbean\",\"mungbean\",\"mungbean\",\"mungbean\",\"mungbean\",\"mungbean\",\"mungbean\",\"mungbean\",\"mungbean\",\"mungbean\",\"mungbean\",\"mungbean\",\"mungbean\",\"mungbean\",\"mungbean\",\"mungbean\",\"mungbean\",\"mungbean\",\"mungbean\",\"mungbean\",\"mungbean\",\"mungbean\",\"mungbean\",\"mungbean\",\"mungbean\",\"mungbean\",\"mungbean\",\"mungbean\",\"mungbean\",\"mungbean\",\"blackgram\",\"blackgram\",\"blackgram\",\"blackgram\",\"blackgram\",\"blackgram\",\"blackgram\",\"blackgram\",\"blackgram\",\"blackgram\",\"blackgram\",\"blackgram\",\"blackgram\",\"blackgram\",\"blackgram\",\"blackgram\",\"blackgram\",\"blackgram\",\"blackgram\",\"blackgram\",\"blackgram\",\"blackgram\",\"blackgram\",\"blackgram\",\"blackgram\",\"blackgram\",\"blackgram\",\"blackgram\",\"blackgram\",\"blackgram\",\"blackgram\",\"blackgram\",\"blackgram\",\"blackgram\",\"blackgram\",\"blackgram\",\"blackgram\",\"blackgram\",\"blackgram\",\"blackgram\",\"blackgram\",\"blackgram\",\"blackgram\",\"blackgram\",\"blackgram\",\"blackgram\",\"blackgram\",\"blackgram\",\"blackgram\",\"blackgram\",\"blackgram\",\"blackgram\",\"blackgram\",\"blackgram\",\"blackgram\",\"blackgram\",\"blackgram\",\"blackgram\",\"blackgram\",\"blackgram\",\"blackgram\",\"blackgram\",\"blackgram\",\"blackgram\",\"blackgram\",\"blackgram\",\"blackgram\",\"blackgram\",\"blackgram\",\"blackgram\",\"blackgram\",\"blackgram\",\"blackgram\",\"blackgram\",\"blackgram\",\"blackgram\",\"blackgram\",\"blackgram\",\"blackgram\",\"blackgram\",\"blackgram\",\"blackgram\",\"blackgram\",\"blackgram\",\"blackgram\",\"blackgram\",\"blackgram\",\"blackgram\",\"blackgram\",\"blackgram\",\"blackgram\",\"blackgram\",\"blackgram\",\"blackgram\",\"blackgram\",\"blackgram\",\"blackgram\",\"blackgram\",\"blackgram\",\"blackgram\",\"lentil\",\"lentil\",\"lentil\",\"lentil\",\"lentil\",\"lentil\",\"lentil\",\"lentil\",\"lentil\",\"lentil\",\"lentil\",\"lentil\",\"lentil\",\"lentil\",\"lentil\",\"lentil\",\"lentil\",\"lentil\",\"lentil\",\"lentil\",\"lentil\",\"lentil\",\"lentil\",\"lentil\",\"lentil\",\"lentil\",\"lentil\",\"lentil\",\"lentil\",\"lentil\",\"lentil\",\"lentil\",\"lentil\",\"lentil\",\"lentil\",\"lentil\",\"lentil\",\"lentil\",\"lentil\",\"lentil\",\"lentil\",\"lentil\",\"lentil\",\"lentil\",\"lentil\",\"lentil\",\"lentil\",\"lentil\",\"lentil\",\"lentil\",\"lentil\",\"lentil\",\"lentil\",\"lentil\",\"lentil\",\"lentil\",\"lentil\",\"lentil\",\"lentil\",\"lentil\",\"lentil\",\"lentil\",\"lentil\",\"lentil\",\"lentil\",\"lentil\",\"lentil\",\"lentil\",\"lentil\",\"lentil\",\"lentil\",\"lentil\",\"lentil\",\"lentil\",\"lentil\",\"lentil\",\"lentil\",\"lentil\",\"lentil\",\"lentil\",\"lentil\",\"lentil\",\"lentil\",\"lentil\",\"lentil\",\"lentil\",\"lentil\",\"lentil\",\"lentil\",\"lentil\",\"lentil\",\"lentil\",\"lentil\",\"lentil\",\"lentil\",\"lentil\",\"lentil\",\"lentil\",\"lentil\",\"lentil\",\"pomegranate\",\"pomegranate\",\"pomegranate\",\"pomegranate\",\"pomegranate\",\"pomegranate\",\"pomegranate\",\"pomegranate\",\"pomegranate\",\"pomegranate\",\"pomegranate\",\"pomegranate\",\"pomegranate\",\"pomegranate\",\"pomegranate\",\"pomegranate\",\"pomegranate\",\"pomegranate\",\"pomegranate\",\"pomegranate\",\"pomegranate\",\"pomegranate\",\"pomegranate\",\"pomegranate\",\"pomegranate\",\"pomegranate\",\"pomegranate\",\"pomegranate\",\"pomegranate\",\"pomegranate\",\"pomegranate\",\"pomegranate\",\"pomegranate\",\"pomegranate\",\"pomegranate\",\"pomegranate\",\"pomegranate\",\"pomegranate\",\"pomegranate\",\"pomegranate\",\"pomegranate\",\"pomegranate\",\"pomegranate\",\"pomegranate\",\"pomegranate\",\"pomegranate\",\"pomegranate\",\"pomegranate\",\"pomegranate\",\"pomegranate\",\"pomegranate\",\"pomegranate\",\"pomegranate\",\"pomegranate\",\"pomegranate\",\"pomegranate\",\"pomegranate\",\"pomegranate\",\"pomegranate\",\"pomegranate\",\"pomegranate\",\"pomegranate\",\"pomegranate\",\"pomegranate\",\"pomegranate\",\"pomegranate\",\"pomegranate\",\"pomegranate\",\"pomegranate\",\"pomegranate\",\"pomegranate\",\"pomegranate\",\"pomegranate\",\"pomegranate\",\"pomegranate\",\"pomegranate\",\"pomegranate\",\"pomegranate\",\"pomegranate\",\"pomegranate\",\"pomegranate\",\"pomegranate\",\"pomegranate\",\"pomegranate\",\"pomegranate\",\"pomegranate\",\"pomegranate\",\"pomegranate\",\"pomegranate\",\"pomegranate\",\"pomegranate\",\"pomegranate\",\"pomegranate\",\"pomegranate\",\"pomegranate\",\"pomegranate\",\"pomegranate\",\"pomegranate\",\"pomegranate\",\"pomegranate\",\"banana\",\"banana\",\"banana\",\"banana\",\"banana\",\"banana\",\"banana\",\"banana\",\"banana\",\"banana\",\"banana\",\"banana\",\"banana\",\"banana\",\"banana\",\"banana\",\"banana\",\"banana\",\"banana\",\"banana\",\"banana\",\"banana\",\"banana\",\"banana\",\"banana\",\"banana\",\"banana\",\"banana\",\"banana\",\"banana\",\"banana\",\"banana\",\"banana\",\"banana\",\"banana\",\"banana\",\"banana\",\"banana\",\"banana\",\"banana\",\"banana\",\"banana\",\"banana\",\"banana\",\"banana\",\"banana\",\"banana\",\"banana\",\"banana\",\"banana\",\"banana\",\"banana\",\"banana\",\"banana\",\"banana\",\"banana\",\"banana\",\"banana\",\"banana\",\"banana\",\"banana\",\"banana\",\"banana\",\"banana\",\"banana\",\"banana\",\"banana\",\"banana\",\"banana\",\"banana\",\"banana\",\"banana\",\"banana\",\"banana\",\"banana\",\"banana\",\"banana\",\"banana\",\"banana\",\"banana\",\"banana\",\"banana\",\"banana\",\"banana\",\"banana\",\"banana\",\"banana\",\"banana\",\"banana\",\"banana\",\"banana\",\"banana\",\"banana\",\"banana\",\"banana\",\"banana\",\"banana\",\"banana\",\"banana\",\"banana\",\"mango\",\"mango\",\"mango\",\"mango\",\"mango\",\"mango\",\"mango\",\"mango\",\"mango\",\"mango\",\"mango\",\"mango\",\"mango\",\"mango\",\"mango\",\"mango\",\"mango\",\"mango\",\"mango\",\"mango\",\"mango\",\"mango\",\"mango\",\"mango\",\"mango\",\"mango\",\"mango\",\"mango\",\"mango\",\"mango\",\"mango\",\"mango\",\"mango\",\"mango\",\"mango\",\"mango\",\"mango\",\"mango\",\"mango\",\"mango\",\"mango\",\"mango\",\"mango\",\"mango\",\"mango\",\"mango\",\"mango\",\"mango\",\"mango\",\"mango\",\"mango\",\"mango\",\"mango\",\"mango\",\"mango\",\"mango\",\"mango\",\"mango\",\"mango\",\"mango\",\"mango\",\"mango\",\"mango\",\"mango\",\"mango\",\"mango\",\"mango\",\"mango\",\"mango\",\"mango\",\"mango\",\"mango\",\"mango\",\"mango\",\"mango\",\"mango\",\"mango\",\"mango\",\"mango\",\"mango\",\"mango\",\"mango\",\"mango\",\"mango\",\"mango\",\"mango\",\"mango\",\"mango\",\"mango\",\"mango\",\"mango\",\"mango\",\"mango\",\"mango\",\"mango\",\"mango\",\"mango\",\"mango\",\"mango\",\"mango\",\"grapes\",\"grapes\",\"grapes\",\"grapes\",\"grapes\",\"grapes\",\"grapes\",\"grapes\",\"grapes\",\"grapes\",\"grapes\",\"grapes\",\"grapes\",\"grapes\",\"grapes\",\"grapes\",\"grapes\",\"grapes\",\"grapes\",\"grapes\",\"grapes\",\"grapes\",\"grapes\",\"grapes\",\"grapes\",\"grapes\",\"grapes\",\"grapes\",\"grapes\",\"grapes\",\"grapes\",\"grapes\",\"grapes\",\"grapes\",\"grapes\",\"grapes\",\"grapes\",\"grapes\",\"grapes\",\"grapes\",\"grapes\",\"grapes\",\"grapes\",\"grapes\",\"grapes\",\"grapes\",\"grapes\",\"grapes\",\"grapes\",\"grapes\",\"grapes\",\"grapes\",\"grapes\",\"grapes\",\"grapes\",\"grapes\",\"grapes\",\"grapes\",\"grapes\",\"grapes\",\"grapes\",\"grapes\",\"grapes\",\"grapes\",\"grapes\",\"grapes\",\"grapes\",\"grapes\",\"grapes\",\"grapes\",\"grapes\",\"grapes\",\"grapes\",\"grapes\",\"grapes\",\"grapes\",\"grapes\",\"grapes\",\"grapes\",\"grapes\",\"grapes\",\"grapes\",\"grapes\",\"grapes\",\"grapes\",\"grapes\",\"grapes\",\"grapes\",\"grapes\",\"grapes\",\"grapes\",\"grapes\",\"grapes\",\"grapes\",\"grapes\",\"grapes\",\"grapes\",\"grapes\",\"grapes\",\"grapes\",\"watermelon\",\"watermelon\",\"watermelon\",\"watermelon\",\"watermelon\",\"watermelon\",\"watermelon\",\"watermelon\",\"watermelon\",\"watermelon\",\"watermelon\",\"watermelon\",\"watermelon\",\"watermelon\",\"watermelon\",\"watermelon\",\"watermelon\",\"watermelon\",\"watermelon\",\"watermelon\",\"watermelon\",\"watermelon\",\"watermelon\",\"watermelon\",\"watermelon\",\"watermelon\",\"watermelon\",\"watermelon\",\"watermelon\",\"watermelon\",\"watermelon\",\"watermelon\",\"watermelon\",\"watermelon\",\"watermelon\",\"watermelon\",\"watermelon\",\"watermelon\",\"watermelon\",\"watermelon\",\"watermelon\",\"watermelon\",\"watermelon\",\"watermelon\",\"watermelon\",\"watermelon\",\"watermelon\",\"watermelon\",\"watermelon\",\"watermelon\",\"watermelon\",\"watermelon\",\"watermelon\",\"watermelon\",\"watermelon\",\"watermelon\",\"watermelon\",\"watermelon\",\"watermelon\",\"watermelon\",\"watermelon\",\"watermelon\",\"watermelon\",\"watermelon\",\"watermelon\",\"watermelon\",\"watermelon\",\"watermelon\",\"watermelon\",\"watermelon\",\"watermelon\",\"watermelon\",\"watermelon\",\"watermelon\",\"watermelon\",\"watermelon\",\"watermelon\",\"watermelon\",\"watermelon\",\"watermelon\",\"watermelon\",\"watermelon\",\"watermelon\",\"watermelon\",\"watermelon\",\"watermelon\",\"watermelon\",\"watermelon\",\"watermelon\",\"watermelon\",\"watermelon\",\"watermelon\",\"watermelon\",\"watermelon\",\"watermelon\",\"watermelon\",\"watermelon\",\"watermelon\",\"watermelon\",\"watermelon\",\"muskmelon\",\"muskmelon\",\"muskmelon\",\"muskmelon\",\"muskmelon\",\"muskmelon\",\"muskmelon\",\"muskmelon\",\"muskmelon\",\"muskmelon\",\"muskmelon\",\"muskmelon\",\"muskmelon\",\"muskmelon\",\"muskmelon\",\"muskmelon\",\"muskmelon\",\"muskmelon\",\"muskmelon\",\"muskmelon\",\"muskmelon\",\"muskmelon\",\"muskmelon\",\"muskmelon\",\"muskmelon\",\"muskmelon\",\"muskmelon\",\"muskmelon\",\"muskmelon\",\"muskmelon\",\"muskmelon\",\"muskmelon\",\"muskmelon\",\"muskmelon\",\"muskmelon\",\"muskmelon\",\"muskmelon\",\"muskmelon\",\"muskmelon\",\"muskmelon\",\"muskmelon\",\"muskmelon\",\"muskmelon\",\"muskmelon\",\"muskmelon\",\"muskmelon\",\"muskmelon\",\"muskmelon\",\"muskmelon\",\"muskmelon\",\"muskmelon\",\"muskmelon\",\"muskmelon\",\"muskmelon\",\"muskmelon\",\"muskmelon\",\"muskmelon\",\"muskmelon\",\"muskmelon\",\"muskmelon\",\"muskmelon\",\"muskmelon\",\"muskmelon\",\"muskmelon\",\"muskmelon\",\"muskmelon\",\"muskmelon\",\"muskmelon\",\"muskmelon\",\"muskmelon\",\"muskmelon\",\"muskmelon\",\"muskmelon\",\"muskmelon\",\"muskmelon\",\"muskmelon\",\"muskmelon\",\"muskmelon\",\"muskmelon\",\"muskmelon\",\"muskmelon\",\"muskmelon\",\"muskmelon\",\"muskmelon\",\"muskmelon\",\"muskmelon\",\"muskmelon\",\"muskmelon\",\"muskmelon\",\"muskmelon\",\"muskmelon\",\"muskmelon\",\"muskmelon\",\"muskmelon\",\"muskmelon\",\"muskmelon\",\"muskmelon\",\"muskmelon\",\"muskmelon\",\"muskmelon\",\"apple\",\"apple\",\"apple\",\"apple\",\"apple\",\"apple\",\"apple\",\"apple\",\"apple\",\"apple\",\"apple\",\"apple\",\"apple\",\"apple\",\"apple\",\"apple\",\"apple\",\"apple\",\"apple\",\"apple\",\"apple\",\"apple\",\"apple\",\"apple\",\"apple\",\"apple\",\"apple\",\"apple\",\"apple\",\"apple\",\"apple\",\"apple\",\"apple\",\"apple\",\"apple\",\"apple\",\"apple\",\"apple\",\"apple\",\"apple\",\"apple\",\"apple\",\"apple\",\"apple\",\"apple\",\"apple\",\"apple\",\"apple\",\"apple\",\"apple\",\"apple\",\"apple\",\"apple\",\"apple\",\"apple\",\"apple\",\"apple\",\"apple\",\"apple\",\"apple\",\"apple\",\"apple\",\"apple\",\"apple\",\"apple\",\"apple\",\"apple\",\"apple\",\"apple\",\"apple\",\"apple\",\"apple\",\"apple\",\"apple\",\"apple\",\"apple\",\"apple\",\"apple\",\"apple\",\"apple\",\"apple\",\"apple\",\"apple\",\"apple\",\"apple\",\"apple\",\"apple\",\"apple\",\"apple\",\"apple\",\"apple\",\"apple\",\"apple\",\"apple\",\"apple\",\"apple\",\"apple\",\"apple\",\"apple\",\"apple\",\"orange\",\"orange\",\"orange\",\"orange\",\"orange\",\"orange\",\"orange\",\"orange\",\"orange\",\"orange\",\"orange\",\"orange\",\"orange\",\"orange\",\"orange\",\"orange\",\"orange\",\"orange\",\"orange\",\"orange\",\"orange\",\"orange\",\"orange\",\"orange\",\"orange\",\"orange\",\"orange\",\"orange\",\"orange\",\"orange\",\"orange\",\"orange\",\"orange\",\"orange\",\"orange\",\"orange\",\"orange\",\"orange\",\"orange\",\"orange\",\"orange\",\"orange\",\"orange\",\"orange\",\"orange\",\"orange\",\"orange\",\"orange\",\"orange\",\"orange\",\"orange\",\"orange\",\"orange\",\"orange\",\"orange\",\"orange\",\"orange\",\"orange\",\"orange\",\"orange\",\"orange\",\"orange\",\"orange\",\"orange\",\"orange\",\"orange\",\"orange\",\"orange\",\"orange\",\"orange\",\"orange\",\"orange\",\"orange\",\"orange\",\"orange\",\"orange\",\"orange\",\"orange\",\"orange\",\"orange\",\"orange\",\"orange\",\"orange\",\"orange\",\"orange\",\"orange\",\"orange\",\"orange\",\"orange\",\"orange\",\"orange\",\"orange\",\"orange\",\"orange\",\"orange\",\"orange\",\"orange\",\"orange\",\"orange\",\"orange\",\"papaya\",\"papaya\",\"papaya\",\"papaya\",\"papaya\",\"papaya\",\"papaya\",\"papaya\",\"papaya\",\"papaya\",\"papaya\",\"papaya\",\"papaya\",\"papaya\",\"papaya\",\"papaya\",\"papaya\",\"papaya\",\"papaya\",\"papaya\",\"papaya\",\"papaya\",\"papaya\",\"papaya\",\"papaya\",\"papaya\",\"papaya\",\"papaya\",\"papaya\",\"papaya\",\"papaya\",\"papaya\",\"papaya\",\"papaya\",\"papaya\",\"papaya\",\"papaya\",\"papaya\",\"papaya\",\"papaya\",\"papaya\",\"papaya\",\"papaya\",\"papaya\",\"papaya\",\"papaya\",\"papaya\",\"papaya\",\"papaya\",\"papaya\",\"papaya\",\"papaya\",\"papaya\",\"papaya\",\"papaya\",\"papaya\",\"papaya\",\"papaya\",\"papaya\",\"papaya\",\"papaya\",\"papaya\",\"papaya\",\"papaya\",\"papaya\",\"papaya\",\"papaya\",\"papaya\",\"papaya\",\"papaya\",\"papaya\",\"papaya\",\"papaya\",\"papaya\",\"papaya\",\"papaya\",\"papaya\",\"papaya\",\"papaya\",\"papaya\",\"papaya\",\"papaya\",\"papaya\",\"coconut\",\"coconut\",\"coconut\",\"coconut\",\"coconut\",\"coconut\",\"coconut\",\"coconut\",\"coconut\",\"coconut\",\"coconut\",\"coconut\",\"coconut\",\"coconut\",\"coconut\",\"coconut\",\"coconut\",\"coconut\",\"coconut\",\"coconut\",\"coconut\",\"coconut\",\"coconut\",\"coconut\",\"coconut\",\"coconut\",\"coconut\",\"coconut\",\"coconut\",\"coconut\",\"coconut\",\"coconut\",\"coconut\",\"coconut\",\"coconut\",\"coconut\",\"coconut\",\"coconut\",\"coconut\",\"coconut\",\"coconut\",\"coconut\",\"coconut\",\"coconut\",\"coconut\",\"coconut\",\"coconut\",\"coconut\",\"coconut\",\"coconut\",\"coconut\",\"coconut\",\"coconut\",\"coconut\",\"coconut\",\"coconut\",\"coconut\",\"coconut\",\"coconut\",\"coconut\",\"coconut\",\"coconut\",\"coconut\",\"coconut\",\"coconut\",\"coconut\",\"coconut\",\"coconut\",\"coconut\",\"coconut\",\"coconut\",\"coconut\",\"coconut\",\"coconut\",\"coconut\",\"coconut\",\"coconut\",\"coconut\",\"coconut\",\"coconut\",\"coconut\",\"coconut\",\"coconut\",\"coconut\",\"coconut\",\"coconut\",\"cotton\",\"cotton\",\"cotton\",\"cotton\",\"cotton\",\"cotton\",\"cotton\",\"cotton\",\"cotton\",\"cotton\",\"cotton\",\"cotton\",\"cotton\",\"cotton\",\"cotton\",\"cotton\",\"cotton\",\"cotton\",\"cotton\",\"cotton\",\"cotton\",\"cotton\",\"cotton\",\"cotton\",\"cotton\",\"cotton\",\"cotton\",\"cotton\",\"cotton\",\"cotton\",\"cotton\",\"cotton\",\"cotton\",\"cotton\",\"cotton\",\"cotton\",\"cotton\",\"cotton\",\"cotton\",\"cotton\",\"cotton\",\"cotton\",\"cotton\",\"cotton\",\"cotton\",\"cotton\",\"cotton\",\"cotton\",\"cotton\",\"cotton\",\"cotton\",\"cotton\",\"cotton\",\"cotton\",\"cotton\",\"cotton\",\"cotton\",\"cotton\",\"cotton\",\"cotton\",\"cotton\",\"cotton\",\"cotton\",\"cotton\",\"cotton\",\"cotton\",\"cotton\",\"cotton\",\"cotton\",\"cotton\",\"cotton\",\"cotton\",\"cotton\",\"cotton\",\"cotton\",\"cotton\",\"cotton\",\"cotton\",\"cotton\",\"cotton\",\"cotton\",\"cotton\",\"cotton\",\"cotton\",\"cotton\",\"cotton\",\"cotton\",\"cotton\",\"cotton\",\"cotton\",\"cotton\",\"cotton\",\"cotton\",\"cotton\",\"cotton\",\"cotton\",\"cotton\",\"cotton\",\"cotton\",\"cotton\",\"jute\",\"jute\",\"jute\",\"jute\",\"jute\",\"jute\",\"jute\",\"jute\",\"jute\",\"jute\",\"jute\",\"jute\",\"jute\",\"jute\",\"jute\",\"jute\",\"jute\",\"jute\",\"jute\",\"jute\",\"jute\",\"jute\",\"jute\",\"jute\",\"jute\",\"jute\",\"jute\",\"jute\",\"jute\",\"jute\",\"jute\",\"jute\",\"jute\",\"jute\",\"jute\",\"jute\",\"jute\",\"jute\",\"jute\",\"jute\",\"jute\",\"jute\",\"jute\",\"jute\",\"jute\",\"jute\",\"jute\",\"jute\",\"jute\",\"jute\",\"jute\",\"jute\",\"jute\",\"jute\",\"jute\",\"jute\",\"jute\",\"jute\",\"jute\",\"jute\",\"jute\",\"jute\",\"jute\",\"jute\",\"jute\",\"jute\",\"jute\",\"jute\",\"jute\",\"jute\",\"jute\",\"jute\",\"jute\",\"jute\",\"jute\",\"jute\",\"jute\",\"jute\",\"jute\",\"jute\",\"jute\",\"jute\",\"jute\",\"jute\",\"jute\",\"jute\",\"jute\",\"jute\",\"jute\",\"jute\",\"jute\",\"jute\",\"jute\",\"jute\",\"jute\",\"jute\",\"jute\",\"jute\",\"jute\",\"jute\",\"coffee\",\"coffee\",\"coffee\",\"coffee\",\"coffee\",\"coffee\",\"coffee\",\"coffee\",\"coffee\",\"coffee\",\"coffee\",\"coffee\",\"coffee\",\"coffee\",\"coffee\",\"coffee\",\"coffee\",\"coffee\",\"coffee\",\"coffee\",\"coffee\",\"coffee\",\"coffee\",\"coffee\",\"coffee\",\"coffee\",\"coffee\",\"coffee\",\"coffee\",\"coffee\",\"coffee\",\"coffee\",\"coffee\",\"coffee\",\"coffee\",\"coffee\",\"coffee\",\"coffee\",\"coffee\",\"coffee\",\"coffee\",\"coffee\",\"coffee\",\"coffee\",\"coffee\",\"coffee\",\"coffee\",\"coffee\",\"coffee\",\"coffee\",\"coffee\",\"coffee\",\"coffee\",\"coffee\",\"coffee\",\"coffee\",\"coffee\",\"coffee\",\"coffee\",\"coffee\",\"coffee\",\"coffee\",\"coffee\",\"coffee\",\"coffee\",\"coffee\",\"coffee\",\"coffee\",\"coffee\",\"coffee\",\"coffee\",\"coffee\",\"coffee\",\"coffee\",\"coffee\",\"coffee\",\"coffee\",\"coffee\",\"coffee\",\"coffee\",\"coffee\",\"coffee\",\"coffee\",\"coffee\",\"coffee\",\"coffee\",\"coffee\",\"coffee\",\"coffee\",\"coffee\",\"coffee\",\"coffee\",\"coffee\",\"coffee\",\"coffee\",\"coffee\",\"coffee\",\"coffee\",\"coffee\",\"coffee\"],\"xaxis\":\"x\",\"y\":[90,93,94,91,89,67,84,92,95,64,83,91,76,79,76,93,71,70,99,99,61,78,73,77,81,68,72,67,84,88,78,65,71,61,80,73,61,68,93,89,76,67,70,90,62,92,66,63,70,61,66,74,77,99,74,83,100,79,94,75,78,87,87,63,84,64,60,98,75,86,98,76,99,60,74,89,69,96,61,74,74,63,99,77,87,60,94,95,84,77,66,63,79,72,67,86,76,75,81,73,71,96,99,62,86,94,76,77,74,81,63,99,90,68,60,71,61,88,65,78,78,92,79,91,76,87,71,90,67,60,83,83,40,23,39,22,36,32,58,59,42,28,58,43,58,23,27,28,50,39,25,31,26,25,31,60,59,22,36,59,54,43,28,42,32,22,31,28,57,49,46,54,38,59,36,57,35,35,52,27,57,52,43,44,24,29,20,56,37,49,59,20,24,51,57,22,52,29,44,41,52,34,42,34,27,30,57,27,32,31,33,47,54,47,35,53,45,37,30,37,53,22,60,42,39,35,30,57,48,36,40,49,13,25,31,40,2,26,17,26,17,27,28,25,28,25,12,6,22,27,10,23,19,19,22,37,11,18,21,24,34,16,17,37,40,9,1,33,23,6,25,7,8,27,28,32,27,17,0,13,34,9,11,3,35,3,23,22,31,34,12,27,7,24,11,37,25,34,20,37,18,4,37,5,11,22,12,5,27,31,36,5,32,11,0,14,29,32,17,13,14,9,20,40,27,14,7,27,30,37,27,22,3,40,33,27,10,30,40,38,35,38,33,16,31,16,27,40,18,3,26,16,24,9,16,28,16,24,38,9,34,1,6,26,27,27,36,17,26,17,14,39,6,8,2,1,16,23,32,28,5,36,1,24,17,5,5,37,13,6,16,25,34,20,35,14,36,7,29,30,20,19,3,5,5,37,9,20,31,0,21,13,27,29,5,39,22,18,39,13,27,26,23,4,20,7,17,35,11,20,10,33,3,22,36,4,29,32,14,5,25,11,40,38,27,24,23,29,31,0,7,17,11,22,9,28,26,36,8,24,22,36,22,17,8,7,36,11,6,17,4,9,25,36,21,37,32,29,25,10,23,9,3,22,12,39,32,30,19,4,21,35,22,35,17,28,22,11,38,23,25,40,23,2,3,26,39,27,24,7,15,26,20,34,19,29,20,11,15,35,9,40,35,14,40,18,35,4,22,33,2,16,19,8,36,10,22,9,34,31,0,21,28,17,24,28,21,34,19,31,19,24,13,31,28,31,33,34,13,33,32,23,35,6,29,4,10,14,8,20,36,14,11,10,7,2,20,2,27,35,4,1,36,11,34,21,17,25,2,9,37,36,40,30,1,9,14,35,31,4,30,9,20,37,34,14,23,5,22,40,27,31,38,6,6,24,25,32,8,19,39,33,26,21,22,29,4,10,4,20,23,25,56,25,42,42,44,50,35,30,27,50,39,57,52,55,51,36,59,50,30,20,58,25,52,40,20,48,49,48,32,21,20,25,41,53,39,25,21,57,56,49,24,49,28,55,50,34,20,55,23,53,26,33,37,33,22,20,43,44,34,21,25,41,28,35,52,58,34,52,23,42,37,44,21,56,29,43,55,44,29,47,40,58,41,58,27,27,52,44,21,60,33,59,29,59,29,58,55,42,44,38,32,13,38,11,37,29,2,6,13,8,6,2,3,27,39,40,37,31,22,3,4,13,12,4,9,18,32,6,15,0,30,3,2,10,14,39,19,18,31,28,5,16,34,14,22,24,2,26,27,24,13,6,12,32,6,10,38,17,26,23,32,19,22,28,1,12,36,28,12,22,26,16,14,33,21,0,10,30,0,35,7,9,14,14,36,28,28,40,10,12,37,0,7,10,39,26,9,4,34,33,2,6,8,37,0,31,21,6,25,15,14,16,36,4,29,16,18,11,5,18,9,40,22,9,12,0,2,28,8,29,17,34,21,25,8,26,4,36,5,19,39,5,4,38,37,9,29,5,22,4,21,29,23,13,5,27,7,12,4,3,1,23,24,13,40,21,3,40,14,38,34,32,18,8,15,0,22,14,31,39,10,8,32,18,20,39,20,11,40,3,9,30,40,40,32,33,4,13,39,8,91,105,108,86,80,93,90,108,108,105,118,101,95,106,86,83,85,109,100,117,114,110,94,80,114,88,112,117,111,89,93,92,105,102,94,116,117,119,99,91,80,101,108,100,109,82,106,90,83,119,107,116,101,93,95,107,83,102,86,117,111,95,91,93,92,104,103,92,93,120,108,105,98,111,97,95,89,89,118,101,99,82,90,95,104,102,100,94,99,112,117,96,113,105,85,108,92,110,82,117,2,39,21,25,0,20,19,18,11,30,18,23,37,11,12,3,37,26,14,40,4,36,30,28,38,12,38,8,15,34,11,33,12,12,5,1,16,35,4,9,2,26,34,5,31,34,36,7,38,5,37,21,37,23,36,24,26,22,11,29,22,23,1,2,39,15,3,8,33,14,18,9,20,9,26,31,14,40,28,0,1,2,12,7,0,26,27,22,22,28,7,29,8,39,40,19,21,22,31,18,24,13,22,36,24,2,35,11,6,17,25,27,9,16,32,22,31,3,28,4,39,38,36,25,15,24,13,5,30,23,26,7,32,9,20,32,3,38,14,20,40,36,11,0,19,31,4,39,8,39,32,12,8,8,21,40,39,19,21,17,33,22,32,37,15,39,40,40,29,32,6,8,34,35,16,8,25,16,39,38,33,35,1,39,28,6,6,29,37,38,38,14,6,32,11,23,40,6,37,35,119,119,105,114,93,80,85,85,82,118,83,86,101,119,104,95,102,109,81,103,105,97,120,95,83,83,91,116,112,88,118,92,106,99,98,108,119,117,109,80,100,91,86,107,103,101,85,84,102,98,97,90,95,82,82,110,118,120,91,81,101,101,111,107,115,84,120,91,89,113,97,117,90,104,81,88,92,81,111,108,113,83,101,114,99,92,92,91,110,112,89,100,83,95,119,97,110,96,83,120,115,114,101,118,95,81,117,114,113,108,81,115,83,84,109,95,119,110,82,87,85,100,107,91,102,117,85,104,102,116,100,110,104,107,98,88,87,120,95,108,82,120,110,95,106,99,106,83,117,98,113,101,98,93,95,109,118,100,89,95,95,87,93,84,111,111,111,89,110,95,115,120,102,94,84,107,80,86,113,115,82,98,117,83,120,111,85,90,99,102,80,87,114,99,89,96,82,106,90,106,24,7,14,8,20,32,27,0,22,1,30,29,13,9,0,30,36,37,33,7,35,29,2,34,29,32,13,25,9,6,37,2,11,10,24,23,18,13,26,28,26,21,21,5,2,15,31,25,16,19,10,20,28,28,2,2,27,30,32,29,26,40,6,35,17,33,16,27,29,3,15,5,10,7,2,29,30,29,14,18,33,40,9,38,28,35,12,1,0,31,35,29,33,14,35,40,25,31,36,10,22,37,27,7,20,26,5,0,39,13,21,33,6,19,24,9,31,22,13,16,4,0,8,4,33,30,21,11,9,5,29,33,8,15,16,0,5,6,10,1,1,0,24,36,40,40,32,9,13,15,29,1,18,14,33,4,17,12,34,39,31,12,12,26,19,39,16,36,37,39,31,18,20,5,20,25,14,37,26,13,32,19,28,24,7,18,7,20,18,34,20,37,12,34,6,27,13,6,40,31,58,45,31,70,68,34,38,69,58,59,56,69,56,49,38,54,57,39,58,61,31,47,36,61,70,44,34,50,39,34,44,31,65,44,43,60,70,59,60,42,35,34,39,37,33,34,49,40,68,50,65,49,59,63,70,63,40,63,45,66,54,69,67,45,56,70,50,52,68,32,32,48,48,69,38,57,51,54,68,42,43,56,39,13,2,10,7,39,34,31,25,16,26,27,37,0,31,9,31,34,24,1,31,10,36,38,11,16,33,16,32,38,8,23,29,30,14,27,40,17,30,28,39,32,7,29,14,18,7,24,39,10,0,32,20,31,17,1,6,27,8,20,26,1,27,23,0,38,25,40,0,26,35,31,17,2,30,8,18,8,40,27,21,22,22,28,23,37,19,133,136,104,133,126,126,113,121,121,129,107,122,140,102,111,131,135,100,123,117,121,101,107,100,125,105,102,131,139,108,118,107,125,113,131,115,113,111,111,122,108,132,103,133,127,110,131,108,122,111,140,100,123,107,118,103,133,129,116,114,131,107,123,112,119,130,127,134,109,100,132,102,111,117,136,134,112,105,140,126,106,121,108,116,100,129,118,117,126,120,102,131,114,101,106,113,102,110,107,120,89,60,63,86,96,100,63,70,67,74,89,74,89,60,67,70,74,90,82,73,85,81,84,80,76,76,81,76,69,82,69,81,67,72,65,78,77,89,62,90,66,80,89,77,94,75,60,62,84,100,75,78,82,100,88,67,72,89,89,61,79,84,98,75,89,91,77,66,62,82,61,99,70,90,73,67,84,72,71,64,65,60,86,90,91,87,72,71,82,71,80,77,95,63,93,87,88,90,90,84,91,107,83,108,116,116,109,89,118,111,84,85,99,81,95,81,80,104,109,100,100,83,120,104,108,91,86,98,111,84,98,118,103,82,86,88,84,120,106,113,117,80,88,113,87,113,98,97,85,82,103,112,99,120,114,100,108,115,87,82,94,87,118,87,92,97,99,89,112,111,114,117,111,119,116,95,86,117,105,109,80,101,103,93,104,116,107,101,107,99,103,118,106,116,97,107,99,118,117,104],\"yaxis\":\"y\",\"type\":\"bar\"}],                        {\"template\":{\"data\":{\"bar\":[{\"error_x\":{\"color\":\"#2a3f5f\"},\"error_y\":{\"color\":\"#2a3f5f\"},\"marker\":{\"line\":{\"color\":\"#E5ECF6\",\"width\":0.5},\"pattern\":{\"fillmode\":\"overlay\",\"size\":10,\"solidity\":0.2}},\"type\":\"bar\"}],\"barpolar\":[{\"marker\":{\"line\":{\"color\":\"#E5ECF6\",\"width\":0.5},\"pattern\":{\"fillmode\":\"overlay\",\"size\":10,\"solidity\":0.2}},\"type\":\"barpolar\"}],\"carpet\":[{\"aaxis\":{\"endlinecolor\":\"#2a3f5f\",\"gridcolor\":\"white\",\"linecolor\":\"white\",\"minorgridcolor\":\"white\",\"startlinecolor\":\"#2a3f5f\"},\"baxis\":{\"endlinecolor\":\"#2a3f5f\",\"gridcolor\":\"white\",\"linecolor\":\"white\",\"minorgridcolor\":\"white\",\"startlinecolor\":\"#2a3f5f\"},\"type\":\"carpet\"}],\"choropleth\":[{\"colorbar\":{\"outlinewidth\":0,\"ticks\":\"\"},\"type\":\"choropleth\"}],\"contour\":[{\"colorbar\":{\"outlinewidth\":0,\"ticks\":\"\"},\"colorscale\":[[0.0,\"#0d0887\"],[0.1111111111111111,\"#46039f\"],[0.2222222222222222,\"#7201a8\"],[0.3333333333333333,\"#9c179e\"],[0.4444444444444444,\"#bd3786\"],[0.5555555555555556,\"#d8576b\"],[0.6666666666666666,\"#ed7953\"],[0.7777777777777778,\"#fb9f3a\"],[0.8888888888888888,\"#fdca26\"],[1.0,\"#f0f921\"]],\"type\":\"contour\"}],\"contourcarpet\":[{\"colorbar\":{\"outlinewidth\":0,\"ticks\":\"\"},\"type\":\"contourcarpet\"}],\"heatmap\":[{\"colorbar\":{\"outlinewidth\":0,\"ticks\":\"\"},\"colorscale\":[[0.0,\"#0d0887\"],[0.1111111111111111,\"#46039f\"],[0.2222222222222222,\"#7201a8\"],[0.3333333333333333,\"#9c179e\"],[0.4444444444444444,\"#bd3786\"],[0.5555555555555556,\"#d8576b\"],[0.6666666666666666,\"#ed7953\"],[0.7777777777777778,\"#fb9f3a\"],[0.8888888888888888,\"#fdca26\"],[1.0,\"#f0f921\"]],\"type\":\"heatmap\"}],\"heatmapgl\":[{\"colorbar\":{\"outlinewidth\":0,\"ticks\":\"\"},\"colorscale\":[[0.0,\"#0d0887\"],[0.1111111111111111,\"#46039f\"],[0.2222222222222222,\"#7201a8\"],[0.3333333333333333,\"#9c179e\"],[0.4444444444444444,\"#bd3786\"],[0.5555555555555556,\"#d8576b\"],[0.6666666666666666,\"#ed7953\"],[0.7777777777777778,\"#fb9f3a\"],[0.8888888888888888,\"#fdca26\"],[1.0,\"#f0f921\"]],\"type\":\"heatmapgl\"}],\"histogram\":[{\"marker\":{\"pattern\":{\"fillmode\":\"overlay\",\"size\":10,\"solidity\":0.2}},\"type\":\"histogram\"}],\"histogram2d\":[{\"colorbar\":{\"outlinewidth\":0,\"ticks\":\"\"},\"colorscale\":[[0.0,\"#0d0887\"],[0.1111111111111111,\"#46039f\"],[0.2222222222222222,\"#7201a8\"],[0.3333333333333333,\"#9c179e\"],[0.4444444444444444,\"#bd3786\"],[0.5555555555555556,\"#d8576b\"],[0.6666666666666666,\"#ed7953\"],[0.7777777777777778,\"#fb9f3a\"],[0.8888888888888888,\"#fdca26\"],[1.0,\"#f0f921\"]],\"type\":\"histogram2d\"}],\"histogram2dcontour\":[{\"colorbar\":{\"outlinewidth\":0,\"ticks\":\"\"},\"colorscale\":[[0.0,\"#0d0887\"],[0.1111111111111111,\"#46039f\"],[0.2222222222222222,\"#7201a8\"],[0.3333333333333333,\"#9c179e\"],[0.4444444444444444,\"#bd3786\"],[0.5555555555555556,\"#d8576b\"],[0.6666666666666666,\"#ed7953\"],[0.7777777777777778,\"#fb9f3a\"],[0.8888888888888888,\"#fdca26\"],[1.0,\"#f0f921\"]],\"type\":\"histogram2dcontour\"}],\"mesh3d\":[{\"colorbar\":{\"outlinewidth\":0,\"ticks\":\"\"},\"type\":\"mesh3d\"}],\"parcoords\":[{\"line\":{\"colorbar\":{\"outlinewidth\":0,\"ticks\":\"\"}},\"type\":\"parcoords\"}],\"pie\":[{\"automargin\":true,\"type\":\"pie\"}],\"scatter\":[{\"marker\":{\"colorbar\":{\"outlinewidth\":0,\"ticks\":\"\"}},\"type\":\"scatter\"}],\"scatter3d\":[{\"line\":{\"colorbar\":{\"outlinewidth\":0,\"ticks\":\"\"}},\"marker\":{\"colorbar\":{\"outlinewidth\":0,\"ticks\":\"\"}},\"type\":\"scatter3d\"}],\"scattercarpet\":[{\"marker\":{\"colorbar\":{\"outlinewidth\":0,\"ticks\":\"\"}},\"type\":\"scattercarpet\"}],\"scattergeo\":[{\"marker\":{\"colorbar\":{\"outlinewidth\":0,\"ticks\":\"\"}},\"type\":\"scattergeo\"}],\"scattergl\":[{\"marker\":{\"colorbar\":{\"outlinewidth\":0,\"ticks\":\"\"}},\"type\":\"scattergl\"}],\"scattermapbox\":[{\"marker\":{\"colorbar\":{\"outlinewidth\":0,\"ticks\":\"\"}},\"type\":\"scattermapbox\"}],\"scatterpolar\":[{\"marker\":{\"colorbar\":{\"outlinewidth\":0,\"ticks\":\"\"}},\"type\":\"scatterpolar\"}],\"scatterpolargl\":[{\"marker\":{\"colorbar\":{\"outlinewidth\":0,\"ticks\":\"\"}},\"type\":\"scatterpolargl\"}],\"scatterternary\":[{\"marker\":{\"colorbar\":{\"outlinewidth\":0,\"ticks\":\"\"}},\"type\":\"scatterternary\"}],\"surface\":[{\"colorbar\":{\"outlinewidth\":0,\"ticks\":\"\"},\"colorscale\":[[0.0,\"#0d0887\"],[0.1111111111111111,\"#46039f\"],[0.2222222222222222,\"#7201a8\"],[0.3333333333333333,\"#9c179e\"],[0.4444444444444444,\"#bd3786\"],[0.5555555555555556,\"#d8576b\"],[0.6666666666666666,\"#ed7953\"],[0.7777777777777778,\"#fb9f3a\"],[0.8888888888888888,\"#fdca26\"],[1.0,\"#f0f921\"]],\"type\":\"surface\"}],\"table\":[{\"cells\":{\"fill\":{\"color\":\"#EBF0F8\"},\"line\":{\"color\":\"white\"}},\"header\":{\"fill\":{\"color\":\"#C8D4E3\"},\"line\":{\"color\":\"white\"}},\"type\":\"table\"}]},\"layout\":{\"annotationdefaults\":{\"arrowcolor\":\"#2a3f5f\",\"arrowhead\":0,\"arrowwidth\":1},\"autotypenumbers\":\"strict\",\"coloraxis\":{\"colorbar\":{\"outlinewidth\":0,\"ticks\":\"\"}},\"colorscale\":{\"diverging\":[[0,\"#8e0152\"],[0.1,\"#c51b7d\"],[0.2,\"#de77ae\"],[0.3,\"#f1b6da\"],[0.4,\"#fde0ef\"],[0.5,\"#f7f7f7\"],[0.6,\"#e6f5d0\"],[0.7,\"#b8e186\"],[0.8,\"#7fbc41\"],[0.9,\"#4d9221\"],[1,\"#276419\"]],\"sequential\":[[0.0,\"#0d0887\"],[0.1111111111111111,\"#46039f\"],[0.2222222222222222,\"#7201a8\"],[0.3333333333333333,\"#9c179e\"],[0.4444444444444444,\"#bd3786\"],[0.5555555555555556,\"#d8576b\"],[0.6666666666666666,\"#ed7953\"],[0.7777777777777778,\"#fb9f3a\"],[0.8888888888888888,\"#fdca26\"],[1.0,\"#f0f921\"]],\"sequentialminus\":[[0.0,\"#0d0887\"],[0.1111111111111111,\"#46039f\"],[0.2222222222222222,\"#7201a8\"],[0.3333333333333333,\"#9c179e\"],[0.4444444444444444,\"#bd3786\"],[0.5555555555555556,\"#d8576b\"],[0.6666666666666666,\"#ed7953\"],[0.7777777777777778,\"#fb9f3a\"],[0.8888888888888888,\"#fdca26\"],[1.0,\"#f0f921\"]]},\"colorway\":[\"#636efa\",\"#EF553B\",\"#00cc96\",\"#ab63fa\",\"#FFA15A\",\"#19d3f3\",\"#FF6692\",\"#B6E880\",\"#FF97FF\",\"#FECB52\"],\"font\":{\"color\":\"#2a3f5f\"},\"geo\":{\"bgcolor\":\"white\",\"lakecolor\":\"white\",\"landcolor\":\"#E5ECF6\",\"showlakes\":true,\"showland\":true,\"subunitcolor\":\"white\"},\"hoverlabel\":{\"align\":\"left\"},\"hovermode\":\"closest\",\"mapbox\":{\"style\":\"light\"},\"paper_bgcolor\":\"white\",\"plot_bgcolor\":\"#E5ECF6\",\"polar\":{\"angularaxis\":{\"gridcolor\":\"white\",\"linecolor\":\"white\",\"ticks\":\"\"},\"bgcolor\":\"#E5ECF6\",\"radialaxis\":{\"gridcolor\":\"white\",\"linecolor\":\"white\",\"ticks\":\"\"}},\"scene\":{\"xaxis\":{\"backgroundcolor\":\"#E5ECF6\",\"gridcolor\":\"white\",\"gridwidth\":2,\"linecolor\":\"white\",\"showbackground\":true,\"ticks\":\"\",\"zerolinecolor\":\"white\"},\"yaxis\":{\"backgroundcolor\":\"#E5ECF6\",\"gridcolor\":\"white\",\"gridwidth\":2,\"linecolor\":\"white\",\"showbackground\":true,\"ticks\":\"\",\"zerolinecolor\":\"white\"},\"zaxis\":{\"backgroundcolor\":\"#E5ECF6\",\"gridcolor\":\"white\",\"gridwidth\":2,\"linecolor\":\"white\",\"showbackground\":true,\"ticks\":\"\",\"zerolinecolor\":\"white\"}},\"shapedefaults\":{\"line\":{\"color\":\"#2a3f5f\"}},\"ternary\":{\"aaxis\":{\"gridcolor\":\"white\",\"linecolor\":\"white\",\"ticks\":\"\"},\"baxis\":{\"gridcolor\":\"white\",\"linecolor\":\"white\",\"ticks\":\"\"},\"bgcolor\":\"#E5ECF6\",\"caxis\":{\"gridcolor\":\"white\",\"linecolor\":\"white\",\"ticks\":\"\"}},\"title\":{\"x\":0.05},\"xaxis\":{\"automargin\":true,\"gridcolor\":\"white\",\"linecolor\":\"white\",\"ticks\":\"\",\"title\":{\"standoff\":15},\"zerolinecolor\":\"white\",\"zerolinewidth\":2},\"yaxis\":{\"automargin\":true,\"gridcolor\":\"white\",\"linecolor\":\"white\",\"ticks\":\"\",\"title\":{\"standoff\":15},\"zerolinecolor\":\"white\",\"zerolinewidth\":2}}},\"xaxis\":{\"anchor\":\"y\",\"domain\":[0.0,1.0],\"title\":{\"text\":\"label\"}},\"yaxis\":{\"anchor\":\"x\",\"domain\":[0.0,1.0],\"title\":{\"text\":\"N\"}},\"legend\":{\"tracegroupgap\":0},\"margin\":{\"t\":60},\"barmode\":\"relative\"},                        {\"responsive\": true}                    ).then(function(){\n",
              "                            \n",
              "var gd = document.getElementById('a9cb6206-2983-4911-b0ea-2525b9de5250');\n",
              "var x = new MutationObserver(function (mutations, observer) {{\n",
              "        var display = window.getComputedStyle(gd).display;\n",
              "        if (!display || display === 'none') {{\n",
              "            console.log([gd, 'removed!']);\n",
              "            Plotly.purge(gd);\n",
              "            observer.disconnect();\n",
              "        }}\n",
              "}});\n",
              "\n",
              "// Listen for the removal of the full notebook cells\n",
              "var notebookContainer = gd.closest('#notebook-container');\n",
              "if (notebookContainer) {{\n",
              "    x.observe(notebookContainer, {childList: true});\n",
              "}}\n",
              "\n",
              "// Listen for the clearing of the current output cell\n",
              "var outputEl = gd.closest('.output');\n",
              "if (outputEl) {{\n",
              "    x.observe(outputEl, {childList: true});\n",
              "}}\n",
              "\n",
              "                        })                };                            </script>        </div>\n",
              "</body>\n",
              "</html>"
            ]
          },
          "metadata": {}
        }
      ]
    },
    {
      "cell_type": "code",
      "source": [
        "fig1=px.bar(crop_summary_new,x='label',y='K')\n",
        "fig1.show()"
      ],
      "metadata": {
        "colab": {
          "base_uri": "https://localhost:8080/",
          "height": 542
        },
        "id": "Nai6jSpyluyL",
        "outputId": "3753d133-4911-419e-b228-b8d7d0456bbc"
      },
      "execution_count": null,
      "outputs": [
        {
          "output_type": "display_data",
          "data": {
            "text/html": [
              "<html>\n",
              "<head><meta charset=\"utf-8\" /></head>\n",
              "<body>\n",
              "    <div>            <script src=\"https://cdnjs.cloudflare.com/ajax/libs/mathjax/2.7.5/MathJax.js?config=TeX-AMS-MML_SVG\"></script><script type=\"text/javascript\">if (window.MathJax) {MathJax.Hub.Config({SVG: {font: \"STIX-Web\"}});}</script>                <script type=\"text/javascript\">window.PlotlyConfig = {MathJaxConfig: 'local'};</script>\n",
              "        <script src=\"https://cdn.plot.ly/plotly-2.8.3.min.js\"></script>                <div id=\"b76684f9-26fb-42f3-9408-0463c13ea82c\" class=\"plotly-graph-div\" style=\"height:525px; width:100%;\"></div>            <script type=\"text/javascript\">                                    window.PLOTLYENV=window.PLOTLYENV || {};                                    if (document.getElementById(\"b76684f9-26fb-42f3-9408-0463c13ea82c\")) {                    Plotly.newPlot(                        \"b76684f9-26fb-42f3-9408-0463c13ea82c\",                        [{\"alignmentgroup\":\"True\",\"hovertemplate\":\"label=%{x}<br>K=%{y}<extra></extra>\",\"legendgroup\":\"\",\"marker\":{\"color\":\"#636efa\",\"pattern\":{\"shape\":\"\"}},\"name\":\"\",\"offsetgroup\":\"\",\"orientation\":\"v\",\"showlegend\":false,\"textposition\":\"auto\",\"x\":[\"rice\",\"rice\",\"rice\",\"rice\",\"rice\",\"rice\",\"rice\",\"rice\",\"rice\",\"rice\",\"rice\",\"rice\",\"rice\",\"rice\",\"rice\",\"rice\",\"rice\",\"rice\",\"rice\",\"rice\",\"rice\",\"rice\",\"rice\",\"rice\",\"rice\",\"rice\",\"rice\",\"rice\",\"rice\",\"rice\",\"rice\",\"rice\",\"maize\",\"maize\",\"maize\",\"maize\",\"maize\",\"maize\",\"maize\",\"maize\",\"maize\",\"maize\",\"maize\",\"maize\",\"maize\",\"maize\",\"maize\",\"maize\",\"maize\",\"maize\",\"maize\",\"maize\",\"maize\",\"maize\",\"maize\",\"maize\",\"maize\",\"maize\",\"maize\",\"maize\",\"maize\",\"maize\",\"maize\",\"maize\",\"maize\",\"maize\",\"maize\",\"maize\",\"maize\",\"maize\",\"maize\",\"maize\",\"maize\",\"maize\",\"maize\",\"maize\",\"maize\",\"maize\",\"maize\",\"maize\",\"maize\",\"maize\",\"maize\",\"maize\",\"maize\",\"maize\",\"maize\",\"maize\",\"maize\",\"maize\",\"maize\",\"maize\",\"maize\",\"maize\",\"maize\",\"maize\",\"maize\",\"maize\",\"maize\",\"maize\",\"maize\",\"maize\",\"maize\",\"maize\",\"maize\",\"maize\",\"maize\",\"maize\",\"maize\",\"maize\",\"maize\",\"maize\",\"maize\",\"maize\",\"maize\",\"maize\",\"maize\",\"maize\",\"maize\",\"maize\",\"maize\",\"maize\",\"maize\",\"maize\",\"maize\",\"maize\",\"maize\",\"maize\",\"maize\",\"maize\",\"maize\",\"maize\",\"chickpea\",\"chickpea\",\"chickpea\",\"chickpea\",\"chickpea\",\"chickpea\",\"chickpea\",\"chickpea\",\"chickpea\",\"chickpea\",\"chickpea\",\"chickpea\",\"chickpea\",\"chickpea\",\"chickpea\",\"chickpea\",\"chickpea\",\"chickpea\",\"chickpea\",\"chickpea\",\"chickpea\",\"chickpea\",\"chickpea\",\"chickpea\",\"chickpea\",\"chickpea\",\"chickpea\",\"chickpea\",\"chickpea\",\"chickpea\",\"chickpea\",\"chickpea\",\"chickpea\",\"chickpea\",\"chickpea\",\"chickpea\",\"chickpea\",\"chickpea\",\"chickpea\",\"chickpea\",\"chickpea\",\"chickpea\",\"chickpea\",\"chickpea\",\"chickpea\",\"chickpea\",\"chickpea\",\"chickpea\",\"chickpea\",\"chickpea\",\"chickpea\",\"chickpea\",\"chickpea\",\"chickpea\",\"chickpea\",\"chickpea\",\"chickpea\",\"chickpea\",\"chickpea\",\"chickpea\",\"chickpea\",\"chickpea\",\"chickpea\",\"chickpea\",\"chickpea\",\"chickpea\",\"chickpea\",\"chickpea\",\"chickpea\",\"chickpea\",\"chickpea\",\"chickpea\",\"chickpea\",\"chickpea\",\"chickpea\",\"chickpea\",\"chickpea\",\"chickpea\",\"chickpea\",\"chickpea\",\"chickpea\",\"chickpea\",\"chickpea\",\"chickpea\",\"chickpea\",\"chickpea\",\"chickpea\",\"chickpea\",\"chickpea\",\"chickpea\",\"chickpea\",\"chickpea\",\"chickpea\",\"chickpea\",\"chickpea\",\"chickpea\",\"chickpea\",\"chickpea\",\"chickpea\",\"chickpea\",\"kidneybeans\",\"kidneybeans\",\"kidneybeans\",\"kidneybeans\",\"kidneybeans\",\"kidneybeans\",\"kidneybeans\",\"kidneybeans\",\"kidneybeans\",\"kidneybeans\",\"kidneybeans\",\"kidneybeans\",\"kidneybeans\",\"kidneybeans\",\"kidneybeans\",\"kidneybeans\",\"kidneybeans\",\"kidneybeans\",\"kidneybeans\",\"kidneybeans\",\"kidneybeans\",\"kidneybeans\",\"kidneybeans\",\"kidneybeans\",\"kidneybeans\",\"kidneybeans\",\"kidneybeans\",\"kidneybeans\",\"kidneybeans\",\"kidneybeans\",\"kidneybeans\",\"kidneybeans\",\"kidneybeans\",\"kidneybeans\",\"kidneybeans\",\"kidneybeans\",\"kidneybeans\",\"kidneybeans\",\"kidneybeans\",\"kidneybeans\",\"kidneybeans\",\"kidneybeans\",\"kidneybeans\",\"kidneybeans\",\"kidneybeans\",\"kidneybeans\",\"kidneybeans\",\"kidneybeans\",\"kidneybeans\",\"kidneybeans\",\"kidneybeans\",\"kidneybeans\",\"kidneybeans\",\"kidneybeans\",\"kidneybeans\",\"kidneybeans\",\"kidneybeans\",\"kidneybeans\",\"kidneybeans\",\"kidneybeans\",\"kidneybeans\",\"kidneybeans\",\"kidneybeans\",\"kidneybeans\",\"kidneybeans\",\"kidneybeans\",\"kidneybeans\",\"kidneybeans\",\"kidneybeans\",\"kidneybeans\",\"kidneybeans\",\"kidneybeans\",\"kidneybeans\",\"kidneybeans\",\"kidneybeans\",\"kidneybeans\",\"kidneybeans\",\"kidneybeans\",\"kidneybeans\",\"kidneybeans\",\"kidneybeans\",\"kidneybeans\",\"kidneybeans\",\"kidneybeans\",\"kidneybeans\",\"kidneybeans\",\"kidneybeans\",\"kidneybeans\",\"kidneybeans\",\"kidneybeans\",\"kidneybeans\",\"kidneybeans\",\"kidneybeans\",\"kidneybeans\",\"kidneybeans\",\"kidneybeans\",\"kidneybeans\",\"kidneybeans\",\"kidneybeans\",\"kidneybeans\",\"pigeonpeas\",\"pigeonpeas\",\"pigeonpeas\",\"pigeonpeas\",\"pigeonpeas\",\"pigeonpeas\",\"pigeonpeas\",\"pigeonpeas\",\"pigeonpeas\",\"pigeonpeas\",\"pigeonpeas\",\"pigeonpeas\",\"pigeonpeas\",\"pigeonpeas\",\"pigeonpeas\",\"pigeonpeas\",\"pigeonpeas\",\"pigeonpeas\",\"pigeonpeas\",\"pigeonpeas\",\"pigeonpeas\",\"pigeonpeas\",\"pigeonpeas\",\"pigeonpeas\",\"pigeonpeas\",\"pigeonpeas\",\"pigeonpeas\",\"pigeonpeas\",\"pigeonpeas\",\"pigeonpeas\",\"pigeonpeas\",\"pigeonpeas\",\"pigeonpeas\",\"pigeonpeas\",\"pigeonpeas\",\"pigeonpeas\",\"pigeonpeas\",\"pigeonpeas\",\"pigeonpeas\",\"pigeonpeas\",\"pigeonpeas\",\"pigeonpeas\",\"pigeonpeas\",\"pigeonpeas\",\"pigeonpeas\",\"pigeonpeas\",\"pigeonpeas\",\"pigeonpeas\",\"pigeonpeas\",\"pigeonpeas\",\"pigeonpeas\",\"pigeonpeas\",\"pigeonpeas\",\"pigeonpeas\",\"pigeonpeas\",\"pigeonpeas\",\"pigeonpeas\",\"pigeonpeas\",\"pigeonpeas\",\"pigeonpeas\",\"pigeonpeas\",\"pigeonpeas\",\"pigeonpeas\",\"pigeonpeas\",\"pigeonpeas\",\"pigeonpeas\",\"pigeonpeas\",\"pigeonpeas\",\"pigeonpeas\",\"pigeonpeas\",\"pigeonpeas\",\"pigeonpeas\",\"pigeonpeas\",\"pigeonpeas\",\"pigeonpeas\",\"pigeonpeas\",\"pigeonpeas\",\"pigeonpeas\",\"pigeonpeas\",\"pigeonpeas\",\"pigeonpeas\",\"pigeonpeas\",\"pigeonpeas\",\"pigeonpeas\",\"pigeonpeas\",\"pigeonpeas\",\"pigeonpeas\",\"pigeonpeas\",\"pigeonpeas\",\"pigeonpeas\",\"pigeonpeas\",\"pigeonpeas\",\"pigeonpeas\",\"pigeonpeas\",\"pigeonpeas\",\"pigeonpeas\",\"pigeonpeas\",\"pigeonpeas\",\"pigeonpeas\",\"pigeonpeas\",\"mothbeans\",\"mothbeans\",\"mothbeans\",\"mothbeans\",\"mothbeans\",\"mothbeans\",\"mothbeans\",\"mothbeans\",\"mothbeans\",\"mothbeans\",\"mothbeans\",\"mothbeans\",\"mothbeans\",\"mothbeans\",\"mothbeans\",\"mothbeans\",\"mothbeans\",\"mothbeans\",\"mothbeans\",\"mothbeans\",\"mothbeans\",\"mothbeans\",\"mothbeans\",\"mothbeans\",\"mothbeans\",\"mothbeans\",\"mothbeans\",\"mothbeans\",\"mothbeans\",\"mothbeans\",\"mothbeans\",\"mothbeans\",\"mothbeans\",\"mothbeans\",\"mothbeans\",\"mothbeans\",\"mothbeans\",\"mothbeans\",\"mothbeans\",\"mothbeans\",\"mothbeans\",\"mothbeans\",\"mothbeans\",\"mothbeans\",\"mothbeans\",\"mothbeans\",\"mothbeans\",\"mothbeans\",\"mothbeans\",\"mothbeans\",\"mothbeans\",\"mothbeans\",\"mothbeans\",\"mothbeans\",\"mothbeans\",\"mothbeans\",\"mothbeans\",\"mothbeans\",\"mothbeans\",\"mothbeans\",\"mothbeans\",\"mothbeans\",\"mothbeans\",\"mothbeans\",\"mothbeans\",\"mothbeans\",\"mothbeans\",\"mothbeans\",\"mothbeans\",\"mothbeans\",\"mothbeans\",\"mothbeans\",\"mothbeans\",\"mothbeans\",\"mothbeans\",\"mothbeans\",\"mothbeans\",\"mothbeans\",\"mothbeans\",\"mothbeans\",\"mothbeans\",\"mothbeans\",\"mothbeans\",\"mothbeans\",\"mothbeans\",\"mothbeans\",\"mothbeans\",\"mothbeans\",\"mothbeans\",\"mothbeans\",\"mothbeans\",\"mothbeans\",\"mothbeans\",\"mothbeans\",\"mothbeans\",\"mothbeans\",\"mothbeans\",\"mothbeans\",\"mothbeans\",\"mothbeans\",\"mungbean\",\"mungbean\",\"mungbean\",\"mungbean\",\"mungbean\",\"mungbean\",\"mungbean\",\"mungbean\",\"mungbean\",\"mungbean\",\"mungbean\",\"mungbean\",\"mungbean\",\"mungbean\",\"mungbean\",\"mungbean\",\"mungbean\",\"mungbean\",\"mungbean\",\"mungbean\",\"mungbean\",\"mungbean\",\"mungbean\",\"mungbean\",\"mungbean\",\"mungbean\",\"mungbean\",\"mungbean\",\"mungbean\",\"mungbean\",\"mungbean\",\"mungbean\",\"mungbean\",\"mungbean\",\"mungbean\",\"mungbean\",\"mungbean\",\"mungbean\",\"mungbean\",\"mungbean\",\"mungbean\",\"mungbean\",\"mungbean\",\"mungbean\",\"mungbean\",\"mungbean\",\"mungbean\",\"mungbean\",\"mungbean\",\"mungbean\",\"mungbean\",\"mungbean\",\"mungbean\",\"mungbean\",\"mungbean\",\"mungbean\",\"mungbean\",\"mungbean\",\"mungbean\",\"mungbean\",\"mungbean\",\"mungbean\",\"mungbean\",\"mungbean\",\"mungbean\",\"mungbean\",\"mungbean\",\"mungbean\",\"mungbean\",\"mungbean\",\"mungbean\",\"mungbean\",\"mungbean\",\"mungbean\",\"mungbean\",\"mungbean\",\"mungbean\",\"mungbean\",\"mungbean\",\"mungbean\",\"mungbean\",\"mungbean\",\"mungbean\",\"mungbean\",\"mungbean\",\"mungbean\",\"mungbean\",\"mungbean\",\"mungbean\",\"mungbean\",\"mungbean\",\"mungbean\",\"mungbean\",\"mungbean\",\"mungbean\",\"mungbean\",\"mungbean\",\"mungbean\",\"mungbean\",\"mungbean\",\"blackgram\",\"blackgram\",\"blackgram\",\"blackgram\",\"blackgram\",\"blackgram\",\"blackgram\",\"blackgram\",\"blackgram\",\"blackgram\",\"blackgram\",\"blackgram\",\"blackgram\",\"blackgram\",\"blackgram\",\"blackgram\",\"blackgram\",\"blackgram\",\"blackgram\",\"blackgram\",\"blackgram\",\"blackgram\",\"blackgram\",\"blackgram\",\"blackgram\",\"blackgram\",\"blackgram\",\"blackgram\",\"blackgram\",\"blackgram\",\"blackgram\",\"blackgram\",\"blackgram\",\"blackgram\",\"blackgram\",\"blackgram\",\"blackgram\",\"blackgram\",\"blackgram\",\"blackgram\",\"blackgram\",\"blackgram\",\"blackgram\",\"blackgram\",\"blackgram\",\"blackgram\",\"blackgram\",\"blackgram\",\"blackgram\",\"blackgram\",\"blackgram\",\"blackgram\",\"blackgram\",\"blackgram\",\"blackgram\",\"blackgram\",\"blackgram\",\"blackgram\",\"blackgram\",\"blackgram\",\"blackgram\",\"blackgram\",\"blackgram\",\"blackgram\",\"blackgram\",\"blackgram\",\"blackgram\",\"blackgram\",\"blackgram\",\"blackgram\",\"blackgram\",\"blackgram\",\"blackgram\",\"blackgram\",\"blackgram\",\"blackgram\",\"blackgram\",\"blackgram\",\"blackgram\",\"blackgram\",\"blackgram\",\"blackgram\",\"blackgram\",\"blackgram\",\"blackgram\",\"blackgram\",\"blackgram\",\"blackgram\",\"blackgram\",\"blackgram\",\"blackgram\",\"blackgram\",\"blackgram\",\"blackgram\",\"blackgram\",\"blackgram\",\"blackgram\",\"blackgram\",\"blackgram\",\"blackgram\",\"lentil\",\"lentil\",\"lentil\",\"lentil\",\"lentil\",\"lentil\",\"lentil\",\"lentil\",\"lentil\",\"lentil\",\"lentil\",\"lentil\",\"lentil\",\"lentil\",\"lentil\",\"lentil\",\"lentil\",\"lentil\",\"lentil\",\"lentil\",\"lentil\",\"lentil\",\"lentil\",\"lentil\",\"lentil\",\"lentil\",\"lentil\",\"lentil\",\"lentil\",\"lentil\",\"lentil\",\"lentil\",\"lentil\",\"lentil\",\"lentil\",\"lentil\",\"lentil\",\"lentil\",\"lentil\",\"lentil\",\"lentil\",\"lentil\",\"lentil\",\"lentil\",\"lentil\",\"lentil\",\"lentil\",\"lentil\",\"lentil\",\"lentil\",\"lentil\",\"lentil\",\"lentil\",\"lentil\",\"lentil\",\"lentil\",\"lentil\",\"lentil\",\"lentil\",\"lentil\",\"lentil\",\"lentil\",\"lentil\",\"lentil\",\"lentil\",\"lentil\",\"lentil\",\"lentil\",\"lentil\",\"lentil\",\"lentil\",\"lentil\",\"lentil\",\"lentil\",\"lentil\",\"lentil\",\"lentil\",\"lentil\",\"lentil\",\"lentil\",\"lentil\",\"lentil\",\"lentil\",\"lentil\",\"lentil\",\"lentil\",\"lentil\",\"lentil\",\"lentil\",\"lentil\",\"lentil\",\"lentil\",\"lentil\",\"lentil\",\"lentil\",\"lentil\",\"lentil\",\"lentil\",\"lentil\",\"lentil\",\"pomegranate\",\"pomegranate\",\"pomegranate\",\"pomegranate\",\"pomegranate\",\"pomegranate\",\"pomegranate\",\"pomegranate\",\"pomegranate\",\"pomegranate\",\"pomegranate\",\"pomegranate\",\"pomegranate\",\"pomegranate\",\"pomegranate\",\"pomegranate\",\"pomegranate\",\"pomegranate\",\"pomegranate\",\"pomegranate\",\"pomegranate\",\"pomegranate\",\"pomegranate\",\"pomegranate\",\"pomegranate\",\"pomegranate\",\"pomegranate\",\"pomegranate\",\"pomegranate\",\"pomegranate\",\"pomegranate\",\"pomegranate\",\"pomegranate\",\"pomegranate\",\"pomegranate\",\"pomegranate\",\"pomegranate\",\"pomegranate\",\"pomegranate\",\"pomegranate\",\"pomegranate\",\"pomegranate\",\"pomegranate\",\"pomegranate\",\"pomegranate\",\"pomegranate\",\"pomegranate\",\"pomegranate\",\"pomegranate\",\"pomegranate\",\"pomegranate\",\"pomegranate\",\"pomegranate\",\"pomegranate\",\"pomegranate\",\"pomegranate\",\"pomegranate\",\"pomegranate\",\"pomegranate\",\"pomegranate\",\"pomegranate\",\"pomegranate\",\"pomegranate\",\"pomegranate\",\"pomegranate\",\"pomegranate\",\"pomegranate\",\"pomegranate\",\"pomegranate\",\"pomegranate\",\"pomegranate\",\"pomegranate\",\"pomegranate\",\"pomegranate\",\"pomegranate\",\"pomegranate\",\"pomegranate\",\"pomegranate\",\"pomegranate\",\"pomegranate\",\"pomegranate\",\"pomegranate\",\"pomegranate\",\"pomegranate\",\"pomegranate\",\"pomegranate\",\"pomegranate\",\"pomegranate\",\"pomegranate\",\"pomegranate\",\"pomegranate\",\"pomegranate\",\"pomegranate\",\"pomegranate\",\"pomegranate\",\"pomegranate\",\"pomegranate\",\"pomegranate\",\"pomegranate\",\"pomegranate\",\"banana\",\"banana\",\"banana\",\"banana\",\"banana\",\"banana\",\"banana\",\"banana\",\"banana\",\"banana\",\"banana\",\"banana\",\"banana\",\"banana\",\"banana\",\"banana\",\"banana\",\"banana\",\"banana\",\"banana\",\"banana\",\"banana\",\"banana\",\"banana\",\"banana\",\"banana\",\"banana\",\"banana\",\"banana\",\"banana\",\"banana\",\"banana\",\"banana\",\"banana\",\"banana\",\"banana\",\"banana\",\"banana\",\"banana\",\"banana\",\"banana\",\"banana\",\"banana\",\"banana\",\"banana\",\"banana\",\"banana\",\"banana\",\"banana\",\"banana\",\"banana\",\"banana\",\"banana\",\"banana\",\"banana\",\"banana\",\"banana\",\"banana\",\"banana\",\"banana\",\"banana\",\"banana\",\"banana\",\"banana\",\"banana\",\"banana\",\"banana\",\"banana\",\"banana\",\"banana\",\"banana\",\"banana\",\"banana\",\"banana\",\"banana\",\"banana\",\"banana\",\"banana\",\"banana\",\"banana\",\"banana\",\"banana\",\"banana\",\"banana\",\"banana\",\"banana\",\"banana\",\"banana\",\"banana\",\"banana\",\"banana\",\"banana\",\"banana\",\"banana\",\"banana\",\"banana\",\"banana\",\"banana\",\"banana\",\"banana\",\"mango\",\"mango\",\"mango\",\"mango\",\"mango\",\"mango\",\"mango\",\"mango\",\"mango\",\"mango\",\"mango\",\"mango\",\"mango\",\"mango\",\"mango\",\"mango\",\"mango\",\"mango\",\"mango\",\"mango\",\"mango\",\"mango\",\"mango\",\"mango\",\"mango\",\"mango\",\"mango\",\"mango\",\"mango\",\"mango\",\"mango\",\"mango\",\"mango\",\"mango\",\"mango\",\"mango\",\"mango\",\"mango\",\"mango\",\"mango\",\"mango\",\"mango\",\"mango\",\"mango\",\"mango\",\"mango\",\"mango\",\"mango\",\"mango\",\"mango\",\"mango\",\"mango\",\"mango\",\"mango\",\"mango\",\"mango\",\"mango\",\"mango\",\"mango\",\"mango\",\"mango\",\"mango\",\"mango\",\"mango\",\"mango\",\"mango\",\"mango\",\"mango\",\"mango\",\"mango\",\"mango\",\"mango\",\"mango\",\"mango\",\"mango\",\"mango\",\"mango\",\"mango\",\"mango\",\"mango\",\"mango\",\"mango\",\"mango\",\"mango\",\"mango\",\"mango\",\"mango\",\"mango\",\"mango\",\"mango\",\"mango\",\"mango\",\"mango\",\"mango\",\"mango\",\"mango\",\"mango\",\"mango\",\"mango\",\"mango\",\"grapes\",\"grapes\",\"grapes\",\"grapes\",\"grapes\",\"grapes\",\"grapes\",\"grapes\",\"grapes\",\"grapes\",\"grapes\",\"grapes\",\"grapes\",\"grapes\",\"grapes\",\"grapes\",\"grapes\",\"grapes\",\"grapes\",\"grapes\",\"grapes\",\"grapes\",\"grapes\",\"grapes\",\"grapes\",\"grapes\",\"grapes\",\"grapes\",\"grapes\",\"grapes\",\"grapes\",\"grapes\",\"grapes\",\"grapes\",\"grapes\",\"grapes\",\"grapes\",\"grapes\",\"grapes\",\"grapes\",\"grapes\",\"grapes\",\"grapes\",\"grapes\",\"grapes\",\"grapes\",\"grapes\",\"grapes\",\"grapes\",\"grapes\",\"grapes\",\"grapes\",\"grapes\",\"grapes\",\"grapes\",\"grapes\",\"grapes\",\"grapes\",\"grapes\",\"grapes\",\"grapes\",\"grapes\",\"grapes\",\"grapes\",\"grapes\",\"grapes\",\"grapes\",\"grapes\",\"grapes\",\"grapes\",\"grapes\",\"grapes\",\"grapes\",\"grapes\",\"grapes\",\"grapes\",\"grapes\",\"grapes\",\"grapes\",\"grapes\",\"grapes\",\"grapes\",\"grapes\",\"grapes\",\"grapes\",\"grapes\",\"grapes\",\"grapes\",\"grapes\",\"grapes\",\"grapes\",\"grapes\",\"grapes\",\"grapes\",\"grapes\",\"grapes\",\"grapes\",\"grapes\",\"grapes\",\"grapes\",\"watermelon\",\"watermelon\",\"watermelon\",\"watermelon\",\"watermelon\",\"watermelon\",\"watermelon\",\"watermelon\",\"watermelon\",\"watermelon\",\"watermelon\",\"watermelon\",\"watermelon\",\"watermelon\",\"watermelon\",\"watermelon\",\"watermelon\",\"watermelon\",\"watermelon\",\"watermelon\",\"watermelon\",\"watermelon\",\"watermelon\",\"watermelon\",\"watermelon\",\"watermelon\",\"watermelon\",\"watermelon\",\"watermelon\",\"watermelon\",\"watermelon\",\"watermelon\",\"watermelon\",\"watermelon\",\"watermelon\",\"watermelon\",\"watermelon\",\"watermelon\",\"watermelon\",\"watermelon\",\"watermelon\",\"watermelon\",\"watermelon\",\"watermelon\",\"watermelon\",\"watermelon\",\"watermelon\",\"watermelon\",\"watermelon\",\"watermelon\",\"watermelon\",\"watermelon\",\"watermelon\",\"watermelon\",\"watermelon\",\"watermelon\",\"watermelon\",\"watermelon\",\"watermelon\",\"watermelon\",\"watermelon\",\"watermelon\",\"watermelon\",\"watermelon\",\"watermelon\",\"watermelon\",\"watermelon\",\"watermelon\",\"watermelon\",\"watermelon\",\"watermelon\",\"watermelon\",\"watermelon\",\"watermelon\",\"watermelon\",\"watermelon\",\"watermelon\",\"watermelon\",\"watermelon\",\"watermelon\",\"watermelon\",\"watermelon\",\"watermelon\",\"watermelon\",\"watermelon\",\"watermelon\",\"watermelon\",\"watermelon\",\"watermelon\",\"watermelon\",\"watermelon\",\"watermelon\",\"watermelon\",\"watermelon\",\"watermelon\",\"watermelon\",\"watermelon\",\"watermelon\",\"watermelon\",\"watermelon\",\"muskmelon\",\"muskmelon\",\"muskmelon\",\"muskmelon\",\"muskmelon\",\"muskmelon\",\"muskmelon\",\"muskmelon\",\"muskmelon\",\"muskmelon\",\"muskmelon\",\"muskmelon\",\"muskmelon\",\"muskmelon\",\"muskmelon\",\"muskmelon\",\"muskmelon\",\"muskmelon\",\"muskmelon\",\"muskmelon\",\"muskmelon\",\"muskmelon\",\"muskmelon\",\"muskmelon\",\"muskmelon\",\"muskmelon\",\"muskmelon\",\"muskmelon\",\"muskmelon\",\"muskmelon\",\"muskmelon\",\"muskmelon\",\"muskmelon\",\"muskmelon\",\"muskmelon\",\"muskmelon\",\"muskmelon\",\"muskmelon\",\"muskmelon\",\"muskmelon\",\"muskmelon\",\"muskmelon\",\"muskmelon\",\"muskmelon\",\"muskmelon\",\"muskmelon\",\"muskmelon\",\"muskmelon\",\"muskmelon\",\"muskmelon\",\"muskmelon\",\"muskmelon\",\"muskmelon\",\"muskmelon\",\"muskmelon\",\"muskmelon\",\"muskmelon\",\"muskmelon\",\"muskmelon\",\"muskmelon\",\"muskmelon\",\"muskmelon\",\"muskmelon\",\"muskmelon\",\"muskmelon\",\"muskmelon\",\"muskmelon\",\"muskmelon\",\"muskmelon\",\"muskmelon\",\"muskmelon\",\"muskmelon\",\"muskmelon\",\"muskmelon\",\"muskmelon\",\"muskmelon\",\"muskmelon\",\"muskmelon\",\"muskmelon\",\"muskmelon\",\"muskmelon\",\"muskmelon\",\"muskmelon\",\"muskmelon\",\"muskmelon\",\"muskmelon\",\"muskmelon\",\"muskmelon\",\"muskmelon\",\"muskmelon\",\"muskmelon\",\"muskmelon\",\"muskmelon\",\"muskmelon\",\"muskmelon\",\"muskmelon\",\"muskmelon\",\"muskmelon\",\"muskmelon\",\"muskmelon\",\"apple\",\"apple\",\"apple\",\"apple\",\"apple\",\"apple\",\"apple\",\"apple\",\"apple\",\"apple\",\"apple\",\"apple\",\"apple\",\"apple\",\"apple\",\"apple\",\"apple\",\"apple\",\"apple\",\"apple\",\"apple\",\"apple\",\"apple\",\"apple\",\"apple\",\"apple\",\"apple\",\"apple\",\"apple\",\"apple\",\"apple\",\"apple\",\"apple\",\"apple\",\"apple\",\"apple\",\"apple\",\"apple\",\"apple\",\"apple\",\"apple\",\"apple\",\"apple\",\"apple\",\"apple\",\"apple\",\"apple\",\"apple\",\"apple\",\"apple\",\"apple\",\"apple\",\"apple\",\"apple\",\"apple\",\"apple\",\"apple\",\"apple\",\"apple\",\"apple\",\"apple\",\"apple\",\"apple\",\"apple\",\"apple\",\"apple\",\"apple\",\"apple\",\"apple\",\"apple\",\"apple\",\"apple\",\"apple\",\"apple\",\"apple\",\"apple\",\"apple\",\"apple\",\"apple\",\"apple\",\"apple\",\"apple\",\"apple\",\"apple\",\"apple\",\"apple\",\"apple\",\"apple\",\"apple\",\"apple\",\"apple\",\"apple\",\"apple\",\"apple\",\"apple\",\"apple\",\"apple\",\"apple\",\"apple\",\"apple\",\"orange\",\"orange\",\"orange\",\"orange\",\"orange\",\"orange\",\"orange\",\"orange\",\"orange\",\"orange\",\"orange\",\"orange\",\"orange\",\"orange\",\"orange\",\"orange\",\"orange\",\"orange\",\"orange\",\"orange\",\"orange\",\"orange\",\"orange\",\"orange\",\"orange\",\"orange\",\"orange\",\"orange\",\"orange\",\"orange\",\"orange\",\"orange\",\"orange\",\"orange\",\"orange\",\"orange\",\"orange\",\"orange\",\"orange\",\"orange\",\"orange\",\"orange\",\"orange\",\"orange\",\"orange\",\"orange\",\"orange\",\"orange\",\"orange\",\"orange\",\"orange\",\"orange\",\"orange\",\"orange\",\"orange\",\"orange\",\"orange\",\"orange\",\"orange\",\"orange\",\"orange\",\"orange\",\"orange\",\"orange\",\"orange\",\"orange\",\"orange\",\"orange\",\"orange\",\"orange\",\"orange\",\"orange\",\"orange\",\"orange\",\"orange\",\"orange\",\"orange\",\"orange\",\"orange\",\"orange\",\"orange\",\"orange\",\"orange\",\"orange\",\"orange\",\"orange\",\"orange\",\"orange\",\"orange\",\"orange\",\"orange\",\"orange\",\"orange\",\"orange\",\"orange\",\"orange\",\"orange\",\"orange\",\"orange\",\"orange\",\"papaya\",\"papaya\",\"papaya\",\"papaya\",\"papaya\",\"papaya\",\"papaya\",\"papaya\",\"papaya\",\"papaya\",\"papaya\",\"papaya\",\"papaya\",\"papaya\",\"papaya\",\"papaya\",\"papaya\",\"papaya\",\"papaya\",\"papaya\",\"papaya\",\"papaya\",\"papaya\",\"papaya\",\"papaya\",\"papaya\",\"papaya\",\"papaya\",\"papaya\",\"papaya\",\"papaya\",\"papaya\",\"papaya\",\"papaya\",\"papaya\",\"papaya\",\"papaya\",\"papaya\",\"papaya\",\"papaya\",\"papaya\",\"papaya\",\"papaya\",\"papaya\",\"papaya\",\"papaya\",\"papaya\",\"papaya\",\"papaya\",\"papaya\",\"papaya\",\"papaya\",\"papaya\",\"papaya\",\"papaya\",\"papaya\",\"papaya\",\"papaya\",\"papaya\",\"papaya\",\"papaya\",\"papaya\",\"papaya\",\"papaya\",\"papaya\",\"papaya\",\"papaya\",\"papaya\",\"papaya\",\"papaya\",\"papaya\",\"papaya\",\"papaya\",\"papaya\",\"papaya\",\"papaya\",\"papaya\",\"papaya\",\"papaya\",\"papaya\",\"papaya\",\"papaya\",\"papaya\",\"coconut\",\"coconut\",\"coconut\",\"coconut\",\"coconut\",\"coconut\",\"coconut\",\"coconut\",\"coconut\",\"coconut\",\"coconut\",\"coconut\",\"coconut\",\"coconut\",\"coconut\",\"coconut\",\"coconut\",\"coconut\",\"coconut\",\"coconut\",\"coconut\",\"coconut\",\"coconut\",\"coconut\",\"coconut\",\"coconut\",\"coconut\",\"coconut\",\"coconut\",\"coconut\",\"coconut\",\"coconut\",\"coconut\",\"coconut\",\"coconut\",\"coconut\",\"coconut\",\"coconut\",\"coconut\",\"coconut\",\"coconut\",\"coconut\",\"coconut\",\"coconut\",\"coconut\",\"coconut\",\"coconut\",\"coconut\",\"coconut\",\"coconut\",\"coconut\",\"coconut\",\"coconut\",\"coconut\",\"coconut\",\"coconut\",\"coconut\",\"coconut\",\"coconut\",\"coconut\",\"coconut\",\"coconut\",\"coconut\",\"coconut\",\"coconut\",\"coconut\",\"coconut\",\"coconut\",\"coconut\",\"coconut\",\"coconut\",\"coconut\",\"coconut\",\"coconut\",\"coconut\",\"coconut\",\"coconut\",\"coconut\",\"coconut\",\"coconut\",\"coconut\",\"coconut\",\"coconut\",\"coconut\",\"coconut\",\"coconut\",\"cotton\",\"cotton\",\"cotton\",\"cotton\",\"cotton\",\"cotton\",\"cotton\",\"cotton\",\"cotton\",\"cotton\",\"cotton\",\"cotton\",\"cotton\",\"cotton\",\"cotton\",\"cotton\",\"cotton\",\"cotton\",\"cotton\",\"cotton\",\"cotton\",\"cotton\",\"cotton\",\"cotton\",\"cotton\",\"cotton\",\"cotton\",\"cotton\",\"cotton\",\"cotton\",\"cotton\",\"cotton\",\"cotton\",\"cotton\",\"cotton\",\"cotton\",\"cotton\",\"cotton\",\"cotton\",\"cotton\",\"cotton\",\"cotton\",\"cotton\",\"cotton\",\"cotton\",\"cotton\",\"cotton\",\"cotton\",\"cotton\",\"cotton\",\"cotton\",\"cotton\",\"cotton\",\"cotton\",\"cotton\",\"cotton\",\"cotton\",\"cotton\",\"cotton\",\"cotton\",\"cotton\",\"cotton\",\"cotton\",\"cotton\",\"cotton\",\"cotton\",\"cotton\",\"cotton\",\"cotton\",\"cotton\",\"cotton\",\"cotton\",\"cotton\",\"cotton\",\"cotton\",\"cotton\",\"cotton\",\"cotton\",\"cotton\",\"cotton\",\"cotton\",\"cotton\",\"cotton\",\"cotton\",\"cotton\",\"cotton\",\"cotton\",\"cotton\",\"cotton\",\"cotton\",\"cotton\",\"cotton\",\"cotton\",\"cotton\",\"cotton\",\"cotton\",\"cotton\",\"cotton\",\"cotton\",\"cotton\",\"jute\",\"jute\",\"jute\",\"jute\",\"jute\",\"jute\",\"jute\",\"jute\",\"jute\",\"jute\",\"jute\",\"jute\",\"jute\",\"jute\",\"jute\",\"jute\",\"jute\",\"jute\",\"jute\",\"jute\",\"jute\",\"jute\",\"jute\",\"jute\",\"jute\",\"jute\",\"jute\",\"jute\",\"jute\",\"jute\",\"jute\",\"jute\",\"jute\",\"jute\",\"jute\",\"jute\",\"jute\",\"jute\",\"jute\",\"jute\",\"jute\",\"jute\",\"jute\",\"jute\",\"jute\",\"jute\",\"jute\",\"jute\",\"jute\",\"jute\",\"jute\",\"jute\",\"jute\",\"jute\",\"jute\",\"jute\",\"jute\",\"jute\",\"jute\",\"jute\",\"jute\",\"jute\",\"jute\",\"jute\",\"jute\",\"jute\",\"jute\",\"jute\",\"jute\",\"jute\",\"jute\",\"jute\",\"jute\",\"jute\",\"jute\",\"jute\",\"jute\",\"jute\",\"jute\",\"jute\",\"jute\",\"jute\",\"jute\",\"jute\",\"jute\",\"jute\",\"jute\",\"jute\",\"jute\",\"jute\",\"jute\",\"jute\",\"jute\",\"jute\",\"jute\",\"jute\",\"jute\",\"jute\",\"jute\",\"jute\",\"coffee\",\"coffee\",\"coffee\",\"coffee\",\"coffee\",\"coffee\",\"coffee\",\"coffee\",\"coffee\",\"coffee\",\"coffee\",\"coffee\",\"coffee\",\"coffee\",\"coffee\",\"coffee\",\"coffee\",\"coffee\",\"coffee\",\"coffee\",\"coffee\",\"coffee\",\"coffee\",\"coffee\",\"coffee\",\"coffee\",\"coffee\",\"coffee\",\"coffee\",\"coffee\",\"coffee\",\"coffee\",\"coffee\",\"coffee\",\"coffee\",\"coffee\",\"coffee\",\"coffee\",\"coffee\",\"coffee\",\"coffee\",\"coffee\",\"coffee\",\"coffee\",\"coffee\",\"coffee\",\"coffee\",\"coffee\",\"coffee\",\"coffee\",\"coffee\",\"coffee\",\"coffee\",\"coffee\",\"coffee\",\"coffee\",\"coffee\",\"coffee\",\"coffee\",\"coffee\",\"coffee\",\"coffee\",\"coffee\",\"coffee\",\"coffee\",\"coffee\",\"coffee\",\"coffee\",\"coffee\",\"coffee\",\"coffee\",\"coffee\",\"coffee\",\"coffee\",\"coffee\",\"coffee\",\"coffee\",\"coffee\",\"coffee\",\"coffee\",\"coffee\",\"coffee\",\"coffee\",\"coffee\",\"coffee\",\"coffee\",\"coffee\",\"coffee\",\"coffee\",\"coffee\",\"coffee\",\"coffee\",\"coffee\",\"coffee\",\"coffee\",\"coffee\",\"coffee\",\"coffee\",\"coffee\",\"coffee\"],\"xaxis\":\"x\",\"y\":[43,36,37,39,36,41,35,40,42,43,36,38,42,39,39,42,40,42,36,37,41,42,38,37,38,43,35,39,44,42,44,40,16,17,16,21,20,16,17,19,17,25,19,21,16,16,21,22,17,17,19,19,21,15,22,21,16,16,18,15,22,20,25,19,25,23,22,21,18,21,18,18,17,23,17,17,23,22,15,18,23,17,20,23,23,17,17,22,21,19,20,16,20,25,24,24,18,18,23,21,24,22,18,20,16,19,24,17,23,20,21,21,25,19,24,18,17,15,22,22,15,23,17,15,18,25,22,24,22,19,23,19,77,84,85,85,77,81,84,84,75,81,79,79,81,85,77,84,76,84,76,77,83,77,76,83,83,78,80,84,85,81,82,85,83,76,75,81,77,78,77,77,76,79,75,81,81,78,79,83,84,78,79,85,78,75,78,78,85,76,80,77,85,75,85,82,79,75,78,82,85,80,83,79,79,79,75,82,85,82,84,77,80,78,83,77,78,79,81,82,76,85,78,77,76,76,82,78,78,83,75,82,25,16,22,16,20,22,21,18,17,22,24,19,17,22,23,25,17,15,23,20,16,25,19,22,17,20,17,22,22,21,23,18,20,17,23,22,19,22,20,23,17,15,23,18,22,24,15,21,23,19,20,24,23,25,19,17,25,18,17,20,24,22,24,15,24,17,15,16,15,25,25,15,21,20,19,21,22,18,20,16,15,22,22,15,23,19,17,19,22,20,22,20,23,15,18,18,16,25,19,24,24,23,23,24,18,25,20,19,20,21,24,17,17,20,17,19,16,16,24,20,19,25,19,21,24,21,21,21,17,19,19,21,18,23,21,18,22,16,19,15,15,18,18,17,19,25,20,22,23,25,23,20,18,18,24,17,20,23,22,20,24,23,25,24,21,18,25,21,16,23,19,19,20,21,24,15,23,21,15,18,20,24,20,19,16,23,21,20,24,22,16,19,19,17,18,17,22,22,18,24,18,23,25,18,16,22,15,20,24,24,17,25,23,22,21,20,23,25,22,25,17,22,19,15,19,20,18,21,24,24,24,22,15,23,16,19,22,20,20,16,24,21,20,20,18,20,18,24,18,23,21,22,21,22,16,15,22,15,20,25,24,17,17,17,16,19,18,24,20,20,19,23,17,25,20,20,19,17,23,23,16,24,25,21,22,23,15,22,25,18,19,17,18,23,15,22,16,17,17,21,20,20,20,16,17,24,23,25,18,20,22,17,23,16,21,25,22,15,24,17,20,16,23,21,15,21,25,17,22,25,18,24,25,22,22,21,21,15,22,15,23,15,25,15,22,15,24,15,25,24,21,24,19,18,20,21,18,20,25,15,15,16,23,22,17,19,17,20,25,20,20,23,21,15,22,21,20,17,20,22,21,17,18,17,19,21,18,17,15,19,17,15,20,16,21,22,19,17,23,21,15,21,22,25,18,16,21,20,21,17,24,25,19,22,18,15,19,23,25,18,15,24,16,18,25,21,22,15,17,22,19,21,21,17,21,17,19,17,15,15,19,18,19,21,25,19,23,16,15,15,16,22,19,21,20,17,20,22,16,17,19,15,23,15,16,25,19,16,19,25,17,22,20,16,15,20,15,15,21,16,17,15,18,17,24,17,20,25,24,22,21,17,17,18,15,16,22,23,21,25,15,22,20,17,16,18,18,21,20,17,20,22,23,24,15,17,22,24,22,18,16,24,20,21,21,22,18,15,20,24,22,16,23,18,25,23,15,21,15,25,19,19,19,19,16,17,15,17,15,16,25,23,23,22,18,20,22,17,24,17,22,19,18,16,21,23,20,21,19,16,22,16,22,19,17,21,17,18,17,22,24,17,15,20,16,21,16,22,19,19,20,22,25,18,15,22,17,19,15,15,38,37,36,39,38,38,38,40,41,38,36,41,37,41,40,42,41,42,38,44,40,45,44,39,40,42,44,40,44,36,43,42,42,40,36,42,42,41,40,39,38,44,43,35,36,41,43,38,38,37,41,45,44,43,37,41,35,39,43,45,36,44,42,37,44,40,44,42,40,37,36,37,35,38,41,36,44,43,45,45,42,38,42,40,41,36,45,45,43,39,36,38,41,35,35,45,41,45,39,37,46,50,53,54,49,53,55,53,55,52,52,54,50,53,49,55,47,45,45,48,53,50,48,47,51,45,48,47,48,47,47,52,45,48,51,47,49,55,53,52,47,48,53,52,53,46,55,52,50,48,45,55,50,50,45,55,47,54,45,53,53,50,55,46,51,54,51,45,49,52,46,54,50,55,45,48,55,55,51,45,47,46,55,52,46,52,52,48,46,48,45,51,45,46,51,47,52,54,55,53,27,31,27,25,32,35,34,31,33,30,27,27,34,30,31,33,32,30,30,35,25,33,31,28,30,30,31,29,28,25,31,34,26,28,31,29,31,26,26,34,33,32,31,33,26,35,32,26,27,25,26,32,27,30,26,35,30,26,32,28,26,32,34,34,25,27,31,32,34,32,26,32,27,25,34,29,35,35,34,30,29,31,26,35,26,31,30,31,31,28,27,26,33,27,25,26,30,33,30,31,195,204,205,196,196,198,197,195,203,204,197,205,201,203,204,195,202,205,197,204,201,197,198,201,199,205,203,197,200,197,203,203,198,202,196,201,199,204,198,204,201,204,197,195,200,197,200,201,196,203,204,203,195,199,202,195,202,195,201,195,203,201,196,205,195,196,199,202,203,199,205,196,202,199,199,201,195,201,203,203,205,204,200,203,202,200,199,196,197,197,198,203,204,197,204,200,201,202,195,204,51,55,50,50,52,55,45,53,45,54,53,47,47,50,46,51,52,55,50,51,50,52,49,55,52,45,50,54,54,51,45,48,45,47,51,46,55,48,53,46,52,53,53,52,49,48,47,51,54,52,50,45,46,49,51,46,51,45,52,55,54,55,53,49,46,52,47,46,52,46,50,50,52,47,45,47,45,50,55,51,50,53,51,55,45,55,48,55,54,51,54,53,54,50,49,47,45,50,55,47,55,48,52,52,45,49,53,51,52,52,48,52,45,55,45,55,55,51,48,48,53,53,46,47,50,53,52,55,54,50,48,54,51,54,52,52,46,46,46,47,52,55,47,45,49,52,51,53,55,49,48,47,45,48,47,48,47,49,47,46,45,45,50,49,47,52,54,47,48,52,52,50,45,55,46,54,52,45,48,53,54,47,54,49,51,50,47,54,55,47,51,52,52,46,50,55,47,52,52,54,196,197,205,201,201,204,205,205,196,199,197,196,204,199,200,199,198,199,203,195,205,198,196,198,204,203,197,198,200,198,196,203,197,201,202,195,204,196,202,202,201,196,198,205,205,199,198,200,204,202,196,202,198,200,199,197,201,204,203,205,195,202,200,200,196,205,197,200,205,197,204,195,204,195,201,197,200,204,197,203,204,196,197,203,196,203,205,203,205,201,203,195,198,197,195,197,198,196,196,197,12,13,6,9,9,10,15,14,14,6,15,8,12,10,6,8,7,5,8,9,6,14,10,5,8,15,12,5,15,14,14,15,6,8,8,7,6,11,5,6,10,15,9,13,8,6,13,10,8,11,5,9,11,9,7,7,14,10,8,10,12,8,13,11,15,9,13,13,12,15,14,8,10,5,12,11,14,12,6,5,9,9,9,11,10,8,12,11,11,10,10,13,10,14,9,5,12,7,15,9,45,55,45,45,50,47,54,47,47,53,48,54,49,53,52,47,51,53,45,52,45,52,46,51,46,49,51,47,52,49,55,52,51,53,48,53,55,52,51,47,47,48,52,47,46,48,50,49,49,52,50,51,49,47,52,52,47,50,49,47,52,52,49,47,52,53,47,53,52,52,51,47,54,49,52,55,55,52,54,55,47,55,53,33,35,35,32,31,27,29,35,26,33,32,30,33,26,32,26,30,32,26,33,28,26,33,25,30,35,29,31,30,33,33,35,31,35,29,29,32,35,30,29,35,32,29,25,29,35,34,29,27,32,31,27,35,27,30,29,29,26,26,27,35,31,34,31,25,26,32,31,32,34,33,26,30,25,33,35,30,29,33,31,27,33,32,26,34,29,24,20,18,23,23,19,20,22,16,22,25,18,15,21,25,18,16,18,24,15,24,18,24,22,21,23,19,22,15,19,23,22,17,20,16,16,25,18,19,16,17,22,17,25,18,25,19,24,17,15,17,20,16,21,19,20,19,20,19,23,17,18,21,25,15,19,24,18,18,17,19,25,22,15,24,18,15,15,15,25,24,19,17,17,19,16,23,25,21,16,16,20,17,18,20,20,21,18,15,15,38,39,45,39,40,36,43,40,44,40,44,45,38,40,38,35,38,39,44,37,38,36,38,42,45,39,45,45,40,45,35,38,38,40,45,43,41,42,37,45,36,39,45,44,41,35,36,35,42,40,44,42,36,41,40,40,43,43,43,44,43,43,35,44,35,37,36,35,41,35,35,38,43,35,42,44,42,36,37,38,39,37,43,44,36,38,36,35,41,43,43,43,41,35,38,43,39,37,43,43,26,26,35,31,34,25,27,34,32,34,28,25,27,31,29,30,28,26,28,26,28,28,28,30,31,26,27,27,31,35,27,34,31,33,35,35,29,33,30,33,25,25,27,34,28,29,30,27,32,35,25,28,33,34,28,35,25,30,30,26,27,35,35,29,30,26,32,33,29,26,26,30,31,28,33,35,33,32,35,25,31,26,33,27,28,25,29,33,31,30,30,34,35,34,26,32,27,30,34,30],\"yaxis\":\"y\",\"type\":\"bar\"}],                        {\"template\":{\"data\":{\"bar\":[{\"error_x\":{\"color\":\"#2a3f5f\"},\"error_y\":{\"color\":\"#2a3f5f\"},\"marker\":{\"line\":{\"color\":\"#E5ECF6\",\"width\":0.5},\"pattern\":{\"fillmode\":\"overlay\",\"size\":10,\"solidity\":0.2}},\"type\":\"bar\"}],\"barpolar\":[{\"marker\":{\"line\":{\"color\":\"#E5ECF6\",\"width\":0.5},\"pattern\":{\"fillmode\":\"overlay\",\"size\":10,\"solidity\":0.2}},\"type\":\"barpolar\"}],\"carpet\":[{\"aaxis\":{\"endlinecolor\":\"#2a3f5f\",\"gridcolor\":\"white\",\"linecolor\":\"white\",\"minorgridcolor\":\"white\",\"startlinecolor\":\"#2a3f5f\"},\"baxis\":{\"endlinecolor\":\"#2a3f5f\",\"gridcolor\":\"white\",\"linecolor\":\"white\",\"minorgridcolor\":\"white\",\"startlinecolor\":\"#2a3f5f\"},\"type\":\"carpet\"}],\"choropleth\":[{\"colorbar\":{\"outlinewidth\":0,\"ticks\":\"\"},\"type\":\"choropleth\"}],\"contour\":[{\"colorbar\":{\"outlinewidth\":0,\"ticks\":\"\"},\"colorscale\":[[0.0,\"#0d0887\"],[0.1111111111111111,\"#46039f\"],[0.2222222222222222,\"#7201a8\"],[0.3333333333333333,\"#9c179e\"],[0.4444444444444444,\"#bd3786\"],[0.5555555555555556,\"#d8576b\"],[0.6666666666666666,\"#ed7953\"],[0.7777777777777778,\"#fb9f3a\"],[0.8888888888888888,\"#fdca26\"],[1.0,\"#f0f921\"]],\"type\":\"contour\"}],\"contourcarpet\":[{\"colorbar\":{\"outlinewidth\":0,\"ticks\":\"\"},\"type\":\"contourcarpet\"}],\"heatmap\":[{\"colorbar\":{\"outlinewidth\":0,\"ticks\":\"\"},\"colorscale\":[[0.0,\"#0d0887\"],[0.1111111111111111,\"#46039f\"],[0.2222222222222222,\"#7201a8\"],[0.3333333333333333,\"#9c179e\"],[0.4444444444444444,\"#bd3786\"],[0.5555555555555556,\"#d8576b\"],[0.6666666666666666,\"#ed7953\"],[0.7777777777777778,\"#fb9f3a\"],[0.8888888888888888,\"#fdca26\"],[1.0,\"#f0f921\"]],\"type\":\"heatmap\"}],\"heatmapgl\":[{\"colorbar\":{\"outlinewidth\":0,\"ticks\":\"\"},\"colorscale\":[[0.0,\"#0d0887\"],[0.1111111111111111,\"#46039f\"],[0.2222222222222222,\"#7201a8\"],[0.3333333333333333,\"#9c179e\"],[0.4444444444444444,\"#bd3786\"],[0.5555555555555556,\"#d8576b\"],[0.6666666666666666,\"#ed7953\"],[0.7777777777777778,\"#fb9f3a\"],[0.8888888888888888,\"#fdca26\"],[1.0,\"#f0f921\"]],\"type\":\"heatmapgl\"}],\"histogram\":[{\"marker\":{\"pattern\":{\"fillmode\":\"overlay\",\"size\":10,\"solidity\":0.2}},\"type\":\"histogram\"}],\"histogram2d\":[{\"colorbar\":{\"outlinewidth\":0,\"ticks\":\"\"},\"colorscale\":[[0.0,\"#0d0887\"],[0.1111111111111111,\"#46039f\"],[0.2222222222222222,\"#7201a8\"],[0.3333333333333333,\"#9c179e\"],[0.4444444444444444,\"#bd3786\"],[0.5555555555555556,\"#d8576b\"],[0.6666666666666666,\"#ed7953\"],[0.7777777777777778,\"#fb9f3a\"],[0.8888888888888888,\"#fdca26\"],[1.0,\"#f0f921\"]],\"type\":\"histogram2d\"}],\"histogram2dcontour\":[{\"colorbar\":{\"outlinewidth\":0,\"ticks\":\"\"},\"colorscale\":[[0.0,\"#0d0887\"],[0.1111111111111111,\"#46039f\"],[0.2222222222222222,\"#7201a8\"],[0.3333333333333333,\"#9c179e\"],[0.4444444444444444,\"#bd3786\"],[0.5555555555555556,\"#d8576b\"],[0.6666666666666666,\"#ed7953\"],[0.7777777777777778,\"#fb9f3a\"],[0.8888888888888888,\"#fdca26\"],[1.0,\"#f0f921\"]],\"type\":\"histogram2dcontour\"}],\"mesh3d\":[{\"colorbar\":{\"outlinewidth\":0,\"ticks\":\"\"},\"type\":\"mesh3d\"}],\"parcoords\":[{\"line\":{\"colorbar\":{\"outlinewidth\":0,\"ticks\":\"\"}},\"type\":\"parcoords\"}],\"pie\":[{\"automargin\":true,\"type\":\"pie\"}],\"scatter\":[{\"marker\":{\"colorbar\":{\"outlinewidth\":0,\"ticks\":\"\"}},\"type\":\"scatter\"}],\"scatter3d\":[{\"line\":{\"colorbar\":{\"outlinewidth\":0,\"ticks\":\"\"}},\"marker\":{\"colorbar\":{\"outlinewidth\":0,\"ticks\":\"\"}},\"type\":\"scatter3d\"}],\"scattercarpet\":[{\"marker\":{\"colorbar\":{\"outlinewidth\":0,\"ticks\":\"\"}},\"type\":\"scattercarpet\"}],\"scattergeo\":[{\"marker\":{\"colorbar\":{\"outlinewidth\":0,\"ticks\":\"\"}},\"type\":\"scattergeo\"}],\"scattergl\":[{\"marker\":{\"colorbar\":{\"outlinewidth\":0,\"ticks\":\"\"}},\"type\":\"scattergl\"}],\"scattermapbox\":[{\"marker\":{\"colorbar\":{\"outlinewidth\":0,\"ticks\":\"\"}},\"type\":\"scattermapbox\"}],\"scatterpolar\":[{\"marker\":{\"colorbar\":{\"outlinewidth\":0,\"ticks\":\"\"}},\"type\":\"scatterpolar\"}],\"scatterpolargl\":[{\"marker\":{\"colorbar\":{\"outlinewidth\":0,\"ticks\":\"\"}},\"type\":\"scatterpolargl\"}],\"scatterternary\":[{\"marker\":{\"colorbar\":{\"outlinewidth\":0,\"ticks\":\"\"}},\"type\":\"scatterternary\"}],\"surface\":[{\"colorbar\":{\"outlinewidth\":0,\"ticks\":\"\"},\"colorscale\":[[0.0,\"#0d0887\"],[0.1111111111111111,\"#46039f\"],[0.2222222222222222,\"#7201a8\"],[0.3333333333333333,\"#9c179e\"],[0.4444444444444444,\"#bd3786\"],[0.5555555555555556,\"#d8576b\"],[0.6666666666666666,\"#ed7953\"],[0.7777777777777778,\"#fb9f3a\"],[0.8888888888888888,\"#fdca26\"],[1.0,\"#f0f921\"]],\"type\":\"surface\"}],\"table\":[{\"cells\":{\"fill\":{\"color\":\"#EBF0F8\"},\"line\":{\"color\":\"white\"}},\"header\":{\"fill\":{\"color\":\"#C8D4E3\"},\"line\":{\"color\":\"white\"}},\"type\":\"table\"}]},\"layout\":{\"annotationdefaults\":{\"arrowcolor\":\"#2a3f5f\",\"arrowhead\":0,\"arrowwidth\":1},\"autotypenumbers\":\"strict\",\"coloraxis\":{\"colorbar\":{\"outlinewidth\":0,\"ticks\":\"\"}},\"colorscale\":{\"diverging\":[[0,\"#8e0152\"],[0.1,\"#c51b7d\"],[0.2,\"#de77ae\"],[0.3,\"#f1b6da\"],[0.4,\"#fde0ef\"],[0.5,\"#f7f7f7\"],[0.6,\"#e6f5d0\"],[0.7,\"#b8e186\"],[0.8,\"#7fbc41\"],[0.9,\"#4d9221\"],[1,\"#276419\"]],\"sequential\":[[0.0,\"#0d0887\"],[0.1111111111111111,\"#46039f\"],[0.2222222222222222,\"#7201a8\"],[0.3333333333333333,\"#9c179e\"],[0.4444444444444444,\"#bd3786\"],[0.5555555555555556,\"#d8576b\"],[0.6666666666666666,\"#ed7953\"],[0.7777777777777778,\"#fb9f3a\"],[0.8888888888888888,\"#fdca26\"],[1.0,\"#f0f921\"]],\"sequentialminus\":[[0.0,\"#0d0887\"],[0.1111111111111111,\"#46039f\"],[0.2222222222222222,\"#7201a8\"],[0.3333333333333333,\"#9c179e\"],[0.4444444444444444,\"#bd3786\"],[0.5555555555555556,\"#d8576b\"],[0.6666666666666666,\"#ed7953\"],[0.7777777777777778,\"#fb9f3a\"],[0.8888888888888888,\"#fdca26\"],[1.0,\"#f0f921\"]]},\"colorway\":[\"#636efa\",\"#EF553B\",\"#00cc96\",\"#ab63fa\",\"#FFA15A\",\"#19d3f3\",\"#FF6692\",\"#B6E880\",\"#FF97FF\",\"#FECB52\"],\"font\":{\"color\":\"#2a3f5f\"},\"geo\":{\"bgcolor\":\"white\",\"lakecolor\":\"white\",\"landcolor\":\"#E5ECF6\",\"showlakes\":true,\"showland\":true,\"subunitcolor\":\"white\"},\"hoverlabel\":{\"align\":\"left\"},\"hovermode\":\"closest\",\"mapbox\":{\"style\":\"light\"},\"paper_bgcolor\":\"white\",\"plot_bgcolor\":\"#E5ECF6\",\"polar\":{\"angularaxis\":{\"gridcolor\":\"white\",\"linecolor\":\"white\",\"ticks\":\"\"},\"bgcolor\":\"#E5ECF6\",\"radialaxis\":{\"gridcolor\":\"white\",\"linecolor\":\"white\",\"ticks\":\"\"}},\"scene\":{\"xaxis\":{\"backgroundcolor\":\"#E5ECF6\",\"gridcolor\":\"white\",\"gridwidth\":2,\"linecolor\":\"white\",\"showbackground\":true,\"ticks\":\"\",\"zerolinecolor\":\"white\"},\"yaxis\":{\"backgroundcolor\":\"#E5ECF6\",\"gridcolor\":\"white\",\"gridwidth\":2,\"linecolor\":\"white\",\"showbackground\":true,\"ticks\":\"\",\"zerolinecolor\":\"white\"},\"zaxis\":{\"backgroundcolor\":\"#E5ECF6\",\"gridcolor\":\"white\",\"gridwidth\":2,\"linecolor\":\"white\",\"showbackground\":true,\"ticks\":\"\",\"zerolinecolor\":\"white\"}},\"shapedefaults\":{\"line\":{\"color\":\"#2a3f5f\"}},\"ternary\":{\"aaxis\":{\"gridcolor\":\"white\",\"linecolor\":\"white\",\"ticks\":\"\"},\"baxis\":{\"gridcolor\":\"white\",\"linecolor\":\"white\",\"ticks\":\"\"},\"bgcolor\":\"#E5ECF6\",\"caxis\":{\"gridcolor\":\"white\",\"linecolor\":\"white\",\"ticks\":\"\"}},\"title\":{\"x\":0.05},\"xaxis\":{\"automargin\":true,\"gridcolor\":\"white\",\"linecolor\":\"white\",\"ticks\":\"\",\"title\":{\"standoff\":15},\"zerolinecolor\":\"white\",\"zerolinewidth\":2},\"yaxis\":{\"automargin\":true,\"gridcolor\":\"white\",\"linecolor\":\"white\",\"ticks\":\"\",\"title\":{\"standoff\":15},\"zerolinecolor\":\"white\",\"zerolinewidth\":2}}},\"xaxis\":{\"anchor\":\"y\",\"domain\":[0.0,1.0],\"title\":{\"text\":\"label\"}},\"yaxis\":{\"anchor\":\"x\",\"domain\":[0.0,1.0],\"title\":{\"text\":\"K\"}},\"legend\":{\"tracegroupgap\":0},\"margin\":{\"t\":60},\"barmode\":\"relative\"},                        {\"responsive\": true}                    ).then(function(){\n",
              "                            \n",
              "var gd = document.getElementById('b76684f9-26fb-42f3-9408-0463c13ea82c');\n",
              "var x = new MutationObserver(function (mutations, observer) {{\n",
              "        var display = window.getComputedStyle(gd).display;\n",
              "        if (!display || display === 'none') {{\n",
              "            console.log([gd, 'removed!']);\n",
              "            Plotly.purge(gd);\n",
              "            observer.disconnect();\n",
              "        }}\n",
              "}});\n",
              "\n",
              "// Listen for the removal of the full notebook cells\n",
              "var notebookContainer = gd.closest('#notebook-container');\n",
              "if (notebookContainer) {{\n",
              "    x.observe(notebookContainer, {childList: true});\n",
              "}}\n",
              "\n",
              "// Listen for the clearing of the current output cell\n",
              "var outputEl = gd.closest('.output');\n",
              "if (outputEl) {{\n",
              "    x.observe(outputEl, {childList: true});\n",
              "}}\n",
              "\n",
              "                        })                };                            </script>        </div>\n",
              "</body>\n",
              "</html>"
            ]
          },
          "metadata": {}
        }
      ]
    },
    {
      "cell_type": "code",
      "source": [
        "import random\n",
        "from IPython.core.display import update_display"
      ],
      "metadata": {
        "id": "dx7dI3IAl_Jb"
      },
      "execution_count": null,
      "outputs": []
    },
    {
      "cell_type": "code",
      "source": [
        "data.corr()"
      ],
      "metadata": {
        "colab": {
          "base_uri": "https://localhost:8080/",
          "height": 269
        },
        "id": "A6HUfH3mmKmz",
        "outputId": "dfe6aea0-605a-40f8-baa5-a030ba99d2e6"
      },
      "execution_count": null,
      "outputs": [
        {
          "output_type": "execute_result",
          "data": {
            "text/plain": [
              "                    N         P         K  temperature  humidity        ph  \\\n",
              "N            1.000000 -0.237127 -0.139970     0.041633  0.189609  0.099238   \n",
              "P           -0.237127  1.000000  0.737806    -0.133415 -0.111730 -0.146018   \n",
              "K           -0.139970  0.737806  1.000000    -0.165188  0.198119 -0.174559   \n",
              "temperature  0.041633 -0.133415 -0.165188     1.000000  0.203789 -0.021339   \n",
              "humidity     0.189609 -0.111730  0.198119     0.203789  1.000000 -0.005955   \n",
              "ph           0.099238 -0.146018 -0.174559    -0.021339 -0.005955  1.000000   \n",
              "rainfall     0.003231 -0.046656 -0.042466    -0.039570  0.020846 -0.127166   \n",
              "\n",
              "             rainfall  \n",
              "N            0.003231  \n",
              "P           -0.046656  \n",
              "K           -0.042466  \n",
              "temperature -0.039570  \n",
              "humidity     0.020846  \n",
              "ph          -0.127166  \n",
              "rainfall     1.000000  "
            ],
            "text/html": [
              "\n",
              "  <div id=\"df-0d2af3f7-d934-4b2b-ad53-914e10f9be35\">\n",
              "    <div class=\"colab-df-container\">\n",
              "      <div>\n",
              "<style scoped>\n",
              "    .dataframe tbody tr th:only-of-type {\n",
              "        vertical-align: middle;\n",
              "    }\n",
              "\n",
              "    .dataframe tbody tr th {\n",
              "        vertical-align: top;\n",
              "    }\n",
              "\n",
              "    .dataframe thead th {\n",
              "        text-align: right;\n",
              "    }\n",
              "</style>\n",
              "<table border=\"1\" class=\"dataframe\">\n",
              "  <thead>\n",
              "    <tr style=\"text-align: right;\">\n",
              "      <th></th>\n",
              "      <th>N</th>\n",
              "      <th>P</th>\n",
              "      <th>K</th>\n",
              "      <th>temperature</th>\n",
              "      <th>humidity</th>\n",
              "      <th>ph</th>\n",
              "      <th>rainfall</th>\n",
              "    </tr>\n",
              "  </thead>\n",
              "  <tbody>\n",
              "    <tr>\n",
              "      <th>N</th>\n",
              "      <td>1.000000</td>\n",
              "      <td>-0.237127</td>\n",
              "      <td>-0.139970</td>\n",
              "      <td>0.041633</td>\n",
              "      <td>0.189609</td>\n",
              "      <td>0.099238</td>\n",
              "      <td>0.003231</td>\n",
              "    </tr>\n",
              "    <tr>\n",
              "      <th>P</th>\n",
              "      <td>-0.237127</td>\n",
              "      <td>1.000000</td>\n",
              "      <td>0.737806</td>\n",
              "      <td>-0.133415</td>\n",
              "      <td>-0.111730</td>\n",
              "      <td>-0.146018</td>\n",
              "      <td>-0.046656</td>\n",
              "    </tr>\n",
              "    <tr>\n",
              "      <th>K</th>\n",
              "      <td>-0.139970</td>\n",
              "      <td>0.737806</td>\n",
              "      <td>1.000000</td>\n",
              "      <td>-0.165188</td>\n",
              "      <td>0.198119</td>\n",
              "      <td>-0.174559</td>\n",
              "      <td>-0.042466</td>\n",
              "    </tr>\n",
              "    <tr>\n",
              "      <th>temperature</th>\n",
              "      <td>0.041633</td>\n",
              "      <td>-0.133415</td>\n",
              "      <td>-0.165188</td>\n",
              "      <td>1.000000</td>\n",
              "      <td>0.203789</td>\n",
              "      <td>-0.021339</td>\n",
              "      <td>-0.039570</td>\n",
              "    </tr>\n",
              "    <tr>\n",
              "      <th>humidity</th>\n",
              "      <td>0.189609</td>\n",
              "      <td>-0.111730</td>\n",
              "      <td>0.198119</td>\n",
              "      <td>0.203789</td>\n",
              "      <td>1.000000</td>\n",
              "      <td>-0.005955</td>\n",
              "      <td>0.020846</td>\n",
              "    </tr>\n",
              "    <tr>\n",
              "      <th>ph</th>\n",
              "      <td>0.099238</td>\n",
              "      <td>-0.146018</td>\n",
              "      <td>-0.174559</td>\n",
              "      <td>-0.021339</td>\n",
              "      <td>-0.005955</td>\n",
              "      <td>1.000000</td>\n",
              "      <td>-0.127166</td>\n",
              "    </tr>\n",
              "    <tr>\n",
              "      <th>rainfall</th>\n",
              "      <td>0.003231</td>\n",
              "      <td>-0.046656</td>\n",
              "      <td>-0.042466</td>\n",
              "      <td>-0.039570</td>\n",
              "      <td>0.020846</td>\n",
              "      <td>-0.127166</td>\n",
              "      <td>1.000000</td>\n",
              "    </tr>\n",
              "  </tbody>\n",
              "</table>\n",
              "</div>\n",
              "      <button class=\"colab-df-convert\" onclick=\"convertToInteractive('df-0d2af3f7-d934-4b2b-ad53-914e10f9be35')\"\n",
              "              title=\"Convert this dataframe to an interactive table.\"\n",
              "              style=\"display:none;\">\n",
              "        \n",
              "  <svg xmlns=\"http://www.w3.org/2000/svg\" height=\"24px\"viewBox=\"0 0 24 24\"\n",
              "       width=\"24px\">\n",
              "    <path d=\"M0 0h24v24H0V0z\" fill=\"none\"/>\n",
              "    <path d=\"M18.56 5.44l.94 2.06.94-2.06 2.06-.94-2.06-.94-.94-2.06-.94 2.06-2.06.94zm-11 1L8.5 8.5l.94-2.06 2.06-.94-2.06-.94L8.5 2.5l-.94 2.06-2.06.94zm10 10l.94 2.06.94-2.06 2.06-.94-2.06-.94-.94-2.06-.94 2.06-2.06.94z\"/><path d=\"M17.41 7.96l-1.37-1.37c-.4-.4-.92-.59-1.43-.59-.52 0-1.04.2-1.43.59L10.3 9.45l-7.72 7.72c-.78.78-.78 2.05 0 2.83L4 21.41c.39.39.9.59 1.41.59.51 0 1.02-.2 1.41-.59l7.78-7.78 2.81-2.81c.8-.78.8-2.07 0-2.86zM5.41 20L4 18.59l7.72-7.72 1.47 1.35L5.41 20z\"/>\n",
              "  </svg>\n",
              "      </button>\n",
              "      \n",
              "  <style>\n",
              "    .colab-df-container {\n",
              "      display:flex;\n",
              "      flex-wrap:wrap;\n",
              "      gap: 12px;\n",
              "    }\n",
              "\n",
              "    .colab-df-convert {\n",
              "      background-color: #E8F0FE;\n",
              "      border: none;\n",
              "      border-radius: 50%;\n",
              "      cursor: pointer;\n",
              "      display: none;\n",
              "      fill: #1967D2;\n",
              "      height: 32px;\n",
              "      padding: 0 0 0 0;\n",
              "      width: 32px;\n",
              "    }\n",
              "\n",
              "    .colab-df-convert:hover {\n",
              "      background-color: #E2EBFA;\n",
              "      box-shadow: 0px 1px 2px rgba(60, 64, 67, 0.3), 0px 1px 3px 1px rgba(60, 64, 67, 0.15);\n",
              "      fill: #174EA6;\n",
              "    }\n",
              "\n",
              "    [theme=dark] .colab-df-convert {\n",
              "      background-color: #3B4455;\n",
              "      fill: #D2E3FC;\n",
              "    }\n",
              "\n",
              "    [theme=dark] .colab-df-convert:hover {\n",
              "      background-color: #434B5C;\n",
              "      box-shadow: 0px 1px 3px 1px rgba(0, 0, 0, 0.15);\n",
              "      filter: drop-shadow(0px 1px 2px rgba(0, 0, 0, 0.3));\n",
              "      fill: #FFFFFF;\n",
              "    }\n",
              "  </style>\n",
              "\n",
              "      <script>\n",
              "        const buttonEl =\n",
              "          document.querySelector('#df-0d2af3f7-d934-4b2b-ad53-914e10f9be35 button.colab-df-convert');\n",
              "        buttonEl.style.display =\n",
              "          google.colab.kernel.accessAllowed ? 'block' : 'none';\n",
              "\n",
              "        async function convertToInteractive(key) {\n",
              "          const element = document.querySelector('#df-0d2af3f7-d934-4b2b-ad53-914e10f9be35');\n",
              "          const dataTable =\n",
              "            await google.colab.kernel.invokeFunction('convertToInteractive',\n",
              "                                                     [key], {});\n",
              "          if (!dataTable) return;\n",
              "\n",
              "          const docLinkHtml = 'Like what you see? Visit the ' +\n",
              "            '<a target=\"_blank\" href=https://colab.research.google.com/notebooks/data_table.ipynb>data table notebook</a>'\n",
              "            + ' to learn more about interactive tables.';\n",
              "          element.innerHTML = '';\n",
              "          dataTable['output_type'] = 'display_data';\n",
              "          await google.colab.output.renderOutput(dataTable, element);\n",
              "          const docLink = document.createElement('div');\n",
              "          docLink.innerHTML = docLinkHtml;\n",
              "          element.appendChild(docLink);\n",
              "        }\n",
              "      </script>\n",
              "    </div>\n",
              "  </div>\n",
              "  "
            ]
          },
          "metadata": {},
          "execution_count": 40
        }
      ]
    },
    {
      "cell_type": "code",
      "source": [
        "fig,ax=plt.subplots(1,1,figsize=(15,9))\n",
        "sns.heatmap(data.corr(),annot=True,cmap='Wistia')\n",
        "ax.set(xlabel='features')\n",
        "ax.set(ylabel='features')\n",
        "\n",
        "plt.title('Correlation between different features',fontsize=15,c='black')\n",
        "plt.show()"
      ],
      "metadata": {
        "colab": {
          "base_uri": "https://localhost:8080/",
          "height": 569
        },
        "id": "wO6dhK4SmQcT",
        "outputId": "601914a7-740c-4152-fb53-670d1d833d54"
      },
      "execution_count": null,
      "outputs": [
        {
          "output_type": "display_data",
          "data": {
            "text/plain": [
              "<Figure size 1080x648 with 2 Axes>"
            ],
            "image/png": "[encoded data removed]"
          },
          "metadata": {
            "needs_background": "light"
          }
        }
      ]
    },
    {
      "cell_type": "code",
      "source": [
        "X=data.drop('label',axis=1)\n",
        "y=data['label']"
      ],
      "metadata": {
        "id": "oBuhx9fYn39k"
      },
      "execution_count": null,
      "outputs": []
    },
    {
      "cell_type": "code",
      "source": [
        "from sklearn.model_selection import train_test_split\n",
        "X_train,X_test,y_train,y_test=train_test_split(X,y,test_size=0.30,shuffle=True,random_state=0)"
      ],
      "metadata": {
        "id": "NOQPLzR5oWqg"
      },
      "execution_count": null,
      "outputs": []
    },
    {
      "cell_type": "code",
      "source": [
        "import lightgbm as lgb\n",
        "model = lgb.LGBMClassifier()\n",
        "model.fit(X_train, y_train)"
      ],
      "metadata": {
        "id": "x0DCmWcxo1Zy",
        "colab": {
          "base_uri": "https://localhost:8080/"
        },
        "outputId": "bff89cad-2ddf-4ac6-e732-3dec1045fa3c"
      },
      "execution_count": null,
      "outputs": [
        {
          "output_type": "execute_result",
          "data": {
            "text/plain": [
              "LGBMClassifier()"
            ]
          },
          "metadata": {},
          "execution_count": 48
        }
      ]
    },
    {
      "cell_type": "code",
      "source": [
        "y_pred = model.predict(X_test)"
      ],
      "metadata": {
        "id": "cHqrmKfCqwf0"
      },
      "execution_count": null,
      "outputs": []
    },
    {
      "cell_type": "code",
      "source": [
        "from sklearn.metrics import accuracy_score\n",
        "accuracy= accuracy_score(y_pred, y_test)\n",
        "print('LightGBM Model accuracy score: {0:0.4f}'.format(accuracy_score(y_test, y_pred)))"
      ],
      "metadata": {
        "colab": {
          "base_uri": "https://localhost:8080/"
        },
        "id": "eYnWkGmcq4ug",
        "outputId": "b75656be-dd13-4f21-b37c-3a3510f936ef"
      },
      "execution_count": null,
      "outputs": [
        {
          "output_type": "stream",
          "name": "stdout",
          "text": [
            "LightGBM Model accuracy score: 0.9905\n"
          ]
        }
      ]
    },
    {
      "cell_type": "code",
      "source": [
        "from sklearn.metrics import confusion_matrix\n",
        "cm=confusion_matrix(y_test, y_pred)\n",
        "\n",
        "plt.figure(figsize=(15,15))\n",
        "sns.heatmap(cm, annot=True, fmt=\".0f\",linewidth=.5,square=True, cmap='Blues');\n",
        "plt.ylabel('Actual label');\n",
        "plt.xlabel('Prediction label');\n",
        "all_sample_title='Confusion Matrix - score:'+str(accuracy_score(y_test,y_pred))\n",
        "plt.title(all_sample_title,size=15); \n",
        "plt.show()                 "
      ],
      "metadata": {
        "colab": {
          "base_uri": "https://localhost:8080/",
          "height": 852
        },
        "id": "SO00o1nKsRuv",
        "outputId": "87ec605b-fa21-4462-da25-d23120722057"
      },
      "execution_count": null,
      "outputs": [
        {
          "output_type": "display_data",
          "data": {
            "text/plain": [
              "<Figure size 1080x1080 with 2 Axes>"
            ],
            "image/png": "[encoded data removed]"
          },
          "metadata": {
            "needs_background": "light"
          }
        }
      ]
    },
    {
      "cell_type": "code",
      "source": [
        "from sklearn.metrics import classification_report\n",
        "print(classification_report(y_test, y_pred))"
      ],
      "metadata": {
        "colab": {
          "base_uri": "https://localhost:8080/"
        },
        "id": "5PGNK8BdvfeK",
        "outputId": "368aef17-5837-45b0-9dd5-65838b9315f8"
      },
      "execution_count": null,
      "outputs": [
        {
          "output_type": "stream",
          "name": "stdout",
          "text": [
            "              precision    recall  f1-score   support\n",
            "\n",
            "       apple       1.00      1.00      1.00        29\n",
            "      banana       1.00      1.00      1.00        37\n",
            "   blackgram       1.00      1.00      1.00        34\n",
            "    chickpea       1.00      1.00      1.00        30\n",
            "     coconut       1.00      1.00      1.00        23\n",
            "      coffee       1.00      1.00      1.00        33\n",
            "      cotton       1.00      1.00      1.00        23\n",
            "      grapes       1.00      1.00      1.00        30\n",
            "        jute       0.86      1.00      0.93        31\n",
            " kidneybeans       1.00      1.00      1.00        33\n",
            "      lentil       1.00      1.00      1.00        29\n",
            "       maize       1.00      1.00      1.00        28\n",
            "       mango       1.00      1.00      1.00        23\n",
            "   mothbeans       0.97      1.00      0.99        38\n",
            "    mungbean       1.00      0.97      0.98        30\n",
            "   muskmelon       1.00      1.00      1.00        32\n",
            "      orange       1.00      1.00      1.00        30\n",
            "      papaya       1.00      1.00      1.00        23\n",
            "  pigeonpeas       1.00      1.00      1.00        25\n",
            " pomegranate       1.00      1.00      1.00        29\n",
            "        rice       1.00      0.64      0.78        14\n",
            "  watermelon       1.00      1.00      1.00        27\n",
            "\n",
            "    accuracy                           0.99       631\n",
            "   macro avg       0.99      0.98      0.99       631\n",
            "weighted avg       0.99      0.99      0.99       631\n",
            "\n"
          ]
        }
      ]
    },
    {
      "cell_type": "code",
      "source": [
        "from sklearn.tree import DecisionTreeClassifier\n",
        "Classifier=DecisionTreeClassifier(criterion='entropy',random_state=0)"
      ],
      "metadata": {
        "id": "RierIKwAv7Xf"
      },
      "execution_count": null,
      "outputs": []
    },
    {
      "cell_type": "code",
      "source": [
        "Classifier.fit(X_train,y_train)"
      ],
      "metadata": {
        "colab": {
          "base_uri": "https://localhost:8080/"
        },
        "id": "QPT9jLs4wSX_",
        "outputId": "ef06aa21-edba-43e3-b694-23b5d21779f2"
      },
      "execution_count": null,
      "outputs": [
        {
          "output_type": "execute_result",
          "data": {
            "text/plain": [
              "DecisionTreeClassifier(criterion='entropy', random_state=0)"
            ]
          },
          "metadata": {},
          "execution_count": 58
        }
      ]
    },
    {
      "cell_type": "code",
      "source": [
        "y_pred=Classifier.predict(X_test)"
      ],
      "metadata": {
        "id": "qfD-wnVMweF3"
      },
      "execution_count": null,
      "outputs": []
    },
    {
      "cell_type": "code",
      "source": [
        "from sklearn.metrics import accuracy_score\n",
        "accuracy=accuracy_score(y_test,y_pred)\n",
        "print('decision tree model accuracy score: {0:0.4f}'.format(accuracy_score(y_test,y_pred)))"
      ],
      "metadata": {
        "colab": {
          "base_uri": "https://localhost:8080/"
        },
        "id": "sEZqsT60wnsh",
        "outputId": "adf9834d-a55a-4fe6-a30b-7be630c5a093"
      },
      "execution_count": null,
      "outputs": [
        {
          "output_type": "stream",
          "name": "stdout",
          "text": [
            "decision tree model accuracy score: 0.9905\n"
          ]
        }
      ]
    },
    {
      "cell_type": "code",
      "source": [
        "from sklearn.metrics import confusion_matrix\n",
        "cm=confusion_matrix(y_test, y_pred)\n",
        "\n",
        "plt.figure(figsize=(15,15))\n",
        "sns.heatmap(cm, annot=True, fmt=\".0f\",linewidth=.5,square=True, cmap='Blues');\n",
        "plt.ylabel('Actual label');\n",
        "plt.xlabel('Prediction label');\n",
        "all_sample_title='Confusion Matrix - score:'+str(accuracy_score(y_test,y_pred))\n",
        "plt.title(all_sample_title,size=15); \n",
        "plt.show() "
      ],
      "metadata": {
        "colab": {
          "base_uri": "https://localhost:8080/",
          "height": 852
        },
        "id": "UTLr0vs_xSY9",
        "outputId": "411365c4-d4e9-47ba-c39f-e951eecfd897"
      },
      "execution_count": null,
      "outputs": [
        {
          "output_type": "display_data",
          "data": {
            "text/plain": [
              "<Figure size 1080x1080 with 2 Axes>"
            ],
            "image/png": "[encoded data removed]"
          },
          "metadata": {
            "needs_background": "light"
          }
        }
      ]
    },
    {
      "cell_type": "code",
      "source": [
        "from sklearn.metrics import classification_report\n",
        "print(classification_report(y_test, y_pred))"
      ],
      "metadata": {
        "colab": {
          "base_uri": "https://localhost:8080/"
        },
        "id": "zuYSHR7Yx1CF",
        "outputId": "a4ec8ad5-1060-4ed7-9a74-1b189ab6d6d5"
      },
      "execution_count": null,
      "outputs": [
        {
          "output_type": "stream",
          "name": "stdout",
          "text": [
            "              precision    recall  f1-score   support\n",
            "\n",
            "       apple       1.00      1.00      1.00        29\n",
            "      banana       1.00      1.00      1.00        37\n",
            "   blackgram       1.00      0.97      0.99        34\n",
            "    chickpea       1.00      1.00      1.00        30\n",
            "     coconut       1.00      1.00      1.00        23\n",
            "      coffee       1.00      1.00      1.00        33\n",
            "      cotton       0.96      1.00      0.98        23\n",
            "      grapes       1.00      1.00      1.00        30\n",
            "        jute       0.94      0.94      0.94        31\n",
            " kidneybeans       1.00      1.00      1.00        33\n",
            "      lentil       1.00      1.00      1.00        29\n",
            "       maize       0.96      0.96      0.96        28\n",
            "       mango       1.00      1.00      1.00        23\n",
            "   mothbeans       1.00      1.00      1.00        38\n",
            "    mungbean       1.00      1.00      1.00        30\n",
            "   muskmelon       1.00      1.00      1.00        32\n",
            "      orange       1.00      1.00      1.00        30\n",
            "      papaya       1.00      1.00      1.00        23\n",
            "  pigeonpeas       1.00      1.00      1.00        25\n",
            " pomegranate       1.00      1.00      1.00        29\n",
            "        rice       0.86      0.86      0.86        14\n",
            "  watermelon       1.00      1.00      1.00        27\n",
            "\n",
            "    accuracy                           0.99       631\n",
            "   macro avg       0.99      0.99      0.99       631\n",
            "weighted avg       0.99      0.99      0.99       631\n",
            "\n"
          ]
        }
      ]
    },
    {
      "cell_type": "code",
      "source": [
        "from sklearn.linear_model import LogisticRegression"
      ],
      "metadata": {
        "id": "yjzoStTqyADn"
      },
      "execution_count": null,
      "outputs": []
    },
    {
      "cell_type": "code",
      "source": [
        "classifier_lr=LogisticRegression(random_state=0)"
      ],
      "metadata": {
        "id": "OBAWAqsQyH1p"
      },
      "execution_count": null,
      "outputs": []
    },
    {
      "cell_type": "code",
      "source": [
        "classifier_lr.fit(X_train,y_train)"
      ],
      "metadata": {
        "colab": {
          "base_uri": "https://localhost:8080/"
        },
        "id": "wcsFlZ1MyRxJ",
        "outputId": "31afb4e6-44bd-4c7e-f970-7677d171c282"
      },
      "execution_count": null,
      "outputs": [
        {
          "output_type": "stream",
          "name": "stderr",
          "text": [
            "/usr/local/lib/python3.7/dist-packages/sklearn/linear_model/_logistic.py:818: ConvergenceWarning:\n",
            "\n",
            "lbfgs failed to converge (status=1):\n",
            "STOP: TOTAL NO. of ITERATIONS REACHED LIMIT.\n",
            "\n",
            "Increase the number of iterations (max_iter) or scale the data as shown in:\n",
            "    https://scikit-learn.org/stable/modules/preprocessing.html\n",
            "Please also refer to the documentation for alternative solver options:\n",
            "    https://scikit-learn.org/stable/modules/linear_model.html#logistic-regression\n",
            "\n"
          ]
        },
        {
          "output_type": "execute_result",
          "data": {
            "text/plain": [
              "LogisticRegression(random_state=0)"
            ]
          },
          "metadata": {},
          "execution_count": 68
        }
      ]
    },
    {
      "cell_type": "code",
      "source": [
        "y_pred=classifier_lr.predict(X_test)"
      ],
      "metadata": {
        "id": "NTtq0I7_yjM2"
      },
      "execution_count": null,
      "outputs": []
    },
    {
      "cell_type": "code",
      "source": [
        "from sklearn.metrics import accuracy_score\n",
        "accuracy=accuracy_score(y_pred, y_test)\n",
        "print('Logistic Regression model accuracy score: {0:0.4f}'.format(accuracy_score(y_test,y_pred)))"
      ],
      "metadata": {
        "colab": {
          "base_uri": "https://localhost:8080/"
        },
        "id": "74DtHAX4yyyL",
        "outputId": "1424c829-e1e6-49ba-e423-03046bb7c67b"
      },
      "execution_count": null,
      "outputs": [
        {
          "output_type": "stream",
          "name": "stdout",
          "text": [
            "Logistic Regression model accuracy score: 0.9445\n"
          ]
        }
      ]
    },
    {
      "cell_type": "code",
      "source": [
        "from sklearn.metrics import classification_report\n",
        "print(classification_report(y_test, y_pred))"
      ],
      "metadata": {
        "colab": {
          "base_uri": "https://localhost:8080/"
        },
        "id": "VXRGVHkSzPPF",
        "outputId": "b236ac68-f9ea-4700-cf58-c9053d2954ab"
      },
      "execution_count": null,
      "outputs": [
        {
          "output_type": "stream",
          "name": "stdout",
          "text": [
            "              precision    recall  f1-score   support\n",
            "\n",
            "       apple       1.00      1.00      1.00        29\n",
            "      banana       1.00      1.00      1.00        37\n",
            "   blackgram       0.87      0.79      0.83        34\n",
            "    chickpea       1.00      1.00      1.00        30\n",
            "     coconut       0.92      1.00      0.96        23\n",
            "      coffee       1.00      1.00      1.00        33\n",
            "      cotton       0.78      0.91      0.84        23\n",
            "      grapes       1.00      1.00      1.00        30\n",
            "        jute       0.81      0.94      0.87        31\n",
            " kidneybeans       1.00      1.00      1.00        33\n",
            "      lentil       0.88      1.00      0.94        29\n",
            "       maize       0.81      0.79      0.80        28\n",
            "       mango       1.00      1.00      1.00        23\n",
            "   mothbeans       0.91      0.76      0.83        38\n",
            "    mungbean       0.97      1.00      0.98        30\n",
            "   muskmelon       1.00      1.00      1.00        32\n",
            "      orange       1.00      1.00      1.00        30\n",
            "      papaya       0.95      0.91      0.93        23\n",
            "  pigeonpeas       0.96      1.00      0.98        25\n",
            " pomegranate       1.00      1.00      1.00        29\n",
            "        rice       0.88      0.50      0.64        14\n",
            "  watermelon       1.00      1.00      1.00        27\n",
            "\n",
            "    accuracy                           0.94       631\n",
            "   macro avg       0.94      0.94      0.94       631\n",
            "weighted avg       0.95      0.94      0.94       631\n",
            "\n"
          ]
        }
      ]
    },
    {
      "cell_type": "code",
      "source": [
        "X_test[0:1]"
      ],
      "metadata": {
        "colab": {
          "base_uri": "https://localhost:8080/",
          "height": 81
        },
        "id": "iNf45UKxzY1z",
        "outputId": "b456aa3d-e28d-4caa-a688-e959ba32d41f"
      },
      "execution_count": null,
      "outputs": [
        {
          "output_type": "execute_result",
          "data": {
            "text/plain": [
              "       N    P    K  temperature   humidity        ph   rainfall\n",
              "1203  36  125  196    37.465668  80.659687  6.155261  66.838723"
            ],
            "text/html": [
              "\n",
              "  <div id=\"df-c6fea12a-8eef-425f-8143-63062fc29e2f\">\n",
              "    <div class=\"colab-df-container\">\n",
              "      <div>\n",
              "<style scoped>\n",
              "    .dataframe tbody tr th:only-of-type {\n",
              "        vertical-align: middle;\n",
              "    }\n",
              "\n",
              "    .dataframe tbody tr th {\n",
              "        vertical-align: top;\n",
              "    }\n",
              "\n",
              "    .dataframe thead th {\n",
              "        text-align: right;\n",
              "    }\n",
              "</style>\n",
              "<table border=\"1\" class=\"dataframe\">\n",
              "  <thead>\n",
              "    <tr style=\"text-align: right;\">\n",
              "      <th></th>\n",
              "      <th>N</th>\n",
              "      <th>P</th>\n",
              "      <th>K</th>\n",
              "      <th>temperature</th>\n",
              "      <th>humidity</th>\n",
              "      <th>ph</th>\n",
              "      <th>rainfall</th>\n",
              "    </tr>\n",
              "  </thead>\n",
              "  <tbody>\n",
              "    <tr>\n",
              "      <th>1203</th>\n",
              "      <td>36</td>\n",
              "      <td>125</td>\n",
              "      <td>196</td>\n",
              "      <td>37.465668</td>\n",
              "      <td>80.659687</td>\n",
              "      <td>6.155261</td>\n",
              "      <td>66.838723</td>\n",
              "    </tr>\n",
              "  </tbody>\n",
              "</table>\n",
              "</div>\n",
              "      <button class=\"colab-df-convert\" onclick=\"convertToInteractive('df-c6fea12a-8eef-425f-8143-63062fc29e2f')\"\n",
              "              title=\"Convert this dataframe to an interactive table.\"\n",
              "              style=\"display:none;\">\n",
              "        \n",
              "  <svg xmlns=\"http://www.w3.org/2000/svg\" height=\"24px\"viewBox=\"0 0 24 24\"\n",
              "       width=\"24px\">\n",
              "    <path d=\"M0 0h24v24H0V0z\" fill=\"none\"/>\n",
              "    <path d=\"M18.56 5.44l.94 2.06.94-2.06 2.06-.94-2.06-.94-.94-2.06-.94 2.06-2.06.94zm-11 1L8.5 8.5l.94-2.06 2.06-.94-2.06-.94L8.5 2.5l-.94 2.06-2.06.94zm10 10l.94 2.06.94-2.06 2.06-.94-2.06-.94-.94-2.06-.94 2.06-2.06.94z\"/><path d=\"M17.41 7.96l-1.37-1.37c-.4-.4-.92-.59-1.43-.59-.52 0-1.04.2-1.43.59L10.3 9.45l-7.72 7.72c-.78.78-.78 2.05 0 2.83L4 21.41c.39.39.9.59 1.41.59.51 0 1.02-.2 1.41-.59l7.78-7.78 2.81-2.81c.8-.78.8-2.07 0-2.86zM5.41 20L4 18.59l7.72-7.72 1.47 1.35L5.41 20z\"/>\n",
              "  </svg>\n",
              "      </button>\n",
              "      \n",
              "  <style>\n",
              "    .colab-df-container {\n",
              "      display:flex;\n",
              "      flex-wrap:wrap;\n",
              "      gap: 12px;\n",
              "    }\n",
              "\n",
              "    .colab-df-convert {\n",
              "      background-color: #E8F0FE;\n",
              "      border: none;\n",
              "      border-radius: 50%;\n",
              "      cursor: pointer;\n",
              "      display: none;\n",
              "      fill: #1967D2;\n",
              "      height: 32px;\n",
              "      padding: 0 0 0 0;\n",
              "      width: 32px;\n",
              "    }\n",
              "\n",
              "    .colab-df-convert:hover {\n",
              "      background-color: #E2EBFA;\n",
              "      box-shadow: 0px 1px 2px rgba(60, 64, 67, 0.3), 0px 1px 3px 1px rgba(60, 64, 67, 0.15);\n",
              "      fill: #174EA6;\n",
              "    }\n",
              "\n",
              "    [theme=dark] .colab-df-convert {\n",
              "      background-color: #3B4455;\n",
              "      fill: #D2E3FC;\n",
              "    }\n",
              "\n",
              "    [theme=dark] .colab-df-convert:hover {\n",
              "      background-color: #434B5C;\n",
              "      box-shadow: 0px 1px 3px 1px rgba(0, 0, 0, 0.15);\n",
              "      filter: drop-shadow(0px 1px 2px rgba(0, 0, 0, 0.3));\n",
              "      fill: #FFFFFF;\n",
              "    }\n",
              "  </style>\n",
              "\n",
              "      <script>\n",
              "        const buttonEl =\n",
              "          document.querySelector('#df-c6fea12a-8eef-425f-8143-63062fc29e2f button.colab-df-convert');\n",
              "        buttonEl.style.display =\n",
              "          google.colab.kernel.accessAllowed ? 'block' : 'none';\n",
              "\n",
              "        async function convertToInteractive(key) {\n",
              "          const element = document.querySelector('#df-c6fea12a-8eef-425f-8143-63062fc29e2f');\n",
              "          const dataTable =\n",
              "            await google.colab.kernel.invokeFunction('convertToInteractive',\n",
              "                                                     [key], {});\n",
              "          if (!dataTable) return;\n",
              "\n",
              "          const docLinkHtml = 'Like what you see? Visit the ' +\n",
              "            '<a target=\"_blank\" href=https://colab.research.google.com/notebooks/data_table.ipynb>data table notebook</a>'\n",
              "            + ' to learn more about interactive tables.';\n",
              "          element.innerHTML = '';\n",
              "          dataTable['output_type'] = 'display_data';\n",
              "          await google.colab.output.renderOutput(dataTable, element);\n",
              "          const docLink = document.createElement('div');\n",
              "          docLink.innerHTML = docLinkHtml;\n",
              "          element.appendChild(docLink);\n",
              "        }\n",
              "      </script>\n",
              "    </div>\n",
              "  </div>\n",
              "  "
            ]
          },
          "metadata": {},
          "execution_count": 73
        }
      ]
    },
    {
      "cell_type": "code",
      "source": [
        "result=Classifier.predict(X_test[0:1])"
      ],
      "metadata": {
        "id": "gN5KeD9Yzfsd"
      },
      "execution_count": null,
      "outputs": []
    },
    {
      "cell_type": "code",
      "source": [
        "result"
      ],
      "metadata": {
        "colab": {
          "base_uri": "https://localhost:8080/"
        },
        "id": "N0UaqZtkznLw",
        "outputId": "08507769-67d1-4ed4-840a-8382fb8b92e8"
      },
      "execution_count": null,
      "outputs": [
        {
          "output_type": "execute_result",
          "data": {
            "text/plain": [
              "array(['grapes'], dtype=object)"
            ]
          },
          "metadata": {},
          "execution_count": 75
        }
      ]
    },
    {
      "cell_type": "code",
      "source": [
        "y_test[0:1]"
      ],
      "metadata": {
        "colab": {
          "base_uri": "https://localhost:8080/"
        },
        "id": "zSOzAXQRzuex",
        "outputId": "9b94ff75-882f-4985-eb99-1b42045b20cf"
      },
      "execution_count": null,
      "outputs": [
        {
          "output_type": "execute_result",
          "data": {
            "text/plain": [
              "1203    grapes\n",
              "Name: label, dtype: object"
            ]
          },
          "metadata": {},
          "execution_count": 76
        }
      ]
    }
  ]
}